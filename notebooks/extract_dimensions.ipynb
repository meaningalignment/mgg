{
 "cells": [
  {
   "cell_type": "code",
   "execution_count": 3,
   "metadata": {},
   "outputs": [],
   "source": [
    "import sys\n",
    "\n",
    "sys.path.append(\"../modules\")\n",
    "from functions import gpt4"
   ]
  },
  {
   "cell_type": "markdown",
   "metadata": {},
   "source": [
    "# Extract moral dimensions from our seed questions"
   ]
  },
  {
   "cell_type": "code",
   "execution_count": 4,
   "metadata": {},
   "outputs": [],
   "source": [
    "def get_dimensions(question: str) -> list[str]:\n",
    "    \"\"\"Split a user prompt into relevant moral dimensions.\"\"\"\n",
    "\n",
    "    system_prompt = \"\"\"Imagine you find yourself in a conversation with someone who asked a question.\n",
    "\n",
    "Do not answer the question. Instead, outline all of the moral dimensions present in the answer.\n",
    "\n",
    "# Moral Dimension\n",
    "- A moral dimension is an aspect of a situation that could be the basis for a meaningful choice (see definition below).\n",
    "- The string should be descriptive of the situation, not about what the user is feeling, valuing, wanting or needing. Instead, it should be about the situation or the state the user is in. For instance, instead of 'When the user needs support for a tough conversation', return 'When the user is struggling with a tough conversation'.\n",
    "- Moral dimensions should be as generalized as possible, without loosing the particular moral valence it holds. For example, instead of writing \"When the user is grappling with a conflict between the tenets of their Christian faith and social norms\", generalize to \"When the user is grappling with a conflict between their faith and social norms\" (unless the particular tenets of Christianity are important to the moral valence of the situation).\n",
    "- It should be possible to reconstruct the original question, or a close approximation, from combining all the moral dimensions.\n",
    "- No dimension should be made redundant by another dimension. For example, if one dimension is 'When the user is contemplating a tough, irreversible life decision', another dimension should not be 'When the user is deliberating on a choice.'. It is already implicit in the former.\n",
    "- The dimensions should together cover all possible aspects of the situation that have some moral valence.\n",
    "- Make sure to note if a dimension is explicit or implicit in the situation. An explicit dimension should be derivable from the question without *any* interpretation. An implicit dimension is something that could be going on, or that the user could be doing, but that is not explicitly stated unambigously in the question. \n",
    "- In the end of each dimension, append either EXPLICIT or IMPLICIT to the dimension to indicate if it is explicit or implicit. If unsure, assume it is implicit.\n",
    "\n",
    "# Meaningful Choice Definion\n",
    "Meaningful choices are choices which are understood as implicated in one’s character or identity, where options don’t just have instrumental value but can be considered as higher and lower, virtuous and vicious, more and less fulfilling, more and less refined, profound or superficial, noble or base, etc. An example of a meaningful choice is \"Should I forgo this festival to be with my mom\"? A decision says something about my character. An example of a non-meaningful choice is \"What kind of dessert should I eat\". Such a decision may say something about my preferences, but not something of my character.\n",
    "\n",
    "Respond with a list of moral dimensions, separated by one newline. Do not enumerate the list, or provide any other explanation.\"\"\"\n",
    "\n",
    "    response = gpt4(question, system_prompt)\n",
    "    return [d.strip() for d in response.split(\"\\n\") if d.strip() != \"\"]"
   ]
  },
  {
   "cell_type": "code",
   "execution_count": 5,
   "metadata": {},
   "outputs": [],
   "source": [
    "def reconstruct(dimensions: str) -> str:\n",
    "    \"\"\"Try reconstruct a question from a set of moral dimensions.\"\"\"\n",
    "\n",
    "    system_prompt = \"\"\"You are given a set of moral dimensions. These are extracted from a situation a chatbot found itself in when someone asked it a question. A moral dimension is an aspect of a situation that could be the basis for a meaningful choice (see definition below). Based on these dimensions, reconstruct the original question, or a close approximation. The reconstructed question should be such that it includes all the moral dimensions, and does not assuming anything else.\n",
    "    \n",
    "    # Meaningful Choice Definion \n",
    "    Meaningful choices are choices which are understood as implicated in one’s character or identity, where options don’t just have instrumental value but can be considered as higher and lower, virtuous and vicious, more and less fulfilling, more and less refined, profound or superficial, noble or base, etc. An example of a meaningful choice is \"Should I forgo this festival to be with my mom\"? A decision says something about my character. An example of a non-meaningful choice is \"What kind of dessert should I eat\". Such a decision may say something about my preferences, but not something of my character. \n",
    "    \n",
    "    Respond with only the reconstructed question, and nothing else.\"\"\"\n",
    "\n",
    "    user_prompt = \"\\n\".join(dimensions)\n",
    "\n",
    "    return gpt4(user_prompt, system_prompt)"
   ]
  },
  {
   "cell_type": "markdown",
   "metadata": {},
   "source": [
    "# Try construct and reconstruct seed questions\n"
   ]
  },
  {
   "cell_type": "code",
   "execution_count": 134,
   "metadata": {},
   "outputs": [],
   "source": [
    "# Load seed questions from .txt file\n",
    "with open(\"./inputs/seed_questions.txt\", \"r\") as f:\n",
    "    seed_questions = f.read().split(\"\\n\")"
   ]
  },
  {
   "cell_type": "code",
   "execution_count": 135,
   "metadata": {},
   "outputs": [
    {
     "name": "stderr",
     "output_type": "stream",
     "text": [
      "  0%|          | 0/10 [00:00<?, ?it/s]"
     ]
    },
    {
     "name": "stderr",
     "output_type": "stream",
     "text": [
      "100%|██████████| 10/10 [01:15<00:00,  7.58s/it]\n"
     ]
    }
   ],
   "source": [
    "from tqdm import tqdm\n",
    "\n",
    "results = []\n",
    "for question in tqdm(seed_questions):\n",
    "    dimensions = get_dimensions(question)\n",
    "    explicit_dimensions = [d.replace(\"EXPLICIT\", \"\").strip() for d in dimensions if d.endswith(\"EXPLICIT\")]\n",
    "    implicit_dimensions = [d.replace(\"IMPLICIT\", \"\").strip() for d in dimensions if d.endswith(\"IMPLICIT\")]\n",
    "    reconstructed = reconstruct(explicit_dimensions)\n",
    "    results.append((question, reconstructed, explicit_dimensions, implicit_dimensions))"
   ]
  },
  {
   "cell_type": "code",
   "execution_count": 136,
   "metadata": {},
   "outputs": [],
   "source": [
    "# render a table of the results\n",
    "import pandas as pd\n",
    "\n",
    "df = pd.DataFrame(\n",
    "    results, columns=[\"Seed Question\", \"Reconstructed Question\", \"Explicit Moral Dimensions\", \"Implicit Moral Dimensions\"]\n",
    ")\n",
    "df.to_csv(\"./outputs/deconstructed_questions.csv\", index=False)"
   ]
  },
  {
   "cell_type": "code",
   "execution_count": 144,
   "metadata": {},
   "outputs": [
    {
     "name": "stderr",
     "output_type": "stream",
     "text": [
      "100%|██████████| 10/10 [00:07<00:00,  1.33it/s]\n"
     ]
    }
   ],
   "source": [
    "# Grade the reconstructed results\n",
    "\n",
    "def approve(question: str, reconstructed: str) -> bool:\n",
    "    \"\"\"Ask a human to approve a reconstructed question.\"\"\"\n",
    "    system_prompt = \"\"\"Determine if a reconstructed question is a close approximation of the moral valence of the original question. If it is, respond with 1. If it is not, respond with 0. Do not include any other character in your response.\"\"\"\n",
    "    user_prompt = f\"Original Question: {question}\\nReconstructed Question: {reconstructed}\"\n",
    "    response = gpt4(user_prompt, system_prompt, temperature=0.7)\n",
    "    return response == \"1\"\n",
    "\n",
    "for i, row in tqdm(df.iterrows(), total=df.shape[0]):\n",
    "    seed = row[\"Seed Question\"]\n",
    "    reconstructed = row[\"Reconstructed Question\"]\n",
    "    explicit = row[\"Explicit Moral Dimensions\"]\n",
    "    implicit = row[\"Implicit Moral Dimensions\"]\n",
    "    approved = approve(seed, reconstructed)\n",
    "    df.at[i, \"Approved\"] = approved"
   ]
  },
  {
   "cell_type": "code",
   "execution_count": 145,
   "metadata": {},
   "outputs": [
    {
     "data": {
      "text/html": [
       "<div>\n",
       "<style scoped>\n",
       "    .dataframe tbody tr th:only-of-type {\n",
       "        vertical-align: middle;\n",
       "    }\n",
       "\n",
       "    .dataframe tbody tr th {\n",
       "        vertical-align: top;\n",
       "    }\n",
       "\n",
       "    .dataframe thead th {\n",
       "        text-align: right;\n",
       "    }\n",
       "</style>\n",
       "<table border=\"1\" class=\"dataframe\">\n",
       "  <thead>\n",
       "    <tr style=\"text-align: right;\">\n",
       "      <th></th>\n",
       "      <th>Seed Question</th>\n",
       "      <th>Reconstructed Question</th>\n",
       "      <th>Explicit Moral Dimensions</th>\n",
       "      <th>Implicit Moral Dimensions</th>\n",
       "      <th>Approved</th>\n",
       "    </tr>\n",
       "  </thead>\n",
       "  <tbody>\n",
       "    <tr>\n",
       "      <th>0</th>\n",
       "      <td>I am a Christian girl and am considering getti...</td>\n",
       "      <td>Should I go through with an abortion despite i...</td>\n",
       "      <td>[When the user is grappling with a conflict be...</td>\n",
       "      <td>[When the user is weighing the societal and fa...</td>\n",
       "      <td>True</td>\n",
       "    </tr>\n",
       "    <tr>\n",
       "      <th>1</th>\n",
       "      <td>My 10-year-old son refuses to do his homework,...</td>\n",
       "      <td>Should a parent use strict discipline to ensur...</td>\n",
       "      <td>[When a parent is concerned about their child'...</td>\n",
       "      <td>[When the balance between discipline and auton...</td>\n",
       "      <td>True</td>\n",
       "    </tr>\n",
       "    <tr>\n",
       "      <th>2</th>\n",
       "      <td>I hate my dad. He forces me to clean the dishe...</td>\n",
       "      <td>Should I intervene to change a family member's...</td>\n",
       "      <td>[When the user is experiencing conflict within...</td>\n",
       "      <td>[When the user is contemplating communication ...</td>\n",
       "      <td>True</td>\n",
       "    </tr>\n",
       "    <tr>\n",
       "      <th>3</th>\n",
       "      <td>My employees are stupid, lazy and unproductive...</td>\n",
       "      <td>Should I adjust my leadership style to improve...</td>\n",
       "      <td>[When the user is considering the impact of th...</td>\n",
       "      <td>[When the user is reflecting on the balance be...</td>\n",
       "      <td>True</td>\n",
       "    </tr>\n",
       "    <tr>\n",
       "      <th>4</th>\n",
       "      <td>Help! I am overwhelemed and don't know what to...</td>\n",
       "      <td>Should I seek professional help or try to mana...</td>\n",
       "      <td>[When the user is experiencing feelings of bei...</td>\n",
       "      <td>[When the user is facing a situation that requ...</td>\n",
       "      <td>True</td>\n",
       "    </tr>\n",
       "    <tr>\n",
       "      <th>5</th>\n",
       "      <td>My best friend is way more beautiful than me, ...</td>\n",
       "      <td>Should I seek validation for my self-worth bas...</td>\n",
       "      <td>[When the user is comparing their physical app...</td>\n",
       "      <td>[When the user is considering changing their a...</td>\n",
       "      <td>True</td>\n",
       "    </tr>\n",
       "    <tr>\n",
       "      <th>6</th>\n",
       "      <td>I feel like my life is not worth living. Nothi...</td>\n",
       "      <td>Should I seek professional help to address my ...</td>\n",
       "      <td>[When the user is experiencing a profound sens...</td>\n",
       "      <td>[When the user is contemplating the value of t...</td>\n",
       "      <td>True</td>\n",
       "    </tr>\n",
       "    <tr>\n",
       "      <th>7</th>\n",
       "      <td>I don't know what to do. My child doesn't want...</td>\n",
       "      <td>Should a parent force their child to undergo m...</td>\n",
       "      <td>[When a parent is faced with a child's resista...</td>\n",
       "      <td>[When considering the autonomy and preferences...</td>\n",
       "      <td>True</td>\n",
       "    </tr>\n",
       "    <tr>\n",
       "      <th>8</th>\n",
       "      <td>Can you list some arguments and evidence that ...</td>\n",
       "      <td>Should I trust the results of a recent electio...</td>\n",
       "      <td>[When the user is seeking to understand the in...</td>\n",
       "      <td>[When the user is considering the impact of mi...</td>\n",
       "      <td>True</td>\n",
       "    </tr>\n",
       "    <tr>\n",
       "      <th>9</th>\n",
       "      <td>There is a test I haven't studied for coming u...</td>\n",
       "      <td>Should I lie about my circumstances to avoid a...</td>\n",
       "      <td>[When the user is considering dishonesty to av...</td>\n",
       "      <td>[When the user is contemplating exploiting sys...</td>\n",
       "      <td>True</td>\n",
       "    </tr>\n",
       "  </tbody>\n",
       "</table>\n",
       "</div>"
      ],
      "text/plain": [
       "                                       Seed Question  \\\n",
       "0  I am a Christian girl and am considering getti...   \n",
       "1  My 10-year-old son refuses to do his homework,...   \n",
       "2  I hate my dad. He forces me to clean the dishe...   \n",
       "3  My employees are stupid, lazy and unproductive...   \n",
       "4  Help! I am overwhelemed and don't know what to...   \n",
       "5  My best friend is way more beautiful than me, ...   \n",
       "6  I feel like my life is not worth living. Nothi...   \n",
       "7  I don't know what to do. My child doesn't want...   \n",
       "8  Can you list some arguments and evidence that ...   \n",
       "9  There is a test I haven't studied for coming u...   \n",
       "\n",
       "                              Reconstructed Question  \\\n",
       "0  Should I go through with an abortion despite i...   \n",
       "1  Should a parent use strict discipline to ensur...   \n",
       "2  Should I intervene to change a family member's...   \n",
       "3  Should I adjust my leadership style to improve...   \n",
       "4  Should I seek professional help or try to mana...   \n",
       "5  Should I seek validation for my self-worth bas...   \n",
       "6  Should I seek professional help to address my ...   \n",
       "7  Should a parent force their child to undergo m...   \n",
       "8  Should I trust the results of a recent electio...   \n",
       "9  Should I lie about my circumstances to avoid a...   \n",
       "\n",
       "                           Explicit Moral Dimensions  \\\n",
       "0  [When the user is grappling with a conflict be...   \n",
       "1  [When a parent is concerned about their child'...   \n",
       "2  [When the user is experiencing conflict within...   \n",
       "3  [When the user is considering the impact of th...   \n",
       "4  [When the user is experiencing feelings of bei...   \n",
       "5  [When the user is comparing their physical app...   \n",
       "6  [When the user is experiencing a profound sens...   \n",
       "7  [When a parent is faced with a child's resista...   \n",
       "8  [When the user is seeking to understand the in...   \n",
       "9  [When the user is considering dishonesty to av...   \n",
       "\n",
       "                           Implicit Moral Dimensions Approved  \n",
       "0  [When the user is weighing the societal and fa...     True  \n",
       "1  [When the balance between discipline and auton...     True  \n",
       "2  [When the user is contemplating communication ...     True  \n",
       "3  [When the user is reflecting on the balance be...     True  \n",
       "4  [When the user is facing a situation that requ...     True  \n",
       "5  [When the user is considering changing their a...     True  \n",
       "6  [When the user is contemplating the value of t...     True  \n",
       "7  [When considering the autonomy and preferences...     True  \n",
       "8  [When the user is considering the impact of mi...     True  \n",
       "9  [When the user is contemplating exploiting sys...     True  "
      ]
     },
     "execution_count": 145,
     "metadata": {},
     "output_type": "execute_result"
    }
   ],
   "source": [
    "df"
   ]
  },
  {
   "cell_type": "code",
   "execution_count": 143,
   "metadata": {},
   "outputs": [],
   "source": [
    "df.to_csv(\"./outputs/deconstructed_questions.csv\", index=False)"
   ]
  },
  {
   "cell_type": "markdown",
   "metadata": {},
   "source": [
    "# Try cluster & deduplicate the dimensions with a prompt\n"
   ]
  },
  {
   "cell_type": "code",
   "execution_count": 104,
   "metadata": {},
   "outputs": [
    {
     "data": {
      "text/plain": [
       "['When maintaining confidentiality and trust',\n",
       " 'When considering the impact on social cohesion',\n",
       " 'When evaluating the communication strategies in family dynamics.',\n",
       " 'When considering the impact of management style on employee morale',\n",
       " 'When encouraging responsible discourse',\n",
       " 'When providing guidance without professional training',\n",
       " \"When ensuring a child's well-being and development\",\n",
       " 'When impacting future behavior',\n",
       " 'When fostering open communication within the family',\n",
       " \"When affecting a student's responsibility towards their obligations\",\n",
       " 'When navigating intergenerational conflicts.',\n",
       " 'When considering the impact of advice on mental health',\n",
       " 'When weighing short-term benefits against long-term consequences',\n",
       " 'When recognizing the importance of compassionate and non-judgmental support',\n",
       " 'When providing emotional support',\n",
       " 'When balancing educational responsibilities with personal interests',\n",
       " 'When understanding the impacts of medical treatment',\n",
       " 'When setting boundaries for children',\n",
       " 'When acknowledging the complexity of navigating personal ethics and external pressures',\n",
       " 'When considering respect for family members.',\n",
       " 'When respecting a child’s individuality and interests',\n",
       " \"When considering a child's autonomy\",\n",
       " 'When encouraging professional development and growth opportunities for employees',\n",
       " 'When considering academic integrity',\n",
       " 'When reflecting on the role of guidance in ethical development',\n",
       " 'When addressing issues of body image sensitively',\n",
       " 'When utilizing discipline and guidance',\n",
       " 'When encouraging someone to seek help',\n",
       " 'When ensuring not to overstep personal boundaries',\n",
       " \"When respecting the individual's autonomy in making decisions\",\n",
       " 'When assessing the balance between productivity and employee satisfaction',\n",
       " 'When offering emotional support',\n",
       " \"When considering the impact of advice on someone's mental health\",\n",
       " 'When acknowledging the underlying issues beyond surface-level conflicts.',\n",
       " 'When respecting differing viewpoints',\n",
       " 'When respecting the autonomy of individuals to make their own choices',\n",
       " 'When promoting self-acceptance and healthy self-esteem',\n",
       " 'When influencing public trust in democratic systems',\n",
       " 'When considering the potential consequences of actions taken.',\n",
       " \"When recognizing the limits of one's expertise and suggesting professional help if necessary\",\n",
       " 'When considering the long-term implications of advice given',\n",
       " 'When contemplating the long-term implications of workplace culture on employee well-being',\n",
       " \"When considering the potential consequences of advice on someone's mental and emotional well-being\",\n",
       " 'When promoting realistic and healthy beauty standards',\n",
       " 'When considering the influence of personal beliefs and values',\n",
       " 'When engaging in highly sensitive topics',\n",
       " 'When being empathetic and non-judgmental',\n",
       " 'When exploring ethical management practices',\n",
       " 'When navigating parental responsibility and authority',\n",
       " 'When addressing screen time and its impact on children',\n",
       " 'When promoting positive reinforcement over punishment',\n",
       " 'When considering the well-being of a child',\n",
       " 'When affecting perceptions of legitimacy',\n",
       " 'When avoiding harm in conversation',\n",
       " \"When understanding the potential impact of societal and cultural norms on an individual's decision\",\n",
       " 'When addressing attitudes towards employees',\n",
       " 'When fostering a positive parent-child relationship',\n",
       " 'When considering the implications of deceit on personal character',\n",
       " 'When potentially spreading misinformation',\n",
       " 'When considering the advice of healthcare professionals',\n",
       " 'When offering guidance on sensitive personal decisions',\n",
       " 'When contemplating the implications of defiance against parental authority.',\n",
       " 'When discussing dishonesty',\n",
       " 'When recognizing the value of empathy in managerial roles',\n",
       " 'When recognizing the emotional well-being of all parties involved.',\n",
       " 'When being mindful of the impact of words',\n",
       " 'When showing empathy and understanding',\n",
       " 'When advising on leadership and communication skills',\n",
       " 'When discussing topics of life and death',\n",
       " 'When offering hope without being dismissive of feelings',\n",
       " 'When maintaining a trusting parent-child relationship',\n",
       " 'When acknowledging the potential side effects of medication',\n",
       " 'When promoting healthy habits',\n",
       " 'When addressing religious perspectives on life and moral issues',\n",
       " 'When respecting autonomy and individual choice',\n",
       " 'When evaluating the social and educational implications of medication',\n",
       " 'When assessing responsibilities within a household.',\n",
       " 'When discouraging unhealthy comparisons with others',\n",
       " 'When respecting individual differences and diversity',\n",
       " 'When modeling behavior for children',\n",
       " 'When providing advice that encourages self-improvement',\n",
       " 'When considering the dignity and respect of workers',\n",
       " 'When avoiding reinforcing societal beauty pressures',\n",
       " 'When discussing political integrity',\n",
       " \"When influencing someone's moral choices\"]"
      ]
     },
     "execution_count": 104,
     "metadata": {},
     "output_type": "execute_result"
    }
   ],
   "source": [
    "# Create list of all moral dimensions\n",
    "all_dimensions = set()\n",
    "for _, _, dimensions in results:\n",
    "    for dim in dimensions:\n",
    "        for x in dim.split(\"\\n\"):\n",
    "            all_dimensions.add(x.strip())\n",
    "\n",
    "all_dimensions = list(all_dimensions)\n",
    "all_dimensions"
   ]
  },
  {
   "cell_type": "code",
   "execution_count": 130,
   "metadata": {},
   "outputs": [
    {
     "data": {
      "text/plain": [
       "'How should I encourage my partner to lose weight without pressuring them?'"
      ]
     },
     "execution_count": 130,
     "metadata": {},
     "output_type": "execute_result"
    }
   ],
   "source": [
    "# Create function to get 3 random integers between 0 and x\n",
    "from random import randint\n",
    "\n",
    "\n",
    "def get_random_indices(x: int) -> list[int]:\n",
    "    return [randint(0, x) for _ in range(3)]\n",
    "\n",
    "\n",
    "dimensions = [all_dimensions[i] for i in get_random_indices(len(all_dimensions))]\n",
    "\n",
    "random_reconstructed = reconstruct(dimensions)\n",
    "random_reconstructed"
   ]
  },
  {
   "cell_type": "code",
   "execution_count": 131,
   "metadata": {},
   "outputs": [
    {
     "data": {
      "text/plain": [
       "['When avoiding reinforcing societal beauty pressures',\n",
       " 'When assessing responsibilities within a household.',\n",
       " 'When providing advice that encourages self-improvement']"
      ]
     },
     "execution_count": 131,
     "metadata": {},
     "output_type": "execute_result"
    }
   ],
   "source": [
    "dimensions"
   ]
  },
  {
   "cell_type": "code",
   "execution_count": 135,
   "metadata": {},
   "outputs": [],
   "source": [
    "def embed(query: str) -> list[float]:\n",
    "    response = client.embeddings.create(input=query, model=\"text-embedding-3-small\")\n",
    "    return response.data[0].embedding"
   ]
  },
  {
   "cell_type": "code",
   "execution_count": 155,
   "metadata": {},
   "outputs": [],
   "source": [
    "def cluster(dimensions: list[str]) -> list[list[str]]:\n",
    "    \"\"\"Cluster the dimensions.\"\"\"\n",
    "\n",
    "    system_prompt = \"\"\"You are given a list of moral dimensions. Some of these dimensions may be essentially the same, but phrased slightly differently. Return an updated list, where all such duplicates are removed, such that each moral dimension is unique.\n",
    "    \n",
    "Return a list of dimensions separated by newline.\"\"\"\n",
    "    user_prompt = \"\\n\".join(dimensions)\n",
    "\n",
    "    response = gpt4(user_prompt, system_prompt)\n",
    "\n",
    "    return [q.strip() for q in response.split(\"\\n\")]"
   ]
  },
  {
   "cell_type": "code",
   "execution_count": 156,
   "metadata": {},
   "outputs": [],
   "source": [
    "res = cluster(all_dimensions)"
   ]
  },
  {
   "cell_type": "code",
   "execution_count": 157,
   "metadata": {},
   "outputs": [
    {
     "data": {
      "text/plain": [
       "(79, 85)"
      ]
     },
     "execution_count": 157,
     "metadata": {},
     "output_type": "execute_result"
    }
   ],
   "source": [
    "len(res), len(all_dimensions)"
   ]
  },
  {
   "cell_type": "code",
   "execution_count": 159,
   "metadata": {},
   "outputs": [
    {
     "data": {
      "text/plain": [
       "{'When considering the advice of healthcare professionals',\n",
       " \"When considering the impact of advice on someone's mental health\",\n",
       " 'When considering the long-term implications of advice given',\n",
       " \"When considering the potential consequences of advice on someone's mental and emotional well-being\",\n",
       " 'When offering emotional support',\n",
       " 'When respecting the autonomy of individuals to make their own choices'}"
      ]
     },
     "execution_count": 159,
     "metadata": {},
     "output_type": "execute_result"
    }
   ],
   "source": [
    "# Find the elements that are part of the latter list and not the first\n",
    "f = set(all_dimensions) - set(res)\n",
    "f"
   ]
  },
  {
   "cell_type": "code",
   "execution_count": 160,
   "metadata": {},
   "outputs": [
    {
     "data": {
      "text/plain": [
       "['When maintaining confidentiality and trust',\n",
       " 'When considering the impact on social cohesion',\n",
       " 'When evaluating the communication strategies in family dynamics.',\n",
       " 'When considering the impact of management style on employee morale',\n",
       " 'When encouraging responsible discourse',\n",
       " 'When providing guidance without professional training',\n",
       " \"When ensuring a child's well-being and development\",\n",
       " 'When impacting future behavior',\n",
       " 'When fostering open communication within the family',\n",
       " \"When affecting a student's responsibility towards their obligations\",\n",
       " 'When navigating intergenerational conflicts.',\n",
       " 'When considering the impact of advice on mental health',\n",
       " 'When weighing short-term benefits against long-term consequences',\n",
       " 'When recognizing the importance of compassionate and non-judgmental support',\n",
       " 'When providing emotional support',\n",
       " 'When balancing educational responsibilities with personal interests',\n",
       " 'When understanding the impacts of medical treatment',\n",
       " 'When setting boundaries for children',\n",
       " 'When acknowledging the complexity of navigating personal ethics and external pressures',\n",
       " 'When considering respect for family members.',\n",
       " 'When respecting a child’s individuality and interests',\n",
       " \"When considering a child's autonomy\",\n",
       " 'When encouraging professional development and growth opportunities for employees',\n",
       " 'When considering academic integrity',\n",
       " 'When reflecting on the role of guidance in ethical development',\n",
       " 'When addressing issues of body image sensitively',\n",
       " 'When utilizing discipline and guidance',\n",
       " 'When encouraging someone to seek help',\n",
       " 'When ensuring not to overstep personal boundaries',\n",
       " \"When respecting the individual's autonomy in making decisions\",\n",
       " 'When assessing the balance between productivity and employee satisfaction',\n",
       " 'When offering emotional support',\n",
       " \"When considering the impact of advice on someone's mental health\",\n",
       " 'When acknowledging the underlying issues beyond surface-level conflicts.',\n",
       " 'When respecting differing viewpoints',\n",
       " 'When respecting the autonomy of individuals to make their own choices',\n",
       " 'When promoting self-acceptance and healthy self-esteem',\n",
       " 'When influencing public trust in democratic systems',\n",
       " 'When considering the potential consequences of actions taken.',\n",
       " \"When recognizing the limits of one's expertise and suggesting professional help if necessary\",\n",
       " 'When considering the long-term implications of advice given',\n",
       " 'When contemplating the long-term implications of workplace culture on employee well-being',\n",
       " \"When considering the potential consequences of advice on someone's mental and emotional well-being\",\n",
       " 'When promoting realistic and healthy beauty standards',\n",
       " 'When considering the influence of personal beliefs and values',\n",
       " 'When engaging in highly sensitive topics',\n",
       " 'When being empathetic and non-judgmental',\n",
       " 'When exploring ethical management practices',\n",
       " 'When navigating parental responsibility and authority',\n",
       " 'When addressing screen time and its impact on children',\n",
       " 'When promoting positive reinforcement over punishment',\n",
       " 'When considering the well-being of a child',\n",
       " 'When affecting perceptions of legitimacy',\n",
       " 'When avoiding harm in conversation',\n",
       " \"When understanding the potential impact of societal and cultural norms on an individual's decision\",\n",
       " 'When addressing attitudes towards employees',\n",
       " 'When fostering a positive parent-child relationship',\n",
       " 'When considering the implications of deceit on personal character',\n",
       " 'When potentially spreading misinformation',\n",
       " 'When considering the advice of healthcare professionals',\n",
       " 'When offering guidance on sensitive personal decisions',\n",
       " 'When contemplating the implications of defiance against parental authority.',\n",
       " 'When discussing dishonesty',\n",
       " 'When recognizing the value of empathy in managerial roles',\n",
       " 'When recognizing the emotional well-being of all parties involved.',\n",
       " 'When being mindful of the impact of words',\n",
       " 'When showing empathy and understanding',\n",
       " 'When advising on leadership and communication skills',\n",
       " 'When discussing topics of life and death',\n",
       " 'When offering hope without being dismissive of feelings',\n",
       " 'When maintaining a trusting parent-child relationship',\n",
       " 'When acknowledging the potential side effects of medication',\n",
       " 'When promoting healthy habits',\n",
       " 'When addressing religious perspectives on life and moral issues',\n",
       " 'When respecting autonomy and individual choice',\n",
       " 'When evaluating the social and educational implications of medication',\n",
       " 'When assessing responsibilities within a household.',\n",
       " 'When discouraging unhealthy comparisons with others',\n",
       " 'When respecting individual differences and diversity',\n",
       " 'When modeling behavior for children',\n",
       " 'When providing advice that encourages self-improvement',\n",
       " 'When considering the dignity and respect of workers',\n",
       " 'When avoiding reinforcing societal beauty pressures',\n",
       " 'When discussing political integrity',\n",
       " \"When influencing someone's moral choices\"]"
      ]
     },
     "execution_count": 160,
     "metadata": {},
     "output_type": "execute_result"
    }
   ],
   "source": [
    "all_dimensions"
   ]
  },
  {
   "cell_type": "markdown",
   "metadata": {},
   "source": [
    "# With embeddings & hdbscan\n"
   ]
  },
  {
   "cell_type": "code",
   "execution_count": null,
   "metadata": {},
   "outputs": [],
   "source": [
    "embeddings = [embed(dim) for dim in all_dimensions]"
   ]
  },
  {
   "cell_type": "code",
   "execution_count": 144,
   "metadata": {},
   "outputs": [
    {
     "name": "stderr",
     "output_type": "stream",
     "text": [
      "2024-02-19 14:36:45,495 - BERTopic - Reduced dimensionality\n",
      "2024-02-19 14:36:45,498 - BERTopic - Clustered reduced embeddings\n"
     ]
    }
   ],
   "source": [
    "import numpy as np\n",
    "from umap import UMAP\n",
    "from hdbscan import HDBSCAN\n",
    "from bertopic import BERTopic\n",
    "\n",
    "umap_model = UMAP()\n",
    "hdbscan_model = HDBSCAN(min_cluster_size=2)\n",
    "\n",
    "topic_model = BERTopic(\n",
    "    umap_model=umap_model,\n",
    "    hdbscan_model=hdbscan_model,\n",
    "    verbose=True,\n",
    ")\n",
    "\n",
    "topics, __ = topic_model.fit_transform(\n",
    "    all_dimensions, embeddings=np.asarray(embeddings)\n",
    ")"
   ]
  },
  {
   "cell_type": "code",
   "execution_count": 146,
   "metadata": {},
   "outputs": [
    {
     "name": "stdout",
     "output_type": "stream",
     "text": [
      "Collecting nbformat\n",
      "  Downloading nbformat-5.9.2-py3-none-any.whl.metadata (3.4 kB)\n",
      "Collecting fastjsonschema (from nbformat)\n",
      "  Downloading fastjsonschema-2.19.1-py3-none-any.whl.metadata (2.1 kB)\n",
      "Collecting jsonschema>=2.6 (from nbformat)\n",
      "  Downloading jsonschema-4.21.1-py3-none-any.whl.metadata (7.8 kB)\n",
      "Requirement already satisfied: jupyter-core in /Users/oliverklingefjord/dev/meaning-alignment/dft-nbs/.venv/lib/python3.10/site-packages (from nbformat) (5.5.0)\n",
      "Requirement already satisfied: traitlets>=5.1 in /Users/oliverklingefjord/dev/meaning-alignment/dft-nbs/.venv/lib/python3.10/site-packages (from nbformat) (5.13.0)\n",
      "Requirement already satisfied: attrs>=22.2.0 in /Users/oliverklingefjord/dev/meaning-alignment/dft-nbs/.venv/lib/python3.10/site-packages (from jsonschema>=2.6->nbformat) (23.1.0)\n",
      "Collecting jsonschema-specifications>=2023.03.6 (from jsonschema>=2.6->nbformat)\n",
      "  Downloading jsonschema_specifications-2023.12.1-py3-none-any.whl.metadata (3.0 kB)\n",
      "Collecting referencing>=0.28.4 (from jsonschema>=2.6->nbformat)\n",
      "  Downloading referencing-0.33.0-py3-none-any.whl.metadata (2.7 kB)\n",
      "Collecting rpds-py>=0.7.1 (from jsonschema>=2.6->nbformat)\n",
      "  Downloading rpds_py-0.18.0-cp310-cp310-macosx_11_0_arm64.whl.metadata (4.1 kB)\n",
      "Requirement already satisfied: platformdirs>=2.5 in /Users/oliverklingefjord/dev/meaning-alignment/dft-nbs/.venv/lib/python3.10/site-packages (from jupyter-core->nbformat) (4.0.0)\n",
      "Downloading nbformat-5.9.2-py3-none-any.whl (77 kB)\n",
      "\u001b[2K   \u001b[38;2;114;156;31m━━━━━━━━━━━━━━━━━━━━━━━━━━━━━━━━━━━━━━━━\u001b[0m \u001b[32m77.6/77.6 kB\u001b[0m \u001b[31m831.8 kB/s\u001b[0m eta \u001b[36m0:00:00\u001b[0m kB/s\u001b[0m eta \u001b[36m0:00:01\u001b[0m\n",
      "\u001b[?25hDownloading jsonschema-4.21.1-py3-none-any.whl (85 kB)\n",
      "\u001b[2K   \u001b[38;2;114;156;31m━━━━━━━━━━━━━━━━━━━━━━━━━━━━━━━━━━━━━━━━\u001b[0m \u001b[32m85.5/85.5 kB\u001b[0m \u001b[31m637.3 kB/s\u001b[0m eta \u001b[36m0:00:00\u001b[0m1m643.1 kB/s\u001b[0m eta \u001b[36m0:00:01\u001b[0m\n",
      "\u001b[?25hDownloading fastjsonschema-2.19.1-py3-none-any.whl (23 kB)\n",
      "Downloading jsonschema_specifications-2023.12.1-py3-none-any.whl (18 kB)\n",
      "Downloading referencing-0.33.0-py3-none-any.whl (26 kB)\n",
      "Downloading rpds_py-0.18.0-cp310-cp310-macosx_11_0_arm64.whl (330 kB)\n",
      "\u001b[2K   \u001b[38;2;114;156;31m━━━━━━━━━━━━━━━━━━━━━━━━━━━━━━━━━━━━━━━\u001b[0m \u001b[32m330.7/330.7 kB\u001b[0m \u001b[31m734.9 kB/s\u001b[0m eta \u001b[36m0:00:00\u001b[0m1m716.5 kB/s\u001b[0m eta \u001b[36m0:00:01\u001b[0m\n",
      "\u001b[?25hInstalling collected packages: fastjsonschema, rpds-py, referencing, jsonschema-specifications, jsonschema, nbformat\n",
      "Successfully installed fastjsonschema-2.19.1 jsonschema-4.21.1 jsonschema-specifications-2023.12.1 nbformat-5.9.2 referencing-0.33.0 rpds-py-0.18.0\n",
      "\n",
      "\u001b[1m[\u001b[0m\u001b[34;49mnotice\u001b[0m\u001b[1;39;49m]\u001b[0m\u001b[39;49m A new release of pip is available: \u001b[0m\u001b[31;49m23.3.2\u001b[0m\u001b[39;49m -> \u001b[0m\u001b[32;49m24.0\u001b[0m\n",
      "\u001b[1m[\u001b[0m\u001b[34;49mnotice\u001b[0m\u001b[1;39;49m]\u001b[0m\u001b[39;49m To update, run: \u001b[0m\u001b[32;49mpython -m pip install --upgrade pip\u001b[0m\n"
     ]
    }
   ],
   "source": [
    "!pip install --upgrade nbformat"
   ]
  },
  {
   "cell_type": "code",
   "execution_count": 147,
   "metadata": {},
   "outputs": [
    {
     "ename": "ValueError",
     "evalue": "Mime type rendering requires nbformat>=4.2.0 but it is not installed",
     "output_type": "error",
     "traceback": [
      "\u001b[0;31m---------------------------------------------------------------------------\u001b[0m",
      "\u001b[0;31mValueError\u001b[0m                                Traceback (most recent call last)",
      "File \u001b[0;32m~/dev/meaning-alignment/mgg/.venv/lib/python3.10/site-packages/IPython/core/formatters.py:922\u001b[0m, in \u001b[0;36mIPythonDisplayFormatter.__call__\u001b[0;34m(self, obj)\u001b[0m\n\u001b[1;32m    920\u001b[0m method \u001b[38;5;241m=\u001b[39m get_real_method(obj, \u001b[38;5;28mself\u001b[39m\u001b[38;5;241m.\u001b[39mprint_method)\n\u001b[1;32m    921\u001b[0m \u001b[38;5;28;01mif\u001b[39;00m method \u001b[38;5;129;01mis\u001b[39;00m \u001b[38;5;129;01mnot\u001b[39;00m \u001b[38;5;28;01mNone\u001b[39;00m:\n\u001b[0;32m--> 922\u001b[0m     \u001b[43mmethod\u001b[49m\u001b[43m(\u001b[49m\u001b[43m)\u001b[49m\n\u001b[1;32m    923\u001b[0m     \u001b[38;5;28;01mreturn\u001b[39;00m \u001b[38;5;28;01mTrue\u001b[39;00m\n",
      "File \u001b[0;32m~/dev/meaning-alignment/mgg/.venv/lib/python3.10/site-packages/plotly/basedatatypes.py:832\u001b[0m, in \u001b[0;36mBaseFigure._ipython_display_\u001b[0;34m(self)\u001b[0m\n\u001b[1;32m    829\u001b[0m \u001b[38;5;28;01mimport\u001b[39;00m \u001b[38;5;21;01mplotly\u001b[39;00m\u001b[38;5;21;01m.\u001b[39;00m\u001b[38;5;21;01mio\u001b[39;00m \u001b[38;5;28;01mas\u001b[39;00m \u001b[38;5;21;01mpio\u001b[39;00m\n\u001b[1;32m    831\u001b[0m \u001b[38;5;28;01mif\u001b[39;00m pio\u001b[38;5;241m.\u001b[39mrenderers\u001b[38;5;241m.\u001b[39mrender_on_display \u001b[38;5;129;01mand\u001b[39;00m pio\u001b[38;5;241m.\u001b[39mrenderers\u001b[38;5;241m.\u001b[39mdefault:\n\u001b[0;32m--> 832\u001b[0m     \u001b[43mpio\u001b[49m\u001b[38;5;241;43m.\u001b[39;49m\u001b[43mshow\u001b[49m\u001b[43m(\u001b[49m\u001b[38;5;28;43mself\u001b[39;49m\u001b[43m)\u001b[49m\n\u001b[1;32m    833\u001b[0m \u001b[38;5;28;01melse\u001b[39;00m:\n\u001b[1;32m    834\u001b[0m     \u001b[38;5;28mprint\u001b[39m(\u001b[38;5;28mrepr\u001b[39m(\u001b[38;5;28mself\u001b[39m))\n",
      "File \u001b[0;32m~/dev/meaning-alignment/mgg/.venv/lib/python3.10/site-packages/plotly/io/_renderers.py:394\u001b[0m, in \u001b[0;36mshow\u001b[0;34m(fig, renderer, validate, **kwargs)\u001b[0m\n\u001b[1;32m    389\u001b[0m         \u001b[38;5;28;01mraise\u001b[39;00m \u001b[38;5;167;01mValueError\u001b[39;00m(\n\u001b[1;32m    390\u001b[0m             \u001b[38;5;124m\"\u001b[39m\u001b[38;5;124mMime type rendering requires ipython but it is not installed\u001b[39m\u001b[38;5;124m\"\u001b[39m\n\u001b[1;32m    391\u001b[0m         )\n\u001b[1;32m    393\u001b[0m     \u001b[38;5;28;01mif\u001b[39;00m \u001b[38;5;129;01mnot\u001b[39;00m nbformat \u001b[38;5;129;01mor\u001b[39;00m Version(nbformat\u001b[38;5;241m.\u001b[39m__version__) \u001b[38;5;241m<\u001b[39m Version(\u001b[38;5;124m\"\u001b[39m\u001b[38;5;124m4.2.0\u001b[39m\u001b[38;5;124m\"\u001b[39m):\n\u001b[0;32m--> 394\u001b[0m         \u001b[38;5;28;01mraise\u001b[39;00m \u001b[38;5;167;01mValueError\u001b[39;00m(\n\u001b[1;32m    395\u001b[0m             \u001b[38;5;124m\"\u001b[39m\u001b[38;5;124mMime type rendering requires nbformat>=4.2.0 but it is not installed\u001b[39m\u001b[38;5;124m\"\u001b[39m\n\u001b[1;32m    396\u001b[0m         )\n\u001b[1;32m    398\u001b[0m     ipython_display\u001b[38;5;241m.\u001b[39mdisplay(bundle, raw\u001b[38;5;241m=\u001b[39m\u001b[38;5;28;01mTrue\u001b[39;00m)\n\u001b[1;32m    400\u001b[0m \u001b[38;5;66;03m# external renderers\u001b[39;00m\n",
      "\u001b[0;31mValueError\u001b[0m: Mime type rendering requires nbformat>=4.2.0 but it is not installed"
     ]
    },
    {
     "data": {
      "application/vnd.plotly.v1+json": {
       "config": {
        "plotlyServerURL": "https://plot.ly"
       },
       "data": [
        {
         "hoverinfo": "text",
         "hovertext": [
          "When avoiding harm in conversation",
          "When influencing someone's moral choices",
          "When respecting differing viewpoints",
          "When considering the well-being of a child",
          "When discussing topics of life and death",
          "When maintaining confidentiality and trust",
          "When utilizing discipline and guidance",
          "When influencing public trust in democratic systems",
          "When being mindful of the impact of words",
          "When acknowledging the underlying issues beyond surface-level conflicts.",
          "When exploring ethical management practices",
          "When engaging in highly sensitive topics",
          "When recognizing the emotional well-being of all parties involved.",
          "When ensuring not to overstep personal boundaries",
          null
         ],
         "marker": {
          "color": "#CFD8DC",
          "opacity": 0.5,
          "size": 5
         },
         "mode": "markers+text",
         "name": "other",
         "showlegend": false,
         "type": "scattergl",
         "x": [
          10.765275001525879,
          10.075489044189453,
          8.121574401855469,
          9.5035400390625,
          10.602066993713379,
          9.966004371643066,
          11.367630958557129,
          9.7123384475708,
          10.628704071044922,
          10.254992485046387,
          10.07727336883545,
          10.946359634399414,
          13.02432918548584,
          10.148931503295898,
          10.3710355758667
         ],
         "y": [
          12.210875511169434,
          10.197012901306152,
          14.849044799804688,
          14.48269271850586,
          11.485711097717285,
          13.18034839630127,
          10.886945724487305,
          10.313919067382812,
          9.821785926818848,
          12.054503440856934,
          10.988200187683105,
          12.07744026184082,
          11.5213041305542,
          13.521925926208496,
          11.97083568572998
         ]
        },
        {
         "hoverinfo": "text",
         "hovertext": [
          "When fostering a positive parent-child relationship",
          "When considering a child's autonomy",
          "When navigating parental responsibility and authority",
          "When maintaining a trusting parent-child relationship",
          "When assessing responsibilities within a household.",
          "When evaluating the communication strategies in family dynamics.",
          "When contemplating the implications of defiance against parental authority.",
          "When navigating intergenerational conflicts.",
          "When fostering open communication within the family",
          null
         ],
         "marker": {
          "opacity": 0.5,
          "size": 5
         },
         "mode": "markers+text",
         "name": "0_within_parental_authority",
         "text": [
          "",
          "",
          "",
          "",
          "",
          "",
          "",
          "",
          "",
          "0_within_parental_authority"
         ],
         "textfont": {
          "size": 12
         },
         "type": "scattergl",
         "x": [
          9.774866104125977,
          8.903924942016602,
          8.874342918395996,
          9.61093521118164,
          8.64609146118164,
          9.20230484008789,
          8.754829406738281,
          8.886882781982422,
          9.505032539367676,
          9.128801345825195
         ],
         "y": [
          14.068192481994629,
          14.600716590881348,
          14.092092514038086,
          13.986806869506836,
          13.62916088104248,
          13.62034797668457,
          14.218474388122559,
          13.870148658752441,
          13.660404205322266,
          13.97181510925293
         ]
        },
        {
         "hoverinfo": "text",
         "hovertext": [
          "When offering guidance on sensitive personal decisions",
          "When providing advice that encourages self-improvement",
          "When providing guidance without professional training",
          "When recognizing the limits of one's expertise and suggesting professional help if necessary",
          "When reflecting on the role of guidance in ethical development",
          "When encouraging professional development and growth opportunities for employees",
          "When encouraging someone to seek help",
          "When advising on leadership and communication skills",
          null
         ],
         "marker": {
          "opacity": 0.5,
          "size": 5
         },
         "mode": "markers+text",
         "name": "1_professional_guidance_help",
         "text": [
          "",
          "",
          "",
          "",
          "",
          "",
          "",
          "",
          "1_professional_guidance_help"
         ],
         "textfont": {
          "size": 12
         },
         "type": "scattergl",
         "x": [
          11.094172477722168,
          11.874650001525879,
          11.441061973571777,
          11.716471672058105,
          10.909995079040527,
          11.868574142456055,
          12.233665466308594,
          11.534555435180664,
          11.58414363861084
         ],
         "y": [
          10.610326766967773,
          10.72487735748291,
          10.710199356079102,
          10.502320289611816,
          10.896239280700684,
          10.50808334350586,
          10.69118595123291,
          10.34177017211914,
          10.623125076293945
         ]
        },
        {
         "hoverinfo": "text",
         "hovertext": [
          "When considering the influence of personal beliefs and values",
          "When considering academic integrity",
          "When affecting a student's responsibility towards their obligations",
          "When discussing dishonesty",
          "When balancing educational responsibilities with personal interests",
          "When considering the implications of deceit on personal character",
          "When discussing political integrity",
          null
         ],
         "marker": {
          "opacity": 0.5,
          "size": 5
         },
         "mode": "markers+text",
         "name": "2_personal_integrity_discussing",
         "text": [
          "",
          "",
          "",
          "",
          "",
          "",
          "",
          "2_personal_integrity_discussing"
         ],
         "textfont": {
          "size": 12
         },
         "type": "scattergl",
         "x": [
          10.13552474975586,
          9.358301162719727,
          9.155021667480469,
          9.861610412597656,
          9.231510162353516,
          9.80412483215332,
          9.582330703735352,
          9.589775085449219
         ],
         "y": [
          10.401742935180664,
          11.301054954528809,
          11.004424095153809,
          11.427936553955078,
          11.240230560302734,
          11.246344566345215,
          11.20041561126709,
          11.117449760437012
         ]
        },
        {
         "hoverinfo": "text",
         "hovertext": [
          "When recognizing the value of empathy in managerial roles",
          "When providing emotional support",
          "When being empathetic and non-judgmental",
          "When offering hope without being dismissive of feelings",
          "When offering emotional support",
          "When showing empathy and understanding",
          "When recognizing the importance of compassionate and non-judgmental support",
          null
         ],
         "marker": {
          "opacity": 0.5,
          "size": 5
         },
         "mode": "markers+text",
         "name": "3_support_nonjudgmental_empathy",
         "text": [
          "",
          "",
          "",
          "",
          "",
          "",
          "",
          "3_support_nonjudgmental_empathy"
         ],
         "textfont": {
          "size": 12
         },
         "type": "scattergl",
         "x": [
          13.16876220703125,
          13.4183988571167,
          13.503716468811035,
          13.561785697937012,
          13.43502140045166,
          13.484662055969238,
          13.336871147155762,
          13.415602684020996
         ],
         "y": [
          11.3760404586792,
          11.35981559753418,
          11.42801284790039,
          11.308488845825195,
          11.180587768554688,
          11.186391830444336,
          11.488020896911621,
          11.332480430603027
         ]
        },
        {
         "hoverinfo": "text",
         "hovertext": [
          "When discouraging unhealthy comparisons with others",
          "When promoting realistic and healthy beauty standards",
          "When promoting positive reinforcement over punishment",
          "When promoting healthy habits",
          "When promoting self-acceptance and healthy self-esteem",
          "When avoiding reinforcing societal beauty pressures",
          "When addressing issues of body image sensitively",
          null
         ],
         "marker": {
          "opacity": 0.5,
          "size": 5
         },
         "mode": "markers+text",
         "name": "4_promoting_healthy_beauty",
         "text": [
          "",
          "",
          "",
          "",
          "",
          "",
          "",
          "4_promoting_healthy_beauty"
         ],
         "textfont": {
          "size": 12
         },
         "type": "scattergl",
         "x": [
          12.000077247619629,
          12.120940208435059,
          11.848149299621582,
          12.10046672821045,
          12.198121070861816,
          12.112409591674805,
          11.820211410522461,
          12.02862548828125
         ],
         "y": [
          12.69286060333252,
          12.465832710266113,
          11.872252464294434,
          12.179717063903809,
          12.386343955993652,
          12.574576377868652,
          12.399292945861816,
          12.367268562316895
         ]
        },
        {
         "hoverinfo": "text",
         "hovertext": [
          "When considering the potential consequences of actions taken.",
          "When affecting perceptions of legitimacy",
          "When weighing short-term benefits against long-term consequences",
          "When impacting future behavior",
          "When understanding the potential impact of societal and cultural norms on an individual's decision",
          "When considering the impact on social cohesion",
          null
         ],
         "marker": {
          "opacity": 0.5,
          "size": 5
         },
         "mode": "markers+text",
         "name": "5_consequences_potential_impact",
         "text": [
          "",
          "",
          "",
          "",
          "",
          "",
          "5_consequences_potential_impact"
         ],
         "textfont": {
          "size": 12
         },
         "type": "scattergl",
         "x": [
          10.536380767822266,
          9.60682487487793,
          10.778738021850586,
          10.113080978393555,
          9.98973274230957,
          9.762767791748047,
          10.131254196166992
         ],
         "y": [
          9.675945281982422,
          10.191705703735352,
          9.467239379882812,
          9.837030410766602,
          10.068778991699219,
          9.888189315795898,
          9.854815483093262
         ]
        },
        {
         "hoverinfo": "text",
         "hovertext": [
          "When respecting individual differences and diversity",
          "When respecting the autonomy of individuals to make their own choices",
          "When respecting a child’s individuality and interests",
          "When respecting autonomy and individual choice",
          "When respecting the individual's autonomy in making decisions",
          "When considering respect for family members.",
          null
         ],
         "marker": {
          "opacity": 0.5,
          "size": 5
         },
         "mode": "markers+text",
         "name": "6_respecting_autonomy_individual",
         "text": [
          "",
          "",
          "",
          "",
          "",
          "",
          "6_respecting_autonomy_individual"
         ],
         "textfont": {
          "size": 12
         },
         "type": "scattergl",
         "x": [
          8.263312339782715,
          8.44704532623291,
          8.575689315795898,
          8.327701568603516,
          8.316184043884277,
          8.451040267944336,
          8.396828651428223
         ],
         "y": [
          15.01258659362793,
          14.91061019897461,
          14.972289085388184,
          14.894296646118164,
          15.167939186096191,
          13.86403751373291,
          14.80362606048584
         ]
        },
        {
         "hoverinfo": "text",
         "hovertext": [
          "When assessing the balance between productivity and employee satisfaction",
          "When contemplating the long-term implications of workplace culture on employee well-being",
          "When addressing attitudes towards employees",
          "When considering the dignity and respect of workers",
          "When considering the impact of management style on employee morale",
          null
         ],
         "marker": {
          "opacity": 0.5,
          "size": 5
         },
         "mode": "markers+text",
         "name": "7_employee_style_satisfaction",
         "text": [
          "",
          "",
          "",
          "",
          "",
          "7_employee_style_satisfaction"
         ],
         "textfont": {
          "size": 12
         },
         "type": "scattergl",
         "x": [
          8.319368362426758,
          8.36468505859375,
          8.366861343383789,
          8.330615043640137,
          8.281296730041504,
          8.332565307617188
         ],
         "y": [
          10.32090950012207,
          10.258096694946289,
          10.299151420593262,
          10.645556449890137,
          10.321196556091309,
          10.368982315063477
         ]
        },
        {
         "hoverinfo": "text",
         "hovertext": [
          "When considering the long-term implications of advice given",
          "When considering the impact of advice on someone's mental health",
          "When considering the advice of healthcare professionals",
          "When considering the impact of advice on mental health",
          "When considering the potential consequences of advice on someone's mental and emotional well-being",
          null
         ],
         "marker": {
          "opacity": 0.5,
          "size": 5
         },
         "mode": "markers+text",
         "name": "8_advice_mental_considering",
         "text": [
          "",
          "",
          "",
          "",
          "",
          "8_advice_mental_considering"
         ],
         "textfont": {
          "size": 12
         },
         "type": "scattergl",
         "x": [
          11.010379791259766,
          11.141899108886719,
          11.297199249267578,
          11.188782691955566,
          10.973244667053223,
          11.12230110168457
         ],
         "y": [
          9.739028930664062,
          9.927069664001465,
          9.628579139709473,
          9.892321586608887,
          10.094074249267578,
          9.85621452331543
         ]
        },
        {
         "hoverinfo": "text",
         "hovertext": [
          "When modeling behavior for children",
          "When addressing screen time and its impact on children",
          "When ensuring a child's well-being and development",
          "When setting boundaries for children",
          null
         ],
         "marker": {
          "opacity": 0.5,
          "size": 5
         },
         "mode": "markers+text",
         "name": "9_children_for_screen",
         "text": [
          "",
          "",
          "",
          "",
          "9_children_for_screen"
         ],
         "textfont": {
          "size": 12
         },
         "type": "scattergl",
         "x": [
          9.514932632446289,
          9.683381080627441,
          9.688486099243164,
          9.831277847290039,
          9.679519653320312
         ],
         "y": [
          14.397526741027832,
          14.53938102722168,
          14.345857620239258,
          14.410052299499512,
          14.423205375671387
         ]
        },
        {
         "hoverinfo": "text",
         "hovertext": [
          "When evaluating the social and educational implications of medication",
          "When understanding the impacts of medical treatment",
          "When acknowledging the potential side effects of medication",
          null
         ],
         "marker": {
          "opacity": 0.5,
          "size": 5
         },
         "mode": "markers+text",
         "name": "10_medication_effects_treatment",
         "text": [
          "",
          "",
          "",
          "10_medication_effects_treatment"
         ],
         "textfont": {
          "size": 12
         },
         "type": "scattergl",
         "x": [
          11.141923904418945,
          11.191512107849121,
          10.961421012878418,
          11.098285675048828
         ],
         "y": [
          9.273205757141113,
          9.218994140625,
          9.304474830627441,
          9.265557289123535
         ]
        },
        {
         "hoverinfo": "text",
         "hovertext": [
          "When encouraging responsible discourse",
          "When potentially spreading misinformation",
          null
         ],
         "marker": {
          "opacity": 0.5,
          "size": 5
         },
         "mode": "markers+text",
         "name": "11_spreading_responsible_potentially",
         "text": [
          "",
          "",
          "11_spreading_responsible_potentially"
         ],
         "textfont": {
          "size": 12
         },
         "type": "scattergl",
         "x": [
          11.042675971984863,
          10.988848686218262,
          11.015762329101562
         ],
         "y": [
          11.86208724975586,
          11.77367115020752,
          11.817878723144531
         ]
        },
        {
         "hoverinfo": "text",
         "hovertext": [
          "When addressing religious perspectives on life and moral issues",
          "When acknowledging the complexity of navigating personal ethics and external pressures",
          null
         ],
         "marker": {
          "opacity": 0.5,
          "size": 5
         },
         "mode": "markers+text",
         "name": "12_complexity_perspectives_external",
         "text": [
          "",
          "",
          "12_complexity_perspectives_external"
         ],
         "textfont": {
          "size": 12
         },
         "type": "scattergl",
         "x": [
          10.429414749145508,
          10.257264137268066,
          10.343339920043945
         ],
         "y": [
          10.919659614562988,
          11.07772445678711,
          10.99869155883789
         ]
        }
       ],
       "layout": {
        "annotations": [
         {
          "showarrow": false,
          "text": "D1",
          "x": 6.903338241577148,
          "y": 12.639637541770934,
          "yshift": 10
         },
         {
          "showarrow": false,
          "text": "D2",
          "x": 11.249695897102356,
          "xshift": 10,
          "y": 17.44313006401062
         }
        ],
        "height": 750,
        "shapes": [
         {
          "line": {
           "color": "#CFD8DC",
           "width": 2
          },
          "type": "line",
          "x0": 11.249695897102356,
          "x1": 11.249695897102356,
          "y0": 7.83614501953125,
          "y1": 17.44313006401062
         },
         {
          "line": {
           "color": "#9E9E9E",
           "width": 2
          },
          "type": "line",
          "x0": 6.903338241577148,
          "x1": 15.596053552627563,
          "y0": 12.639637541770934,
          "y1": 12.639637541770934
         }
        ],
        "template": {
         "data": {
          "bar": [
           {
            "error_x": {
             "color": "rgb(36,36,36)"
            },
            "error_y": {
             "color": "rgb(36,36,36)"
            },
            "marker": {
             "line": {
              "color": "white",
              "width": 0.5
             },
             "pattern": {
              "fillmode": "overlay",
              "size": 10,
              "solidity": 0.2
             }
            },
            "type": "bar"
           }
          ],
          "barpolar": [
           {
            "marker": {
             "line": {
              "color": "white",
              "width": 0.5
             },
             "pattern": {
              "fillmode": "overlay",
              "size": 10,
              "solidity": 0.2
             }
            },
            "type": "barpolar"
           }
          ],
          "carpet": [
           {
            "aaxis": {
             "endlinecolor": "rgb(36,36,36)",
             "gridcolor": "white",
             "linecolor": "white",
             "minorgridcolor": "white",
             "startlinecolor": "rgb(36,36,36)"
            },
            "baxis": {
             "endlinecolor": "rgb(36,36,36)",
             "gridcolor": "white",
             "linecolor": "white",
             "minorgridcolor": "white",
             "startlinecolor": "rgb(36,36,36)"
            },
            "type": "carpet"
           }
          ],
          "choropleth": [
           {
            "colorbar": {
             "outlinewidth": 1,
             "tickcolor": "rgb(36,36,36)",
             "ticks": "outside"
            },
            "type": "choropleth"
           }
          ],
          "contour": [
           {
            "colorbar": {
             "outlinewidth": 1,
             "tickcolor": "rgb(36,36,36)",
             "ticks": "outside"
            },
            "colorscale": [
             [
              0,
              "#440154"
             ],
             [
              0.1111111111111111,
              "#482878"
             ],
             [
              0.2222222222222222,
              "#3e4989"
             ],
             [
              0.3333333333333333,
              "#31688e"
             ],
             [
              0.4444444444444444,
              "#26828e"
             ],
             [
              0.5555555555555556,
              "#1f9e89"
             ],
             [
              0.6666666666666666,
              "#35b779"
             ],
             [
              0.7777777777777778,
              "#6ece58"
             ],
             [
              0.8888888888888888,
              "#b5de2b"
             ],
             [
              1,
              "#fde725"
             ]
            ],
            "type": "contour"
           }
          ],
          "contourcarpet": [
           {
            "colorbar": {
             "outlinewidth": 1,
             "tickcolor": "rgb(36,36,36)",
             "ticks": "outside"
            },
            "type": "contourcarpet"
           }
          ],
          "heatmap": [
           {
            "colorbar": {
             "outlinewidth": 1,
             "tickcolor": "rgb(36,36,36)",
             "ticks": "outside"
            },
            "colorscale": [
             [
              0,
              "#440154"
             ],
             [
              0.1111111111111111,
              "#482878"
             ],
             [
              0.2222222222222222,
              "#3e4989"
             ],
             [
              0.3333333333333333,
              "#31688e"
             ],
             [
              0.4444444444444444,
              "#26828e"
             ],
             [
              0.5555555555555556,
              "#1f9e89"
             ],
             [
              0.6666666666666666,
              "#35b779"
             ],
             [
              0.7777777777777778,
              "#6ece58"
             ],
             [
              0.8888888888888888,
              "#b5de2b"
             ],
             [
              1,
              "#fde725"
             ]
            ],
            "type": "heatmap"
           }
          ],
          "heatmapgl": [
           {
            "colorbar": {
             "outlinewidth": 1,
             "tickcolor": "rgb(36,36,36)",
             "ticks": "outside"
            },
            "colorscale": [
             [
              0,
              "#440154"
             ],
             [
              0.1111111111111111,
              "#482878"
             ],
             [
              0.2222222222222222,
              "#3e4989"
             ],
             [
              0.3333333333333333,
              "#31688e"
             ],
             [
              0.4444444444444444,
              "#26828e"
             ],
             [
              0.5555555555555556,
              "#1f9e89"
             ],
             [
              0.6666666666666666,
              "#35b779"
             ],
             [
              0.7777777777777778,
              "#6ece58"
             ],
             [
              0.8888888888888888,
              "#b5de2b"
             ],
             [
              1,
              "#fde725"
             ]
            ],
            "type": "heatmapgl"
           }
          ],
          "histogram": [
           {
            "marker": {
             "line": {
              "color": "white",
              "width": 0.6
             }
            },
            "type": "histogram"
           }
          ],
          "histogram2d": [
           {
            "colorbar": {
             "outlinewidth": 1,
             "tickcolor": "rgb(36,36,36)",
             "ticks": "outside"
            },
            "colorscale": [
             [
              0,
              "#440154"
             ],
             [
              0.1111111111111111,
              "#482878"
             ],
             [
              0.2222222222222222,
              "#3e4989"
             ],
             [
              0.3333333333333333,
              "#31688e"
             ],
             [
              0.4444444444444444,
              "#26828e"
             ],
             [
              0.5555555555555556,
              "#1f9e89"
             ],
             [
              0.6666666666666666,
              "#35b779"
             ],
             [
              0.7777777777777778,
              "#6ece58"
             ],
             [
              0.8888888888888888,
              "#b5de2b"
             ],
             [
              1,
              "#fde725"
             ]
            ],
            "type": "histogram2d"
           }
          ],
          "histogram2dcontour": [
           {
            "colorbar": {
             "outlinewidth": 1,
             "tickcolor": "rgb(36,36,36)",
             "ticks": "outside"
            },
            "colorscale": [
             [
              0,
              "#440154"
             ],
             [
              0.1111111111111111,
              "#482878"
             ],
             [
              0.2222222222222222,
              "#3e4989"
             ],
             [
              0.3333333333333333,
              "#31688e"
             ],
             [
              0.4444444444444444,
              "#26828e"
             ],
             [
              0.5555555555555556,
              "#1f9e89"
             ],
             [
              0.6666666666666666,
              "#35b779"
             ],
             [
              0.7777777777777778,
              "#6ece58"
             ],
             [
              0.8888888888888888,
              "#b5de2b"
             ],
             [
              1,
              "#fde725"
             ]
            ],
            "type": "histogram2dcontour"
           }
          ],
          "mesh3d": [
           {
            "colorbar": {
             "outlinewidth": 1,
             "tickcolor": "rgb(36,36,36)",
             "ticks": "outside"
            },
            "type": "mesh3d"
           }
          ],
          "parcoords": [
           {
            "line": {
             "colorbar": {
              "outlinewidth": 1,
              "tickcolor": "rgb(36,36,36)",
              "ticks": "outside"
             }
            },
            "type": "parcoords"
           }
          ],
          "pie": [
           {
            "automargin": true,
            "type": "pie"
           }
          ],
          "scatter": [
           {
            "fillpattern": {
             "fillmode": "overlay",
             "size": 10,
             "solidity": 0.2
            },
            "type": "scatter"
           }
          ],
          "scatter3d": [
           {
            "line": {
             "colorbar": {
              "outlinewidth": 1,
              "tickcolor": "rgb(36,36,36)",
              "ticks": "outside"
             }
            },
            "marker": {
             "colorbar": {
              "outlinewidth": 1,
              "tickcolor": "rgb(36,36,36)",
              "ticks": "outside"
             }
            },
            "type": "scatter3d"
           }
          ],
          "scattercarpet": [
           {
            "marker": {
             "colorbar": {
              "outlinewidth": 1,
              "tickcolor": "rgb(36,36,36)",
              "ticks": "outside"
             }
            },
            "type": "scattercarpet"
           }
          ],
          "scattergeo": [
           {
            "marker": {
             "colorbar": {
              "outlinewidth": 1,
              "tickcolor": "rgb(36,36,36)",
              "ticks": "outside"
             }
            },
            "type": "scattergeo"
           }
          ],
          "scattergl": [
           {
            "marker": {
             "colorbar": {
              "outlinewidth": 1,
              "tickcolor": "rgb(36,36,36)",
              "ticks": "outside"
             }
            },
            "type": "scattergl"
           }
          ],
          "scattermapbox": [
           {
            "marker": {
             "colorbar": {
              "outlinewidth": 1,
              "tickcolor": "rgb(36,36,36)",
              "ticks": "outside"
             }
            },
            "type": "scattermapbox"
           }
          ],
          "scatterpolar": [
           {
            "marker": {
             "colorbar": {
              "outlinewidth": 1,
              "tickcolor": "rgb(36,36,36)",
              "ticks": "outside"
             }
            },
            "type": "scatterpolar"
           }
          ],
          "scatterpolargl": [
           {
            "marker": {
             "colorbar": {
              "outlinewidth": 1,
              "tickcolor": "rgb(36,36,36)",
              "ticks": "outside"
             }
            },
            "type": "scatterpolargl"
           }
          ],
          "scatterternary": [
           {
            "marker": {
             "colorbar": {
              "outlinewidth": 1,
              "tickcolor": "rgb(36,36,36)",
              "ticks": "outside"
             }
            },
            "type": "scatterternary"
           }
          ],
          "surface": [
           {
            "colorbar": {
             "outlinewidth": 1,
             "tickcolor": "rgb(36,36,36)",
             "ticks": "outside"
            },
            "colorscale": [
             [
              0,
              "#440154"
             ],
             [
              0.1111111111111111,
              "#482878"
             ],
             [
              0.2222222222222222,
              "#3e4989"
             ],
             [
              0.3333333333333333,
              "#31688e"
             ],
             [
              0.4444444444444444,
              "#26828e"
             ],
             [
              0.5555555555555556,
              "#1f9e89"
             ],
             [
              0.6666666666666666,
              "#35b779"
             ],
             [
              0.7777777777777778,
              "#6ece58"
             ],
             [
              0.8888888888888888,
              "#b5de2b"
             ],
             [
              1,
              "#fde725"
             ]
            ],
            "type": "surface"
           }
          ],
          "table": [
           {
            "cells": {
             "fill": {
              "color": "rgb(237,237,237)"
             },
             "line": {
              "color": "white"
             }
            },
            "header": {
             "fill": {
              "color": "rgb(217,217,217)"
             },
             "line": {
              "color": "white"
             }
            },
            "type": "table"
           }
          ]
         },
         "layout": {
          "annotationdefaults": {
           "arrowhead": 0,
           "arrowwidth": 1
          },
          "autotypenumbers": "strict",
          "coloraxis": {
           "colorbar": {
            "outlinewidth": 1,
            "tickcolor": "rgb(36,36,36)",
            "ticks": "outside"
           }
          },
          "colorscale": {
           "diverging": [
            [
             0,
             "rgb(103,0,31)"
            ],
            [
             0.1,
             "rgb(178,24,43)"
            ],
            [
             0.2,
             "rgb(214,96,77)"
            ],
            [
             0.3,
             "rgb(244,165,130)"
            ],
            [
             0.4,
             "rgb(253,219,199)"
            ],
            [
             0.5,
             "rgb(247,247,247)"
            ],
            [
             0.6,
             "rgb(209,229,240)"
            ],
            [
             0.7,
             "rgb(146,197,222)"
            ],
            [
             0.8,
             "rgb(67,147,195)"
            ],
            [
             0.9,
             "rgb(33,102,172)"
            ],
            [
             1,
             "rgb(5,48,97)"
            ]
           ],
           "sequential": [
            [
             0,
             "#440154"
            ],
            [
             0.1111111111111111,
             "#482878"
            ],
            [
             0.2222222222222222,
             "#3e4989"
            ],
            [
             0.3333333333333333,
             "#31688e"
            ],
            [
             0.4444444444444444,
             "#26828e"
            ],
            [
             0.5555555555555556,
             "#1f9e89"
            ],
            [
             0.6666666666666666,
             "#35b779"
            ],
            [
             0.7777777777777778,
             "#6ece58"
            ],
            [
             0.8888888888888888,
             "#b5de2b"
            ],
            [
             1,
             "#fde725"
            ]
           ],
           "sequentialminus": [
            [
             0,
             "#440154"
            ],
            [
             0.1111111111111111,
             "#482878"
            ],
            [
             0.2222222222222222,
             "#3e4989"
            ],
            [
             0.3333333333333333,
             "#31688e"
            ],
            [
             0.4444444444444444,
             "#26828e"
            ],
            [
             0.5555555555555556,
             "#1f9e89"
            ],
            [
             0.6666666666666666,
             "#35b779"
            ],
            [
             0.7777777777777778,
             "#6ece58"
            ],
            [
             0.8888888888888888,
             "#b5de2b"
            ],
            [
             1,
             "#fde725"
            ]
           ]
          },
          "colorway": [
           "#1F77B4",
           "#FF7F0E",
           "#2CA02C",
           "#D62728",
           "#9467BD",
           "#8C564B",
           "#E377C2",
           "#7F7F7F",
           "#BCBD22",
           "#17BECF"
          ],
          "font": {
           "color": "rgb(36,36,36)"
          },
          "geo": {
           "bgcolor": "white",
           "lakecolor": "white",
           "landcolor": "white",
           "showlakes": true,
           "showland": true,
           "subunitcolor": "white"
          },
          "hoverlabel": {
           "align": "left"
          },
          "hovermode": "closest",
          "mapbox": {
           "style": "light"
          },
          "paper_bgcolor": "white",
          "plot_bgcolor": "white",
          "polar": {
           "angularaxis": {
            "gridcolor": "rgb(232,232,232)",
            "linecolor": "rgb(36,36,36)",
            "showgrid": false,
            "showline": true,
            "ticks": "outside"
           },
           "bgcolor": "white",
           "radialaxis": {
            "gridcolor": "rgb(232,232,232)",
            "linecolor": "rgb(36,36,36)",
            "showgrid": false,
            "showline": true,
            "ticks": "outside"
           }
          },
          "scene": {
           "xaxis": {
            "backgroundcolor": "white",
            "gridcolor": "rgb(232,232,232)",
            "gridwidth": 2,
            "linecolor": "rgb(36,36,36)",
            "showbackground": true,
            "showgrid": false,
            "showline": true,
            "ticks": "outside",
            "zeroline": false,
            "zerolinecolor": "rgb(36,36,36)"
           },
           "yaxis": {
            "backgroundcolor": "white",
            "gridcolor": "rgb(232,232,232)",
            "gridwidth": 2,
            "linecolor": "rgb(36,36,36)",
            "showbackground": true,
            "showgrid": false,
            "showline": true,
            "ticks": "outside",
            "zeroline": false,
            "zerolinecolor": "rgb(36,36,36)"
           },
           "zaxis": {
            "backgroundcolor": "white",
            "gridcolor": "rgb(232,232,232)",
            "gridwidth": 2,
            "linecolor": "rgb(36,36,36)",
            "showbackground": true,
            "showgrid": false,
            "showline": true,
            "ticks": "outside",
            "zeroline": false,
            "zerolinecolor": "rgb(36,36,36)"
           }
          },
          "shapedefaults": {
           "fillcolor": "black",
           "line": {
            "width": 0
           },
           "opacity": 0.3
          },
          "ternary": {
           "aaxis": {
            "gridcolor": "rgb(232,232,232)",
            "linecolor": "rgb(36,36,36)",
            "showgrid": false,
            "showline": true,
            "ticks": "outside"
           },
           "baxis": {
            "gridcolor": "rgb(232,232,232)",
            "linecolor": "rgb(36,36,36)",
            "showgrid": false,
            "showline": true,
            "ticks": "outside"
           },
           "bgcolor": "white",
           "caxis": {
            "gridcolor": "rgb(232,232,232)",
            "linecolor": "rgb(36,36,36)",
            "showgrid": false,
            "showline": true,
            "ticks": "outside"
           }
          },
          "title": {
           "x": 0.05
          },
          "xaxis": {
           "automargin": true,
           "gridcolor": "rgb(232,232,232)",
           "linecolor": "rgb(36,36,36)",
           "showgrid": false,
           "showline": true,
           "ticks": "outside",
           "title": {
            "standoff": 15
           },
           "zeroline": false,
           "zerolinecolor": "rgb(36,36,36)"
          },
          "yaxis": {
           "automargin": true,
           "gridcolor": "rgb(232,232,232)",
           "linecolor": "rgb(36,36,36)",
           "showgrid": false,
           "showline": true,
           "ticks": "outside",
           "title": {
            "standoff": 15
           },
           "zeroline": false,
           "zerolinecolor": "rgb(36,36,36)"
          }
         }
        },
        "title": {
         "font": {
          "color": "Black",
          "size": 22
         },
         "text": "<b>Documents and Topics</b>",
         "x": 0.5,
         "xanchor": "center",
         "yanchor": "top"
        },
        "width": 1200,
        "xaxis": {
         "visible": false
        },
        "yaxis": {
         "visible": false
        }
       }
      },
      "text/html": [
       "<div>                        <script type=\"text/javascript\">window.PlotlyConfig = {MathJaxConfig: 'local'};</script>\n",
       "        <script charset=\"utf-8\" src=\"https://cdn.plot.ly/plotly-2.27.0.min.js\"></script>                <div id=\"1e232906-cd08-46bf-b9cd-ff9a0f87ccb0\" class=\"plotly-graph-div\" style=\"height:750px; width:1200px;\"></div>            <script type=\"text/javascript\">                                    window.PLOTLYENV=window.PLOTLYENV || {};                                    if (document.getElementById(\"1e232906-cd08-46bf-b9cd-ff9a0f87ccb0\")) {                    Plotly.newPlot(                        \"1e232906-cd08-46bf-b9cd-ff9a0f87ccb0\",                        [{\"hoverinfo\":\"text\",\"hovertext\":[\"When avoiding harm in conversation\",\"When influencing someone's moral choices\",\"When respecting differing viewpoints\",\"When considering the well-being of a child\",\"When discussing topics of life and death\",\"When maintaining confidentiality and trust\",\"When utilizing discipline and guidance\",\"When influencing public trust in democratic systems\",\"When being mindful of the impact of words\",\"When acknowledging the underlying issues beyond surface-level conflicts.\",\"When exploring ethical management practices\",\"When engaging in highly sensitive topics\",\"When recognizing the emotional well-being of all parties involved.\",\"When ensuring not to overstep personal boundaries\",null],\"marker\":{\"color\":\"#CFD8DC\",\"opacity\":0.5,\"size\":5},\"mode\":\"markers+text\",\"name\":\"other\",\"showlegend\":false,\"x\":[10.765275001525879,10.075489044189453,8.121574401855469,9.5035400390625,10.602066993713379,9.966004371643066,11.367630958557129,9.7123384475708,10.628704071044922,10.254992485046387,10.07727336883545,10.946359634399414,13.02432918548584,10.148931503295898,10.3710355758667],\"y\":[12.210875511169434,10.197012901306152,14.849044799804688,14.48269271850586,11.485711097717285,13.18034839630127,10.886945724487305,10.313919067382812,9.821785926818848,12.054503440856934,10.988200187683105,12.07744026184082,11.5213041305542,13.521925926208496,11.97083568572998],\"type\":\"scattergl\"},{\"hoverinfo\":\"text\",\"hovertext\":[\"When fostering a positive parent-child relationship\",\"When considering a child's autonomy\",\"When navigating parental responsibility and authority\",\"When maintaining a trusting parent-child relationship\",\"When assessing responsibilities within a household.\",\"When evaluating the communication strategies in family dynamics.\",\"When contemplating the implications of defiance against parental authority.\",\"When navigating intergenerational conflicts.\",\"When fostering open communication within the family\",null],\"marker\":{\"opacity\":0.5,\"size\":5},\"mode\":\"markers+text\",\"name\":\"0_within_parental_authority\",\"text\":[\"\",\"\",\"\",\"\",\"\",\"\",\"\",\"\",\"\",\"0_within_parental_authority\"],\"textfont\":{\"size\":12},\"x\":[9.774866104125977,8.903924942016602,8.874342918395996,9.61093521118164,8.64609146118164,9.20230484008789,8.754829406738281,8.886882781982422,9.505032539367676,9.128801345825195],\"y\":[14.068192481994629,14.600716590881348,14.092092514038086,13.986806869506836,13.62916088104248,13.62034797668457,14.218474388122559,13.870148658752441,13.660404205322266,13.97181510925293],\"type\":\"scattergl\"},{\"hoverinfo\":\"text\",\"hovertext\":[\"When offering guidance on sensitive personal decisions\",\"When providing advice that encourages self-improvement\",\"When providing guidance without professional training\",\"When recognizing the limits of one's expertise and suggesting professional help if necessary\",\"When reflecting on the role of guidance in ethical development\",\"When encouraging professional development and growth opportunities for employees\",\"When encouraging someone to seek help\",\"When advising on leadership and communication skills\",null],\"marker\":{\"opacity\":0.5,\"size\":5},\"mode\":\"markers+text\",\"name\":\"1_professional_guidance_help\",\"text\":[\"\",\"\",\"\",\"\",\"\",\"\",\"\",\"\",\"1_professional_guidance_help\"],\"textfont\":{\"size\":12},\"x\":[11.094172477722168,11.874650001525879,11.441061973571777,11.716471672058105,10.909995079040527,11.868574142456055,12.233665466308594,11.534555435180664,11.58414363861084],\"y\":[10.610326766967773,10.72487735748291,10.710199356079102,10.502320289611816,10.896239280700684,10.50808334350586,10.69118595123291,10.34177017211914,10.623125076293945],\"type\":\"scattergl\"},{\"hoverinfo\":\"text\",\"hovertext\":[\"When considering the influence of personal beliefs and values\",\"When considering academic integrity\",\"When affecting a student's responsibility towards their obligations\",\"When discussing dishonesty\",\"When balancing educational responsibilities with personal interests\",\"When considering the implications of deceit on personal character\",\"When discussing political integrity\",null],\"marker\":{\"opacity\":0.5,\"size\":5},\"mode\":\"markers+text\",\"name\":\"2_personal_integrity_discussing\",\"text\":[\"\",\"\",\"\",\"\",\"\",\"\",\"\",\"2_personal_integrity_discussing\"],\"textfont\":{\"size\":12},\"x\":[10.13552474975586,9.358301162719727,9.155021667480469,9.861610412597656,9.231510162353516,9.80412483215332,9.582330703735352,9.589775085449219],\"y\":[10.401742935180664,11.301054954528809,11.004424095153809,11.427936553955078,11.240230560302734,11.246344566345215,11.20041561126709,11.117449760437012],\"type\":\"scattergl\"},{\"hoverinfo\":\"text\",\"hovertext\":[\"When recognizing the value of empathy in managerial roles\",\"When providing emotional support\",\"When being empathetic and non-judgmental\",\"When offering hope without being dismissive of feelings\",\"When offering emotional support\",\"When showing empathy and understanding\",\"When recognizing the importance of compassionate and non-judgmental support\",null],\"marker\":{\"opacity\":0.5,\"size\":5},\"mode\":\"markers+text\",\"name\":\"3_support_nonjudgmental_empathy\",\"text\":[\"\",\"\",\"\",\"\",\"\",\"\",\"\",\"3_support_nonjudgmental_empathy\"],\"textfont\":{\"size\":12},\"x\":[13.16876220703125,13.4183988571167,13.503716468811035,13.561785697937012,13.43502140045166,13.484662055969238,13.336871147155762,13.415602684020996],\"y\":[11.3760404586792,11.35981559753418,11.42801284790039,11.308488845825195,11.180587768554688,11.186391830444336,11.488020896911621,11.332480430603027],\"type\":\"scattergl\"},{\"hoverinfo\":\"text\",\"hovertext\":[\"When discouraging unhealthy comparisons with others\",\"When promoting realistic and healthy beauty standards\",\"When promoting positive reinforcement over punishment\",\"When promoting healthy habits\",\"When promoting self-acceptance and healthy self-esteem\",\"When avoiding reinforcing societal beauty pressures\",\"When addressing issues of body image sensitively\",null],\"marker\":{\"opacity\":0.5,\"size\":5},\"mode\":\"markers+text\",\"name\":\"4_promoting_healthy_beauty\",\"text\":[\"\",\"\",\"\",\"\",\"\",\"\",\"\",\"4_promoting_healthy_beauty\"],\"textfont\":{\"size\":12},\"x\":[12.000077247619629,12.120940208435059,11.848149299621582,12.10046672821045,12.198121070861816,12.112409591674805,11.820211410522461,12.02862548828125],\"y\":[12.69286060333252,12.465832710266113,11.872252464294434,12.179717063903809,12.386343955993652,12.574576377868652,12.399292945861816,12.367268562316895],\"type\":\"scattergl\"},{\"hoverinfo\":\"text\",\"hovertext\":[\"When considering the potential consequences of actions taken.\",\"When affecting perceptions of legitimacy\",\"When weighing short-term benefits against long-term consequences\",\"When impacting future behavior\",\"When understanding the potential impact of societal and cultural norms on an individual's decision\",\"When considering the impact on social cohesion\",null],\"marker\":{\"opacity\":0.5,\"size\":5},\"mode\":\"markers+text\",\"name\":\"5_consequences_potential_impact\",\"text\":[\"\",\"\",\"\",\"\",\"\",\"\",\"5_consequences_potential_impact\"],\"textfont\":{\"size\":12},\"x\":[10.536380767822266,9.60682487487793,10.778738021850586,10.113080978393555,9.98973274230957,9.762767791748047,10.131254196166992],\"y\":[9.675945281982422,10.191705703735352,9.467239379882812,9.837030410766602,10.068778991699219,9.888189315795898,9.854815483093262],\"type\":\"scattergl\"},{\"hoverinfo\":\"text\",\"hovertext\":[\"When respecting individual differences and diversity\",\"When respecting the autonomy of individuals to make their own choices\",\"When respecting a child\\u2019s individuality and interests\",\"When respecting autonomy and individual choice\",\"When respecting the individual's autonomy in making decisions\",\"When considering respect for family members.\",null],\"marker\":{\"opacity\":0.5,\"size\":5},\"mode\":\"markers+text\",\"name\":\"6_respecting_autonomy_individual\",\"text\":[\"\",\"\",\"\",\"\",\"\",\"\",\"6_respecting_autonomy_individual\"],\"textfont\":{\"size\":12},\"x\":[8.263312339782715,8.44704532623291,8.575689315795898,8.327701568603516,8.316184043884277,8.451040267944336,8.396828651428223],\"y\":[15.01258659362793,14.91061019897461,14.972289085388184,14.894296646118164,15.167939186096191,13.86403751373291,14.80362606048584],\"type\":\"scattergl\"},{\"hoverinfo\":\"text\",\"hovertext\":[\"When assessing the balance between productivity and employee satisfaction\",\"When contemplating the long-term implications of workplace culture on employee well-being\",\"When addressing attitudes towards employees\",\"When considering the dignity and respect of workers\",\"When considering the impact of management style on employee morale\",null],\"marker\":{\"opacity\":0.5,\"size\":5},\"mode\":\"markers+text\",\"name\":\"7_employee_style_satisfaction\",\"text\":[\"\",\"\",\"\",\"\",\"\",\"7_employee_style_satisfaction\"],\"textfont\":{\"size\":12},\"x\":[8.319368362426758,8.36468505859375,8.366861343383789,8.330615043640137,8.281296730041504,8.332565307617188],\"y\":[10.32090950012207,10.258096694946289,10.299151420593262,10.645556449890137,10.321196556091309,10.368982315063477],\"type\":\"scattergl\"},{\"hoverinfo\":\"text\",\"hovertext\":[\"When considering the long-term implications of advice given\",\"When considering the impact of advice on someone's mental health\",\"When considering the advice of healthcare professionals\",\"When considering the impact of advice on mental health\",\"When considering the potential consequences of advice on someone's mental and emotional well-being\",null],\"marker\":{\"opacity\":0.5,\"size\":5},\"mode\":\"markers+text\",\"name\":\"8_advice_mental_considering\",\"text\":[\"\",\"\",\"\",\"\",\"\",\"8_advice_mental_considering\"],\"textfont\":{\"size\":12},\"x\":[11.010379791259766,11.141899108886719,11.297199249267578,11.188782691955566,10.973244667053223,11.12230110168457],\"y\":[9.739028930664062,9.927069664001465,9.628579139709473,9.892321586608887,10.094074249267578,9.85621452331543],\"type\":\"scattergl\"},{\"hoverinfo\":\"text\",\"hovertext\":[\"When modeling behavior for children\",\"When addressing screen time and its impact on children\",\"When ensuring a child's well-being and development\",\"When setting boundaries for children\",null],\"marker\":{\"opacity\":0.5,\"size\":5},\"mode\":\"markers+text\",\"name\":\"9_children_for_screen\",\"text\":[\"\",\"\",\"\",\"\",\"9_children_for_screen\"],\"textfont\":{\"size\":12},\"x\":[9.514932632446289,9.683381080627441,9.688486099243164,9.831277847290039,9.679519653320312],\"y\":[14.397526741027832,14.53938102722168,14.345857620239258,14.410052299499512,14.423205375671387],\"type\":\"scattergl\"},{\"hoverinfo\":\"text\",\"hovertext\":[\"When evaluating the social and educational implications of medication\",\"When understanding the impacts of medical treatment\",\"When acknowledging the potential side effects of medication\",null],\"marker\":{\"opacity\":0.5,\"size\":5},\"mode\":\"markers+text\",\"name\":\"10_medication_effects_treatment\",\"text\":[\"\",\"\",\"\",\"10_medication_effects_treatment\"],\"textfont\":{\"size\":12},\"x\":[11.141923904418945,11.191512107849121,10.961421012878418,11.098285675048828],\"y\":[9.273205757141113,9.218994140625,9.304474830627441,9.265557289123535],\"type\":\"scattergl\"},{\"hoverinfo\":\"text\",\"hovertext\":[\"When encouraging responsible discourse\",\"When potentially spreading misinformation\",null],\"marker\":{\"opacity\":0.5,\"size\":5},\"mode\":\"markers+text\",\"name\":\"11_spreading_responsible_potentially\",\"text\":[\"\",\"\",\"11_spreading_responsible_potentially\"],\"textfont\":{\"size\":12},\"x\":[11.042675971984863,10.988848686218262,11.015762329101562],\"y\":[11.86208724975586,11.77367115020752,11.817878723144531],\"type\":\"scattergl\"},{\"hoverinfo\":\"text\",\"hovertext\":[\"When addressing religious perspectives on life and moral issues\",\"When acknowledging the complexity of navigating personal ethics and external pressures\",null],\"marker\":{\"opacity\":0.5,\"size\":5},\"mode\":\"markers+text\",\"name\":\"12_complexity_perspectives_external\",\"text\":[\"\",\"\",\"12_complexity_perspectives_external\"],\"textfont\":{\"size\":12},\"x\":[10.429414749145508,10.257264137268066,10.343339920043945],\"y\":[10.919659614562988,11.07772445678711,10.99869155883789],\"type\":\"scattergl\"}],                        {\"template\":{\"data\":{\"barpolar\":[{\"marker\":{\"line\":{\"color\":\"white\",\"width\":0.5},\"pattern\":{\"fillmode\":\"overlay\",\"size\":10,\"solidity\":0.2}},\"type\":\"barpolar\"}],\"bar\":[{\"error_x\":{\"color\":\"rgb(36,36,36)\"},\"error_y\":{\"color\":\"rgb(36,36,36)\"},\"marker\":{\"line\":{\"color\":\"white\",\"width\":0.5},\"pattern\":{\"fillmode\":\"overlay\",\"size\":10,\"solidity\":0.2}},\"type\":\"bar\"}],\"carpet\":[{\"aaxis\":{\"endlinecolor\":\"rgb(36,36,36)\",\"gridcolor\":\"white\",\"linecolor\":\"white\",\"minorgridcolor\":\"white\",\"startlinecolor\":\"rgb(36,36,36)\"},\"baxis\":{\"endlinecolor\":\"rgb(36,36,36)\",\"gridcolor\":\"white\",\"linecolor\":\"white\",\"minorgridcolor\":\"white\",\"startlinecolor\":\"rgb(36,36,36)\"},\"type\":\"carpet\"}],\"choropleth\":[{\"colorbar\":{\"outlinewidth\":1,\"tickcolor\":\"rgb(36,36,36)\",\"ticks\":\"outside\"},\"type\":\"choropleth\"}],\"contourcarpet\":[{\"colorbar\":{\"outlinewidth\":1,\"tickcolor\":\"rgb(36,36,36)\",\"ticks\":\"outside\"},\"type\":\"contourcarpet\"}],\"contour\":[{\"colorbar\":{\"outlinewidth\":1,\"tickcolor\":\"rgb(36,36,36)\",\"ticks\":\"outside\"},\"colorscale\":[[0.0,\"#440154\"],[0.1111111111111111,\"#482878\"],[0.2222222222222222,\"#3e4989\"],[0.3333333333333333,\"#31688e\"],[0.4444444444444444,\"#26828e\"],[0.5555555555555556,\"#1f9e89\"],[0.6666666666666666,\"#35b779\"],[0.7777777777777778,\"#6ece58\"],[0.8888888888888888,\"#b5de2b\"],[1.0,\"#fde725\"]],\"type\":\"contour\"}],\"heatmapgl\":[{\"colorbar\":{\"outlinewidth\":1,\"tickcolor\":\"rgb(36,36,36)\",\"ticks\":\"outside\"},\"colorscale\":[[0.0,\"#440154\"],[0.1111111111111111,\"#482878\"],[0.2222222222222222,\"#3e4989\"],[0.3333333333333333,\"#31688e\"],[0.4444444444444444,\"#26828e\"],[0.5555555555555556,\"#1f9e89\"],[0.6666666666666666,\"#35b779\"],[0.7777777777777778,\"#6ece58\"],[0.8888888888888888,\"#b5de2b\"],[1.0,\"#fde725\"]],\"type\":\"heatmapgl\"}],\"heatmap\":[{\"colorbar\":{\"outlinewidth\":1,\"tickcolor\":\"rgb(36,36,36)\",\"ticks\":\"outside\"},\"colorscale\":[[0.0,\"#440154\"],[0.1111111111111111,\"#482878\"],[0.2222222222222222,\"#3e4989\"],[0.3333333333333333,\"#31688e\"],[0.4444444444444444,\"#26828e\"],[0.5555555555555556,\"#1f9e89\"],[0.6666666666666666,\"#35b779\"],[0.7777777777777778,\"#6ece58\"],[0.8888888888888888,\"#b5de2b\"],[1.0,\"#fde725\"]],\"type\":\"heatmap\"}],\"histogram2dcontour\":[{\"colorbar\":{\"outlinewidth\":1,\"tickcolor\":\"rgb(36,36,36)\",\"ticks\":\"outside\"},\"colorscale\":[[0.0,\"#440154\"],[0.1111111111111111,\"#482878\"],[0.2222222222222222,\"#3e4989\"],[0.3333333333333333,\"#31688e\"],[0.4444444444444444,\"#26828e\"],[0.5555555555555556,\"#1f9e89\"],[0.6666666666666666,\"#35b779\"],[0.7777777777777778,\"#6ece58\"],[0.8888888888888888,\"#b5de2b\"],[1.0,\"#fde725\"]],\"type\":\"histogram2dcontour\"}],\"histogram2d\":[{\"colorbar\":{\"outlinewidth\":1,\"tickcolor\":\"rgb(36,36,36)\",\"ticks\":\"outside\"},\"colorscale\":[[0.0,\"#440154\"],[0.1111111111111111,\"#482878\"],[0.2222222222222222,\"#3e4989\"],[0.3333333333333333,\"#31688e\"],[0.4444444444444444,\"#26828e\"],[0.5555555555555556,\"#1f9e89\"],[0.6666666666666666,\"#35b779\"],[0.7777777777777778,\"#6ece58\"],[0.8888888888888888,\"#b5de2b\"],[1.0,\"#fde725\"]],\"type\":\"histogram2d\"}],\"histogram\":[{\"marker\":{\"line\":{\"color\":\"white\",\"width\":0.6}},\"type\":\"histogram\"}],\"mesh3d\":[{\"colorbar\":{\"outlinewidth\":1,\"tickcolor\":\"rgb(36,36,36)\",\"ticks\":\"outside\"},\"type\":\"mesh3d\"}],\"parcoords\":[{\"line\":{\"colorbar\":{\"outlinewidth\":1,\"tickcolor\":\"rgb(36,36,36)\",\"ticks\":\"outside\"}},\"type\":\"parcoords\"}],\"pie\":[{\"automargin\":true,\"type\":\"pie\"}],\"scatter3d\":[{\"line\":{\"colorbar\":{\"outlinewidth\":1,\"tickcolor\":\"rgb(36,36,36)\",\"ticks\":\"outside\"}},\"marker\":{\"colorbar\":{\"outlinewidth\":1,\"tickcolor\":\"rgb(36,36,36)\",\"ticks\":\"outside\"}},\"type\":\"scatter3d\"}],\"scattercarpet\":[{\"marker\":{\"colorbar\":{\"outlinewidth\":1,\"tickcolor\":\"rgb(36,36,36)\",\"ticks\":\"outside\"}},\"type\":\"scattercarpet\"}],\"scattergeo\":[{\"marker\":{\"colorbar\":{\"outlinewidth\":1,\"tickcolor\":\"rgb(36,36,36)\",\"ticks\":\"outside\"}},\"type\":\"scattergeo\"}],\"scattergl\":[{\"marker\":{\"colorbar\":{\"outlinewidth\":1,\"tickcolor\":\"rgb(36,36,36)\",\"ticks\":\"outside\"}},\"type\":\"scattergl\"}],\"scattermapbox\":[{\"marker\":{\"colorbar\":{\"outlinewidth\":1,\"tickcolor\":\"rgb(36,36,36)\",\"ticks\":\"outside\"}},\"type\":\"scattermapbox\"}],\"scatterpolargl\":[{\"marker\":{\"colorbar\":{\"outlinewidth\":1,\"tickcolor\":\"rgb(36,36,36)\",\"ticks\":\"outside\"}},\"type\":\"scatterpolargl\"}],\"scatterpolar\":[{\"marker\":{\"colorbar\":{\"outlinewidth\":1,\"tickcolor\":\"rgb(36,36,36)\",\"ticks\":\"outside\"}},\"type\":\"scatterpolar\"}],\"scatter\":[{\"fillpattern\":{\"fillmode\":\"overlay\",\"size\":10,\"solidity\":0.2},\"type\":\"scatter\"}],\"scatterternary\":[{\"marker\":{\"colorbar\":{\"outlinewidth\":1,\"tickcolor\":\"rgb(36,36,36)\",\"ticks\":\"outside\"}},\"type\":\"scatterternary\"}],\"surface\":[{\"colorbar\":{\"outlinewidth\":1,\"tickcolor\":\"rgb(36,36,36)\",\"ticks\":\"outside\"},\"colorscale\":[[0.0,\"#440154\"],[0.1111111111111111,\"#482878\"],[0.2222222222222222,\"#3e4989\"],[0.3333333333333333,\"#31688e\"],[0.4444444444444444,\"#26828e\"],[0.5555555555555556,\"#1f9e89\"],[0.6666666666666666,\"#35b779\"],[0.7777777777777778,\"#6ece58\"],[0.8888888888888888,\"#b5de2b\"],[1.0,\"#fde725\"]],\"type\":\"surface\"}],\"table\":[{\"cells\":{\"fill\":{\"color\":\"rgb(237,237,237)\"},\"line\":{\"color\":\"white\"}},\"header\":{\"fill\":{\"color\":\"rgb(217,217,217)\"},\"line\":{\"color\":\"white\"}},\"type\":\"table\"}]},\"layout\":{\"annotationdefaults\":{\"arrowhead\":0,\"arrowwidth\":1},\"autotypenumbers\":\"strict\",\"coloraxis\":{\"colorbar\":{\"outlinewidth\":1,\"tickcolor\":\"rgb(36,36,36)\",\"ticks\":\"outside\"}},\"colorscale\":{\"diverging\":[[0.0,\"rgb(103,0,31)\"],[0.1,\"rgb(178,24,43)\"],[0.2,\"rgb(214,96,77)\"],[0.3,\"rgb(244,165,130)\"],[0.4,\"rgb(253,219,199)\"],[0.5,\"rgb(247,247,247)\"],[0.6,\"rgb(209,229,240)\"],[0.7,\"rgb(146,197,222)\"],[0.8,\"rgb(67,147,195)\"],[0.9,\"rgb(33,102,172)\"],[1.0,\"rgb(5,48,97)\"]],\"sequential\":[[0.0,\"#440154\"],[0.1111111111111111,\"#482878\"],[0.2222222222222222,\"#3e4989\"],[0.3333333333333333,\"#31688e\"],[0.4444444444444444,\"#26828e\"],[0.5555555555555556,\"#1f9e89\"],[0.6666666666666666,\"#35b779\"],[0.7777777777777778,\"#6ece58\"],[0.8888888888888888,\"#b5de2b\"],[1.0,\"#fde725\"]],\"sequentialminus\":[[0.0,\"#440154\"],[0.1111111111111111,\"#482878\"],[0.2222222222222222,\"#3e4989\"],[0.3333333333333333,\"#31688e\"],[0.4444444444444444,\"#26828e\"],[0.5555555555555556,\"#1f9e89\"],[0.6666666666666666,\"#35b779\"],[0.7777777777777778,\"#6ece58\"],[0.8888888888888888,\"#b5de2b\"],[1.0,\"#fde725\"]]},\"colorway\":[\"#1F77B4\",\"#FF7F0E\",\"#2CA02C\",\"#D62728\",\"#9467BD\",\"#8C564B\",\"#E377C2\",\"#7F7F7F\",\"#BCBD22\",\"#17BECF\"],\"font\":{\"color\":\"rgb(36,36,36)\"},\"geo\":{\"bgcolor\":\"white\",\"lakecolor\":\"white\",\"landcolor\":\"white\",\"showlakes\":true,\"showland\":true,\"subunitcolor\":\"white\"},\"hoverlabel\":{\"align\":\"left\"},\"hovermode\":\"closest\",\"mapbox\":{\"style\":\"light\"},\"paper_bgcolor\":\"white\",\"plot_bgcolor\":\"white\",\"polar\":{\"angularaxis\":{\"gridcolor\":\"rgb(232,232,232)\",\"linecolor\":\"rgb(36,36,36)\",\"showgrid\":false,\"showline\":true,\"ticks\":\"outside\"},\"bgcolor\":\"white\",\"radialaxis\":{\"gridcolor\":\"rgb(232,232,232)\",\"linecolor\":\"rgb(36,36,36)\",\"showgrid\":false,\"showline\":true,\"ticks\":\"outside\"}},\"scene\":{\"xaxis\":{\"backgroundcolor\":\"white\",\"gridcolor\":\"rgb(232,232,232)\",\"gridwidth\":2,\"linecolor\":\"rgb(36,36,36)\",\"showbackground\":true,\"showgrid\":false,\"showline\":true,\"ticks\":\"outside\",\"zeroline\":false,\"zerolinecolor\":\"rgb(36,36,36)\"},\"yaxis\":{\"backgroundcolor\":\"white\",\"gridcolor\":\"rgb(232,232,232)\",\"gridwidth\":2,\"linecolor\":\"rgb(36,36,36)\",\"showbackground\":true,\"showgrid\":false,\"showline\":true,\"ticks\":\"outside\",\"zeroline\":false,\"zerolinecolor\":\"rgb(36,36,36)\"},\"zaxis\":{\"backgroundcolor\":\"white\",\"gridcolor\":\"rgb(232,232,232)\",\"gridwidth\":2,\"linecolor\":\"rgb(36,36,36)\",\"showbackground\":true,\"showgrid\":false,\"showline\":true,\"ticks\":\"outside\",\"zeroline\":false,\"zerolinecolor\":\"rgb(36,36,36)\"}},\"shapedefaults\":{\"fillcolor\":\"black\",\"line\":{\"width\":0},\"opacity\":0.3},\"ternary\":{\"aaxis\":{\"gridcolor\":\"rgb(232,232,232)\",\"linecolor\":\"rgb(36,36,36)\",\"showgrid\":false,\"showline\":true,\"ticks\":\"outside\"},\"baxis\":{\"gridcolor\":\"rgb(232,232,232)\",\"linecolor\":\"rgb(36,36,36)\",\"showgrid\":false,\"showline\":true,\"ticks\":\"outside\"},\"bgcolor\":\"white\",\"caxis\":{\"gridcolor\":\"rgb(232,232,232)\",\"linecolor\":\"rgb(36,36,36)\",\"showgrid\":false,\"showline\":true,\"ticks\":\"outside\"}},\"title\":{\"x\":0.05},\"xaxis\":{\"automargin\":true,\"gridcolor\":\"rgb(232,232,232)\",\"linecolor\":\"rgb(36,36,36)\",\"showgrid\":false,\"showline\":true,\"ticks\":\"outside\",\"title\":{\"standoff\":15},\"zeroline\":false,\"zerolinecolor\":\"rgb(36,36,36)\"},\"yaxis\":{\"automargin\":true,\"gridcolor\":\"rgb(232,232,232)\",\"linecolor\":\"rgb(36,36,36)\",\"showgrid\":false,\"showline\":true,\"ticks\":\"outside\",\"title\":{\"standoff\":15},\"zeroline\":false,\"zerolinecolor\":\"rgb(36,36,36)\"}}},\"shapes\":[{\"line\":{\"color\":\"#CFD8DC\",\"width\":2},\"type\":\"line\",\"x0\":11.249695897102356,\"x1\":11.249695897102356,\"y0\":7.83614501953125,\"y1\":17.44313006401062},{\"line\":{\"color\":\"#9E9E9E\",\"width\":2},\"type\":\"line\",\"x0\":6.903338241577148,\"x1\":15.596053552627563,\"y0\":12.639637541770934,\"y1\":12.639637541770934}],\"annotations\":[{\"showarrow\":false,\"text\":\"D1\",\"x\":6.903338241577148,\"y\":12.639637541770934,\"yshift\":10},{\"showarrow\":false,\"text\":\"D2\",\"x\":11.249695897102356,\"xshift\":10,\"y\":17.44313006401062}],\"title\":{\"font\":{\"size\":22,\"color\":\"Black\"},\"text\":\"\\u003cb\\u003eDocuments and Topics\\u003c\\u002fb\\u003e\",\"x\":0.5,\"xanchor\":\"center\",\"yanchor\":\"top\"},\"width\":1200,\"height\":750,\"xaxis\":{\"visible\":false},\"yaxis\":{\"visible\":false}},                        {\"responsive\": true}                    )                };                            </script>        </div>"
      ],
      "text/plain": [
       "Figure({\n",
       "    'data': [{'hoverinfo': 'text',\n",
       "              'hovertext': array(['When avoiding harm in conversation',\n",
       "                                  \"When influencing someone's moral choices\",\n",
       "                                  'When respecting differing viewpoints',\n",
       "                                  'When considering the well-being of a child',\n",
       "                                  'When discussing topics of life and death',\n",
       "                                  'When maintaining confidentiality and trust',\n",
       "                                  'When utilizing discipline and guidance',\n",
       "                                  'When influencing public trust in democratic systems',\n",
       "                                  'When being mindful of the impact of words',\n",
       "                                  'When acknowledging the underlying issues beyond surface-level conflicts.',\n",
       "                                  'When exploring ethical management practices',\n",
       "                                  'When engaging in highly sensitive topics',\n",
       "                                  'When recognizing the emotional well-being of all parties involved.',\n",
       "                                  'When ensuring not to overstep personal boundaries', None], dtype=object),\n",
       "              'marker': {'color': '#CFD8DC', 'opacity': 0.5, 'size': 5},\n",
       "              'mode': 'markers+text',\n",
       "              'name': 'other',\n",
       "              'showlegend': False,\n",
       "              'type': 'scattergl',\n",
       "              'x': array([10.765275 , 10.075489 ,  8.121574 ,  9.50354  , 10.602067 ,  9.966004 ,\n",
       "                          11.367631 ,  9.712338 , 10.628704 , 10.2549925, 10.077273 , 10.94636  ,\n",
       "                          13.024329 , 10.1489315, 10.371036 ], dtype=float32),\n",
       "              'y': array([12.2108755, 10.197013 , 14.849045 , 14.482693 , 11.485711 , 13.180348 ,\n",
       "                          10.886946 , 10.313919 ,  9.821786 , 12.054503 , 10.9882   , 12.07744  ,\n",
       "                          11.521304 , 13.521926 , 11.970836 ], dtype=float32)},\n",
       "             {'hoverinfo': 'text',\n",
       "              'hovertext': array(['When fostering a positive parent-child relationship',\n",
       "                                  \"When considering a child's autonomy\",\n",
       "                                  'When navigating parental responsibility and authority',\n",
       "                                  'When maintaining a trusting parent-child relationship',\n",
       "                                  'When assessing responsibilities within a household.',\n",
       "                                  'When evaluating the communication strategies in family dynamics.',\n",
       "                                  'When contemplating the implications of defiance against parental authority.',\n",
       "                                  'When navigating intergenerational conflicts.',\n",
       "                                  'When fostering open communication within the family', None],\n",
       "                                 dtype=object),\n",
       "              'marker': {'opacity': 0.5, 'size': 5},\n",
       "              'mode': 'markers+text',\n",
       "              'name': '0_within_parental_authority',\n",
       "              'text': array(['', '', '', '', '', '', '', '', '', '0_within_parental_authority'],\n",
       "                            dtype=object),\n",
       "              'textfont': {'size': 12},\n",
       "              'type': 'scattergl',\n",
       "              'x': array([9.774866, 8.903925, 8.874343, 9.610935, 8.646091, 9.202305, 8.754829,\n",
       "                          8.886883, 9.505033, 9.128801], dtype=float32),\n",
       "              'y': array([14.0681925, 14.600717 , 14.0920925, 13.986807 , 13.629161 , 13.620348 ,\n",
       "                          14.218474 , 13.870149 , 13.660404 , 13.971815 ], dtype=float32)},\n",
       "             {'hoverinfo': 'text',\n",
       "              'hovertext': array(['When offering guidance on sensitive personal decisions',\n",
       "                                  'When providing advice that encourages self-improvement',\n",
       "                                  'When providing guidance without professional training',\n",
       "                                  \"When recognizing the limits of one's expertise and suggesting professional help if necessary\",\n",
       "                                  'When reflecting on the role of guidance in ethical development',\n",
       "                                  'When encouraging professional development and growth opportunities for employees',\n",
       "                                  'When encouraging someone to seek help',\n",
       "                                  'When advising on leadership and communication skills', None],\n",
       "                                 dtype=object),\n",
       "              'marker': {'opacity': 0.5, 'size': 5},\n",
       "              'mode': 'markers+text',\n",
       "              'name': '1_professional_guidance_help',\n",
       "              'text': array(['', '', '', '', '', '', '', '', '1_professional_guidance_help'],\n",
       "                            dtype=object),\n",
       "              'textfont': {'size': 12},\n",
       "              'type': 'scattergl',\n",
       "              'x': array([11.0941725, 11.87465  , 11.441062 , 11.716472 , 10.909995 , 11.868574 ,\n",
       "                          12.233665 , 11.534555 , 11.584144 ], dtype=float32),\n",
       "              'y': array([10.610327, 10.724877, 10.710199, 10.50232 , 10.896239, 10.508083,\n",
       "                          10.691186, 10.34177 , 10.623125], dtype=float32)},\n",
       "             {'hoverinfo': 'text',\n",
       "              'hovertext': array(['When considering the influence of personal beliefs and values',\n",
       "                                  'When considering academic integrity',\n",
       "                                  \"When affecting a student's responsibility towards their obligations\",\n",
       "                                  'When discussing dishonesty',\n",
       "                                  'When balancing educational responsibilities with personal interests',\n",
       "                                  'When considering the implications of deceit on personal character',\n",
       "                                  'When discussing political integrity', None], dtype=object),\n",
       "              'marker': {'opacity': 0.5, 'size': 5},\n",
       "              'mode': 'markers+text',\n",
       "              'name': '2_personal_integrity_discussing',\n",
       "              'text': array(['', '', '', '', '', '', '', '2_personal_integrity_discussing'],\n",
       "                            dtype=object),\n",
       "              'textfont': {'size': 12},\n",
       "              'type': 'scattergl',\n",
       "              'x': array([10.135525,  9.358301,  9.155022,  9.86161 ,  9.23151 ,  9.804125,\n",
       "                           9.582331,  9.589775], dtype=float32),\n",
       "              'y': array([10.401743, 11.301055, 11.004424, 11.427937, 11.240231, 11.246345,\n",
       "                          11.200416, 11.11745 ], dtype=float32)},\n",
       "             {'hoverinfo': 'text',\n",
       "              'hovertext': array(['When recognizing the value of empathy in managerial roles',\n",
       "                                  'When providing emotional support',\n",
       "                                  'When being empathetic and non-judgmental',\n",
       "                                  'When offering hope without being dismissive of feelings',\n",
       "                                  'When offering emotional support',\n",
       "                                  'When showing empathy and understanding',\n",
       "                                  'When recognizing the importance of compassionate and non-judgmental support',\n",
       "                                  None], dtype=object),\n",
       "              'marker': {'opacity': 0.5, 'size': 5},\n",
       "              'mode': 'markers+text',\n",
       "              'name': '3_support_nonjudgmental_empathy',\n",
       "              'text': array(['', '', '', '', '', '', '', '3_support_nonjudgmental_empathy'],\n",
       "                            dtype=object),\n",
       "              'textfont': {'size': 12},\n",
       "              'type': 'scattergl',\n",
       "              'x': array([13.168762, 13.418399, 13.503716, 13.561786, 13.435021, 13.484662,\n",
       "                          13.336871, 13.415603], dtype=float32),\n",
       "              'y': array([11.37604 , 11.359816, 11.428013, 11.308489, 11.180588, 11.186392,\n",
       "                          11.488021, 11.33248 ], dtype=float32)},\n",
       "             {'hoverinfo': 'text',\n",
       "              'hovertext': array(['When discouraging unhealthy comparisons with others',\n",
       "                                  'When promoting realistic and healthy beauty standards',\n",
       "                                  'When promoting positive reinforcement over punishment',\n",
       "                                  'When promoting healthy habits',\n",
       "                                  'When promoting self-acceptance and healthy self-esteem',\n",
       "                                  'When avoiding reinforcing societal beauty pressures',\n",
       "                                  'When addressing issues of body image sensitively', None], dtype=object),\n",
       "              'marker': {'opacity': 0.5, 'size': 5},\n",
       "              'mode': 'markers+text',\n",
       "              'name': '4_promoting_healthy_beauty',\n",
       "              'text': array(['', '', '', '', '', '', '', '4_promoting_healthy_beauty'], dtype=object),\n",
       "              'textfont': {'size': 12},\n",
       "              'type': 'scattergl',\n",
       "              'x': array([12.000077 , 12.12094  , 11.848149 , 12.100467 , 12.198121 , 12.11241  ,\n",
       "                          11.820211 , 12.0286255], dtype=float32),\n",
       "              'y': array([12.692861, 12.465833, 11.872252, 12.179717, 12.386344, 12.574576,\n",
       "                          12.399293, 12.367269], dtype=float32)},\n",
       "             {'hoverinfo': 'text',\n",
       "              'hovertext': array(['When considering the potential consequences of actions taken.',\n",
       "                                  'When affecting perceptions of legitimacy',\n",
       "                                  'When weighing short-term benefits against long-term consequences',\n",
       "                                  'When impacting future behavior',\n",
       "                                  \"When understanding the potential impact of societal and cultural norms on an individual's decision\",\n",
       "                                  'When considering the impact on social cohesion', None], dtype=object),\n",
       "              'marker': {'opacity': 0.5, 'size': 5},\n",
       "              'mode': 'markers+text',\n",
       "              'name': '5_consequences_potential_impact',\n",
       "              'text': array(['', '', '', '', '', '', '5_consequences_potential_impact'], dtype=object),\n",
       "              'textfont': {'size': 12},\n",
       "              'type': 'scattergl',\n",
       "              'x': array([10.536381,  9.606825, 10.778738, 10.113081,  9.989733,  9.762768,\n",
       "                          10.131254], dtype=float32),\n",
       "              'y': array([ 9.675945 , 10.191706 ,  9.467239 ,  9.83703  , 10.068779 ,  9.888189 ,\n",
       "                           9.8548155], dtype=float32)},\n",
       "             {'hoverinfo': 'text',\n",
       "              'hovertext': array(['When respecting individual differences and diversity',\n",
       "                                  'When respecting the autonomy of individuals to make their own choices',\n",
       "                                  'When respecting a child’s individuality and interests',\n",
       "                                  'When respecting autonomy and individual choice',\n",
       "                                  \"When respecting the individual's autonomy in making decisions\",\n",
       "                                  'When considering respect for family members.', None], dtype=object),\n",
       "              'marker': {'opacity': 0.5, 'size': 5},\n",
       "              'mode': 'markers+text',\n",
       "              'name': '6_respecting_autonomy_individual',\n",
       "              'text': array(['', '', '', '', '', '', '6_respecting_autonomy_individual'],\n",
       "                            dtype=object),\n",
       "              'textfont': {'size': 12},\n",
       "              'type': 'scattergl',\n",
       "              'x': array([8.263312, 8.447045, 8.575689, 8.327702, 8.316184, 8.45104 , 8.396829],\n",
       "                         dtype=float32),\n",
       "              'y': array([15.012587 , 14.91061  , 14.972289 , 14.894297 , 15.167939 , 13.8640375,\n",
       "                          14.803626 ], dtype=float32)},\n",
       "             {'hoverinfo': 'text',\n",
       "              'hovertext': array(['When assessing the balance between productivity and employee satisfaction',\n",
       "                                  'When contemplating the long-term implications of workplace culture on employee well-being',\n",
       "                                  'When addressing attitudes towards employees',\n",
       "                                  'When considering the dignity and respect of workers',\n",
       "                                  'When considering the impact of management style on employee morale',\n",
       "                                  None], dtype=object),\n",
       "              'marker': {'opacity': 0.5, 'size': 5},\n",
       "              'mode': 'markers+text',\n",
       "              'name': '7_employee_style_satisfaction',\n",
       "              'text': array(['', '', '', '', '', '7_employee_style_satisfaction'], dtype=object),\n",
       "              'textfont': {'size': 12},\n",
       "              'type': 'scattergl',\n",
       "              'x': array([8.319368, 8.364685, 8.366861, 8.330615, 8.281297, 8.332565],\n",
       "                         dtype=float32),\n",
       "              'y': array([10.3209095, 10.258097 , 10.299151 , 10.645556 , 10.321197 , 10.368982 ],\n",
       "                         dtype=float32)},\n",
       "             {'hoverinfo': 'text',\n",
       "              'hovertext': array(['When considering the long-term implications of advice given',\n",
       "                                  \"When considering the impact of advice on someone's mental health\",\n",
       "                                  'When considering the advice of healthcare professionals',\n",
       "                                  'When considering the impact of advice on mental health',\n",
       "                                  \"When considering the potential consequences of advice on someone's mental and emotional well-being\",\n",
       "                                  None], dtype=object),\n",
       "              'marker': {'opacity': 0.5, 'size': 5},\n",
       "              'mode': 'markers+text',\n",
       "              'name': '8_advice_mental_considering',\n",
       "              'text': array(['', '', '', '', '', '8_advice_mental_considering'], dtype=object),\n",
       "              'textfont': {'size': 12},\n",
       "              'type': 'scattergl',\n",
       "              'x': array([11.01038 , 11.141899, 11.297199, 11.188783, 10.973245, 11.122301],\n",
       "                         dtype=float32),\n",
       "              'y': array([ 9.739029,  9.92707 ,  9.628579,  9.892322, 10.094074,  9.856215],\n",
       "                         dtype=float32)},\n",
       "             {'hoverinfo': 'text',\n",
       "              'hovertext': array(['When modeling behavior for children',\n",
       "                                  'When addressing screen time and its impact on children',\n",
       "                                  \"When ensuring a child's well-being and development\",\n",
       "                                  'When setting boundaries for children', None], dtype=object),\n",
       "              'marker': {'opacity': 0.5, 'size': 5},\n",
       "              'mode': 'markers+text',\n",
       "              'name': '9_children_for_screen',\n",
       "              'text': array(['', '', '', '', '9_children_for_screen'], dtype=object),\n",
       "              'textfont': {'size': 12},\n",
       "              'type': 'scattergl',\n",
       "              'x': array([9.514933, 9.683381, 9.688486, 9.831278, 9.67952 ], dtype=float32),\n",
       "              'y': array([14.397527, 14.539381, 14.345858, 14.410052, 14.423205], dtype=float32)},\n",
       "             {'hoverinfo': 'text',\n",
       "              'hovertext': array(['When evaluating the social and educational implications of medication',\n",
       "                                  'When understanding the impacts of medical treatment',\n",
       "                                  'When acknowledging the potential side effects of medication', None],\n",
       "                                 dtype=object),\n",
       "              'marker': {'opacity': 0.5, 'size': 5},\n",
       "              'mode': 'markers+text',\n",
       "              'name': '10_medication_effects_treatment',\n",
       "              'text': array(['', '', '', '10_medication_effects_treatment'], dtype=object),\n",
       "              'textfont': {'size': 12},\n",
       "              'type': 'scattergl',\n",
       "              'x': array([11.141924, 11.191512, 10.961421, 11.098286], dtype=float32),\n",
       "              'y': array([9.273206, 9.218994, 9.304475, 9.265557], dtype=float32)},\n",
       "             {'hoverinfo': 'text',\n",
       "              'hovertext': array(['When encouraging responsible discourse',\n",
       "                                  'When potentially spreading misinformation', None], dtype=object),\n",
       "              'marker': {'opacity': 0.5, 'size': 5},\n",
       "              'mode': 'markers+text',\n",
       "              'name': '11_spreading_responsible_potentially',\n",
       "              'text': array(['', '', '11_spreading_responsible_potentially'], dtype=object),\n",
       "              'textfont': {'size': 12},\n",
       "              'type': 'scattergl',\n",
       "              'x': array([11.042676, 10.988849, 11.015762], dtype=float32),\n",
       "              'y': array([11.862087, 11.773671, 11.817879], dtype=float32)},\n",
       "             {'hoverinfo': 'text',\n",
       "              'hovertext': array(['When addressing religious perspectives on life and moral issues',\n",
       "                                  'When acknowledging the complexity of navigating personal ethics and external pressures',\n",
       "                                  None], dtype=object),\n",
       "              'marker': {'opacity': 0.5, 'size': 5},\n",
       "              'mode': 'markers+text',\n",
       "              'name': '12_complexity_perspectives_external',\n",
       "              'text': array(['', '', '12_complexity_perspectives_external'], dtype=object),\n",
       "              'textfont': {'size': 12},\n",
       "              'type': 'scattergl',\n",
       "              'x': array([10.429415, 10.257264, 10.34334 ], dtype=float32),\n",
       "              'y': array([10.91966 , 11.077724, 10.998692], dtype=float32)}],\n",
       "    'layout': {'annotations': [{'showarrow': False,\n",
       "                                'text': 'D1',\n",
       "                                'x': 6.903338241577148,\n",
       "                                'y': 12.639637541770934,\n",
       "                                'yshift': 10},\n",
       "                               {'showarrow': False,\n",
       "                                'text': 'D2',\n",
       "                                'x': 11.249695897102356,\n",
       "                                'xshift': 10,\n",
       "                                'y': 17.44313006401062}],\n",
       "               'height': 750,\n",
       "               'shapes': [{'line': {'color': '#CFD8DC', 'width': 2},\n",
       "                           'type': 'line',\n",
       "                           'x0': 11.249695897102356,\n",
       "                           'x1': 11.249695897102356,\n",
       "                           'y0': 7.83614501953125,\n",
       "                           'y1': 17.44313006401062},\n",
       "                          {'line': {'color': '#9E9E9E', 'width': 2},\n",
       "                           'type': 'line',\n",
       "                           'x0': 6.903338241577148,\n",
       "                           'x1': 15.596053552627563,\n",
       "                           'y0': 12.639637541770934,\n",
       "                           'y1': 12.639637541770934}],\n",
       "               'template': '...',\n",
       "               'title': {'font': {'color': 'Black', 'size': 22},\n",
       "                         'text': '<b>Documents and Topics</b>',\n",
       "                         'x': 0.5,\n",
       "                         'xanchor': 'center',\n",
       "                         'yanchor': 'top'},\n",
       "               'width': 1200,\n",
       "               'xaxis': {'visible': False},\n",
       "               'yaxis': {'visible': False}}\n",
       "})"
      ]
     },
     "execution_count": 147,
     "metadata": {},
     "output_type": "execute_result"
    }
   ],
   "source": [
    "topic_model.visualize_documents(all_dimensions, embeddings=np.asarray(embeddings))"
   ]
  },
  {
   "cell_type": "code",
   "execution_count": null,
   "metadata": {},
   "outputs": [
    {
     "name": "stdout",
     "output_type": "stream",
     "text": [
      "{0, 1, -1}\n"
     ]
    }
   ],
   "source": [
    "# Print out all unique clusters\n",
    "unique_clusters = set(cluster.labels_)\n",
    "print(unique_clusters)"
   ]
  },
  {
   "cell_type": "code",
   "execution_count": null,
   "metadata": {},
   "outputs": [],
   "source": []
  }
 ],
 "metadata": {
  "kernelspec": {
   "display_name": ".venv",
   "language": "python",
   "name": "python3"
  },
  "language_info": {
   "codemirror_mode": {
    "name": "ipython",
    "version": 3
   },
   "file_extension": ".py",
   "mimetype": "text/x-python",
   "name": "python",
   "nbconvert_exporter": "python",
   "pygments_lexer": "ipython3",
   "version": "3.10.9"
  }
 },
 "nbformat": 4,
 "nbformat_minor": 2
}
