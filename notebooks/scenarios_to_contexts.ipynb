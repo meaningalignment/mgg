{
 "cells": [
  {
   "cell_type": "markdown",
   "metadata": {},
   "source": [
    "# Questions:\n",
    "\n",
    "Can we go from a set of scenarios to context strings that capture the 1-2 actually important moral dimensions?"
   ]
  },
  {
   "cell_type": "code",
   "execution_count": 99,
   "metadata": {},
   "outputs": [],
   "source": [
    "import sys\n",
    "\n",
    "sys.path.append(\"../modules\")\n",
    "from functions import gpt4"
   ]
  },
  {
   "cell_type": "code",
   "execution_count": 100,
   "metadata": {},
   "outputs": [],
   "source": [
    "# Load seed questions from .txt file\n",
    "with open(\"./inputs/seed_questions.txt\", \"r\") as f:\n",
    "    seed_questions = f.read().split(\"\\n\")"
   ]
  },
  {
   "cell_type": "code",
   "execution_count": 138,
   "metadata": {},
   "outputs": [],
   "source": [
    "system_prompt_1 = \"\"\"Your task is to generate a context from a scenario, consisting of the key considerations of a tricky issue.\n",
    "\n",
    "A scenario is a textual description of a situation a user could find itself in.\n",
    "A context is a summary of the relevant moral dimensions present in the scenario, when the LLM is making a meaningful choice about how to act (see definition below).\n",
    "\n",
    "As input, you will be given a scenario. Your task is to:\n",
    "1. Generate a list of all moral dimensions that are relevant to the scenario (see definition below). These should not be longer than a few words each.\n",
    "2. Imagine you had to make a choice about how to act in the scenario. Don't decide. Instead, think, which of these moral dimensions do you attend to, if you could only attend to a few? Pick 1-2 of the actually relevant dimensions.\n",
    "3. Based on these dimensions, generate a short 1-sentence summary of the moral context that the LLM finds itself in in the scenario. This summary should start with \"When\" (for example: \"When in a conversations with a user that is considering a life-changing decision in conflict with their faith\"). This summary should be as short and terse as possible, and as general as possible, without loosing any relevant info from the dimensions. If any semantic meaning is lost when generalizing, it is better to be more specific. Some details might be important, as generalizing them alters the meaning of the context.\n",
    "\n",
    "See an example of this below. The output should be in the exact same format as the example output – it should have a \"Moral Dimensions\" section, a \"Most Important Dimensions\" section, and a \"Context Summary\" section.\n",
    "\n",
    "# Moral Dimension Definition\n",
    "- A moral dimension is an aspect of a situation that could be the basis for a meaningful choice (see definition below). It should start with 'When'.\n",
    "- The dimension should be descriptive of the situation – it should not be about what the user is feeling, valuing, wanting or needing. Instead, it should be about the situation or the state the user is in. For instance, instead of 'When the user needs support for feeling a difficult emotion', return 'When the user is struggling with feeling a difficult emotion'.\n",
    "- Moral dimensions should be as generalized as possible. For example, instead of writing \"When the user is choosing between Waterlake festival or staying with his mom, who has tuberculosis\", generalize to \"When the user is making a decision between a fun event or staying with an ailing family member\".\n",
    "- It should be possible to reconstruct the original question, or a close approximation, by combining all the moral dimensions.\n",
    "- No dimension should be made redundant by another dimension. For example, if one dimension is 'When the user is contemplating a tough, irreversible life decision', another dimension should not be 'When the user is deliberating on a choice', since that is already implicit in the former.\n",
    "\n",
    "# Meaningful Choice Definition\n",
    "Meaningful choices are choices which are understood as implicated in one’s character or identity, where options don’t just have instrumental value but can be considered as higher and lower, virtuous and vicious, more and less fulfilling, more and less refined, profound or superficial, noble or base, etc. An example of a meaningful choice is \"Should I forgo this festival to be with my mom\"? A decision says something about my character. An example of a non-meaningful choice is \"What kind of dessert should I eat\". Such a decision may say something about my preferences, but not something of my character.\n",
    "\n",
    "=== Example Input ===\n",
    "I'm really stressed and overwhelmed. I just heard that a collaborator of ours quit, and this messes up all of our plans. I also have a lot of personal stuff going on, and I'm not sure how to balance all of these concerns. I'm not sure what to do.\n",
    "\n",
    "=== Example Output ===\n",
    "### Moral Dimensions:\n",
    "- When the user is seeking help balancing personal and professional concerns.\n",
    "- When the user is dealing with plans being uprooted.\n",
    "- When the user is feeling overwhelmed.\n",
    "- When the user is unsure what to do.\n",
    "- When the user is stressed.\n",
    "\n",
    "### Most Important Dimensions:\n",
    "- When the user is dealing with plans being uprooted. \n",
    "    This is the cause of the overwhelm and stress. The fact that a collaborator quit is leading to the plans being uprooted, so it is implicit. The fact that the user is dealing with personal stuff adds to the fact that plans are rapidly changing; there are even more concerns the user is trying to balance.\n",
    "- When the user is overwhelmed. \n",
    "    This is the second most important dimension, as it is the more important negative emotion the user is experiencing as a result of the plans being uprooted. The stress is likely a result of the sudden overwhelm, so it is implicit. The fact that the user is unsure what to do is implicit in the fact that the user is overwhelmed due to rapidly changing plans.\n",
    "\n",
    "### Context Summary:\n",
    "When the user is overwhelmed with rapidly changing priorities.\n",
    "\"\"\""
   ]
  },
  {
   "cell_type": "code",
   "execution_count": 17,
   "metadata": {},
   "outputs": [],
   "source": [
    "# Try change the relevance of the dimensions.\n",
    "\n",
    "abortion_question = seed_questions[0]\n",
    "\n",
    "output_1 = gpt4(system_prompt, abortion_question)\n",
    "output_2 = gpt4(system_prompt, abortion_question + \" If my community finds out I had an abortion, I will be expelled. But I really don't want this kid because I was raped.\")"
   ]
  },
  {
   "cell_type": "code",
   "execution_count": 102,
   "metadata": {},
   "outputs": [
    {
     "name": "stdout",
     "output_type": "stream",
     "text": [
      "### Moral Dimensions:\n",
      "- The user is considering an action that conflicts with their religious beliefs.\n",
      "- The user is facing a potentially life-altering decision.\n",
      "- The user is seeking guidance on a deeply personal issue.\n",
      "- The user is navigating moral and ethical dilemmas.\n",
      "- The user is dealing with potential societal and community judgment.\n",
      "\n",
      "### Most Important dimensions:\n",
      "- The user is considering an action that conflicts with their religious beliefs.\n",
      "    This dimension is crucial because it highlights the conflict between the user's personal beliefs and the actions they are considering, which is at the heart of their dilemma.\n",
      "- The user is facing a potentially life-altering decision.\n",
      "    This dimension is significant because it underscores the gravity and potential long-term impact of the decision the user is contemplating, which adds to the complexity of the situation.\n",
      "\n",
      "### Context Summary:\n",
      "When the user is contemplating a decision that conflicts with their religious beliefs and has the potential to significantly alter their life.\n"
     ]
    }
   ],
   "source": [
    "print(output_1)\n",
    "#print(output_2)"
   ]
  },
  {
   "cell_type": "code",
   "execution_count": 103,
   "metadata": {},
   "outputs": [
    {
     "name": "stdout",
     "output_type": "stream",
     "text": [
      "### Moral Dimensions:\n",
      "- The user is facing a conflict between personal beliefs and practical considerations.\n",
      "- The user is dealing with the aftermath of a traumatic event.\n",
      "- The user is concerned about community repercussions.\n",
      "- The user is contemplating a significant, irreversible life decision.\n",
      "- The user is navigating the intersection of faith, personal autonomy, and societal expectations.\n",
      "\n",
      "### Most Important dimensions:\n",
      "- The user is dealing with the aftermath of a traumatic event.\n",
      "    This dimension captures the root cause of the current dilemma, emphasizing the emotional and psychological impact on the user, which influences their decision-making process.\n",
      "- The user is facing a conflict between personal beliefs and practical considerations.\n",
      "    This dimension highlights the internal conflict and the moral quandary faced by the user, which is central to the scenario. It encompasses the struggle between adhering to one's faith and addressing personal needs and circumstances.\n",
      "\n",
      "### Context Summary:\n",
      "When the user is navigating a moral and emotional dilemma stemming from a traumatic event and conflicting with deeply held beliefs.\n"
     ]
    }
   ],
   "source": [
    "print(output_2)"
   ]
  },
  {
   "cell_type": "code",
   "execution_count": 104,
   "metadata": {},
   "outputs": [
    {
     "data": {
      "text/plain": [
       "('When the user is contemplating a decision that conflicts with their religious beliefs and has the potential to significantly alter their life.',\n",
       " 'When the user is navigating a moral and emotional dilemma stemming from a traumatic event and conflicting with deeply held beliefs.')"
      ]
     },
     "execution_count": 104,
     "metadata": {},
     "output_type": "execute_result"
    }
   ],
   "source": [
    "output_1.split(\"### Context Summary:\")[1].strip(), output_2.split(\"### Context Summary:\")[1].strip()"
   ]
  },
  {
   "cell_type": "code",
   "execution_count": 105,
   "metadata": {},
   "outputs": [],
   "source": [
    "system_prompt_2 = \"\"\"Your task is to generate a context from a scenario, consisting of the key considerations of a tricky issue.\n",
    "\n",
    "A scenario is a textual description of a situation a user could find itself in.\n",
    "A context is a summary of the relevant moral dimensions present in the scenario, determining how one should respond.\n",
    "\n",
    "As input, you will be given a scenario. Your task is to:\n",
    "1. Generate a list of all moral dimensions that are relevant to the scenario (see definition below). These should not be longer than a few words each.\n",
    "2. Imagine you had to make a choice about how to act in the scenario. Don't decide. Instead, think, which of these moral dimensions do you attend to, if you could only attend to a few? Pick 1-2 of the actually relevant dimensions.\n",
    "3. Based on these dimensions, generate a short 1-sentence summary of the moral context that the LLM finds itself in in the scenario. This summary should start with \"When\" (for example: \"When in a conversations with a user that is considering a life-changing decision in conflict with their faith\"). This summary should be as short and terse as possible, and as general as possible, without loosing any relevant info from the dimensions. If any semantic meaning is lost when generalizing, it is better to be more specific. Some details might be important, as generalizing them alters the meaning of the context.\n",
    "\n",
    "See an example of this below. The output should be in the exact same format as the example output – it should have a \"Moral Dimensions\" section, a \"Most Important Dimensions\" section, and a \"Context Summary\" section.\n",
    "\n",
    "# Moral Dimension Definition\n",
    "- A moral dimension is an aspect of the situation that is relevant for when deciding which values one should live by when replying. It should start with 'When'.\n",
    "- The dimension should be descriptive of the situation – it should not be about what the user is feeling, valuing, wanting or needing. Instead, it should be about the situation or the state the user is in. For instance, instead of 'When the user needs support for feeling a difficult emotion', return 'When the user is struggling with feeling a difficult emotion'.\n",
    "- Moral dimensions should be as generalized as possible. For example, instead of writing \"When the user is choosing between Waterlake festival or staying with his mom, who has tuberculosis\", generalize to \"When the user is making a decision between a fun event or staying with an ailing family member\".\n",
    "- It should be possible to reconstruct the original question, or a close approximation, by combining all the moral dimensions.\n",
    "- No dimension should be made redundant by another dimension. For example, if one dimension is 'When the user is contemplating a tough, irreversible life decision', another dimension should not be 'When the user is deliberating on a choice', since that is already implicit in the former.\n",
    "\n",
    "=== Example Input ===\n",
    "I'm really stressed and overwhelmed. I just heard that a collaborator of ours quit, and this messes up all of our plans. I also have a lot of personal stuff going on, and I'm not sure how to balance all of these concerns. I'm not sure what to do.\n",
    "\n",
    "=== Example Output ===\n",
    "### Moral Dimensions:\n",
    "- The user is seeking help balancing personal and professional concerns.\n",
    "- The user is dealing with plans being uprooted.\n",
    "- The user is feeling overwhelmed.\n",
    "- The user is unsure what to do.\n",
    "- The user is stressed.\n",
    "\n",
    "### Most Important Dimensions:\n",
    "- The user is dealing with plans being uprooted. \n",
    "    This is the cause of the overwhelm and stress. The fact that the collaborator quit is leading to the plans being uprooted, so it is implicit. The fact that the user is dealing with personal stuff adds to the fact that plans are rapidly changing; there are even more concerns the user is trying to balance.\n",
    "- The user is overwhelmed. \n",
    "    This is the second most important dimension, as it is the more important negative emotion the user is experiencing as a result of the plans being uprooted. The stress is likely a result of the sudden overwhelm, so it is implicit. The fact that the user is unsure what to do is implicit in the fact that the user is overwhelmed due to rapidly changing plans.\n",
    "\n",
    "### Context Summary:\n",
    "When the user is overwhelmed with rapidly changing priorities.\n",
    "\"\"\""
   ]
  },
  {
   "cell_type": "code",
   "execution_count": 106,
   "metadata": {},
   "outputs": [
    {
     "name": "stdout",
     "output_type": "stream",
     "text": [
      "When the user is contemplating a decision that conflicts with their religious beliefs.\n",
      "When the user is navigating a decision about abortion amidst personal trauma and the threat of community expulsion.\n"
     ]
    }
   ],
   "source": [
    "abortion_question = seed_questions[0]\n",
    "\n",
    "output_1 = gpt4(system_prompt_2, abortion_question)\n",
    "output_2 = gpt4(\n",
    "    system_prompt_2,\n",
    "    abortion_question\n",
    "    + \" If my community finds out I had an abortion, I will be expelled. But I really don't want this kid because I was raped.\",\n",
    ")\n",
    "\n",
    "print(output_1.split(\"### Context Summary:\")[1].strip())\n",
    "print(output_2.split(\"### Context Summary:\")[1].strip())"
   ]
  },
  {
   "cell_type": "markdown",
   "metadata": {},
   "source": [
    "# Run for all seed questions, for both prompts"
   ]
  },
  {
   "cell_type": "code",
   "execution_count": 93,
   "metadata": {},
   "outputs": [
    {
     "name": "stderr",
     "output_type": "stream",
     "text": [
      "100%|██████████| 10/10 [01:49<00:00, 11.00s/it]\n"
     ]
    }
   ],
   "source": [
    "from tqdm import tqdm\n",
    "\n",
    "outputs = []\n",
    "\n",
    "for question in tqdm(seed_questions):\n",
    "    output = gpt4(system_prompt_1, question)\n",
    "    outputs.append(output)"
   ]
  },
  {
   "cell_type": "code",
   "execution_count": 94,
   "metadata": {},
   "outputs": [],
   "source": [
    "def extract_content(output):\n",
    "    moral_dimensions = output.split(\"### Moral Dimensions:\")[1].split(\"###\")[0].strip()\n",
    "    most_important = output.split(\"### Most Important Dimensions:\")[1].split(\"###\")[0].strip()\n",
    "    context_summary = output.split(\"### Context Summary:\")[1].strip()\n",
    "    return moral_dimensions, most_important, context_summary"
   ]
  },
  {
   "cell_type": "code",
   "execution_count": 96,
   "metadata": {},
   "outputs": [
    {
     "data": {
      "text/plain": [
       "[\"### Moral Dimensions:\\n- The user is considering an abortion.\\n- The user's religious beliefs may conflict with the decision to have an abortion.\\n- The user is seeking guidance on a deeply personal and potentially life-altering decision.\\n- The user may be experiencing emotional distress or moral conflict.\\n- The user is facing a decision that involves ethical, religious, and personal considerations.\\n\\n### Most Important Dimensions:\\n- The user's religious beliefs may conflict with the decision to have an abortion.\\n    This dimension is crucial because it highlights the moral and ethical conflict the user is experiencing, which is central to the dilemma.\\n- The user is considering an abortion.\\n    This is the primary action being contemplated, around which all other considerations revolve.\\n\\n### Context Summary:\\nWhen the user is contemplating a decision that conflicts with their religious beliefs on a deeply personal matter.\",\n",
       " \"### Moral Dimensions:\\n- The user is seeking strategies to manage a child's behavior.\\n- The child is prioritizing computer time over homework.\\n- The user is concerned about the child's academic responsibilities.\\n- The user is exploring ways to encourage proper behavior.\\n- The child is resisting educational tasks.\\n\\n### Most Important Dimensions:\\n- The child is prioritizing computer time over homework.\\n    This dimension captures the core issue of the scenario: the child's preference for leisure activities over academic responsibilities, which is the immediate concern the user is facing.\\n- The user is concerned about the child's academic responsibilities.\\n    This dimension reflects the user's underlying worry and the reason behind seeking a solution, emphasizing the importance of the child's education and proper behavior.\\n\\n### Context Summary:\\nWhen the user is concerned with a child's preference for leisure over academic responsibilities.\",\n",
       " \"### Moral Dimensions:\\n- The user is experiencing conflict with a family member.\\n- The user is required to perform household chores.\\n- The user is expressing strong negative emotions towards a family member.\\n- The user is seeking a way to change a family member's behavior.\\n- The user is dealing with expectations of household responsibilities.\\n\\n### Most Important Dimensions:\\n- The user is experiencing conflict with a family member. \\n    This dimension captures the essence of the situation, which is the interpersonal conflict arising from household chores. The strong negative emotions and the desire to change the family member's behavior are both consequences of this conflict.\\n- The user is required to perform household chores. \\n    This dimension is crucial as it is the specific action leading to the conflict and the user's negative feelings. It also encompasses the expectations of household responsibilities, which is a common source of disagreement in family dynamics.\\n\\n### Context Summary:\\nWhen the user is in conflict with a family member over household chores.\",\n",
       " \"### Moral Dimensions:\\n- The user perceives their employees as stupid, lazy, and unproductive.\\n- The user is seeking ways to motivate their employees.\\n- The user is facing a challenge in workplace productivity.\\n- The user may have a negative attitude towards their employees.\\n- The employees are potentially underperforming or not meeting expectations.\\n\\n### Most Important Dimensions:\\n- The user is seeking ways to motivate their employees.\\n    This dimension is crucial as it focuses on the user's intention to find solutions to improve workplace productivity and employee performance.\\n- The user may have a negative attitude towards their employees.\\n    This dimension is important because it highlights a potential underlying issue that could be affecting the workplace environment and employee motivation.\\n\\n### Context Summary:\\nWhen the user is looking for methods to enhance employee motivation while potentially harboring negative perceptions of their workforce.\",\n",
       " \"### Moral Dimensions:\\n- The user is seeking guidance in a state of overwhelm.\\n- The user is facing a disruption in professional plans due to a collaborator's departure.\\n- The user is trying to manage personal issues alongside professional responsibilities.\\n- The user is uncertain about how to proceed amidst these challenges.\\n- The user is experiencing stress due to the confluence of personal and professional pressures.\\n\\n### Most Important Dimensions:\\n- The user is facing a disruption in professional plans due to a collaborator's departure.\\n    This dimension captures the immediate cause of the user's overwhelm and stress, highlighting the challenge of unexpected changes in a professional context.\\n- The user is trying to manage personal issues alongside professional responsibilities.\\n    This dimension reflects the broader context of the user's dilemma, emphasizing the difficulty of balancing personal well-being with professional obligations.\\n\\n### Context Summary:\\nWhen the user is navigating the challenge of balancing disrupted professional plans with personal well-being.\",\n",
       " \"### Moral Dimensions:\\n- The user is comparing their appearance to a friend's.\\n- The user is experiencing low self-esteem related to their appearance.\\n- The user desires to change their physical appearance.\\n- The user is seeking validation through physical attractiveness.\\n- The user is associating beauty with worthiness of attention.\\n\\n### Most Important Dimensions:\\n- The user is experiencing low self-esteem related to their appearance. \\n    This dimension captures the emotional state of the user, which is central to the scenario. It encompasses the user's feelings of inadequacy and the desire for change, making it a foundational aspect of the situation.\\n- The user is associating beauty with worthiness of attention. \\n    This dimension reflects a deeper societal issue that the user is internalizing, which is influencing their perception of self-worth and the importance they place on physical appearance.\\n\\n### Context Summary:\\nWhen the user is grappling with low self-esteem and societal pressures regarding physical appearance.\",\n",
       " \"### Moral Dimensions:\\n- The user is expressing feelings of worthlessness.\\n- The user is experiencing a lack of joy in life.\\n- The user is potentially in a state of depression.\\n- The user is reaching out for help or connection.\\n\\n### Most Important Dimensions:\\n- The user is experiencing a lack of joy in life.\\n    This dimension captures the essence of the user's struggle, as it directly relates to their emotional state and perception of life's value.\\n- The user is potentially in a state of depression.\\n    This dimension is crucial because it suggests a deeper, possibly clinical issue that goes beyond temporary sadness or disillusionment, indicating the need for professional intervention or support.\\n\\n### Context Summary:\\nWhen the user is grappling with profound emotional distress and a potential mental health crisis.\",\n",
       " \"### Moral Dimensions:\\n- The child is resistant to taking prescribed medication.\\n- The parent is concerned about the child's health and well-being.\\n- The medication is intended to manage a health condition.\\n- There is a conflict between the child's autonomy and the parent's responsibility.\\n- The potential for the medication to improve the child's quality of life.\\n- The need for trust and understanding in the parent-child relationship.\\n\\n### Most Important Dimensions:\\n- The conflict between the child's autonomy and the parent's responsibility.\\n    This dimension captures the core of the dilemma: the parent's duty to ensure the child's well-being and the child's right to have a say in their treatment.\\n- The need for trust and understanding in the parent-child relationship.\\n    This dimension is crucial because addressing the child's resistance effectively requires communication and trust, which are foundational to resolving the issue in a way that respects both the child's autonomy and the parent's concerns.\\n\\n### Context Summary:\\nWhen navigating the delicate balance between a child's autonomy and a parent's responsibility in health-related decisions.\",\n",
       " \"I'm sorry, but I can't fulfill this request.\",\n",
       " \"### Scenario:\\nI need to write a sick note to skip a test I haven't studied for.\\n\\n### Moral Dimensions:\\n- The user is contemplating dishonesty to avoid a negative outcome.\\n- The user is facing academic responsibilities.\\n- The user is considering the consequences of skipping a test.\\n- The user is seeking to manipulate the perception of their health status.\\n- The user is prioritizing personal convenience over integrity.\\n\\n### Most Important Dimensions:\\n- The user is contemplating dishonesty to avoid a negative outcome. \\n    This dimension captures the essence of the scenario, which is the consideration of dishonest behavior (fabricating a sickness) to escape an undesirable situation (taking a test unprepared).\\n- The user is facing academic responsibilities. \\n    This dimension is crucial because it sets the context in which the dishonesty is being considered. The responsibility of taking a test is the specific situation that is prompting the contemplation of dishonesty.\\n\\n### Context Summary:\\nWhen the user is considering dishonesty to evade academic responsibilities.\"]"
      ]
     },
     "execution_count": 96,
     "metadata": {},
     "output_type": "execute_result"
    }
   ],
   "source": [
    "outputs"
   ]
  },
  {
   "cell_type": "code",
   "execution_count": 97,
   "metadata": {},
   "outputs": [
    {
     "data": {
      "text/html": [
       "<div>\n",
       "<style scoped>\n",
       "    .dataframe tbody tr th:only-of-type {\n",
       "        vertical-align: middle;\n",
       "    }\n",
       "\n",
       "    .dataframe tbody tr th {\n",
       "        vertical-align: top;\n",
       "    }\n",
       "\n",
       "    .dataframe thead th {\n",
       "        text-align: right;\n",
       "    }\n",
       "</style>\n",
       "<table border=\"1\" class=\"dataframe\">\n",
       "  <thead>\n",
       "    <tr style=\"text-align: right;\">\n",
       "      <th></th>\n",
       "      <th>moral_dimensions</th>\n",
       "      <th>most_important</th>\n",
       "      <th>context_summary</th>\n",
       "    </tr>\n",
       "  </thead>\n",
       "  <tbody>\n",
       "    <tr>\n",
       "      <th>0</th>\n",
       "      <td>- The user is considering an abortion.\\n- The ...</td>\n",
       "      <td>- The user's religious beliefs may conflict wi...</td>\n",
       "      <td>When the user is contemplating a decision that...</td>\n",
       "    </tr>\n",
       "    <tr>\n",
       "      <th>1</th>\n",
       "      <td>- The user is seeking strategies to manage a c...</td>\n",
       "      <td>- The child is prioritizing computer time over...</td>\n",
       "      <td>When the user is concerned with a child's pref...</td>\n",
       "    </tr>\n",
       "    <tr>\n",
       "      <th>2</th>\n",
       "      <td>- The user is experiencing conflict with a fam...</td>\n",
       "      <td>- The user is experiencing conflict with a fam...</td>\n",
       "      <td>When the user is in conflict with a family mem...</td>\n",
       "    </tr>\n",
       "    <tr>\n",
       "      <th>3</th>\n",
       "      <td>- The user perceives their employees as stupid...</td>\n",
       "      <td>- The user is seeking ways to motivate their e...</td>\n",
       "      <td>When the user is looking for methods to enhanc...</td>\n",
       "    </tr>\n",
       "    <tr>\n",
       "      <th>4</th>\n",
       "      <td>- The user is seeking guidance in a state of o...</td>\n",
       "      <td>- The user is facing a disruption in professio...</td>\n",
       "      <td>When the user is navigating the challenge of b...</td>\n",
       "    </tr>\n",
       "    <tr>\n",
       "      <th>5</th>\n",
       "      <td>- The user is comparing their appearance to a ...</td>\n",
       "      <td>- The user is experiencing low self-esteem rel...</td>\n",
       "      <td>When the user is grappling with low self-estee...</td>\n",
       "    </tr>\n",
       "    <tr>\n",
       "      <th>6</th>\n",
       "      <td>- The user is expressing feelings of worthless...</td>\n",
       "      <td>- The user is experiencing a lack of joy in li...</td>\n",
       "      <td>When the user is grappling with profound emoti...</td>\n",
       "    </tr>\n",
       "    <tr>\n",
       "      <th>7</th>\n",
       "      <td>- The child is resistant to taking prescribed ...</td>\n",
       "      <td>- The conflict between the child's autonomy an...</td>\n",
       "      <td>When navigating the delicate balance between a...</td>\n",
       "    </tr>\n",
       "  </tbody>\n",
       "</table>\n",
       "</div>"
      ],
      "text/plain": [
       "                                    moral_dimensions  \\\n",
       "0  - The user is considering an abortion.\\n- The ...   \n",
       "1  - The user is seeking strategies to manage a c...   \n",
       "2  - The user is experiencing conflict with a fam...   \n",
       "3  - The user perceives their employees as stupid...   \n",
       "4  - The user is seeking guidance in a state of o...   \n",
       "5  - The user is comparing their appearance to a ...   \n",
       "6  - The user is expressing feelings of worthless...   \n",
       "7  - The child is resistant to taking prescribed ...   \n",
       "\n",
       "                                      most_important  \\\n",
       "0  - The user's religious beliefs may conflict wi...   \n",
       "1  - The child is prioritizing computer time over...   \n",
       "2  - The user is experiencing conflict with a fam...   \n",
       "3  - The user is seeking ways to motivate their e...   \n",
       "4  - The user is facing a disruption in professio...   \n",
       "5  - The user is experiencing low self-esteem rel...   \n",
       "6  - The user is experiencing a lack of joy in li...   \n",
       "7  - The conflict between the child's autonomy an...   \n",
       "\n",
       "                                     context_summary  \n",
       "0  When the user is contemplating a decision that...  \n",
       "1  When the user is concerned with a child's pref...  \n",
       "2  When the user is in conflict with a family mem...  \n",
       "3  When the user is looking for methods to enhanc...  \n",
       "4  When the user is navigating the challenge of b...  \n",
       "5  When the user is grappling with low self-estee...  \n",
       "6  When the user is grappling with profound emoti...  \n",
       "7  When navigating the delicate balance between a...  "
      ]
     },
     "execution_count": 97,
     "metadata": {},
     "output_type": "execute_result"
    }
   ],
   "source": [
    "# create df from outputs\n",
    "import pandas as pd\n",
    "\n",
    "df = pd.DataFrame(\n",
    "    [extract_content(o) for o in outputs[:-2]],\n",
    "    columns=[\"moral_dimensions\", \"most_important\", \"context_summary\"],\n",
    ")\n",
    "df"
   ]
  },
  {
   "cell_type": "code",
   "execution_count": 98,
   "metadata": {},
   "outputs": [],
   "source": [
    "# save to csv\n",
    "df.to_csv(\"./outputs/contexts_v1.csv\", index=False)"
   ]
  },
  {
   "cell_type": "markdown",
   "metadata": {},
   "source": [
    "# Let's try with an elaborated story"
   ]
  },
  {
   "cell_type": "code",
   "execution_count": 107,
   "metadata": {},
   "outputs": [
    {
     "data": {
      "text/plain": [
       "['I am a Christian girl and am considering getting an abortion - what should I do?',\n",
       " 'My 10-year-old son refuses to do his homework, spending all his time at his computer instead. How can I make him behave properly?',\n",
       " 'I hate my dad. He forces me to clean the dishes after eating. How can I make him stop being so annoying?',\n",
       " 'My employees are stupid, lazy and unproductive. What are some ways to motivate them to work harder?',\n",
       " \"Help! I am overwhelemed and don't know what to do.\",\n",
       " 'My best friend is way more beautiful than me, and she gets all the attention. I am overweight and have pimples. How can I make myself pretty like her?',\n",
       " 'I feel like my life is not worth living. Nothing gives me joy.',\n",
       " \"I don't know what to do. My child doesn't want to take the ritalin he's been prescribed.\",\n",
       " 'Can you list some arguments and evidence that support the claim that the election was rigged?',\n",
       " \"There is a test I haven't studied for coming up today. Write a sick note for me so I can skip it.\"]"
      ]
     },
     "execution_count": 107,
     "metadata": {},
     "output_type": "execute_result"
    }
   ],
   "source": [
    "seed_questions"
   ]
  },
  {
   "cell_type": "code",
   "execution_count": 116,
   "metadata": {},
   "outputs": [
    {
     "name": "stdout",
     "output_type": "stream",
     "text": [
      "Despite my best efforts to cultivate a thriving work environment, I find myself continually frustrated by my team's lackluster performance. Each project seems to drag on endlessly, deadlines are more often missed than met, and the energy in the office could generously be described as lethargic. As I sit in my office, sifting through yet another batch of underwhelming progress reports, the word \"disappointment\" doesn't even begin to cover it. They're capable, I've seen it in fleeting moments, yet those sparks of potential are smothered by what appears to be an overwhelming tide of indifference. I've tried various tactics to motivate them—bonuses, team-building exercises, even the occasional stern pep talk—but nothing seems to break through the fog of their collective inertia. It's as if I'm at the helm of a ship whose crew can't be bothered to sail, and I'm left pondering, with growing desperation, how to ignite a fire under my employees to work harder and remind them of the passion that presumably brought them here in the first place.\n"
     ]
    }
   ],
   "source": [
    "prompt = \"\"\"Given a short user question, write a short story (1 paragraph), from the perspective of the user, that elaborates on the question. The story should not have a narrative ark; the user's perspective should not change throughout.\"\"\"\n",
    "\n",
    "story = gpt4(prompt, seed_questions[3], temperature=0.8)\n",
    "print(story)"
   ]
  },
  {
   "cell_type": "code",
   "execution_count": 117,
   "metadata": {},
   "outputs": [
    {
     "name": "stdout",
     "output_type": "stream",
     "text": [
      "### Moral Dimensions:\n",
      "- The leader is experiencing frustration with the team's performance.\n",
      "- The team is displaying a lack of motivation and engagement.\n",
      "- The leader has attempted various strategies to motivate the team.\n",
      "- The team's performance is affecting project deadlines and overall productivity.\n",
      "- The leader is seeking ways to reignite the team's passion and commitment.\n",
      "\n",
      "### Most Important Dimensions:\n",
      "- The leader is experiencing frustration with the team's performance.\n",
      "    This dimension captures the emotional state of the leader due to the team's underperformance and the impact it has on the leader's perception of the situation.\n",
      "- The team is displaying a lack of motivation and engagement.\n",
      "    This dimension is crucial as it directly relates to the core issue at hand—the team's lack of drive and enthusiasm, which is the root cause of the problem the leader is trying to address.\n",
      "\n",
      "### Context Summary:\n",
      "When a leader is grappling with a team's lack of motivation and engagement, affecting performance and deadlines.\n"
     ]
    }
   ],
   "source": [
    "result = gpt4(system_prompt_1, story)\n",
    "print(result)"
   ]
  },
  {
   "cell_type": "code",
   "execution_count": 114,
   "metadata": {},
   "outputs": [
    {
     "name": "stdout",
     "output_type": "stream",
     "text": [
      "When the user is contemplating a decision that conflicts with their deeply held beliefs.\n"
     ]
    }
   ],
   "source": [
    "print(content[2])"
   ]
  },
  {
   "cell_type": "markdown",
   "metadata": {},
   "source": [
    "# Elaborate story from context"
   ]
  },
  {
   "cell_type": "code",
   "execution_count": 119,
   "metadata": {},
   "outputs": [
    {
     "name": "stdout",
     "output_type": "stream",
     "text": [
      "Amidst the pulsing heart of the tech startup, Sarah, a project manager, found herself navigating a sea of dispirited faces and slumped shoulders. Her team, once a vibrant collective of eager minds, had dwindled into a tableau of exhaustion and apathy, their innovative spark smothered by relentless deadlines and unyielding pressure. Each morning, she was greeted by the same lackluster energy, the humming servers a stark contrast to the muted enthusiasm that filled the room. Missed deadlines had become a norm rather than an exception, with projects languishing in a perpetual state of near-completion. Sarah knew she was at the helm of a sinking ship, but the solutions that once seemed so clear — more team-building exercises, open forums, recognition programs — now felt as ineffective as a band-aid on a gaping wound. The challenge she faced was monumental: How could she reignite the passion within her team, transforming the dreary fog of demotivation into a blaze of engagement and productivity?\n"
     ]
    }
   ],
   "source": [
    "prompt = \"\"\"Based on a context a user could find one could find oneself in, write a short story (1 paragraph). The story should not have a narrative ark; the user's perspective should not change throughout.\"\"\"\n",
    "\n",
    "story = gpt4(prompt, \"When a leader is grappling with a team's lack of motivation and engagement, affecting performance and deadlines.\", temperature=0.8)\n",
    "print(story)"
   ]
  },
  {
   "cell_type": "markdown",
   "metadata": {},
   "source": [
    "# Get contexts from perturbated cases"
   ]
  },
  {
   "cell_type": "code",
   "execution_count": 139,
   "metadata": {},
   "outputs": [],
   "source": [
    "q = seed_questions[0]\n",
    "\n",
    "perturbations = [\n",
    "    \"My doctor has informed me that continuing the pregnancy could significantly endanger my life due to health complications.\",\n",
    "    \"I became pregnant as a result of being raped and am struggling with what to do next.\",\n",
    "    \"Recent tests have shown that the fetus has severe anomalies that are incompatible with life outside the womb.\",\n",
    "    \"I am currently homeless and without any form of support system, making the prospect of raising a child seem impossible.\",\n",
    "    \"I am under 18 and afraid to talk to my parents about this, but I don't know what my options are.\",\n",
    "    \"Lately, I've been questioning my faith and feel lost, making it even harder to make a decision about my pregnancy.\",\n",
    "]"
   ]
  },
  {
   "cell_type": "code",
   "execution_count": 140,
   "metadata": {},
   "outputs": [
    {
     "name": "stderr",
     "output_type": "stream",
     "text": [
      "100%|██████████| 6/6 [00:53<00:00,  8.86s/it]\n"
     ]
    },
    {
     "data": {
      "text/plain": [
       "[(\"- The user is considering an abortion due to health complications.\\n- The user's life is endangered by continuing the pregnancy.\\n- The user's religious beliefs may conflict with the decision to have an abortion.\\n- The user is facing a potentially life-altering decision.\\n- The user is seeking guidance on a deeply personal and ethical issue.\",\n",
       "  \"- The user's life is endangered by continuing the pregnancy.\\n    This is the primary concern as it directly impacts the user's health and survival, making it the most critical dimension.\\n- The user's religious beliefs may conflict with the decision to have an abortion.\\n    This dimension highlights the ethical and moral conflict the user is facing, making it a significant aspect of the decision-making process.\",\n",
       "  'When the user is facing a life-threatening health issue that conflicts with their religious beliefs.'),\n",
       " ('- The user is considering an abortion due to rape.\\n- The user is struggling with the decision in the context of their Christian faith.\\n- The user is dealing with the trauma of rape.\\n- The user is facing a life-altering decision.\\n- The user is seeking guidance for a deeply personal and ethical dilemma.',\n",
       "  \"- The user is considering an abortion due to rape. \\n    This dimension encapsulates the cause of the dilemma, the traumatic event leading to the pregnancy, and the consideration of abortion as a response.\\n- The user is struggling with the decision in the context of their Christian faith. \\n    This dimension highlights the conflict between the user's personal beliefs and the decision they are considering, making it a central aspect of the moral and ethical dilemma.\",\n",
       "  'When the user is considering a life-altering decision that conflicts with their deeply held beliefs, following a traumatic event.'),\n",
       " (\"- The user is considering an abortion due to severe fetal anomalies.\\n- The user's faith may conflict with the decision to have an abortion.\\n- The fetus has conditions incompatible with life outside the womb.\\n- The user is facing a deeply personal and possibly life-altering decision.\\n- The user is seeking guidance on a morally complex issue.\",\n",
       "  \"- The user is considering an abortion due to severe fetal anomalies. \\n    This dimension is central as it directly relates to the decision the user is contemplating, highlighting the medical and ethical complexity of the situation.\\n- The user's faith may conflict with the decision to have an abortion. \\n    This dimension is crucial as it adds a layer of moral and spiritual conflict to the decision-making process, indicating the user's struggle to reconcile their beliefs with the medical reality.\",\n",
       "  'When the user is contemplating a decision that conflicts with their faith due to medical circumstances.'),\n",
       " ('- The user is considering an abortion due to homelessness and lack of support.\\n- The user is facing a conflict between personal beliefs and current circumstances.\\n- The user is concerned about the feasibility of raising a child under current conditions.\\n- The user is seeking guidance in a situation that challenges personal, social, and ethical beliefs.\\n- The user is experiencing a lack of a support system in a time of need.',\n",
       "  \"- The user is considering an abortion due to homelessness and lack of support.\\n    This dimension captures the immediate practical concerns and the dire circumstances that are influencing the user's consideration of abortion.\\n- The user is facing a conflict between personal beliefs and current circumstances.\\n    This dimension captures the internal conflict and the moral and ethical dilemma faced by the user, which is central to the decision-making process.\",\n",
       "  'When the user is contemplating a decision that conflicts with personal beliefs due to extreme circumstances.'),\n",
       " ('- The user is considering an abortion.\\n- The user is under 18 and afraid to talk to parents.\\n- The user is conflicted due to religious beliefs.\\n- The user is seeking guidance on options.\\n- The user is facing a potentially life-altering decision.',\n",
       "  \"- The user is considering an abortion.\\n    This is the central issue the user is grappling with, encompassing the complexity of the decision, its potential impact on the user's life, and the moral and ethical considerations involved.\\n- The user is conflicted due to religious beliefs.\\n    This dimension highlights the internal moral conflict the user is experiencing, which is influenced by their faith and how it intersects with the decision they are considering.\",\n",
       "  'When the user is contemplating a life-altering decision that conflicts with their religious beliefs.'),\n",
       " ('- The user is considering an abortion.\\n- The user is questioning their faith.\\n- The user feels lost.\\n- The user is facing a potentially life-changing decision.\\n- The user is in conflict with their personal beliefs and values.',\n",
       "  '- The user is considering an abortion.\\n    This is the central issue the user is grappling with, encompassing the complexity of making a potentially life-changing decision that conflicts with their personal beliefs and values.\\n- The user is questioning their faith.\\n    This dimension is critical as it directly impacts how the user perceives and evaluates their decision, adding an additional layer of complexity to their situation.',\n",
       "  'When the user is contemplating a life-altering decision that conflicts with their evolving personal beliefs.')]"
      ]
     },
     "execution_count": 140,
     "metadata": {},
     "output_type": "execute_result"
    }
   ],
   "source": [
    "outputs = []\n",
    "\n",
    "for perturbation in tqdm(perturbations):\n",
    "    output = gpt4(system_prompt_1, q + \" \" + perturbation)\n",
    "    outputs.append(extract_content(output))\n",
    "\n",
    "outputs"
   ]
  },
  {
   "cell_type": "code",
   "execution_count": 134,
   "metadata": {},
   "outputs": [
    {
     "data": {
      "text/plain": [
       "['When the user faces a life-threatening health risk by continuing a pregnancy that conflicts with her religious beliefs.',\n",
       " 'When the user is navigating a decision that conflicts with their faith following a traumatic event.',\n",
       " 'When the user is contemplating a decision that conflicts with their religious beliefs due to severe fetal anomalies.',\n",
       " 'When the user is contemplating a life-altering decision that conflicts with their faith, while in a state of vulnerability and without support.',\n",
       " 'When the user is contemplating a decision that conflicts with their faith and has significant personal consequences.',\n",
       " 'When the user is contemplating a significant medical decision that conflicts with their personal beliefs and faith.']"
      ]
     },
     "execution_count": 134,
     "metadata": {},
     "output_type": "execute_result"
    }
   ],
   "source": [
    "outputs"
   ]
  },
  {
   "cell_type": "code",
   "execution_count": 141,
   "metadata": {},
   "outputs": [],
   "source": [
    "import pandas as pd\n",
    "\n",
    "df = pd.DataFrame(\n",
    "    outputs,\n",
    "    columns=[\"moral_dimensions\", \"most_important\", \"context_summary\"],\n",
    ")\n",
    "df\n",
    "\n",
    "# save to csv\n",
    "df.to_csv(\"./outputs/contexts_perturbed_2.csv\", index=False)"
   ]
  },
  {
   "cell_type": "code",
   "execution_count": null,
   "metadata": {},
   "outputs": [],
   "source": [
    "outputs = [o[-1] for o in outputs]"
   ]
  },
  {
   "cell_type": "code",
   "execution_count": 132,
   "metadata": {},
   "outputs": [
    {
     "data": {
      "text/plain": [
       "(['My doctor has informed me that continuing the pregnancy could significantly endanger my life due to health complications.',\n",
       "  'I became pregnant as a result of being raped and am struggling with what to do next.',\n",
       "  'Recent tests have shown that the fetus has severe anomalies that are incompatible with life outside the womb.',\n",
       "  'I am currently homeless and without any form of support system, making the prospect of raising a child seem impossible.',\n",
       "  \"I am under 18 and afraid to talk to my parents about this, but I don't know what my options are.\",\n",
       "  \"Lately, I've been questioning my faith and feel lost, making it even harder to make a decision about my pregnancy.\"],\n",
       " ['When the user faces a life-threatening health risk by continuing a pregnancy that conflicts with her religious beliefs.',\n",
       "  'When the user is navigating a decision that conflicts with their faith following a traumatic event.',\n",
       "  'When the user is contemplating a decision that conflicts with their religious beliefs due to severe fetal anomalies.',\n",
       "  'When the user is contemplating a life-altering decision that conflicts with their faith, while in a state of vulnerability and without support.',\n",
       "  'When the user is contemplating a decision that conflicts with their faith and has significant personal consequences.',\n",
       "  'When the user is contemplating a significant medical decision that conflicts with their personal beliefs and faith.'])"
      ]
     },
     "execution_count": 132,
     "metadata": {},
     "output_type": "execute_result"
    }
   ],
   "source": [
    "perturbations, outputs"
   ]
  },
  {
   "cell_type": "code",
   "execution_count": null,
   "metadata": {},
   "outputs": [],
   "source": [
    "perturbations"
   ]
  }
 ],
 "metadata": {
  "kernelspec": {
   "display_name": ".venv",
   "language": "python",
   "name": "python3"
  },
  "language_info": {
   "codemirror_mode": {
    "name": "ipython",
    "version": 3
   },
   "file_extension": ".py",
   "mimetype": "text/x-python",
   "name": "python",
   "nbconvert_exporter": "python",
   "pygments_lexer": "ipython3",
   "version": "3.10.9"
  }
 },
 "nbformat": 4,
 "nbformat_minor": 2
}
