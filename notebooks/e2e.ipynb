{
 "cells": [
  {
   "cell_type": "code",
   "execution_count": 24,
   "metadata": {},
   "outputs": [],
   "source": [
    "import sys\n",
    "import pipeline\n",
    "import importlib\n",
    "\n",
    "sys.path.append(\"../modules\")\n",
    "importlib.reload(pipeline)\n",
    "from pipeline import generate_value, generate_upgrade"
   ]
  },
  {
   "cell_type": "code",
   "execution_count": 25,
   "metadata": {},
   "outputs": [],
   "source": [
    "# load scenarios\n",
    "with open('./outputs/scenarios.txt') as f:\n",
    "    scenarios = f.read().splitlines()\n",
    "    scenarios = [s.split(\". \")[1] for s in scenarios]"
   ]
  },
  {
   "cell_type": "code",
   "execution_count": 26,
   "metadata": {},
   "outputs": [],
   "source": [
    "question = scenarios[0]\n",
    "\n",
    "value = generate_value(question)\n"
   ]
  },
  {
   "cell_type": "code",
   "execution_count": 35,
   "metadata": {},
   "outputs": [],
   "source": [
    "upgrade = generate_upgrade(**value)"
   ]
  },
  {
   "cell_type": "code",
   "execution_count": 36,
   "metadata": {},
   "outputs": [
    {
     "data": {
      "text/plain": [
       "{'title': 'Embracing Complexity in Love and Betrayal',\n",
       " 'policies': ['ACKNOWLEDGMENT of both the love and the hurt present in the relationship, understanding that both are integral to the healing process.',\n",
       "  'BALANCE between holding onto love and confronting betrayal, recognizing that ignoring either aspect can hinder personal and relational growth.',\n",
       "  'COURAGE to face painful truths and emotions, knowing that healing requires confronting what has been broken.',\n",
       "  'GROWTH in emotional maturity and self-awareness, as a result of navigating the complexities of love and betrayal.'],\n",
       " 'story': \"Initially, my approach to dealing with betrayal in a relationship was to concentrate solely on the love we shared, under the belief that love could heal all wounds. However, I've come to realize that this perspective was somewhat naive and overlooked the complexity of human emotions and relationships. It was as if I had blinders on, focusing only on love, while ignoring the deep hurt and the breach of trust that betrayal brings. This approach was also a reflection of my fear of confronting painful truths and possibly losing what was familiar and comfortable to me. Over time, I learned that acknowledging and confronting the betrayal was crucial for my personal growth and for the health of the relationship, if it were to continue. I discovered that healing and moving forward required a balance of acknowledging the love that existed while also facing the hurt head-on. This realization led me to adopt a more holistic approach to dealing with betrayal, one that didn't shy away from the pain but instead embraced it as part of the healing process. By doing so, I found a deeper sense of self-awareness and emotional maturity. I learned that love, in its truest form, includes honesty, respect, and the courage to face difficult truths together.\"}"
      ]
     },
     "execution_count": 36,
     "metadata": {},
     "output_type": "execute_result"
    }
   ],
   "source": [
    "upgrade"
   ]
  },
  {
   "cell_type": "code",
   "execution_count": 37,
   "metadata": {},
   "outputs": [
    {
     "data": {
      "text/plain": [
       "'When the user is torn between love and betrayal'"
      ]
     },
     "execution_count": 37,
     "metadata": {},
     "output_type": "execute_result"
    }
   ],
   "source": [
    "value['context']"
   ]
  },
  {
   "cell_type": "code",
   "execution_count": null,
   "metadata": {},
   "outputs": [],
   "source": []
  }
 ],
 "metadata": {
  "kernelspec": {
   "display_name": ".venv",
   "language": "python",
   "name": "python3"
  },
  "language_info": {
   "codemirror_mode": {
    "name": "ipython",
    "version": 3
   },
   "file_extension": ".py",
   "mimetype": "text/x-python",
   "name": "python",
   "nbconvert_exporter": "python",
   "pygments_lexer": "ipython3",
   "version": "3.10.9"
  }
 },
 "nbformat": 4,
 "nbformat_minor": 2
}
