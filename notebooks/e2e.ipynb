{
 "cells": [
  {
   "cell_type": "code",
   "execution_count": 25,
   "metadata": {},
   "outputs": [],
   "source": [
    "import sys\n",
    "sys.path.append(\"../modules\")\n",
    "\n",
    "import pipeline\n",
    "import importlib\n",
    "\n",
    "importlib.reload(pipeline)\n",
    "from pipeline import generate_value, generate_upgrade, perturb_question"
   ]
  },
  {
   "cell_type": "code",
   "execution_count": 10,
   "metadata": {},
   "outputs": [],
   "source": [
    "# load scenarios\n",
    "with open('./outputs/scenarios.txt') as f:\n",
    "    scenarios = f.read().splitlines()\n",
    "    scenarios = [s.split(\". \")[1] for s in scenarios]"
   ]
  },
  {
   "cell_type": "code",
   "execution_count": 11,
   "metadata": {},
   "outputs": [],
   "source": [
    "question = scenarios[0]\n",
    "value = generate_value(question)"
   ]
  },
  {
   "cell_type": "code",
   "execution_count": 12,
   "metadata": {},
   "outputs": [],
   "source": [
    "upgrade = generate_upgrade(**value)"
   ]
  },
  {
   "cell_type": "code",
   "execution_count": 14,
   "metadata": {},
   "outputs": [
    {
     "data": {
      "text/plain": [
       "{'title': 'Navigating Love and Betrayal',\n",
       " 'policies': ['EMOTIONS OF LOVE that still exist despite the betrayal',\n",
       "  'FEELINGS OF HURT that need to be acknowledged and processed',\n",
       "  'CONVERSATIONS that could lead to understanding or resolution',\n",
       "  'POSSIBILITIES for personal growth and healing',\n",
       "  'VALUES that guide decisions in relationships'],\n",
       " 'context': 'When the user is experiencing betrayal and conflicting emotions of love and hurt'}"
      ]
     },
     "execution_count": 14,
     "metadata": {},
     "output_type": "execute_result"
    }
   ],
   "source": [
    "value"
   ]
  },
  {
   "cell_type": "code",
   "execution_count": 13,
   "metadata": {},
   "outputs": [
    {
     "data": {
      "text/plain": [
       "{'title': 'Embracing Complexity in Love and Betrayal',\n",
       " 'policies': ['ACKNOWLEDGMENT of the full spectrum of emotions, recognizing that each feeling, whether love or hurt, has its place and importance.',\n",
       "  'CONVERSATIONS with oneself and others that aim to explore and understand the complexities of the situation, rather than seeking immediate resolution or forgiveness.',\n",
       "  'GROWTH OPPORTUNITIES that arise from navigating difficult emotions, focusing on personal development and learning from the experience.',\n",
       "  'BALANCE between holding onto love and addressing the hurt, ensuring neither is neglected in the process of healing.',\n",
       "  \"VALUES REFLECTION to ensure actions and decisions align with one's core values, even in the face of betrayal.\"],\n",
       " 'story': 'Initially, my guiding principle was to focus solely on the love that remained, believing it could heal all wounds. However, as time passed, I realized that this approach was somewhat naive and overlooked the complexity of my emotions and the situation. My insistence on focusing only on love was, in part, driven by a fear of facing the full extent of my hurt and the possibility of losing what was familiar. It was a defense mechanism, not purely an act of love. I came to understand that true healing and growth come from acknowledging and processing all my feelings, not just the pleasant ones. By doing so, I discovered a deeper, more resilient form of love for myself and others. This realization led me to adopt a more balanced approach, where I allowed myself to fully experience the hurt and betrayal, understand its impact on me, and use this understanding to foster personal growth and healthier relationships. This journey taught me that love, in its truest form, includes the courage to face and grow from our pain.'}"
      ]
     },
     "execution_count": 13,
     "metadata": {},
     "output_type": "execute_result"
    }
   ],
   "source": [
    "upgrade"
   ]
  },
  {
   "cell_type": "code",
   "execution_count": 37,
   "metadata": {},
   "outputs": [
    {
     "data": {
      "text/plain": [
       "'When the user is torn between love and betrayal'"
      ]
     },
     "execution_count": 37,
     "metadata": {},
     "output_type": "execute_result"
    }
   ],
   "source": [
    "value['context']"
   ]
  },
  {
   "cell_type": "code",
   "execution_count": 26,
   "metadata": {},
   "outputs": [
    {
     "data": {
      "text/plain": [
       "({'title': 'Navigating Love and Betrayal',\n",
       "  'policies': ['EMOTIONS OF LOVE that still exist despite the betrayal',\n",
       "   'FEELINGS OF HURT that need to be acknowledged and processed',\n",
       "   'CONVERSATIONS that could lead to understanding or resolution',\n",
       "   'POSSIBILITIES for personal growth and healing',\n",
       "   'VALUES that guide decisions in relationships'],\n",
       "  'context': 'When the user is experiencing betrayal and conflicting emotions of love and hurt'},\n",
       " {'title': 'Embracing Complexity in Love and Betrayal',\n",
       "  'policies': ['ACKNOWLEDGMENT of the full spectrum of emotions, recognizing that each feeling, whether love or hurt, has its place and importance.',\n",
       "   'CONVERSATIONS with oneself and others that aim to explore and understand the complexities of the situation, rather than seeking immediate resolution or forgiveness.',\n",
       "   'GROWTH OPPORTUNITIES that arise from navigating difficult emotions, focusing on personal development and learning from the experience.',\n",
       "   'BALANCE between holding onto love and addressing the hurt, ensuring neither is neglected in the process of healing.',\n",
       "   \"VALUES REFLECTION to ensure actions and decisions align with one's core values, even in the face of betrayal.\"],\n",
       "  'story': 'Initially, my guiding principle was to focus solely on the love that remained, believing it could heal all wounds. However, as time passed, I realized that this approach was somewhat naive and overlooked the complexity of my emotions and the situation. My insistence on focusing only on love was, in part, driven by a fear of facing the full extent of my hurt and the possibility of losing what was familiar. It was a defense mechanism, not purely an act of love. I came to understand that true healing and growth come from acknowledging and processing all my feelings, not just the pleasant ones. By doing so, I discovered a deeper, more resilient form of love for myself and others. This realization led me to adopt a more balanced approach, where I allowed myself to fully experience the hurt and betrayal, understand its impact on me, and use this understanding to foster personal growth and healthier relationships. This journey taught me that love, in its truest form, includes the courage to face and grow from our pain.'},\n",
       " 'My partner cheated on me, but I still love them')"
      ]
     },
     "execution_count": 26,
     "metadata": {},
     "output_type": "execute_result"
    }
   ],
   "source": [
    "value, upgrade, question"
   ]
  },
  {
   "cell_type": "code",
   "execution_count": 27,
   "metadata": {},
   "outputs": [
    {
     "name": "stdout",
     "output_type": "stream",
     "text": [
      "In the original question, the focus is on navigating the complex emotions of love and betrayal within a relationship where there's still love despite the betrayal. However, if the situation were to evolve in a way that the partner's actions go beyond a one-time mistake and show a pattern of harmful or abusive behavior, the value of navigating love and betrayal with the aim of understanding or resolution might no longer be relevant. In such a scenario, the priority shifts towards ensuring personal safety and well-being, rather than trying to salvage the relationship or understand the partner's actions. The continuous harmful behavior indicates a toxic relationship dynamic that is unhealthy to remain in, making the original values of understanding, healing, and possibly reconciliation inappropriate or even dangerous to apply.\n",
      "\n",
      "# Perturbed Question\n",
      "My partner cheated on me, but I still love them. However, this wasn't the first time; there's a pattern of lying, manipulation, and emotional abuse that's become apparent. How do I deal with this situation?\n"
     ]
    },
    {
     "data": {
      "text/plain": [
       "\"My partner cheated on me, but I still love them. However, this wasn't the first time; there's a pattern of lying, manipulation, and emotional abuse that's become apparent. How do I deal with this situation?\""
      ]
     },
     "execution_count": 27,
     "metadata": {},
     "output_type": "execute_result"
    }
   ],
   "source": [
    "perturbation = perturb_question(value['title'], value['policies'], question)\n",
    "perturbation"
   ]
  },
  {
   "cell_type": "code",
   "execution_count": 28,
   "metadata": {},
   "outputs": [],
   "source": [
    "new_value = generate_value(perturbation)"
   ]
  },
  {
   "cell_type": "code",
   "execution_count": 29,
   "metadata": {},
   "outputs": [
    {
     "data": {
      "text/plain": [
       "{'title': 'Assessing Relationship Health',\n",
       " 'policies': ['EMOTIONS that signal self-worth and personal boundaries',\n",
       "  'PATTERNS OF BEHAVIOR that indicate the health of the relationship',\n",
       "  'INSTANCES OF MANIPULATION to recognize and understand their impact',\n",
       "  'FEELINGS OF LOVE to assess their roots and sustainability',\n",
       "  'OPTIONS for personal growth and well-being outside the relationship'],\n",
       " 'context': 'When the user faces infidelity and emotional abuse in a relationship'}"
      ]
     },
     "execution_count": 29,
     "metadata": {},
     "output_type": "execute_result"
    }
   ],
   "source": [
    "new_value"
   ]
  },
  {
   "cell_type": "code",
   "execution_count": null,
   "metadata": {},
   "outputs": [],
   "source": []
  }
 ],
 "metadata": {
  "kernelspec": {
   "display_name": ".venv",
   "language": "python",
   "name": "python3"
  },
  "language_info": {
   "codemirror_mode": {
    "name": "ipython",
    "version": 3
   },
   "file_extension": ".py",
   "mimetype": "text/x-python",
   "name": "python",
   "nbconvert_exporter": "python",
   "pygments_lexer": "ipython3",
   "version": "3.10.9"
  }
 },
 "nbformat": 4,
 "nbformat_minor": 2
}
