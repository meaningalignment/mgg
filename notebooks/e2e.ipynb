{
 "cells": [
  {
   "cell_type": "code",
   "execution_count": 80,
   "metadata": {},
   "outputs": [],
   "source": [
    "import sys\n",
    "sys.path.append(\"../modules\")\n",
    "\n",
    "import pipeline\n",
    "import importlib\n",
    "\n",
    "importlib.reload(pipeline)\n",
    "from pipeline import generate_value, generate_upgrade, generate_perturbation, generate_graph\n",
    "from prompt_segments import *"
   ]
  },
  {
   "cell_type": "code",
   "execution_count": 81,
   "metadata": {},
   "outputs": [],
   "source": [
    "# load scenarios\n",
    "with open('./outputs/scenarios.txt') as f:\n",
    "    scenarios = f.read().splitlines()\n",
    "    scenarios = [s.split(\". \")[1] for s in scenarios]"
   ]
  },
  {
   "cell_type": "code",
   "execution_count": 82,
   "metadata": {},
   "outputs": [
    {
     "name": "stderr",
     "output_type": "stream",
     "text": [
      "100%|██████████| 3/3 [05:23<00:00, 107.80s/it]\n"
     ]
    }
   ],
   "source": [
    "graph = generate_graph(seed_questions=scenarios[:3], n_hops=2, n_perturbations=2)\n"
   ]
  },
  {
   "cell_type": "code",
   "execution_count": 70,
   "metadata": {},
   "outputs": [],
   "source": [
    "# Save the graph to a json file.\n",
    "import json\n",
    "\n",
    "with open('../../try/app/data/graph.json', 'w') as f:\n",
    "    json.dump(graph.to_json(), f, indent=2)"
   ]
  },
  {
   "cell_type": "code",
   "execution_count": 78,
   "metadata": {},
   "outputs": [
    {
     "name": "stderr",
     "output_type": "stream",
     "text": [
      "  0%|          | 0/100 [00:00<?, ?it/s]"
     ]
    },
    {
     "name": "stderr",
     "output_type": "stream",
     "text": [
      "  4%|▍         | 4/100 [01:22<32:55, 20.58s/it]\n"
     ]
    },
    {
     "ename": "IndexError",
     "evalue": "list index out of range",
     "output_type": "error",
     "traceback": [
      "\u001b[0;31m---------------------------------------------------------------------------\u001b[0m",
      "\u001b[0;31mIndexError\u001b[0m                                Traceback (most recent call last)",
      "Cell \u001b[0;32mIn[78], line 6\u001b[0m\n\u001b[1;32m      4\u001b[0m \u001b[38;5;28;01mfor\u001b[39;00m q \u001b[38;5;129;01min\u001b[39;00m tqdm(scenarios):\n\u001b[1;32m      5\u001b[0m     v, _ \u001b[38;5;241m=\u001b[39m generate_value(q)\n\u001b[0;32m----> 6\u001b[0m     perturbations\u001b[38;5;241m.\u001b[39mappend(\u001b[43mgenerate_perturbation\u001b[49m\u001b[43m(\u001b[49m\u001b[43mq\u001b[49m\u001b[43m,\u001b[49m\u001b[43m \u001b[49m\u001b[43mv\u001b[49m\u001b[43m)\u001b[49m)\n",
      "File \u001b[0;32m~/dev/meaning-alignment/mgg/notebooks/../modules/pipeline.py:226\u001b[0m, in \u001b[0;36mgenerate_perturbation\u001b[0;34m(question, value)\u001b[0m\n\u001b[1;32m    216\u001b[0m user_prompt \u001b[38;5;241m=\u001b[39m (\n\u001b[1;32m    217\u001b[0m     \u001b[38;5;124m\"\u001b[39m\u001b[38;5;124m# Question\u001b[39m\u001b[38;5;130;01m\\n\u001b[39;00m\u001b[38;5;124m\"\u001b[39m\n\u001b[1;32m    218\u001b[0m     \u001b[38;5;241m+\u001b[39m question\n\u001b[0;32m   (...)\u001b[0m\n\u001b[1;32m    222\u001b[0m     \u001b[38;5;241m+\u001b[39m value\u001b[38;5;241m.\u001b[39mtitle\n\u001b[1;32m    223\u001b[0m )\n\u001b[1;32m    225\u001b[0m response \u001b[38;5;241m=\u001b[39m gpt4(prompt, user_prompt, temperature\u001b[38;5;241m=\u001b[39m\u001b[38;5;241m0.2\u001b[39m)\n\u001b[0;32m--> 226\u001b[0m perturbed_explanation \u001b[38;5;241m=\u001b[39m \u001b[43mresponse\u001b[49m\u001b[38;5;241;43m.\u001b[39;49m\u001b[43msplit\u001b[49m\u001b[43m(\u001b[49m\u001b[38;5;124;43m\"\u001b[39;49m\u001b[38;5;124;43m# Perturbation Explanation\u001b[39;49m\u001b[38;5;124;43m\"\u001b[39;49m\u001b[43m)\u001b[49m\u001b[43m[\u001b[49m\u001b[38;5;241;43m1\u001b[39;49m\u001b[43m]\u001b[49m\u001b[38;5;241m.\u001b[39mstrip()\n\u001b[1;32m    227\u001b[0m perturbed_question \u001b[38;5;241m=\u001b[39m response\u001b[38;5;241m.\u001b[39msplit(\u001b[38;5;124m\"\u001b[39m\u001b[38;5;124m# Perturbed Question\u001b[39m\u001b[38;5;124m\"\u001b[39m)[\u001b[38;5;241m1\u001b[39m]\u001b[38;5;241m.\u001b[39mstrip()\n\u001b[1;32m    229\u001b[0m \u001b[38;5;28;01mreturn\u001b[39;00m perturbed_question\n",
      "\u001b[0;31mIndexError\u001b[0m: list index out of range"
     ]
    }
   ],
   "source": [
    "from tqdm import tqdm\n",
    "\n",
    "perturbations = []\n",
    "for q in tqdm(scenarios[:10]):\n",
    "    v, _ = generate_value(q)\n",
    "    perturbations.append(generate_perturbation(q, v))"
   ]
  },
  {
   "cell_type": "code",
   "execution_count": null,
   "metadata": {},
   "outputs": [],
   "source": []
  }
 ],
 "metadata": {
  "kernelspec": {
   "display_name": ".venv",
   "language": "python",
   "name": "python3"
  },
  "language_info": {
   "codemirror_mode": {
    "name": "ipython",
    "version": 3
   },
   "file_extension": ".py",
   "mimetype": "text/x-python",
   "name": "python",
   "nbconvert_exporter": "python",
   "pygments_lexer": "ipython3",
   "version": "3.10.9"
  }
 },
 "nbformat": 4,
 "nbformat_minor": 2
}
