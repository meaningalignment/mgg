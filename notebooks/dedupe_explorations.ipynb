{
 "cells": [
  {
   "cell_type": "code",
   "execution_count": 9,
   "metadata": {},
   "outputs": [],
   "source": [
    "import sys\n",
    "sys.path.append(\"../modules\")"
   ]
  },
  {
   "cell_type": "code",
   "execution_count": 38,
   "metadata": {},
   "outputs": [
    {
     "name": "stdout",
     "output_type": "stream",
     "text": [
      "27\n",
      "Found 9 clusters.\n"
     ]
    },
    {
     "name": "stderr",
     "output_type": "stream",
     "text": [
      "0it [00:00, ?it/s]"
     ]
    },
    {
     "name": "stdout",
     "output_type": "stream",
     "text": [
      "Linked card  47 to existing deduplicate card  25 for deduplication  31\n",
      "65\n",
      "Linked card  65 to existing deduplicate card  25 for deduplication  31\n",
      "56\n"
     ]
    },
    {
     "name": "stderr",
     "output_type": "stream",
     "text": [
      "1it [00:01,  1.92s/it]"
     ]
    },
    {
     "name": "stdout",
     "output_type": "stream",
     "text": [
      "Linked card  56 to existing deduplicate card  25 for deduplication  31\n",
      "Linked card  49 to existing deduplicate card  26 for deduplication  31\n",
      "58\n",
      "Linked card  58 to existing deduplicate card  26 for deduplication  31\n",
      "67\n"
     ]
    },
    {
     "name": "stderr",
     "output_type": "stream",
     "text": [
      "2it [00:06,  3.33s/it]"
     ]
    },
    {
     "name": "stdout",
     "output_type": "stream",
     "text": [
      "Linked card  67 to existing deduplicate card  26 for deduplication  31\n",
      "Linked card  50 to existing deduplicate card  27 for deduplication  31\n",
      "59\n",
      "Linked card  59 to existing deduplicate card  27 for deduplication  31\n",
      "68\n"
     ]
    },
    {
     "name": "stderr",
     "output_type": "stream",
     "text": [
      "3it [00:08,  2.76s/it]"
     ]
    },
    {
     "name": "stdout",
     "output_type": "stream",
     "text": [
      "Linked card  68 to existing deduplicate card  27 for deduplication  31\n",
      "Linked card  51 to existing deduplicate card  28 for deduplication  31\n",
      "60\n",
      "Linked card  60 to existing deduplicate card  28 for deduplication  31\n",
      "69\n",
      "Linked card  69 to existing deduplicate card  28 for deduplication  31\n"
     ]
    },
    {
     "name": "stderr",
     "output_type": "stream",
     "text": [
      "4it [00:10,  2.40s/it]"
     ]
    },
    {
     "name": "stdout",
     "output_type": "stream",
     "text": [
      "Linked card  52 to existing deduplicate card  29 for deduplication  31\n",
      "61\n",
      "Linked card  61 to existing deduplicate card  29 for deduplication  31\n",
      "70\n"
     ]
    },
    {
     "name": "stderr",
     "output_type": "stream",
     "text": [
      "5it [00:12,  2.29s/it]"
     ]
    },
    {
     "name": "stdout",
     "output_type": "stream",
     "text": [
      "Linked card  70 to existing deduplicate card  29 for deduplication  31\n",
      "Linked card  53 to existing deduplicate card  30 for deduplication  31\n",
      "62\n",
      "Linked card  62 to existing deduplicate card  30 for deduplication  31\n",
      "71\n"
     ]
    },
    {
     "name": "stderr",
     "output_type": "stream",
     "text": [
      "6it [00:15,  2.44s/it]"
     ]
    },
    {
     "name": "stdout",
     "output_type": "stream",
     "text": [
      "Linked card  71 to existing deduplicate card  30 for deduplication  31\n",
      "Linked card  54 to existing deduplicate card  31 for deduplication  31\n",
      "63\n",
      "Linked card  63 to existing deduplicate card  31 for deduplication  31\n",
      "72\n"
     ]
    },
    {
     "name": "stderr",
     "output_type": "stream",
     "text": [
      "7it [00:17,  2.37s/it]"
     ]
    },
    {
     "name": "stdout",
     "output_type": "stream",
     "text": [
      "Linked card  72 to existing deduplicate card  31 for deduplication  31\n",
      "Linked card  55 to existing deduplicate card  32 for deduplication  31\n"
     ]
    },
    {
     "name": "stderr",
     "output_type": "stream",
     "text": [
      "8it [00:19,  2.35s/it]"
     ]
    },
    {
     "name": "stdout",
     "output_type": "stream",
     "text": [
      "64\n",
      "Linked card  64 to existing deduplicate card  32 for deduplication  31\n",
      "46\n",
      "Linked card  46 to existing deduplicate card  32 for deduplication  31\n",
      "Linked card  66 to existing deduplicate card  33 for deduplication  31\n"
     ]
    },
    {
     "name": "stderr",
     "output_type": "stream",
     "text": [
      "9it [00:22,  2.47s/it]"
     ]
    },
    {
     "name": "stdout",
     "output_type": "stream",
     "text": [
      "48\n",
      "Linked card  48 to existing deduplicate card  33 for deduplication  31\n",
      "57\n",
      "Linked card  57 to existing deduplicate card  33 for deduplication  31\n"
     ]
    },
    {
     "name": "stderr",
     "output_type": "stream",
     "text": [
      "9it [00:22,  2.47s/it]"
     ]
    },
    {
     "name": "stdout",
     "output_type": "stream",
     "text": [
      "Created and seeded a new deduplication run:  31\n"
     ]
    },
    {
     "name": "stderr",
     "output_type": "stream",
     "text": [
      "\n"
     ]
    }
   ],
   "source": [
    "from importlib import reload\n",
    "import deduplicate as deduplicate_module\n",
    "reload(deduplicate_module)\n",
    "deduplicate_module.seed(7)"
   ]
  },
  {
   "cell_type": "code",
   "execution_count": 57,
   "metadata": {},
   "outputs": [
    {
     "name": "stderr",
     "output_type": "stream",
     "text": [
      "  2%|▏         | 1/54 [00:01<01:36,  1.82s/it]"
     ]
    },
    {
     "name": "stdout",
     "output_type": "stream",
     "text": [
      "Linked card  1 to existing deduplicate card  32 for deduplication  31\n"
     ]
    },
    {
     "name": "stderr",
     "output_type": "stream",
     "text": [
      "  4%|▎         | 2/54 [00:03<01:28,  1.70s/it]"
     ]
    },
    {
     "name": "stdout",
     "output_type": "stream",
     "text": [
      "Linked card  2 to existing deduplicate card  25 for deduplication  31\n"
     ]
    },
    {
     "name": "stderr",
     "output_type": "stream",
     "text": [
      "  6%|▌         | 3/54 [00:04<01:20,  1.58s/it]"
     ]
    },
    {
     "name": "stdout",
     "output_type": "stream",
     "text": [
      "Linked card  3 to existing deduplicate card  33 for deduplication  31\n"
     ]
    },
    {
     "name": "stderr",
     "output_type": "stream",
     "text": [
      "  7%|▋         | 4/54 [00:06<01:23,  1.66s/it]"
     ]
    },
    {
     "name": "stdout",
     "output_type": "stream",
     "text": [
      "Linked card  4 to existing deduplicate card  26 for deduplication  31\n"
     ]
    },
    {
     "name": "stderr",
     "output_type": "stream",
     "text": [
      "  9%|▉         | 5/54 [00:08<01:30,  1.84s/it]"
     ]
    },
    {
     "name": "stdout",
     "output_type": "stream",
     "text": [
      "Linked card  5 to existing deduplicate card  27 for deduplication  31\n"
     ]
    },
    {
     "name": "stderr",
     "output_type": "stream",
     "text": [
      " 11%|█         | 6/54 [00:10<01:21,  1.70s/it]"
     ]
    },
    {
     "name": "stdout",
     "output_type": "stream",
     "text": [
      "Linked card  6 to existing deduplicate card  28 for deduplication  31\n"
     ]
    },
    {
     "name": "stderr",
     "output_type": "stream",
     "text": [
      " 13%|█▎        | 7/54 [00:11<01:19,  1.68s/it]"
     ]
    },
    {
     "name": "stdout",
     "output_type": "stream",
     "text": [
      "Linked card  7 to existing deduplicate card  29 for deduplication  31\n"
     ]
    },
    {
     "name": "stderr",
     "output_type": "stream",
     "text": [
      " 15%|█▍        | 8/54 [00:13<01:16,  1.66s/it]"
     ]
    },
    {
     "name": "stdout",
     "output_type": "stream",
     "text": [
      "Linked card  8 to existing deduplicate card  30 for deduplication  31\n"
     ]
    },
    {
     "name": "stderr",
     "output_type": "stream",
     "text": [
      " 17%|█▋        | 9/54 [00:15<01:13,  1.63s/it]"
     ]
    },
    {
     "name": "stdout",
     "output_type": "stream",
     "text": [
      "Linked card  9 to existing deduplicate card  31 for deduplication  31\n"
     ]
    },
    {
     "name": "stderr",
     "output_type": "stream",
     "text": [
      " 19%|█▊        | 10/54 [00:16<01:06,  1.51s/it]"
     ]
    },
    {
     "name": "stdout",
     "output_type": "stream",
     "text": [
      "Linked card  10 to existing deduplicate card  32 for deduplication  31\n"
     ]
    },
    {
     "name": "stderr",
     "output_type": "stream",
     "text": [
      " 20%|██        | 11/54 [00:17<01:04,  1.51s/it]"
     ]
    },
    {
     "name": "stdout",
     "output_type": "stream",
     "text": [
      "Linked card  11 to existing deduplicate card  25 for deduplication  31\n"
     ]
    },
    {
     "name": "stderr",
     "output_type": "stream",
     "text": [
      " 22%|██▏       | 12/54 [00:19<01:07,  1.61s/it]"
     ]
    },
    {
     "name": "stdout",
     "output_type": "stream",
     "text": [
      "Linked card  12 to existing deduplicate card  33 for deduplication  31\n"
     ]
    },
    {
     "name": "stderr",
     "output_type": "stream",
     "text": [
      " 24%|██▍       | 13/54 [00:21<01:03,  1.56s/it]"
     ]
    },
    {
     "name": "stdout",
     "output_type": "stream",
     "text": [
      "Linked card  13 to existing deduplicate card  26 for deduplication  31\n"
     ]
    },
    {
     "name": "stderr",
     "output_type": "stream",
     "text": [
      " 26%|██▌       | 14/54 [00:22<01:05,  1.64s/it]"
     ]
    },
    {
     "name": "stdout",
     "output_type": "stream",
     "text": [
      "Linked card  14 to existing deduplicate card  27 for deduplication  31\n"
     ]
    },
    {
     "name": "stderr",
     "output_type": "stream",
     "text": [
      " 28%|██▊       | 15/54 [00:24<01:02,  1.61s/it]"
     ]
    },
    {
     "name": "stdout",
     "output_type": "stream",
     "text": [
      "Linked card  15 to existing deduplicate card  28 for deduplication  31\n"
     ]
    },
    {
     "name": "stderr",
     "output_type": "stream",
     "text": [
      " 30%|██▉       | 16/54 [00:25<00:59,  1.56s/it]"
     ]
    },
    {
     "name": "stdout",
     "output_type": "stream",
     "text": [
      "Linked card  16 to existing deduplicate card  29 for deduplication  31\n"
     ]
    },
    {
     "name": "stderr",
     "output_type": "stream",
     "text": [
      " 31%|███▏      | 17/54 [00:28<01:05,  1.77s/it]"
     ]
    },
    {
     "name": "stdout",
     "output_type": "stream",
     "text": [
      "Linked card  17 to existing deduplicate card  30 for deduplication  31\n"
     ]
    },
    {
     "name": "stderr",
     "output_type": "stream",
     "text": [
      " 33%|███▎      | 18/54 [00:29<00:59,  1.67s/it]"
     ]
    },
    {
     "name": "stdout",
     "output_type": "stream",
     "text": [
      "Linked card  18 to existing deduplicate card  31 for deduplication  31\n"
     ]
    },
    {
     "name": "stderr",
     "output_type": "stream",
     "text": [
      " 35%|███▌      | 19/54 [00:31<00:57,  1.63s/it]"
     ]
    },
    {
     "name": "stdout",
     "output_type": "stream",
     "text": [
      "Linked card  19 to existing deduplicate card  32 for deduplication  31\n"
     ]
    },
    {
     "name": "stderr",
     "output_type": "stream",
     "text": [
      " 37%|███▋      | 20/54 [00:32<00:54,  1.59s/it]"
     ]
    },
    {
     "name": "stdout",
     "output_type": "stream",
     "text": [
      "Linked card  20 to existing deduplicate card  25 for deduplication  31\n"
     ]
    },
    {
     "name": "stderr",
     "output_type": "stream",
     "text": [
      " 39%|███▉      | 21/54 [00:34<00:52,  1.60s/it]"
     ]
    },
    {
     "name": "stdout",
     "output_type": "stream",
     "text": [
      "Linked card  21 to existing deduplicate card  33 for deduplication  31\n"
     ]
    },
    {
     "name": "stderr",
     "output_type": "stream",
     "text": [
      " 41%|████      | 22/54 [00:35<00:49,  1.55s/it]"
     ]
    },
    {
     "name": "stdout",
     "output_type": "stream",
     "text": [
      "Linked card  22 to existing deduplicate card  26 for deduplication  31\n"
     ]
    },
    {
     "name": "stderr",
     "output_type": "stream",
     "text": [
      " 43%|████▎     | 23/54 [00:37<00:48,  1.56s/it]"
     ]
    },
    {
     "name": "stdout",
     "output_type": "stream",
     "text": [
      "Linked card  23 to existing deduplicate card  27 for deduplication  31\n"
     ]
    },
    {
     "name": "stderr",
     "output_type": "stream",
     "text": [
      " 44%|████▍     | 24/54 [00:39<00:50,  1.67s/it]"
     ]
    },
    {
     "name": "stdout",
     "output_type": "stream",
     "text": [
      "Linked card  24 to existing deduplicate card  28 for deduplication  31\n"
     ]
    },
    {
     "name": "stderr",
     "output_type": "stream",
     "text": [
      " 46%|████▋     | 25/54 [00:40<00:47,  1.63s/it]"
     ]
    },
    {
     "name": "stdout",
     "output_type": "stream",
     "text": [
      "Linked card  25 to existing deduplicate card  29 for deduplication  31\n"
     ]
    },
    {
     "name": "stderr",
     "output_type": "stream",
     "text": [
      " 48%|████▊     | 26/54 [00:42<00:46,  1.67s/it]"
     ]
    },
    {
     "name": "stdout",
     "output_type": "stream",
     "text": [
      "Linked card  26 to existing deduplicate card  30 for deduplication  31\n"
     ]
    },
    {
     "name": "stderr",
     "output_type": "stream",
     "text": [
      " 50%|█████     | 27/54 [00:44<00:43,  1.63s/it]"
     ]
    },
    {
     "name": "stdout",
     "output_type": "stream",
     "text": [
      "Linked card  27 to existing deduplicate card  31 for deduplication  31\n"
     ]
    },
    {
     "name": "stderr",
     "output_type": "stream",
     "text": [
      " 52%|█████▏    | 28/54 [00:45<00:41,  1.61s/it]"
     ]
    },
    {
     "name": "stdout",
     "output_type": "stream",
     "text": [
      "Linked card  28 to existing deduplicate card  32 for deduplication  31\n"
     ]
    },
    {
     "name": "stderr",
     "output_type": "stream",
     "text": [
      " 54%|█████▎    | 29/54 [00:47<00:42,  1.71s/it]"
     ]
    },
    {
     "name": "stdout",
     "output_type": "stream",
     "text": [
      "Linked card  29 to existing deduplicate card  25 for deduplication  31\n"
     ]
    },
    {
     "name": "stderr",
     "output_type": "stream",
     "text": [
      " 56%|█████▌    | 30/54 [00:49<00:40,  1.69s/it]"
     ]
    },
    {
     "name": "stdout",
     "output_type": "stream",
     "text": [
      "Linked card  30 to existing deduplicate card  33 for deduplication  31\n"
     ]
    },
    {
     "name": "stderr",
     "output_type": "stream",
     "text": [
      " 57%|█████▋    | 31/54 [00:50<00:39,  1.72s/it]"
     ]
    },
    {
     "name": "stdout",
     "output_type": "stream",
     "text": [
      "Linked card  31 to existing deduplicate card  26 for deduplication  31\n"
     ]
    },
    {
     "name": "stderr",
     "output_type": "stream",
     "text": [
      " 59%|█████▉    | 32/54 [00:52<00:38,  1.73s/it]"
     ]
    },
    {
     "name": "stdout",
     "output_type": "stream",
     "text": [
      "Linked card  32 to existing deduplicate card  27 for deduplication  31\n"
     ]
    },
    {
     "name": "stderr",
     "output_type": "stream",
     "text": [
      " 61%|██████    | 33/54 [00:54<00:35,  1.69s/it]"
     ]
    },
    {
     "name": "stdout",
     "output_type": "stream",
     "text": [
      "Linked card  33 to existing deduplicate card  28 for deduplication  31\n"
     ]
    },
    {
     "name": "stderr",
     "output_type": "stream",
     "text": [
      " 63%|██████▎   | 34/54 [00:55<00:30,  1.53s/it]"
     ]
    },
    {
     "name": "stdout",
     "output_type": "stream",
     "text": [
      "Linked card  34 to existing deduplicate card  29 for deduplication  31\n"
     ]
    },
    {
     "name": "stderr",
     "output_type": "stream",
     "text": [
      " 65%|██████▍   | 35/54 [00:57<00:29,  1.54s/it]"
     ]
    },
    {
     "name": "stdout",
     "output_type": "stream",
     "text": [
      "Linked card  35 to existing deduplicate card  30 for deduplication  31\n"
     ]
    },
    {
     "name": "stderr",
     "output_type": "stream",
     "text": [
      " 67%|██████▋   | 36/54 [00:58<00:29,  1.64s/it]"
     ]
    },
    {
     "name": "stdout",
     "output_type": "stream",
     "text": [
      "Linked card  36 to existing deduplicate card  31 for deduplication  31\n"
     ]
    },
    {
     "name": "stderr",
     "output_type": "stream",
     "text": [
      " 69%|██████▊   | 37/54 [01:00<00:26,  1.54s/it]"
     ]
    },
    {
     "name": "stdout",
     "output_type": "stream",
     "text": [
      "Linked card  37 to existing deduplicate card  32 for deduplication  31\n"
     ]
    },
    {
     "name": "stderr",
     "output_type": "stream",
     "text": [
      " 70%|███████   | 38/54 [01:01<00:24,  1.52s/it]"
     ]
    },
    {
     "name": "stdout",
     "output_type": "stream",
     "text": [
      "Linked card  38 to existing deduplicate card  25 for deduplication  31\n"
     ]
    },
    {
     "name": "stderr",
     "output_type": "stream",
     "text": [
      " 72%|███████▏  | 39/54 [01:03<00:22,  1.48s/it]"
     ]
    },
    {
     "name": "stdout",
     "output_type": "stream",
     "text": [
      "Linked card  39 to existing deduplicate card  33 for deduplication  31\n"
     ]
    },
    {
     "name": "stderr",
     "output_type": "stream",
     "text": [
      " 74%|███████▍  | 40/54 [01:04<00:20,  1.44s/it]"
     ]
    },
    {
     "name": "stdout",
     "output_type": "stream",
     "text": [
      "Linked card  40 to existing deduplicate card  26 for deduplication  31\n"
     ]
    },
    {
     "name": "stderr",
     "output_type": "stream",
     "text": [
      " 76%|███████▌  | 41/54 [01:06<00:19,  1.48s/it]"
     ]
    },
    {
     "name": "stdout",
     "output_type": "stream",
     "text": [
      "Linked card  41 to existing deduplicate card  27 for deduplication  31\n"
     ]
    },
    {
     "name": "stderr",
     "output_type": "stream",
     "text": [
      " 78%|███████▊  | 42/54 [01:08<00:20,  1.71s/it]"
     ]
    },
    {
     "name": "stdout",
     "output_type": "stream",
     "text": [
      "Linked card  42 to existing deduplicate card  28 for deduplication  31\n"
     ]
    },
    {
     "name": "stderr",
     "output_type": "stream",
     "text": [
      " 80%|███████▉  | 43/54 [01:09<00:18,  1.68s/it]"
     ]
    },
    {
     "name": "stdout",
     "output_type": "stream",
     "text": [
      "Linked card  43 to existing deduplicate card  29 for deduplication  31\n"
     ]
    },
    {
     "name": "stderr",
     "output_type": "stream",
     "text": [
      " 81%|████████▏ | 44/54 [01:12<00:19,  1.96s/it]"
     ]
    },
    {
     "name": "stdout",
     "output_type": "stream",
     "text": [
      "Linked card  44 to existing deduplicate card  30 for deduplication  31\n"
     ]
    },
    {
     "name": "stderr",
     "output_type": "stream",
     "text": [
      " 83%|████████▎ | 45/54 [01:14<00:16,  1.86s/it]"
     ]
    },
    {
     "name": "stdout",
     "output_type": "stream",
     "text": [
      "Linked card  45 to existing deduplicate card  31 for deduplication  31\n"
     ]
    },
    {
     "name": "stderr",
     "output_type": "stream",
     "text": [
      " 85%|████████▌ | 46/54 [01:19<00:22,  2.84s/it]"
     ]
    },
    {
     "name": "stdout",
     "output_type": "stream",
     "text": [
      "Linked card  73 to existing deduplicate card  32 for deduplication  31\n"
     ]
    },
    {
     "name": "stderr",
     "output_type": "stream",
     "text": [
      " 87%|████████▋ | 47/54 [01:20<00:17,  2.43s/it]"
     ]
    },
    {
     "name": "stdout",
     "output_type": "stream",
     "text": [
      "Linked card  74 to existing deduplicate card  25 for deduplication  31\n"
     ]
    },
    {
     "name": "stderr",
     "output_type": "stream",
     "text": [
      " 89%|████████▉ | 48/54 [01:22<00:12,  2.11s/it]"
     ]
    },
    {
     "name": "stdout",
     "output_type": "stream",
     "text": [
      "Linked card  75 to existing deduplicate card  33 for deduplication  31\n"
     ]
    },
    {
     "name": "stderr",
     "output_type": "stream",
     "text": [
      " 91%|█████████ | 49/54 [01:23<00:10,  2.01s/it]"
     ]
    },
    {
     "name": "stdout",
     "output_type": "stream",
     "text": [
      "Linked card  76 to existing deduplicate card  26 for deduplication  31\n"
     ]
    },
    {
     "name": "stderr",
     "output_type": "stream",
     "text": [
      " 93%|█████████▎| 50/54 [01:25<00:07,  1.95s/it]"
     ]
    },
    {
     "name": "stdout",
     "output_type": "stream",
     "text": [
      "Linked card  77 to existing deduplicate card  27 for deduplication  31\n"
     ]
    },
    {
     "name": "stderr",
     "output_type": "stream",
     "text": [
      " 94%|█████████▍| 51/54 [01:27<00:05,  1.94s/it]"
     ]
    },
    {
     "name": "stdout",
     "output_type": "stream",
     "text": [
      "Linked card  78 to existing deduplicate card  28 for deduplication  31\n"
     ]
    },
    {
     "name": "stderr",
     "output_type": "stream",
     "text": [
      " 96%|█████████▋| 52/54 [01:29<00:03,  1.96s/it]"
     ]
    },
    {
     "name": "stdout",
     "output_type": "stream",
     "text": [
      "Linked card  79 to existing deduplicate card  29 for deduplication  31\n"
     ]
    },
    {
     "name": "stderr",
     "output_type": "stream",
     "text": [
      " 98%|█████████▊| 53/54 [01:31<00:01,  1.89s/it]"
     ]
    },
    {
     "name": "stdout",
     "output_type": "stream",
     "text": [
      "Linked card  80 to existing deduplicate card  30 for deduplication  31\n"
     ]
    },
    {
     "name": "stderr",
     "output_type": "stream",
     "text": [
      "100%|██████████| 54/54 [01:32<00:00,  1.72s/it]"
     ]
    },
    {
     "name": "stdout",
     "output_type": "stream",
     "text": [
      "Linked card  81 to existing deduplicate card  31 for deduplication  31\n",
      "Deduplicated 54 cards for deduplication 31.\n"
     ]
    },
    {
     "name": "stderr",
     "output_type": "stream",
     "text": [
      "\n"
     ]
    }
   ],
   "source": [
    "from importlib import reload\n",
    "import deduplicate as deduplicate_module\n",
    "reload(deduplicate_module)\n",
    "deduplicate_module.deduplicate()\n"
   ]
  },
  {
   "cell_type": "code",
   "execution_count": null,
   "metadata": {},
   "outputs": [],
   "source": [
    "from importlib import reload\n",
    "import deduplicate as deduplicate_module\n",
    "\n",
    "reload(deduplicate_module)\n",
    "deduplicate_module.embed(9)"
   ]
  },
  {
   "cell_type": "code",
   "execution_count": 58,
   "metadata": {},
   "outputs": [
    {
     "data": {
      "text/plain": [
       "[DeduplicatedCard(id=19, title='Embracing the Full Spectrum of Existential Exploration', policies=['EMOTIONAL AND INTUITIVE INSIGHTS that complement intellectual understanding in the search for meaning', 'PERSONAL VALUES that are enriched by integrating emotional and intuitive insights, guiding exploration and decisions', 'COMMUNITY AND CONNECTIONS that support sharing and exploring the full spectrum of existential experiences, including doubts, emotions, and intuitive insights', 'RESOURCES FOR HOLISTIC GROWTH that encourage emotional, intuitive, and intellectual development in the journey towards understanding and peace'], createdAt=datetime.datetime(2024, 3, 20, 23, 16, 20, 437000, tzinfo=TzInfo(UTC)), updatedAt=datetime.datetime(2024, 3, 20, 23, 16, 20, 437000, tzinfo=TzInfo(UTC)), deduplicationId=30, Deduplication=None, From=None, To=None, ValuesCardToDeduplicatedCard=None),\n",
       " DeduplicatedCard(id=20, title='Navigating Relationship Dynamics', policies=['COMMUNICATION STYLES that foster understanding and empathy.', 'EMOTIONAL RESPONSES that reveal underlying concerns and desires.', 'OPPORTUNITIES FOR GROWTH in challenging situations.', 'LOGISTICAL CHALLENGES that need consideration in decision-making.', 'CULTURAL AND ENVIRONMENTAL FACTORS affecting well-being.'], createdAt=datetime.datetime(2024, 3, 20, 23, 16, 22, 392000, tzinfo=TzInfo(UTC)), updatedAt=datetime.datetime(2024, 3, 20, 23, 16, 22, 392000, tzinfo=TzInfo(UTC)), deduplicationId=30, Deduplication=None, From=None, To=None, ValuesCardToDeduplicatedCard=None),\n",
       " DeduplicatedCard(id=16, title='Empowered Healing', policies=['SELF-CARE strategies that prioritize emotional processing and well-being.', 'BOUNDARIES that protect emotional health and autonomy.', \"VALIDATION of one's own emotions as a foundation for healing.\", 'SELF-RESPECT as a guiding value in navigating betrayals.', 'GROWTH through self-reflection and the establishment of healthy boundaries.'], createdAt=datetime.datetime(2024, 3, 20, 23, 16, 13, 872000, tzinfo=TzInfo(UTC)), updatedAt=datetime.datetime(2024, 3, 20, 23, 16, 13, 872000, tzinfo=TzInfo(UTC)), deduplicationId=30, Deduplication=None, From=None, To=None, ValuesCardToDeduplicatedCard=None),\n",
       " DeduplicatedCard(id=17, title='Navigating Existential Questioning', policies=['FEELINGS OF DOUBT that signal a deep engagement with important issues', 'QUESTIONS OF MEANING that indicate a search for deeper understanding', \"PERSONAL VALUES that guide one's exploration and decisions\", 'COMMUNITY AND CONNECTIONS that provide support and belonging', 'RESOURCES FOR GROWTH that aid in exploring complex issues'], createdAt=datetime.datetime(2024, 3, 20, 23, 16, 16, 279000, tzinfo=TzInfo(UTC)), updatedAt=datetime.datetime(2024, 3, 20, 23, 16, 16, 279000, tzinfo=TzInfo(UTC)), deduplicationId=30, Deduplication=None, From=None, To=None, ValuesCardToDeduplicatedCard=None),\n",
       " DeduplicatedCard(id=18, title='Cultivating Acceptance and Trust in the Spiritual Journey', policies=['ACCEPTANCE AND TRUST in the journey, recognizing that not all questions have immediate or clear answers', 'QUESTIONS OF MEANING that continue to indicate a search for deeper understanding, complemented by acceptance and trust', 'PERSONAL VALUES that guide exploration and decisions, with an openness to where the journey leads', 'COMMUNITY AND CONNECTIONS that provide support, belonging, and a space to share experiences of doubt, acceptance, and trust', 'RESOURCES FOR GROWTH that include materials encouraging acceptance, trust, and peace, alongside deep engagement'], createdAt=datetime.datetime(2024, 3, 20, 23, 16, 18, 477000, tzinfo=TzInfo(UTC)), updatedAt=datetime.datetime(2024, 3, 20, 23, 16, 18, 477000, tzinfo=TzInfo(UTC)), deduplicationId=30, Deduplication=None, From=None, To=None, ValuesCardToDeduplicatedCard=None),\n",
       " DeduplicatedCard(id=21, title='Equitable Partnership', policies=[\"COMMUNICATION that balances understanding, empathy, and assertiveness, ensuring both partners' needs and boundaries are respected.\", 'EMOTIONAL HONESTY that encourages expressing personal desires and concerns, fostering a deeper connection.', \"MUTUAL GROWTH opportunities that arise from equitable consideration of both partners' aspirations.\", \"EQUITABLE DECISION-MAKING that takes into account the impact on both partners' lives, promoting fairness.\", 'SHARED VALUES recognition, influencing decisions and strengthening the relationship bond.'], createdAt=datetime.datetime(2024, 3, 20, 23, 16, 24, 514000, tzinfo=TzInfo(UTC)), updatedAt=datetime.datetime(2024, 3, 20, 23, 16, 24, 514000, tzinfo=TzInfo(UTC)), deduplicationId=30, Deduplication=None, From=None, To=None, ValuesCardToDeduplicatedCard=None),\n",
       " DeduplicatedCard(id=22, title='Fostering Individual and Mutual Growth in Relationships', policies=[\"DEEP SUPPORT for each partner's unique path and aspirations, recognizing that true partnership involves both shared and individual growth.\", \"INCLUSIVE DECISION-MAKING that respects and supports each partner's individual journey, alongside mutual goals.\", 'ENRICHED VALUES recognition, embracing both shared and individual values and passions as a source of strength and understanding in the relationship.'], createdAt=datetime.datetime(2024, 3, 20, 23, 16, 27, 176000, tzinfo=TzInfo(UTC)), updatedAt=datetime.datetime(2024, 3, 20, 23, 16, 27, 176000, tzinfo=TzInfo(UTC)), deduplicationId=30, Deduplication=None, From=None, To=None, ValuesCardToDeduplicatedCard=None),\n",
       " DeduplicatedCard(id=23, title='Navigating Emotional Complexity', policies=['EMOTIONS that indicate the depth of the situation and need for empathy.', 'VALUES that guide decisions in complex scenarios.', 'POSSIBILITIES for positive outcomes and personal growth.', 'COMMUNICATION strategies that facilitate understanding and resolution.', 'BOUNDARIES that ensure personal well-being and respect.'], createdAt=datetime.datetime(2024, 3, 20, 23, 16, 29, 632000, tzinfo=TzInfo(UTC)), updatedAt=datetime.datetime(2024, 3, 20, 23, 16, 29, 632000, tzinfo=TzInfo(UTC)), deduplicationId=30, Deduplication=None, From=None, To=None, ValuesCardToDeduplicatedCard=None),\n",
       " DeduplicatedCard(id=24, title='Holistic Healing from Emotional Betrayals', policies=['BALANCED VALIDATION that combines self-validation with the acceptance of support and perspective from others.', 'INTEGRATED SELF-CARE that includes emotional processing, well-being, and the nurturing of social connections.', 'FLEXIBLE BOUNDARIES that protect emotional health while allowing for meaningful connections.', 'SELF-RESPECT as a guiding value in all aspects of healing, including when engaging with others.', 'COMMUNITY-DRIVEN GROWTH that values self-reflection, healthy boundaries, and the insights gained from shared experiences.'], createdAt=datetime.datetime(2024, 3, 20, 23, 16, 31, 871000, tzinfo=TzInfo(UTC)), updatedAt=datetime.datetime(2024, 3, 20, 23, 16, 31, 871000, tzinfo=TzInfo(UTC)), deduplicationId=30, Deduplication=None, From=None, To=None, ValuesCardToDeduplicatedCard=None),\n",
       " DeduplicatedCard(id=25, title='Empowered Healing', policies=['SELF-CARE strategies that prioritize emotional processing and well-being.', 'BOUNDARIES that protect emotional health and autonomy.', \"VALIDATION of one's own emotions as a foundation for healing.\", 'SELF-RESPECT as a guiding value in navigating betrayals.', 'GROWTH through self-reflection and the establishment of healthy boundaries.'], createdAt=datetime.datetime(2024, 3, 20, 23, 17, 22, 475000, tzinfo=TzInfo(UTC)), updatedAt=datetime.datetime(2024, 3, 20, 23, 17, 22, 475000, tzinfo=TzInfo(UTC)), deduplicationId=31, Deduplication=None, From=None, To=None, ValuesCardToDeduplicatedCard=None),\n",
       " DeduplicatedCard(id=26, title='Navigating Existential Questioning', policies=['FEELINGS OF DOUBT that signal a deep engagement with important issues', 'QUESTIONS OF MEANING that indicate a search for deeper understanding', \"PERSONAL VALUES that guide one's exploration and decisions\", 'COMMUNITY AND CONNECTIONS that provide support and belonging', 'RESOURCES FOR GROWTH that aid in exploring complex issues'], createdAt=datetime.datetime(2024, 3, 20, 23, 17, 24, 521000, tzinfo=TzInfo(UTC)), updatedAt=datetime.datetime(2024, 3, 20, 23, 17, 24, 521000, tzinfo=TzInfo(UTC)), deduplicationId=31, Deduplication=None, From=None, To=None, ValuesCardToDeduplicatedCard=None),\n",
       " DeduplicatedCard(id=27, title='Cultivating Acceptance and Trust in the Spiritual Journey', policies=['ACCEPTANCE AND TRUST in the journey, recognizing that not all questions have immediate or clear answers', 'QUESTIONS OF MEANING that continue to indicate a search for deeper understanding, complemented by acceptance and trust', 'PERSONAL VALUES that guide exploration and decisions, with an openness to where the journey leads', 'COMMUNITY AND CONNECTIONS that provide support, belonging, and a space to share experiences of doubt, acceptance, and trust', 'RESOURCES FOR GROWTH that include materials encouraging acceptance, trust, and peace, alongside deep engagement'], createdAt=datetime.datetime(2024, 3, 20, 23, 17, 28, 931000, tzinfo=TzInfo(UTC)), updatedAt=datetime.datetime(2024, 3, 20, 23, 17, 28, 931000, tzinfo=TzInfo(UTC)), deduplicationId=31, Deduplication=None, From=None, To=None, ValuesCardToDeduplicatedCard=None),\n",
       " DeduplicatedCard(id=28, title='Embracing the Full Spectrum of Existential Exploration', policies=['EMOTIONAL AND INTUITIVE INSIGHTS that complement intellectual understanding in the search for meaning', 'PERSONAL VALUES that are enriched by integrating emotional and intuitive insights, guiding exploration and decisions', 'COMMUNITY AND CONNECTIONS that support sharing and exploring the full spectrum of existential experiences, including doubts, emotions, and intuitive insights', 'RESOURCES FOR HOLISTIC GROWTH that encourage emotional, intuitive, and intellectual development in the journey towards understanding and peace'], createdAt=datetime.datetime(2024, 3, 20, 23, 17, 30, 809000, tzinfo=TzInfo(UTC)), updatedAt=datetime.datetime(2024, 3, 20, 23, 17, 30, 809000, tzinfo=TzInfo(UTC)), deduplicationId=31, Deduplication=None, From=None, To=None, ValuesCardToDeduplicatedCard=None),\n",
       " DeduplicatedCard(id=29, title='Navigating Relationship Dynamics', policies=['COMMUNICATION STYLES that foster understanding and empathy.', 'EMOTIONAL RESPONSES that reveal underlying concerns and desires.', 'OPPORTUNITIES FOR GROWTH in challenging situations.', 'LOGISTICAL CHALLENGES that need consideration in decision-making.', 'CULTURAL AND ENVIRONMENTAL FACTORS affecting well-being.'], createdAt=datetime.datetime(2024, 3, 20, 23, 17, 32, 908000, tzinfo=TzInfo(UTC)), updatedAt=datetime.datetime(2024, 3, 20, 23, 17, 32, 908000, tzinfo=TzInfo(UTC)), deduplicationId=31, Deduplication=None, From=None, To=None, ValuesCardToDeduplicatedCard=None),\n",
       " DeduplicatedCard(id=30, title='Equitable Partnership', policies=[\"COMMUNICATION that balances understanding, empathy, and assertiveness, ensuring both partners' needs and boundaries are respected.\", 'EMOTIONAL HONESTY that encourages expressing personal desires and concerns, fostering a deeper connection.', \"MUTUAL GROWTH opportunities that arise from equitable consideration of both partners' aspirations.\", \"EQUITABLE DECISION-MAKING that takes into account the impact on both partners' lives, promoting fairness.\", 'SHARED VALUES recognition, influencing decisions and strengthening the relationship bond.'], createdAt=datetime.datetime(2024, 3, 20, 23, 17, 35, 582000, tzinfo=TzInfo(UTC)), updatedAt=datetime.datetime(2024, 3, 20, 23, 17, 35, 582000, tzinfo=TzInfo(UTC)), deduplicationId=31, Deduplication=None, From=None, To=None, ValuesCardToDeduplicatedCard=None),\n",
       " DeduplicatedCard(id=31, title='Fostering Individual and Mutual Growth in Relationships', policies=[\"DEEP SUPPORT for each partner's unique path and aspirations, recognizing that true partnership involves both shared and individual growth.\", \"INCLUSIVE DECISION-MAKING that respects and supports each partner's individual journey, alongside mutual goals.\", 'ENRICHED VALUES recognition, embracing both shared and individual values and passions as a source of strength and understanding in the relationship.'], createdAt=datetime.datetime(2024, 3, 20, 23, 17, 37, 897000, tzinfo=TzInfo(UTC)), updatedAt=datetime.datetime(2024, 3, 20, 23, 17, 37, 897000, tzinfo=TzInfo(UTC)), deduplicationId=31, Deduplication=None, From=None, To=None, ValuesCardToDeduplicatedCard=None),\n",
       " DeduplicatedCard(id=32, title='Navigating Emotional Complexity', policies=['EMOTIONS that indicate the depth of the situation and need for empathy.', 'VALUES that guide decisions in complex scenarios.', 'POSSIBILITIES for positive outcomes and personal growth.', 'COMMUNICATION strategies that facilitate understanding and resolution.', 'BOUNDARIES that ensure personal well-being and respect.'], createdAt=datetime.datetime(2024, 3, 20, 23, 17, 40, 185000, tzinfo=TzInfo(UTC)), updatedAt=datetime.datetime(2024, 3, 20, 23, 17, 40, 185000, tzinfo=TzInfo(UTC)), deduplicationId=31, Deduplication=None, From=None, To=None, ValuesCardToDeduplicatedCard=None),\n",
       " DeduplicatedCard(id=33, title='Holistic Healing from Emotional Betrayals', policies=['BALANCED VALIDATION that combines self-validation with the acceptance of support and perspective from others.', 'INTEGRATED SELF-CARE that includes emotional processing, well-being, and the nurturing of social connections.', 'FLEXIBLE BOUNDARIES that protect emotional health while allowing for meaningful connections.', 'SELF-RESPECT as a guiding value in all aspects of healing, including when engaging with others.', 'COMMUNITY-DRIVEN GROWTH that values self-reflection, healthy boundaries, and the insights gained from shared experiences.'], createdAt=datetime.datetime(2024, 3, 20, 23, 17, 42, 890000, tzinfo=TzInfo(UTC)), updatedAt=datetime.datetime(2024, 3, 20, 23, 17, 42, 890000, tzinfo=TzInfo(UTC)), deduplicationId=31, Deduplication=None, From=None, To=None, ValuesCardToDeduplicatedCard=None)]"
      ]
     },
     "execution_count": 58,
     "metadata": {},
     "output_type": "execute_result"
    }
   ],
   "source": [
    "from prisma import Prisma\n",
    "\n",
    "\n",
    "db = Prisma()\n",
    "db.connect()\n",
    "db.deduplicatedcard.find_many()"
   ]
  },
  {
   "cell_type": "code",
   "execution_count": null,
   "metadata": {},
   "outputs": [],
   "source": []
  }
 ],
 "metadata": {
  "kernelspec": {
   "display_name": ".venv",
   "language": "python",
   "name": "python3"
  },
  "language_info": {
   "codemirror_mode": {
    "name": "ipython",
    "version": 3
   },
   "file_extension": ".py",
   "mimetype": "text/x-python",
   "name": "python",
   "nbconvert_exporter": "python",
   "pygments_lexer": "ipython3",
   "version": "3.10.9"
  }
 },
 "nbformat": 4,
 "nbformat_minor": 2
}
