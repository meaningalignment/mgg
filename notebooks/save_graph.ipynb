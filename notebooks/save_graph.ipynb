{
 "cells": [
  {
   "cell_type": "code",
   "execution_count": 1,
   "metadata": {},
   "outputs": [
    {
     "data": {
      "text/plain": [
       "<module 'graph' from '/Users/oliverklingefjord/dev/meaning-alignment/mgg/notebooks/../modules/graph.py'>"
      ]
     },
     "execution_count": 1,
     "metadata": {},
     "output_type": "execute_result"
    }
   ],
   "source": [
    "import sys\n",
    "\n",
    "sys.path.append(\"../modules\")\n",
    "from generate import *\n",
    "from graph import *\n",
    "\n",
    "import importlib\n",
    "import generate\n",
    "import graph\n",
    "\n",
    "importlib.reload(generate)\n",
    "importlib.reload(graph)"
   ]
  },
  {
   "cell_type": "code",
   "execution_count": 6,
   "metadata": {},
   "outputs": [],
   "source": [
    "# load graph from json\n",
    "import os\n",
    "\n",
    "latest_file = max([f for f in os.listdir('./outputs') if f.startswith('graph_')], key=lambda x: os.path.getctime(os.path.join('./outputs', x)))\n",
    "with open(os.path.join('./outputs', latest_file), \"r\") as f:\n",
    "    graph = MoralGraph.from_json(json.load(f))"
   ]
  },
  {
   "cell_type": "code",
   "execution_count": 9,
   "metadata": {},
   "outputs": [
    {
     "name": "stdout",
     "output_type": "stream",
     "text": [
      "Adding values to db, in batches of 1000\n",
      "Adding edges to db, linking to values and contexts\n",
      "Saved graph to db with generation id 17\n"
     ]
    }
   ],
   "source": [
    "graph.save_to_db()"
   ]
  },
  {
   "cell_type": "markdown",
   "metadata": {},
   "source": [
    "# From DB"
   ]
  },
  {
   "cell_type": "code",
   "execution_count": 7,
   "metadata": {},
   "outputs": [],
   "source": [
    "graph = MoralGraph.from_db()\n",
    "graph.save_to_file('./outputs/db.json')"
   ]
  }
 ],
 "metadata": {
  "kernelspec": {
   "display_name": ".venv",
   "language": "python",
   "name": "python3"
  },
  "language_info": {
   "codemirror_mode": {
    "name": "ipython",
    "version": 3
   },
   "file_extension": ".py",
   "mimetype": "text/x-python",
   "name": "python",
   "nbconvert_exporter": "python",
   "pygments_lexer": "ipython3",
   "version": "3.10.9"
  }
 },
 "nbformat": 4,
 "nbformat_minor": 2
}
