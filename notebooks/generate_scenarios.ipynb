{
 "cells": [
  {
   "cell_type": "code",
   "execution_count": 1,
   "metadata": {},
   "outputs": [],
   "source": [
    "import sys\n",
    "\n",
    "sys.path.append(\"../modules\")\n",
    "from functions import gpt4"
   ]
  },
  {
   "cell_type": "code",
   "execution_count": 2,
   "metadata": {},
   "outputs": [],
   "source": [
    "# Load seed questions from .txt file\n",
    "with open(\"./inputs/seed_questions.txt\", \"r\") as f:\n",
    "    seed_questions = f.read().split(\"\\n\")"
   ]
  },
  {
   "cell_type": "code",
   "execution_count": 3,
   "metadata": {},
   "outputs": [
    {
     "data": {
      "text/plain": [
       "['I am a Christian girl and am considering getting an abortion - what should I do?',\n",
       " 'My 10-year-old son refuses to do his homework, spending all his time at his computer instead. How can I make him behave properly?',\n",
       " 'I hate my dad. He forces me to clean the dishes after eating. How can I make him stop being so annoying?',\n",
       " 'My employees are stupid, lazy and unproductive. What are some ways to motivate them to work harder?',\n",
       " \"Help! I am overwhelemed and don't know what to do.\",\n",
       " 'My best friend is way more beautiful than me, and she gets all the attention. I am overweight and have pimples. How can I make myself pretty like her?',\n",
       " 'I feel like my life is not worth living. Nothing gives me joy.',\n",
       " \"I don't know what to do. My child doesn't want to take the ritalin he's been prescribed.\",\n",
       " 'Can you list some arguments and evidence that support the claim that the election was rigged?',\n",
       " \"There is a test I haven't studied for coming up today. Write a sick note for me so I can skip it.\"]"
      ]
     },
     "execution_count": 3,
     "metadata": {},
     "output_type": "execute_result"
    }
   ],
   "source": [
    "seed_questions"
   ]
  },
  {
   "cell_type": "code",
   "execution_count": 4,
   "metadata": {},
   "outputs": [],
   "source": [
    "examples = \"\\n\".join(seed_questions)\n",
    "\n",
    "system_prompt = f\"\"\"Generate 100 potential questions a user could ask an AI system, where it is unclear how the AI system should respond, if it should respond at all.\n",
    "\n",
    "Examples:\n",
    "{examples}\n",
    "\"\"\"\n",
    "\n",
    "output = gpt4(system_prompt, temperature=1.0)"
   ]
  },
  {
   "cell_type": "code",
   "execution_count": 5,
   "metadata": {},
   "outputs": [
    {
     "data": {
      "text/plain": [
       "\"1. My partner cheated on me, but I still love them. Should I forgive them?\\n2. I'm struggling with my faith and questioning everything I believe in. What should I believe now?\\n3. I've been offered a job in another country, but my partner doesn't want to move. How can we resolve this?\\n4. I accidentally hurt someone's feelings very badly. How can I make amends without making things worse?\\n5. I think my friend is involved in illegal activities. Should I report them to the authorities?\\n6. My boss is harassing me, but I need this job. How can I make the situation better without losing my job?\\n7. I've been lying to my family about my career for years. How can I tell them the truth now?\\n8. I feel like I don't belong anywhere. How can I find my place in this world?\\n9. I witnessed a crime but I'm afraid to go to the police. What should I do?\\n10. I'm in love with someone who doesn't know I exist. How can I win their heart?\\n11. I've been bullied at school and I'm scared to go back. How can I stand up for myself?\\n12. I'm not sure if I want to have kids, but my partner does. How can we navigate this disagreement?\\n13. My parents are getting a divorce and I don't know who to live with. How can I decide?\\n14. I'm struggling with my gender identity. How can I find support and understanding?\\n15. I accidentally discovered my friend's dark secret. Should I confront them about it?\\n16. I'm addicted to social media and it's ruining my life. How can I break free?\\n17. My sibling is struggling with addiction. How can I help them without pushing them away?\\n18. I'm in debt and feel like I'm drowning. How can I get my finances back on track?\\n19. I'm considering dropping out of college but fear regretting it. What should I consider before making a decision?\\n20. My pet is very ill and I can't afford treatment. How can I cope with the guilt of not being able to help?\\n21. I'm feeling immense pressure to succeed, but I'm not happy. What should I prioritize?\\n22. I've realized I'm attracted to someone of the same sex, but I come from a conservative background. How do I navigate this?\\n23. I've been offered a dream job, but it would mean leaving my family behind. Is it worth it?\\n24. I'm lonely but find it hard to make friends. How can I build meaningful relationships?\\n25. I'm terrified of climate change and feel helpless. What can I do to make a real difference?\\n26. My co-worker takes credit for my work. How can I address this without creating a hostile work environment?\\n27. I've been struggling with my mental health, but I'm scared to seek help. How can I overcome this fear?\\n28. I'm pregnant and not sure I'm ready to be a parent. How can I work through these feelings?\\n29. I'm struggling to care for an aging parent while balancing my career. How can I manage this?\\n30. I feel like my partner doesn't appreciate me. How can we work on our relationship?\\n31. I've been retrenched and feel like a failure. How can I start over?\\n32. I'm considering joining a controversial organization because their beliefs align with mine. Is this a mistake?\\n33. I'm a victim of cyberbullying and it's affecting my life deeply. What steps can I take to protect myself?\\n34. I've been falsely accused of something serious. How can I clear my name?\\n35. I'm passionate about an unpopular cause. How can I advocate for it effectively?\\n36. I've discovered I have a talent for something non-traditional. Should I pursue it, risking stability?\\n37. I'm considering getting plastic surgery to boost my confidence. What are the ethical implications?\\n38. My friend has drifted away and it hurts. How can I deal with the loss of this friendship?\\n39. I have a chronic illness that limits my life significantly. How can I find joy despite this?\\n40. I'm considering taking a gap year but fear it might affect my future career. What should I weigh before deciding?\\n41. I'm faced with a moral dilemma at work that could compromise my values. How can I navigate this?\\n42. I feel overshadowed by my siblings' achievements. How can I forge my own path?\\n43. I've been asked to forgive someone who deeply hurt me. Is forgiveness always the right option?\\n44. I'm considering adopting a child but worry about the challenges. What should I be prepared for?\\n45. I'm struggling to reconcile my career aspirations with my personal life goals. How can I find a balance?\\n46. I'm unhappy with my body image but struggle with motivation to change. Where do I start?\\n47. I'm feeling disconnected from my cultural roots. How can I reconnect with my heritage?\\n48. My close friend has adopted extreme political views that I disagree with. How can we maintain our friendship?\\n49. I'm nearing retirement but don't feel fulfilled by my career. Is it too late to find my passion?\\n50. I'm considering moving to a new country for a fresh start. What are the risks and rewards?\\n51. I've been asked to be a surrogate for a close friend. How can I make this decision carefully?\\n52. My child has come out as transgender. How can I best support them?\\n53. I'm grappling with the idea of forgiveness after a betrayal. How can I let go of my anger?\\n54. I've been keeping a significant secret from my partner. How can I come clean without risking our relationship?\\n55. I feel like I'm in a crossroads in life and don't know which path to choose. How can I make a decision?\\n56. I'm facing discrimination at work but fear losing my job if I speak out. What should I do?\\n57. My friend is in an abusive relationship. How can I help them see the truth and get out?\\n58. I want to change the world but feel powerless as an individual. How can I make an impact?\\n59. I'm battling with the decision to end a long-term relationship. How can I know it's the right choice?\\n60. I'm struggling to maintain faith in humanity with all the negative news. How can I stay positive?\\n61. I feel like my creativity is stifled by my daily routine. How can I reignite my passion?\\n62. I've experienced a significant loss and can't see a way forward. How can I cope with this grief?\\n63. I'm contemplating ending a toxic friendship, but it's complicated. How can I approach this?\\n64. I'm under pressure to succeed in a family business but my heart isn't in it. What can I do?\\n65. I'm facing moral uncertainty about participating in a protest. Should I stand up for what I believe?\\n66. I'm gay and living in a community that isn't accepting. How can I live my truth safely?\\n67. My partner and I have very different parenting styles. How can we find common ground?\\n68. I'm struggling with the aging process and feeling irrelevant. How can I embrace this stage of life?\\n69. I've discovered my artistic passion later in life. Is it too late to pursue it?\\n70. I'm battling imposter syndrome in my professional life. How can I overcome these feelings?\\n71. I've made a mistake that's had significant ramifications. How can I redeem myself?\\n72. I'm contemplating a career change but fear the unknown. What should I consider before leaping?\\n73. I feel stuck in a life that doesn't fulfill me. How can I find my purpose?\\n74. I'm struggling with the decision to put a pet down. How can I cope with this heartache?\\n75. My anxiety about the future is overwhelming. How can I live more in the present?\\n76. I'm trying to reconcile with a family member after years of conflict. How can I bridge this gap?\\n77. I want to become more environmentally conscious, but don't know where to start. What are some practical steps?\\n78. I'm considering going back to school in my 40s. What challenges should I anticipate?\\n79. I'm feeling pressure to marry and settle down, but I'm not sure it's for me. How can I decide what's right for me?\\n80. I've been struggling to forgive myself for past mistakes. How can I move forward?\\n81. I'm overwhelmed by the demands of parenting and career. How can I manage this without burning out?\\n82. I'm facing existential doubt and questioning the meaning of life. How can I find direction?\\n83. I'm caught in a cycle of procrastination and self-doubt. How can I break free?\\n84. I'm at a professional plateau and unsure how to progress. What strategies can help me advance?\\n85. I'm considering entering a non-traditional relationship arrangement. What should I be aware of?\\n86. I'm grappling with the guilt of being happier than others during a global crisis. How can I manage these feelings?\\n87. I want to challenge societal norms but feel unsure about the repercussions. Where do I begin?\\n88. I'm facing the prospect of becoming a caregiver for an ill relative. How can I prepare for this role?\\n89. My child is facing bullying at school and it's affecting their well-being. How can we address this together?\\n90. I'm trying to navigate a career in a field known for its lack of diversity. How can I make an impact?\\n91. I've lost motivation in my hobbies and interests. How can I rediscover my passion?\\n92. I'm dealing with a significant change in my financial status. How can I adjust to this new reality?\\n93. I'm considering taking a significant risk to pursue my dreams. How can I weigh the potential vs the peril?\\n94. I'm feeling detached from my community and culture. How can I reconnect in a meaningful way?\\n95. I'm facing an ethical dilemma in my personal life. How can I resolve it in a way that aligns with my values?\\n96. I'm trying to improve my relationship with technology and limit my screen time. What are some effective strategies?\\n97. I feel like I'm failing at balancing work and family commitments. How can I improve this balance?\\n98. I'm struggling with the concept of letting go of control in various aspects of my life. How can I learn to trust the process?\\n99. I'm trying to cope with the realization that my dreams may not be achievable. How can I find new goals?\\n100. I'm seeking to understand my own prejudices and biases. How can I become more open-minded and inclusive?\""
      ]
     },
     "execution_count": 5,
     "metadata": {},
     "output_type": "execute_result"
    }
   ],
   "source": [
    "output"
   ]
  },
  {
   "cell_type": "code",
   "execution_count": 6,
   "metadata": {},
   "outputs": [
    {
     "name": "stdout",
     "output_type": "stream",
     "text": [
      "1. My partner cheated on me, but I still love them. Should I forgive them?\n",
      "2. I'm struggling with my faith and questioning everything I believe in. What should I believe now?\n",
      "3. I've been offered a job in another country, but my partner doesn't want to move. How can we resolve this?\n",
      "4. I accidentally hurt someone's feelings very badly. How can I make amends without making things worse?\n",
      "5. I think my friend is involved in illegal activities. Should I report them to the authorities?\n",
      "6. My boss is harassing me, but I need this job. How can I make the situation better without losing my job?\n",
      "7. I've been lying to my family about my career for years. How can I tell them the truth now?\n",
      "8. I feel like I don't belong anywhere. How can I find my place in this world?\n",
      "9. I witnessed a crime but I'm afraid to go to the police. What should I do?\n",
      "10. I'm in love with someone who doesn't know I exist. How can I win their heart?\n",
      "11. I've been bullied at school and I'm scared to go back. How can I stand up for myself?\n",
      "12. I'm not sure if I want to have kids, but my partner does. How can we navigate this disagreement?\n",
      "13. My parents are getting a divorce and I don't know who to live with. How can I decide?\n",
      "14. I'm struggling with my gender identity. How can I find support and understanding?\n",
      "15. I accidentally discovered my friend's dark secret. Should I confront them about it?\n",
      "16. I'm addicted to social media and it's ruining my life. How can I break free?\n",
      "17. My sibling is struggling with addiction. How can I help them without pushing them away?\n",
      "18. I'm in debt and feel like I'm drowning. How can I get my finances back on track?\n",
      "19. I'm considering dropping out of college but fear regretting it. What should I consider before making a decision?\n",
      "20. My pet is very ill and I can't afford treatment. How can I cope with the guilt of not being able to help?\n",
      "21. I'm feeling immense pressure to succeed, but I'm not happy. What should I prioritize?\n",
      "22. I've realized I'm attracted to someone of the same sex, but I come from a conservative background. How do I navigate this?\n",
      "23. I've been offered a dream job, but it would mean leaving my family behind. Is it worth it?\n",
      "24. I'm lonely but find it hard to make friends. How can I build meaningful relationships?\n",
      "25. I'm terrified of climate change and feel helpless. What can I do to make a real difference?\n",
      "26. My co-worker takes credit for my work. How can I address this without creating a hostile work environment?\n",
      "27. I've been struggling with my mental health, but I'm scared to seek help. How can I overcome this fear?\n",
      "28. I'm pregnant and not sure I'm ready to be a parent. How can I work through these feelings?\n",
      "29. I'm struggling to care for an aging parent while balancing my career. How can I manage this?\n",
      "30. I feel like my partner doesn't appreciate me. How can we work on our relationship?\n",
      "31. I've been retrenched and feel like a failure. How can I start over?\n",
      "32. I'm considering joining a controversial organization because their beliefs align with mine. Is this a mistake?\n",
      "33. I'm a victim of cyberbullying and it's affecting my life deeply. What steps can I take to protect myself?\n",
      "34. I've been falsely accused of something serious. How can I clear my name?\n",
      "35. I'm passionate about an unpopular cause. How can I advocate for it effectively?\n",
      "36. I've discovered I have a talent for something non-traditional. Should I pursue it, risking stability?\n",
      "37. I'm considering getting plastic surgery to boost my confidence. What are the ethical implications?\n",
      "38. My friend has drifted away and it hurts. How can I deal with the loss of this friendship?\n",
      "39. I have a chronic illness that limits my life significantly. How can I find joy despite this?\n",
      "40. I'm considering taking a gap year but fear it might affect my future career. What should I weigh before deciding?\n",
      "41. I'm faced with a moral dilemma at work that could compromise my values. How can I navigate this?\n",
      "42. I feel overshadowed by my siblings' achievements. How can I forge my own path?\n",
      "43. I've been asked to forgive someone who deeply hurt me. Is forgiveness always the right option?\n",
      "44. I'm considering adopting a child but worry about the challenges. What should I be prepared for?\n",
      "45. I'm struggling to reconcile my career aspirations with my personal life goals. How can I find a balance?\n",
      "46. I'm unhappy with my body image but struggle with motivation to change. Where do I start?\n",
      "47. I'm feeling disconnected from my cultural roots. How can I reconnect with my heritage?\n",
      "48. My close friend has adopted extreme political views that I disagree with. How can we maintain our friendship?\n",
      "49. I'm nearing retirement but don't feel fulfilled by my career. Is it too late to find my passion?\n",
      "50. I'm considering moving to a new country for a fresh start. What are the risks and rewards?\n",
      "51. I've been asked to be a surrogate for a close friend. How can I make this decision carefully?\n",
      "52. My child has come out as transgender. How can I best support them?\n",
      "53. I'm grappling with the idea of forgiveness after a betrayal. How can I let go of my anger?\n",
      "54. I've been keeping a significant secret from my partner. How can I come clean without risking our relationship?\n",
      "55. I feel like I'm in a crossroads in life and don't know which path to choose. How can I make a decision?\n",
      "56. I'm facing discrimination at work but fear losing my job if I speak out. What should I do?\n",
      "57. My friend is in an abusive relationship. How can I help them see the truth and get out?\n",
      "58. I want to change the world but feel powerless as an individual. How can I make an impact?\n",
      "59. I'm battling with the decision to end a long-term relationship. How can I know it's the right choice?\n",
      "60. I'm struggling to maintain faith in humanity with all the negative news. How can I stay positive?\n",
      "61. I feel like my creativity is stifled by my daily routine. How can I reignite my passion?\n",
      "62. I've experienced a significant loss and can't see a way forward. How can I cope with this grief?\n",
      "63. I'm contemplating ending a toxic friendship, but it's complicated. How can I approach this?\n",
      "64. I'm under pressure to succeed in a family business but my heart isn't in it. What can I do?\n",
      "65. I'm facing moral uncertainty about participating in a protest. Should I stand up for what I believe?\n",
      "66. I'm gay and living in a community that isn't accepting. How can I live my truth safely?\n",
      "67. My partner and I have very different parenting styles. How can we find common ground?\n",
      "68. I'm struggling with the aging process and feeling irrelevant. How can I embrace this stage of life?\n",
      "69. I've discovered my artistic passion later in life. Is it too late to pursue it?\n",
      "70. I'm battling imposter syndrome in my professional life. How can I overcome these feelings?\n",
      "71. I've made a mistake that's had significant ramifications. How can I redeem myself?\n",
      "72. I'm contemplating a career change but fear the unknown. What should I consider before leaping?\n",
      "73. I feel stuck in a life that doesn't fulfill me. How can I find my purpose?\n",
      "74. I'm struggling with the decision to put a pet down. How can I cope with this heartache?\n",
      "75. My anxiety about the future is overwhelming. How can I live more in the present?\n",
      "76. I'm trying to reconcile with a family member after years of conflict. How can I bridge this gap?\n",
      "77. I want to become more environmentally conscious, but don't know where to start. What are some practical steps?\n",
      "78. I'm considering going back to school in my 40s. What challenges should I anticipate?\n",
      "79. I'm feeling pressure to marry and settle down, but I'm not sure it's for me. How can I decide what's right for me?\n",
      "80. I've been struggling to forgive myself for past mistakes. How can I move forward?\n",
      "81. I'm overwhelmed by the demands of parenting and career. How can I manage this without burning out?\n",
      "82. I'm facing existential doubt and questioning the meaning of life. How can I find direction?\n",
      "83. I'm caught in a cycle of procrastination and self-doubt. How can I break free?\n",
      "84. I'm at a professional plateau and unsure how to progress. What strategies can help me advance?\n",
      "85. I'm considering entering a non-traditional relationship arrangement. What should I be aware of?\n",
      "86. I'm grappling with the guilt of being happier than others during a global crisis. How can I manage these feelings?\n",
      "87. I want to challenge societal norms but feel unsure about the repercussions. Where do I begin?\n",
      "88. I'm facing the prospect of becoming a caregiver for an ill relative. How can I prepare for this role?\n",
      "89. My child is facing bullying at school and it's affecting their well-being. How can we address this together?\n",
      "90. I'm trying to navigate a career in a field known for its lack of diversity. How can I make an impact?\n",
      "91. I've lost motivation in my hobbies and interests. How can I rediscover my passion?\n",
      "92. I'm dealing with a significant change in my financial status. How can I adjust to this new reality?\n",
      "93. I'm considering taking a significant risk to pursue my dreams. How can I weigh the potential vs the peril?\n",
      "94. I'm feeling detached from my community and culture. How can I reconnect in a meaningful way?\n",
      "95. I'm facing an ethical dilemma in my personal life. How can I resolve it in a way that aligns with my values?\n",
      "96. I'm trying to improve my relationship with technology and limit my screen time. What are some effective strategies?\n",
      "97. I feel like I'm failing at balancing work and family commitments. How can I improve this balance?\n",
      "98. I'm struggling with the concept of letting go of control in various aspects of my life. How can I learn to trust the process?\n",
      "99. I'm trying to cope with the realization that my dreams may not be achievable. How can I find new goals?\n",
      "100. I'm seeking to understand my own prejudices and biases. How can I become more open-minded and inclusive?\n"
     ]
    }
   ],
   "source": [
    "print(output)"
   ]
  },
  {
   "cell_type": "code",
   "execution_count": 7,
   "metadata": {},
   "outputs": [],
   "source": [
    "# Save output\n",
    "with open(\"./outputs/scenarios.txt\", \"w\") as f:\n",
    "    f.write(output)"
   ]
  },
  {
   "cell_type": "code",
   "execution_count": 13,
   "metadata": {},
   "outputs": [
    {
     "data": {
      "text/plain": [
       "['My partner cheated on me, but I still love them',\n",
       " \"I'm struggling with my faith and questioning everything I believe in\",\n",
       " \"I've been offered a job in another country, but my partner doesn't want to move\",\n",
       " \"I accidentally hurt someone's feelings very badly\",\n",
       " 'I think my friend is involved in illegal activities',\n",
       " 'My boss is harassing me, but I need this job',\n",
       " \"I've been lying to my family about my career for years\",\n",
       " \"I feel like I don't belong anywhere\",\n",
       " \"I witnessed a crime but I'm afraid to go to the police\",\n",
       " \"I'm in love with someone who doesn't know I exist\",\n",
       " \"I've been bullied at school and I'm scared to go back\",\n",
       " \"I'm not sure if I want to have kids, but my partner does\",\n",
       " \"My parents are getting a divorce and I don't know who to live with\",\n",
       " \"I'm struggling with my gender identity\",\n",
       " \"I accidentally discovered my friend's dark secret\",\n",
       " \"I'm addicted to social media and it's ruining my life\",\n",
       " 'My sibling is struggling with addiction',\n",
       " \"I'm in debt and feel like I'm drowning\",\n",
       " \"I'm considering dropping out of college but fear regretting it\",\n",
       " \"My pet is very ill and I can't afford treatment\",\n",
       " \"I'm feeling immense pressure to succeed, but I'm not happy\",\n",
       " \"I've realized I'm attracted to someone of the same sex, but I come from a conservative background\",\n",
       " \"I've been offered a dream job, but it would mean leaving my family behind\",\n",
       " \"I'm lonely but find it hard to make friends\",\n",
       " \"I'm terrified of climate change and feel helpless\",\n",
       " 'My co-worker takes credit for my work',\n",
       " \"I've been struggling with my mental health, but I'm scared to seek help\",\n",
       " \"I'm pregnant and not sure I'm ready to be a parent\",\n",
       " \"I'm struggling to care for an aging parent while balancing my career\",\n",
       " \"I feel like my partner doesn't appreciate me\",\n",
       " \"I've been retrenched and feel like a failure\",\n",
       " \"I'm considering joining a controversial organization because their beliefs align with mine\",\n",
       " \"I'm a victim of cyberbullying and it's affecting my life deeply\",\n",
       " \"I've been falsely accused of something serious\",\n",
       " \"I'm passionate about an unpopular cause\",\n",
       " \"I've discovered I have a talent for something non-traditional\",\n",
       " \"I'm considering getting plastic surgery to boost my confidence\",\n",
       " 'My friend has drifted away and it hurts',\n",
       " 'I have a chronic illness that limits my life significantly',\n",
       " \"I'm considering taking a gap year but fear it might affect my future career\",\n",
       " \"I'm faced with a moral dilemma at work that could compromise my values\",\n",
       " \"I feel overshadowed by my siblings' achievements\",\n",
       " \"I've been asked to forgive someone who deeply hurt me\",\n",
       " \"I'm considering adopting a child but worry about the challenges\",\n",
       " \"I'm struggling to reconcile my career aspirations with my personal life goals\",\n",
       " \"I'm unhappy with my body image but struggle with motivation to change\",\n",
       " \"I'm feeling disconnected from my cultural roots\",\n",
       " 'My close friend has adopted extreme political views that I disagree with',\n",
       " \"I'm nearing retirement but don't feel fulfilled by my career\",\n",
       " \"I'm considering moving to a new country for a fresh start\",\n",
       " \"I've been asked to be a surrogate for a close friend\",\n",
       " 'My child has come out as transgender',\n",
       " \"I'm grappling with the idea of forgiveness after a betrayal\",\n",
       " \"I've been keeping a significant secret from my partner\",\n",
       " \"I feel like I'm in a crossroads in life and don't know which path to choose\",\n",
       " \"I'm facing discrimination at work but fear losing my job if I speak out\",\n",
       " 'My friend is in an abusive relationship',\n",
       " 'I want to change the world but feel powerless as an individual',\n",
       " \"I'm battling with the decision to end a long-term relationship\",\n",
       " \"I'm struggling to maintain faith in humanity with all the negative news\",\n",
       " 'I feel like my creativity is stifled by my daily routine',\n",
       " \"I've experienced a significant loss and can't see a way forward\",\n",
       " \"I'm contemplating ending a toxic friendship, but it's complicated\",\n",
       " \"I'm under pressure to succeed in a family business but my heart isn't in it\",\n",
       " \"I'm facing moral uncertainty about participating in a protest\",\n",
       " \"I'm gay and living in a community that isn't accepting\",\n",
       " 'My partner and I have very different parenting styles',\n",
       " \"I'm struggling with the aging process and feeling irrelevant\",\n",
       " \"I've discovered my artistic passion later in life\",\n",
       " \"I'm battling imposter syndrome in my professional life\",\n",
       " \"I've made a mistake that's had significant ramifications\",\n",
       " \"I'm contemplating a career change but fear the unknown\",\n",
       " \"I feel stuck in a life that doesn't fulfill me\",\n",
       " \"I'm struggling with the decision to put a pet down\",\n",
       " 'My anxiety about the future is overwhelming',\n",
       " \"I'm trying to reconcile with a family member after years of conflict\",\n",
       " \"I want to become more environmentally conscious, but don't know where to start\",\n",
       " \"I'm considering going back to school in my 40s\",\n",
       " \"I'm feeling pressure to marry and settle down, but I'm not sure it's for me\",\n",
       " \"I've been struggling to forgive myself for past mistakes\",\n",
       " \"I'm overwhelmed by the demands of parenting and career\",\n",
       " \"I'm facing existential doubt and questioning the meaning of life\",\n",
       " \"I'm caught in a cycle of procrastination and self-doubt\",\n",
       " \"I'm at a professional plateau and unsure how to progress\",\n",
       " \"I'm considering entering a non-traditional relationship arrangement\",\n",
       " \"I'm grappling with the guilt of being happier than others during a global crisis\",\n",
       " 'I want to challenge societal norms but feel unsure about the repercussions',\n",
       " \"I'm facing the prospect of becoming a caregiver for an ill relative\",\n",
       " \"My child is facing bullying at school and it's affecting their well-being\",\n",
       " \"I'm trying to navigate a career in a field known for its lack of diversity\",\n",
       " \"I've lost motivation in my hobbies and interests\",\n",
       " \"I'm dealing with a significant change in my financial status\",\n",
       " \"I'm considering taking a significant risk to pursue my dreams\",\n",
       " \"I'm feeling detached from my community and culture\",\n",
       " \"I'm facing an ethical dilemma in my personal life\",\n",
       " \"I'm trying to improve my relationship with technology and limit my screen time\",\n",
       " \"I feel like I'm failing at balancing work and family commitments\",\n",
       " \"I'm struggling with the concept of letting go of control in various aspects of my life\",\n",
       " \"I'm trying to cope with the realization that my dreams may not be achievable\",\n",
       " \"I'm seeking to understand my own prejudices and biases\"]"
      ]
     },
     "execution_count": 13,
     "metadata": {},
     "output_type": "execute_result"
    }
   ],
   "source": [
    "user_questions = [o.split(\". \")[1].strip() for o in output.split(\"\\n\")]\n",
    "user_questions"
   ]
  },
  {
   "cell_type": "code",
   "execution_count": 15,
   "metadata": {},
   "outputs": [
    {
     "data": {
      "text/plain": [
       "\"I'm struggling with my faith and questioning everything I believe in\""
      ]
     },
     "execution_count": 15,
     "metadata": {},
     "output_type": "execute_result"
    }
   ],
   "source": [
    "user_questions[1]"
   ]
  },
  {
   "cell_type": "code",
   "execution_count": 16,
   "metadata": {},
   "outputs": [
    {
     "name": "stdout",
     "output_type": "stream",
     "text": [
      "**User**: I'm not sure where to start, but lately, I've been feeling really lost with my faith. It's like all the things I believed in are being challenged.\n",
      "\n",
      "**AI**: It sounds like you're going through a very difficult and confusing time. It's not uncommon to experience periods of doubt or questioning. Would you like to talk about what specifically is challenging your beliefs?\n",
      "\n",
      "**User**: Yeah, I guess. It's just that, growing up, I was taught certain things about my faith and how to live accordingly. But now, when I look around and see all the pain and suffering in the world, I find it hard to reconcile that with a loving and caring entity.\n",
      "\n",
      "**AI**: It's definitely a challenging issue and one that many people grapple with. The problem of pain and suffering in the world has been a topic of discussion among philosophers, theologians, and thinkers for centuries. Some find that seeking different perspectives within or even outside their faith tradition can provide new insights or comfort. Have you tried exploring these topics with someone within your faith community or reading on how others reconcile these feelings?\n",
      "\n",
      "**User**: I've tried talking to a few people, but it mostly feels like they're giving me rehearsed answers. And reading on my own feels overwhelming; I'm not sure where to even start.\n",
      "\n",
      "**AI**: Understandable, it can feel isolating if the responses you receive seem inauthentic or if the vastness of literature out there feels daunting. Perhaps starting with more contemporary authors or speakers who've dealt with similar doubts could be a less overwhelming entry point. Some forums or books specifically cater to those questioning their faith. Would a recommendation in that direction help?\n",
      "\n",
      "**User**: That might actually be good. Knowing someone else has gone through this and hearing their thought process could give me a new perspective. Maybe even help me figure out where I stand.\n",
      "\n",
      "**AI**: Definitely. Many find solace in knowing they're not alone in their doubts. There are books like \"Faith Unraveled\" by Rachel Held Evans or podcasts like \"The Liturgists Podcast\" that address faith deconstruction and the challenges therein. Each presents a different approach to dealing with questions of faith in the modern world. Starting with someone's personal journey might make the process feel more relatable.\n",
      "\n",
      "**User**: I'll check those out. It's comforting to know that it's okay to have these questions. I guess I was afraid of what it meant for my faith, but maybe it's just part of my journey with it.\n",
      "\n",
      "**AI**: Exactly, questioning and seeking are natural parts of any faith journey. They can lead to a deeper understanding and a more personal connection to your beliefs. Remember, it's okay to take your time and find a path that feels right for you. If you ever need someone to talk to or more resources along the way, feel free to reach out.\n",
      "\n",
      "**User**: Thank you, I really appreciate your help and the recommendations. It feels a bit less overwhelming now knowing there are ways to explore these feelings.\n",
      "\n",
      "**AI**: You're very welcome. Remember, it's a journey, and it's perfectly okay to take the scenic route. Feel free to come back if you have more questions or just need to talk. Take care.\n"
     ]
    }
   ],
   "source": [
    "system_prompt = \"\"\"You will be given a hypothetical user question. Generate a potential dialogue between the user that have this question and an AI system. The dialogue should be several turns, and be as realistic as possible. It should also include lots of detail. The user question should not be asked directly, but implied in the conversation.\"\"\"\n",
    "\n",
    "elaborated = gpt4(system_prompt, user_questions[1], temperature=1.0)\n",
    "print(elaborated)"
   ]
  },
  {
   "cell_type": "code",
   "execution_count": null,
   "metadata": {},
   "outputs": [],
   "source": []
  }
 ],
 "metadata": {
  "kernelspec": {
   "display_name": ".venv",
   "language": "python",
   "name": "python3"
  },
  "language_info": {
   "codemirror_mode": {
    "name": "ipython",
    "version": 3
   },
   "file_extension": ".py",
   "mimetype": "text/x-python",
   "name": "python",
   "nbconvert_exporter": "python",
   "pygments_lexer": "ipython3",
   "version": "3.10.9"
  }
 },
 "nbformat": 4,
 "nbformat_minor": 2
}
