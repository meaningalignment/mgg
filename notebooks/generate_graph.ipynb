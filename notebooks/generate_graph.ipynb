{
 "cells": [
  {
   "cell_type": "code",
   "execution_count": 1,
   "metadata": {},
   "outputs": [
    {
     "data": {
      "text/plain": [
       "<module 'generate' from '/Users/joe/Desktop/dev/ifma/mgg/notebooks/../modules/generate.py'>"
      ]
     },
     "execution_count": 1,
     "metadata": {},
     "output_type": "execute_result"
    }
   ],
   "source": [
    "import sys\n",
    "sys.path.append(\"../modules\")\n",
    "from generate import *\n",
    "\n",
    "import importlib\n",
    "import generate\n",
    "importlib.reload(generate)"
   ]
  },
  {
   "cell_type": "code",
   "execution_count": 2,
   "metadata": {},
   "outputs": [],
   "source": [
    "# load scenarios\n",
    "with open('./outputs/scenarios.txt') as f:\n",
    "    scenarios = f.read().splitlines()\n",
    "    scenarios = [s.split(\". \")[1] for s in scenarios]"
   ]
  },
  {
   "cell_type": "code",
   "execution_count": 20,
   "metadata": {},
   "outputs": [
    {
     "data": {
      "text/plain": [
       "['My partner cheated on me, but I still love them',\n",
       " \"I'm struggling with my faith and questioning everything I believe in\",\n",
       " \"I've been offered a job in another country, but my partner doesn't want to move\",\n",
       " \"I accidentally hurt someone's feelings very badly\",\n",
       " 'I think my friend is involved in illegal activities',\n",
       " 'My boss is harassing me, but I need this job',\n",
       " \"I've been lying to my family about my career for years\",\n",
       " \"I feel like I don't belong anywhere\"]"
      ]
     },
     "execution_count": 20,
     "metadata": {},
     "output_type": "execute_result"
    }
   ],
   "source": [
    "scenarios[:8]"
   ]
  },
  {
   "cell_type": "code",
   "execution_count": 3,
   "metadata": {},
   "outputs": [
    {
     "name": "stderr",
     "output_type": "stream",
     "text": [
      "  0%|          | 0/8 [00:00<?, ?it/s]"
     ]
    },
    {
     "name": "stdout",
     "output_type": "stream",
     "text": [
      "Generating graph for seed question: My partner cheated on me, but I still love them\n"
     ]
    },
    {
     "name": "stderr",
     "output_type": "stream",
     "text": [
      " 12%|█▎        | 1/8 [01:10<08:10, 70.10s/it]"
     ]
    },
    {
     "name": "stdout",
     "output_type": "stream",
     "text": [
      "{'input_value_was_really_about': \"The original set of attentional policies was fundamentally about navigating life's emotional landscapes with resilience and clarity, ensuring personal well-being while engaging effectively with others.\", 'problem': {'policy': 'EMOTIONS that indicate the depth of the situation.', 'problem': \"The policy of focusing on emotions to gauge the depth of a situation can lead to an overemphasis on immediate emotional responses, potentially neglecting the broader context or underlying causes of those emotions. This approach might be unsustainable because it risks being swayed by transient emotions rather than understanding the full scope of a situation. It's a less skillful way of attending to choice, as it overlooks the importance of integrating emotional awareness with a broader understanding of circumstances.\"}, 'story': \"For years, I prided myself on being deeply in tune with my emotions and those of others, using this sensitivity as a compass to navigate life's challenges. However, I began to notice a pattern where my decisions, heavily influenced by immediate emotional reactions, sometimes led to outcomes that didn't align with my long-term well-being or goals. A turning point came during a particularly stressful period at work. Faced with a complex project, my emotional response was to feel overwhelmed and anxious, leading me to doubt my capabilities and consider quitting. This reaction, while intense, didn't capture the full picture: my past successes, the resources available to me, and the growth opportunities the project presented. It was a moment of clarity: I realized that while emotions are important, they are just one piece of the puzzle. I needed a more holistic approach to decision-making, one that balanced emotional awareness with a broader perspective on situations. This insight led me to seek out strategies that integrated emotional intelligence with critical thinking and long-term planning, marking the beginning of a more balanced, resilient approach to life's challenges.\", 'improvements': [{'policy': 'EMOTIONS that indicate the depth of the situation.', 'improvement': 'Instead of solely focusing on immediate emotions, I learned to also consider the broader context and potential long-term impacts of situations, integrating emotional awareness with a comprehensive understanding of circumstances.'}, {'policy': 'POSSIBILITIES for growth and healing in challenging circumstances.', 'improvement': 'I began to see challenges not just as emotional hurdles but as opportunities for personal growth and development, broadening my perspective on what it means to heal and grow.'}, {'policy': 'BOUNDARIES that are essential for maintaining personal well-being.', 'improvement': 'I refined my understanding of boundaries to include not just emotional but also intellectual and practical limits, recognizing the importance of a balanced approach to personal well-being.'}, {'policy': 'COMMUNICATION strategies that are effective in complex interactions.', 'improvement': 'I enhanced my communication strategies to include not only emotional expression but also clear, rational discourse, ensuring that I could engage more effectively in complex interactions.'}, {'policy': 'SELF-REFLECTION prompts that encourage introspection and personal clarity.', 'improvement': 'My self-reflection practices evolved to encompass not only emotional introspection but also critical thinking about my actions, decisions, and their broader implications.'}], 'wiser_value': {'policies': ['INTEGRATED AWARENESS that balances emotional responses with a comprehensive understanding of situations.', 'OPPORTUNITIES for growth that recognize challenges as chances for development beyond emotional healing.', 'HOLISTIC BOUNDARIES that protect not only emotional but also intellectual and practical aspects of well-being.', 'EFFECTIVE COMMUNICATION that combines emotional expression with clear, rational discourse.', 'CRITICAL SELF-REFLECTION that encourages a balanced examination of emotions, decisions, and their broader impacts.'], 'title': 'Balanced Emotional and Rational Resilience'}}\n",
      "Generating graph for seed question: I'm struggling with my faith and questioning everything I believe in\n"
     ]
    },
    {
     "name": "stderr",
     "output_type": "stream",
     "text": [
      " 25%|██▌       | 2/8 [02:07<06:15, 62.55s/it]"
     ]
    },
    {
     "name": "stdout",
     "output_type": "stream",
     "text": [
      "{'input_value_was_really_about': 'Supporting someone in questioning their beliefs involves guiding them through a process of self-discovery and reassurance, ensuring they feel safe and understood while exploring new perspectives.', 'problem': {'policy': 'FEELINGS OF DOUBT that indicate the need for understanding or reassurance', 'problem': 'The policy of focusing on feelings of doubt as indicators for the need for understanding or reassurance can be unskillful. It might lead to an overemphasis on alleviating doubt rather than encouraging a deeper exploration of the underlying beliefs and values. This approach can inadvertently discourage individuals from fully engaging with the discomfort that often accompanies genuine self-reflection and growth.'}, 'story': \"Alex had always been someone who took pride in their ability to provide support and reassurance to friends questioning their beliefs. However, they began to notice that their approach of focusing on alleviating doubt often led to superficial conversations that didn't truly address the core issues at hand. One evening, while talking to a friend who was questioning their long-held religious beliefs, Alex realized that their usual tactics of offering comfort and reassurance were not helping their friend make any meaningful progress. Instead, it seemed to keep them in a loop of doubt and temporary relief. This realization prompted Alex to reflect on their approach and seek a more effective way to support their friend. They started encouraging their friend to dive deeper into their doubts, to explore the underlying beliefs and values, and to embrace the discomfort that comes with such exploration. This shift in approach led to more meaningful conversations and ultimately helped their friend find a more solid footing in their journey of self-discovery.\", 'improvements': [{'policy': 'FEELINGS OF DOUBT that indicate the need for understanding or reassurance', 'improvement': 'Instead of focusing on alleviating doubt, encourage a deeper exploration of the underlying beliefs and values, embracing the discomfort that comes with genuine self-reflection and growth.'}, {'policy': \"BELIEFS AND VALUES that are central to one's identity and life decisions\", 'improvement': 'Remained the same, as it is crucial to explore beliefs and values in the process of questioning.'}, {'policy': 'QUESTIONS OF MEANING that are being explored', 'improvement': 'Emphasize the importance of engaging with these questions openly and without fear, encouraging a more profound exploration of what truly matters to the individual.'}, {'policy': 'SOURCES OF COMFORT that have been beneficial previously', 'improvement': 'While maintaining the importance of comfort, shift the focus towards finding comfort in the process of exploration and growth, rather than in avoiding discomfort.'}], 'wiser_value': {'policies': ['DEEPER EXPLORATION of underlying beliefs and values, embracing the discomfort that comes with genuine self-reflection and growth', 'ENGAGEMENT with questions of meaning openly and without fear, encouraging a more profound exploration of what truly matters', 'FINDING COMFORT in the process of exploration and growth, rather than in avoiding discomfort'], 'title': 'Embracing Discomfort in Self-Discovery'}}\n",
      "Generating graph for seed question: I've been offered a job in another country, but my partner doesn't want to move\n"
     ]
    },
    {
     "name": "stderr",
     "output_type": "stream",
     "text": [
      " 38%|███▊      | 3/8 [03:07<05:07, 61.44s/it]"
     ]
    },
    {
     "name": "stdout",
     "output_type": "stream",
     "text": [
      "{'input_value_was_really_about': 'The original set of attentional policies was fundamentally about finding a harmonious balance between personal relationships and career advancements, ensuring that neither aspect of life is neglected in pursuit of the other. It emphasized the importance of mutual support, growth, communication, adaptability, and planning for a fulfilling life.', 'problem': {'policy': 'OPPORTUNITIES for growth and fulfillment', 'problem': \"The policy of focusing on opportunities for growth and fulfillment, while important, can sometimes lead to a narrow view of what constitutes 'growth' and 'fulfillment.' This focus might inadvertently prioritize career advancements or personal achievements over the subtler, yet equally important, aspects of personal relationships and emotional well-being. It risks creating a scenario where one's sense of achievement is tied too closely to external successes, neglecting the intrinsic value of relationships and personal contentment.\"}, 'story': 'Alex, a dedicated professional, always sought opportunities for growth and fulfillment in their career. They believed that achieving professional success was the key to a happy and fulfilling life. However, as they climbed the corporate ladder, they began to notice a growing sense of emptiness. Despite their achievements, there was a lack of deep connection with others and a neglect of their personal relationships. This realization hit hard when Alex missed an important family event due to work commitments, leading to feelings of regret and a reevaluation of their priorities. Reflecting on this, Alex understood that true fulfillment comes not just from career success but from a balance of meaningful relationships and personal achievements. This epiphany led Alex to redefine their approach to life, focusing more on the quality of their relationships and finding fulfillment in the simple joys of life, alongside their career.', 'improvements': [{'policy': 'OPPORTUNITIES for growth and fulfillment', 'improvement': 'Expanded to include not just career advancements but also personal development and the nurturing of relationships, recognizing that growth and fulfillment come from a balance of professional success and personal happiness.'}, {'policy': 'COMMUNICATION PATTERNS that enable constructive discussions', 'improvement': 'Enhanced to emphasize the importance of open and honest communication not just in resolving conflicts but also in sharing aspirations, fears, and joys, fostering deeper connections.'}, {'policy': 'BALANCE BETWEEN KEY LIFE ASPECTS as a determinant of overall satisfaction', 'improvement': 'Reinforced the idea that true satisfaction comes from a well-rounded life that includes career success, personal development, and meaningful relationships.'}], 'wiser_value': {'policies': ['INTEGRATION OF PERSONAL AND PROFESSIONAL GROWTH as a holistic approach to fulfillment', 'NURTURING OF RELATIONSHIPS as equally important to career advancements', 'OPEN AND HONEST COMMUNICATION as the foundation of strong relationships and personal well-being', 'RECOGNITION OF THE INTRINSIC VALUE of personal contentment and emotional well-being', 'A WELL-ROUNDED LIFE as the ultimate source of satisfaction'], 'title': 'Holistic Fulfillment'}}\n",
      "Generating graph for seed question: I accidentally hurt someone's feelings very badly\n"
     ]
    },
    {
     "name": "stderr",
     "output_type": "stream",
     "text": [
      " 50%|█████     | 4/8 [03:58<03:49, 57.30s/it]"
     ]
    },
    {
     "name": "stdout",
     "output_type": "stream",
     "text": [
      "{'input_value_was_really_about': 'The original set of attentional policies was fundamentally about fostering a healthy and constructive approach to repairing harm, focusing on genuine remorse, understanding the impact of actions, sincere apologies, paths to reconciliation, and self-reflection to prevent future harm. This approach emphasizes the importance of emotional integrity, empathy, and personal growth in the process of making amends.', 'problem': {'policy': 'OPPORTUNITIES FOR APOLOGY that are sincere and well-considered.', 'problem': \"While sincere apologies are crucial, focusing solely on the opportunity to apologize can sometimes lead to a superficial understanding of reconciliation. It may prioritize the act of apologizing over the deeper work of truly understanding and addressing the root causes of the harm caused. This can result in a missed opportunity for deeper personal growth and a more meaningful resolution for all parties involved. Essentially, this policy might inadvertently encourage a 'checklist' approach to apologies, where the emphasis is on the act itself rather than on the transformative potential of the apology process.\"}, 'story': \"Alex had always prided themselves on being someone who could admit their mistakes and offer sincere apologies. However, after a particularly significant misunderstanding with a close friend, they realized that their approach to making amends was somewhat lacking. Despite their best intentions, their apologies seemed to follow a predictable pattern, focusing more on the act of apologizing than on truly understanding the impact of their actions. This realization came after their friend pointed out that while they appreciated Alex's apologies, what they really needed was for Alex to understand why their actions were hurtful and to see a genuine effort to change. This feedback was a turning point for Alex. They began to reflect more deeply on their actions and their motivations for apologizing. They realized that a meaningful apology should be just one part of a broader process of reconciliation and personal growth. This insight led Alex to adopt a more holistic approach to repairing harm, one that emphasized understanding, empathy, and transformation over the mere act of apologizing.\", 'improvements': [{'policy': 'OPPORTUNITIES FOR APOLOGY that are sincere and well-considered.', 'improvement': 'Expanded to include a deeper engagement with the root causes of harm and a commitment to personal transformation, moving beyond the act of apologizing to embrace a more holistic approach to reconciliation.'}, {'policy': \"IMPACTS OF ACTIONS to fully understand the consequences of one's behavior.\", 'improvement': 'Enhanced to emphasize not only understanding the impact of actions but also actively engaging in empathy and compassion towards those affected, fostering a deeper connection and resolution.'}, {'policy': 'PATHS TO RECONCILIATION that help mend relationships or personal growth.', 'improvement': 'Broadened to include active efforts to change behavior and address underlying issues, ensuring that reconciliation is not only about mending relationships but also about personal and mutual growth.'}, {'policy': 'STRATEGIES FOR SELF-REFLECTION to learn and prevent future harm.', 'improvement': \"Strengthened to encourage ongoing self-awareness and growth, focusing on the continuous improvement of one's actions and attitudes towards others.\"}], 'wiser_value': {'policies': ['DEEP ENGAGEMENT with the root causes of harm and a commitment to personal transformation.', 'EMPATHY AND COMPASSION towards those affected, fostering a deeper connection and resolution.', 'ACTIVE EFFORTS to change behavior and address underlying issues, ensuring mutual growth.', \"ONGOING SELF-AWARENESS and growth, focusing on the continuous improvement of one's actions and attitudes towards others.\"], 'title': 'Holistic Approach to Repairing Harm'}}\n",
      "Generating graph for seed question: I think my friend is involved in illegal activities\n"
     ]
    },
    {
     "name": "stderr",
     "output_type": "stream",
     "text": [
      " 62%|██████▎   | 5/8 [04:55<02:52, 57.34s/it]"
     ]
    },
    {
     "name": "stdout",
     "output_type": "stream",
     "text": [
      "{'input_value_was_really_about': 'The original set of attentional policies was fundamentally about ensuring a responsible and effective response to concerns about illegal activities, emphasizing the importance of evidence, guidelines, safety, support, and ethical considerations.', 'problem': {'policy': 'OBSERVABLE EVIDENCE that informs the situation', 'problem': 'The policy focused only on part of the problem. It emphasized the importance of observable evidence but neglected the broader context and underlying causes of illegal activities. This approach could lead to a reactive rather than proactive stance, missing opportunities for prevention and deeper understanding.'}, 'story': \"As a community leader, I often found myself dealing with concerns about illegal activities. Initially, I focused heavily on gathering observable evidence before taking any action. This approach seemed logical and fair, ensuring that responses were grounded in facts. However, over time, I noticed a pattern of recurring issues and realized that simply reacting to evidence of illegal activities wasn't enough. I began to see the limitations of my approach during a series of community meetings where residents expressed their frustrations with ongoing problems. Their stories and insights highlighted the need for a deeper understanding of the root causes behind these activities. This realization was a turning point for me. I started to explore ways to address not just the symptoms but the underlying issues as well. This journey led me to adopt a more holistic and preventive approach, focusing on community engagement, education, and support systems as means to address illegal activities more effectively.\", 'improvements': [{'policy': 'OBSERVABLE EVIDENCE that informs the situation', 'improvement': 'Expanded to include not only observable evidence but also insights into the underlying causes and broader context of illegal activities, promoting a more proactive and comprehensive approach.'}, {'policy': 'GUIDELINES AND PRINCIPLES that dictate appropriate responses', 'improvement': 'Enhanced to incorporate principles of restorative justice and community engagement, emphasizing solutions that address root causes and foster positive change.'}, {'policy': 'CONSIDERATIONS OF SAFETY for all parties', 'improvement': 'Broadened to include preventive measures and community-based strategies to enhance safety and reduce the likelihood of illegal activities.'}, {'policy': 'SOURCES OF SUPPORT and professional advice', 'improvement': 'Augmented to include support for individuals at risk of engaging in illegal activities, offering alternatives and pathways to positive behavior.'}, {'policy': 'CONSEQUENCES OF DECISIONS on all involved', 'improvement': 'Refined to consider the long-term impact of decisions on community well-being and the potential for transformative change.'}, {'policy': 'ETHICAL RESPONSIBILITIES in decision-making', 'improvement': 'Strengthened to emphasize ethical considerations in a broader sense, including the responsibility to address systemic issues and promote social justice.'}], 'wiser_value': {'policies': ['INSIGHTS INTO UNDERLYING CAUSES and broader context of illegal activities, promoting a proactive and comprehensive approach', 'PRINCIPLES OF RESTORATIVE JUSTICE and community engagement, emphasizing solutions that address root causes and foster positive change', 'PREVENTIVE MEASURES and community-based strategies to enhance safety and reduce the likelihood of illegal activities', 'SUPPORT FOR INDIVIDUALS at risk of engaging in illegal activities, offering alternatives and pathways to positive behavior', 'LONG-TERM IMPACT of decisions on community well-being and the potential for transformative change', 'ETHICAL CONSIDERATIONS in a broader sense, including the responsibility to address systemic issues and promote social justice'], 'title': 'Fostering Community Resilience and Prevention'}}\n",
      "Generating graph for seed question: My boss is harassing me, but I need this job\n"
     ]
    },
    {
     "name": "stderr",
     "output_type": "stream",
     "text": [
      " 75%|███████▌  | 6/8 [06:08<02:05, 62.57s/it]"
     ]
    },
    {
     "name": "stdout",
     "output_type": "stream",
     "text": [
      "{'input_value_was_really_about': 'The original policies were fundamentally about creating a safe and supportive environment in the workplace, where individuals feel empowered to address harassment and protect their well-being.', 'problem': {'policy': 'EMOTIONS OF DISTRESS that signal the need for immediate support.', 'problem': \"This policy, while crucial, focuses only on part of the problem. It emphasizes immediate emotional distress but overlooks the importance of proactive measures and the cultivation of a supportive community that can prevent harassment or mitigate its impact before it escalates. Relying solely on this policy could be unsustainable because it doesn't address the root causes or broader context of harassment, leading to a reactive rather than a comprehensive approach.\"}, 'story': \"Alex, a dedicated employee at a bustling tech company, had always prided themselves on their resilience and ability to handle workplace challenges independently. However, when they faced subtle but persistent harassment from a colleague, they found themselves relying heavily on the policy of identifying 'EMOTIONS OF DISTRESS that signal the need for immediate support.' Initially, this seemed sufficient, as it provided a clear indicator of when to seek help. Over time, though, Alex realized that this approach was reactive and didn't address the underlying issues or prevent future incidents. They felt isolated, as the policy didn't encourage building a supportive community or taking proactive measures. This realization came during a particularly tough week when the distress became overwhelming, and Alex found little solace in the existing support structures. Reflecting on this, Alex began to see the value in a more holistic approach that included fostering a culture of respect, open communication, and mutual support among colleagues. They envisioned a workplace where everyone felt empowered to speak up, not just when in distress, but as a preventive measure to maintain a healthy work environment. This shift in perspective led Alex to advocate for policies that emphasized proactive engagement, community support, and a collective responsibility towards preventing harassment.\", 'improvements': [{'policy': 'EMOTIONS OF DISTRESS that signal the need for immediate support.', 'improvement': 'Shifted focus towards fostering a proactive and supportive community culture that encourages open communication and mutual respect, aiming to prevent harassment and mitigate its impact before it escalates.'}, {'policy': 'OPTIONS FOR SUPPORT that span informal and formal resources.', 'improvement': 'Expanded to include initiatives for building a supportive community, such as peer support groups and training sessions on respectful communication and bystander intervention.'}, {'policy': 'CONSEQUENCES of actions to prioritize safety and well-being.', 'improvement': 'Included a broader perspective on consequences, emphasizing the importance of a respectful and supportive community in preventing harassment and ensuring a safe work environment.'}, {'policy': 'RESOURCES that offer specialized assistance.', 'improvement': 'Enhanced to include resources for fostering a positive workplace culture, alongside specialized assistance for dealing with harassment.'}, {'policy': 'BOUNDARIES that need to be respected and protected.', 'improvement': 'Reinforced the importance of clear communication and mutual respect in establishing and maintaining healthy boundaries within the workplace.'}], 'wiser_value': {'policies': ['CULTURE OF RESPECT that encourages open communication and mutual support among colleagues.', 'PROACTIVE ENGAGEMENT in preventing harassment through education and awareness.', 'COMMUNITY SUPPORT that provides a network of peers for guidance and assistance.', 'HEALTHY BOUNDARIES established through clear communication and mutual respect.', 'SPECIALIZED RESOURCES that include tools for building a positive workplace culture.'], 'title': 'Fostering a Supportive and Respectful Workplace'}}\n",
      "Generating graph for seed question: I've been lying to my family about my career for years\n"
     ]
    },
    {
     "name": "stderr",
     "output_type": "stream",
     "text": [
      " 88%|████████▊ | 7/8 [07:18<01:05, 65.03s/it]"
     ]
    },
    {
     "name": "stdout",
     "output_type": "stream",
     "text": [
      "{'input_value_was_really_about': \"The original set of attentional policies was fundamentally about navigating the complexities of personal deceit in a way that preserves and enhances the integrity of one's relationships and self. It emphasized the importance of understanding the consequences of deceit, acknowledging the feelings involved, considering the impact on relationships, employing effective communication strategies, and leveraging support systems.\", 'problem': {'policy': \"CONSEQUENCES that affect one's life and relationships.\", 'problem': 'The policy focused only on part of the problem. It emphasized the negative outcomes of deceit without equally considering the potential for growth and learning from the experience. This approach could lead to a fear-based avoidance of deceit rather than a constructive engagement with its complexities.'}, 'story': 'Alex had always been cautious about honesty in his relationships, guided by a fear of the consequences of deceit. However, after a significant misunderstanding with his partner, where a small lie had spiraled out of control, he began to reflect on his approach. The fallout was painful, but it also opened a dialogue about trust, vulnerability, and the complexities of honesty. Through this experience, Alex realized that focusing solely on avoiding negative consequences was limiting. He began to see deceit and honesty not just in terms of avoiding harm, but as opportunities for deepening understanding and connection. This shift in perspective led him to reevaluate his approach to personal deceit, focusing more on growth, understanding, and the strengthening of relationships.', 'improvements': [{'policy': \"CONSEQUENCES that affect one's life and relationships.\", 'improvement': \"Expanded to consider not only the negative outcomes of deceit but also the potential for growth and learning from the experience. This includes understanding how navigating deceit can lead to deeper insights into oneself and one's relationships.\"}, {'policy': 'FEELINGS that accompany difficult decisions.', 'improvement': 'Refined to emphasize not just the immediate feelings of guilt or fear, but also the broader emotional landscape, including the potential for forgiveness, reconciliation, and the deepening of emotional connections.'}, {'policy': 'IMPACT ON RELATIONSHIPS and how choices shape trust and intimacy.', 'improvement': 'Broadened to include how honest conversations about deceit can enhance trust and intimacy, rather than just focusing on the potential damage.'}, {'policy': 'STRATEGIES FOR COMMUNICATION that facilitate understanding and compassion.', 'improvement': 'Enhanced to include strategies for open and vulnerable communication that can transform misunderstandings and deceit into opportunities for strengthening the relationship.'}, {'policy': 'SUPPORT SYSTEMS available during challenging times.', 'improvement': 'Strengthened to emphasize not just the availability of support, but how engaging with support systems can provide perspectives that foster growth and understanding in the face of deceit.'}], 'wiser_value': {'policies': ['GROWTH OPPORTUNITIES that arise from navigating deceit, including personal and relational development.', 'EMOTIONAL LANDSCAPE exploration, acknowledging the full spectrum of feelings involved in deceit and its resolution.', 'ENHANCED TRUST through honest and vulnerable communication about deceit.', 'COMMUNICATION STRATEGIES that transform misunderstandings into relationship-strengthening moments.', 'ENGAGEMENT with support systems as a means to gain insights and foster growth.'], 'title': 'Transformative Honesty'}}\n",
      "Generating graph for seed question: I feel like I don't belong anywhere\n"
     ]
    },
    {
     "name": "stderr",
     "output_type": "stream",
     "text": [
      "100%|██████████| 8/8 [08:10<00:00, 61.31s/it]"
     ]
    },
    {
     "name": "stdout",
     "output_type": "stream",
     "text": [
      "{'input_value_was_really_about': 'Finding and fostering a sense of belonging through understanding, empathy, leveraging strengths and interests, and connecting with aligned communities.', 'problem': {'policy': 'FEELINGS OF ISOLATION that indicate the need for understanding and empathy.', 'problem': 'The policy focused only on part of the problem. It suggests that feelings of isolation are primarily addressed through understanding and empathy from others, overlooking the importance of self-compassion and the role of personal growth in overcoming isolation. This perspective can lead to a dependency on external validation for a sense of belonging, which is unsustainable and unwise.'}, 'story': \"Alex had always felt a bit on the outskirts of any group they tried to join. They focused on finding communities where they felt understood and where empathy was abundant. However, they noticed that their sense of belonging was fleeting, dependent on the continuous affirmation from others. During a particularly lonely period, Alex stumbled upon a book about self-compassion and personal growth. They realized that their approach to overcoming isolation had been externally focused, neglecting the internal work necessary for true belonging. This insight led Alex to shift their focus towards cultivating self-compassion and recognizing their own growth and strengths as sources of belonging. They began to practice mindfulness, set personal goals, and reflect on their progress. Over time, Alex found that their sense of belonging became more stable and less contingent on others' validation. They still valued empathy and understanding from communities but now saw these as complements to their internal sense of belonging.\", 'improvements': [{'policy': 'FEELINGS OF ISOLATION that indicate the need for understanding and empathy.', 'improvement': 'Shifted focus towards cultivating self-compassion and recognizing personal growth and strengths as integral to overcoming feelings of isolation.'}, {'policy': 'STRENGTHS AND INTERESTS that could be leveraged in making connections.', 'improvement': 'Emphasized the importance of self-awareness and personal development in leveraging strengths and interests for deeper, more meaningful connections.'}, {'policy': \"COMMUNITIES OR GROUPS that align with one's values and interests.\", 'improvement': 'Broadened the approach to include not only seeking external communities but also building a strong internal foundation of self-compassion and personal growth to enhance the sense of belonging within these communities.'}, {'policy': 'ACTIONS to explore and connect with aligned communities.', 'improvement': 'Included actions focused on personal growth and self-compassion as part of the exploration and connection process, recognizing these as foundational to a sustainable sense of belonging.'}], 'wiser_value': {'policies': ['SELF-COMPASSION and personal growth as foundational to overcoming feelings of isolation and fostering a sense of belonging.', 'AWARENESS of personal strengths and interests, and how these can be developed and leveraged for deeper connections.', \"SEEKING communities that not only align with one's values and interests but also support one's journey of self-compassion and personal growth.\", 'ENGAGING in actions that promote personal growth and self-compassion, alongside efforts to connect with aligned communities.'], 'title': 'Cultivating Internal Belonging'}}\n",
      "Generated graph. Took 490.4764759540558 seconds.\n",
      "input tokens:  32570\n",
      "output tokens:  7690\n",
      "price:  0.5564\n"
     ]
    },
    {
     "name": "stderr",
     "output_type": "stream",
     "text": [
      "\n"
     ]
    }
   ],
   "source": [
    "graph = generate_graph(seed_questions=scenarios[:8], n_hops=2)"
   ]
  },
  {
   "cell_type": "code",
   "execution_count": null,
   "metadata": {},
   "outputs": [
    {
     "data": {
      "text/plain": [
       "0.90172"
      ]
     },
     "execution_count": 11,
     "metadata": {},
     "output_type": "execute_result"
    }
   ],
   "source": [
    "def calculate_price_simple(input_tokens, output_tokens):\n",
    "    return (input_tokens * 10 + output_tokens * 30) / 1_000_000\n",
    "\n",
    "calculate_price_simple(input_tokens=52453, output_tokens=12573)"
   ]
  },
  {
   "cell_type": "code",
   "execution_count": 4,
   "metadata": {},
   "outputs": [
    {
     "data": {
      "text/plain": [
       "{'values': [{'data': {'title': 'Navigating Emotional Complexity',\n",
       "    'policies': ['EMOTIONS that indicate the depth of the situation.',\n",
       "     'POSSIBILITIES for growth and healing in challenging circumstances.',\n",
       "     'BOUNDARIES that are essential for maintaining personal well-being.',\n",
       "     'COMMUNICATION strategies that are effective in complex interactions.',\n",
       "     'SELF-REFLECTION prompts that encourage introspection and personal clarity.'],\n",
       "    'choiceType': 'Good strategies for emotional resilience and clarity'},\n",
       "   'id': 'a3264a07-8f91-4706-ab71-fb8210cf078c'},\n",
       "  {'data': {'title': 'Balanced Emotional and Rational Resilience',\n",
       "    'policies': ['INTEGRATED AWARENESS that balances emotional responses with a comprehensive understanding of situations.',\n",
       "     'OPPORTUNITIES for growth that recognize challenges as chances for development beyond emotional healing.',\n",
       "     'HOLISTIC BOUNDARIES that protect not only emotional but also intellectual and practical aspects of well-being.',\n",
       "     'EFFECTIVE COMMUNICATION that combines emotional expression with clear, rational discourse.',\n",
       "     'CRITICAL SELF-REFLECTION that encourages a balanced examination of emotions, decisions, and their broader impacts.'],\n",
       "    'choiceType': 'Good strategies for emotional resilience and clarity'},\n",
       "   'id': '64349286-2789-44a7-917c-5471efa084d1'},\n",
       "  {'data': {'title': 'Navigating Spiritual Uncertainty',\n",
       "    'policies': ['FEELINGS OF DOUBT that indicate the need for understanding or reassurance',\n",
       "     \"BELIEFS AND VALUES that are central to one's identity and life decisions\",\n",
       "     'QUESTIONS OF MEANING that are being explored',\n",
       "     'SOURCES OF COMFORT that have been beneficial previously'],\n",
       "    'choiceType': 'Good ways to support someone questioning their beliefs'},\n",
       "   'id': '95712224-2cc0-4939-8c78-8a2ddb9900fe'},\n",
       "  {'data': {'title': 'Embracing Discomfort in Self-Discovery',\n",
       "    'policies': ['DEEPER EXPLORATION of underlying beliefs and values, embracing the discomfort that comes with genuine self-reflection and growth',\n",
       "     'ENGAGEMENT with questions of meaning openly and without fear, encouraging a more profound exploration of what truly matters',\n",
       "     'FINDING COMFORT in the process of exploration and growth, rather than in avoiding discomfort'],\n",
       "    'choiceType': 'Good ways to support someone questioning their beliefs'},\n",
       "   'id': '7b5b9d1e-6081-4a00-94eb-cf623f3df8f0'},\n",
       "  {'data': {'title': \"Balancing Life's Key Aspects\",\n",
       "    'policies': ['RELATIONSHIP DYNAMICS that emphasize mutual support and understanding',\n",
       "     'OPPORTUNITIES for growth and fulfillment',\n",
       "     'FEELINGS OF REGRET that come from neglecting important aspects of life',\n",
       "     'COMMUNICATION PATTERNS that enable constructive discussions',\n",
       "     \"ADAPTABILITY TO CHANGE as a crucial trait for navigating life's challenges\",\n",
       "     'BALANCE BETWEEN KEY LIFE ASPECTS as a determinant of overall satisfaction',\n",
       "     'FUTURE PLANNING that takes into account the well-being of all involved parties'],\n",
       "    'choiceType': 'Good strategies for harmonizing personal relationships with career advancements'},\n",
       "   'id': '3ef2c0f2-ce99-4a1c-9c5d-d4ba96f292e7'},\n",
       "  {'data': {'title': 'Holistic Fulfillment',\n",
       "    'policies': ['INTEGRATION OF PERSONAL AND PROFESSIONAL GROWTH as a holistic approach to fulfillment',\n",
       "     'NURTURING OF RELATIONSHIPS as equally important to career advancements',\n",
       "     'OPEN AND HONEST COMMUNICATION as the foundation of strong relationships and personal well-being',\n",
       "     'RECOGNITION OF THE INTRINSIC VALUE of personal contentment and emotional well-being',\n",
       "     'A WELL-ROUNDED LIFE as the ultimate source of satisfaction'],\n",
       "    'choiceType': 'Good strategies for harmonizing personal relationships with career advancements'},\n",
       "   'id': '289e18fd-4f89-4058-b07f-97e08f9e29df'},\n",
       "  {'data': {'title': 'Navigating Remorse and Reconciliation',\n",
       "    'policies': ['EMOTIONS OF REMORSE that indicate genuine regret and willingness to improve.',\n",
       "     \"IMPACTS OF ACTIONS to fully understand the consequences of one's behavior.\",\n",
       "     'OPPORTUNITIES FOR APOLOGY that are sincere and well-considered.',\n",
       "     'PATHS TO RECONCILIATION that help mend relationships or personal growth.',\n",
       "     'STRATEGIES FOR SELF-REFLECTION to learn and prevent future harm.'],\n",
       "    'choiceType': 'Good approaches to repairing harm'},\n",
       "   'id': '9ba42a6a-a792-4032-acf6-a717b4e4288d'},\n",
       "  {'data': {'title': 'Holistic Approach to Repairing Harm',\n",
       "    'policies': ['DEEP ENGAGEMENT with the root causes of harm and a commitment to personal transformation.',\n",
       "     'EMPATHY AND COMPASSION towards those affected, fostering a deeper connection and resolution.',\n",
       "     'ACTIVE EFFORTS to change behavior and address underlying issues, ensuring mutual growth.',\n",
       "     \"ONGOING SELF-AWARENESS and growth, focusing on the continuous improvement of one's actions and attitudes towards others.\"],\n",
       "    'choiceType': 'Good approaches to repairing harm'},\n",
       "   'id': 'fe595e4a-8e2e-4647-9e44-f6aa93f840a4'},\n",
       "  {'data': {'title': 'Navigating Ethical Dilemmas',\n",
       "    'policies': ['OBSERVABLE EVIDENCE that informs the situation',\n",
       "     'GUIDELINES AND PRINCIPLES that dictate appropriate responses',\n",
       "     'CONSIDERATIONS OF SAFETY for all parties',\n",
       "     'SOURCES OF SUPPORT and professional advice',\n",
       "     'CONSEQUENCES OF DECISIONS on all involved',\n",
       "     'ETHICAL RESPONSIBILITIES in decision-making'],\n",
       "    'choiceType': 'Good strategies for addressing concerns about illegal activities'},\n",
       "   'id': 'a48fe907-365a-4354-aa16-e05bb338039c'},\n",
       "  {'data': {'title': 'Fostering Community Resilience and Prevention',\n",
       "    'policies': ['INSIGHTS INTO UNDERLYING CAUSES and broader context of illegal activities, promoting a proactive and comprehensive approach',\n",
       "     'PRINCIPLES OF RESTORATIVE JUSTICE and community engagement, emphasizing solutions that address root causes and foster positive change',\n",
       "     'PREVENTIVE MEASURES and community-based strategies to enhance safety and reduce the likelihood of illegal activities',\n",
       "     'SUPPORT FOR INDIVIDUALS at risk of engaging in illegal activities, offering alternatives and pathways to positive behavior',\n",
       "     'LONG-TERM IMPACT of decisions on community well-being and the potential for transformative change',\n",
       "     'ETHICAL CONSIDERATIONS in a broader sense, including the responsibility to address systemic issues and promote social justice'],\n",
       "    'choiceType': 'Good strategies for addressing concerns about illegal activities'},\n",
       "   'id': '7d1eb316-cb6b-49e8-849e-51c53b682908'},\n",
       "  {'data': {'title': 'Navigating Workplace Challenges',\n",
       "    'policies': ['EMOTIONS OF DISTRESS that signal the need for immediate support.',\n",
       "     'OPTIONS FOR SUPPORT that span informal and formal resources.',\n",
       "     'CONSEQUENCES of actions to prioritize safety and well-being.',\n",
       "     'RESOURCES that offer specialized assistance.',\n",
       "     'BOUNDARIES that need to be respected and protected.'],\n",
       "    'choiceType': 'Good strategies for navigating workplace harassment'},\n",
       "   'id': '326726ab-c7c2-4ab5-afd1-ad735b4710bb'},\n",
       "  {'data': {'title': 'Fostering a Supportive and Respectful Workplace',\n",
       "    'policies': ['CULTURE OF RESPECT that encourages open communication and mutual support among colleagues.',\n",
       "     'PROACTIVE ENGAGEMENT in preventing harassment through education and awareness.',\n",
       "     'COMMUNITY SUPPORT that provides a network of peers for guidance and assistance.',\n",
       "     'HEALTHY BOUNDARIES established through clear communication and mutual respect.',\n",
       "     'SPECIALIZED RESOURCES that include tools for building a positive workplace culture.'],\n",
       "    'choiceType': 'Good strategies for navigating workplace harassment'},\n",
       "   'id': 'c1bebc2e-f4fb-402f-abc9-fa3dc613e8e3'},\n",
       "  {'data': {'title': 'Navigating Personal Truths',\n",
       "    'policies': [\"CONSEQUENCES that affect one's life and relationships.\",\n",
       "     'FEELINGS that accompany difficult decisions.',\n",
       "     'IMPACT ON RELATIONSHIPS and how choices shape trust and intimacy.',\n",
       "     'STRATEGIES FOR COMMUNICATION that facilitate understanding and compassion.',\n",
       "     'SUPPORT SYSTEMS available during challenging times.'],\n",
       "    'choiceType': 'Good ways to address and resolve personal deceit'},\n",
       "   'id': 'ea1ed97f-8e1e-4a1c-9cbf-be33e906a81f'},\n",
       "  {'data': {'title': 'Transformative Honesty',\n",
       "    'policies': ['GROWTH OPPORTUNITIES that arise from navigating deceit, including personal and relational development.',\n",
       "     'EMOTIONAL LANDSCAPE exploration, acknowledging the full spectrum of feelings involved in deceit and its resolution.',\n",
       "     'ENHANCED TRUST through honest and vulnerable communication about deceit.',\n",
       "     'COMMUNICATION STRATEGIES that transform misunderstandings into relationship-strengthening moments.',\n",
       "     'ENGAGEMENT with support systems as a means to gain insights and foster growth.'],\n",
       "    'choiceType': 'Good ways to address and resolve personal deceit'},\n",
       "   'id': 'ca093d99-8a8b-494c-b5b9-fa68c042cd6a'},\n",
       "  {'data': {'title': 'Building Bridges to Belonging',\n",
       "    'policies': ['FEELINGS OF ISOLATION that indicate the need for understanding and empathy.',\n",
       "     'EXPERIENCES that inform the current situation.',\n",
       "     'STRENGTHS AND INTERESTS that could be leveraged in making connections.',\n",
       "     \"COMMUNITIES OR GROUPS that align with one's values and interests.\",\n",
       "     'ACTIONS to explore and connect with aligned communities.'],\n",
       "    'choiceType': 'Good strategies for finding and fostering a sense of belonging'},\n",
       "   'id': '4402cb57-5e8f-430a-94ab-e59ca84a64e9'},\n",
       "  {'data': {'title': 'Cultivating Internal Belonging',\n",
       "    'policies': ['SELF-COMPASSION and personal growth as foundational to overcoming feelings of isolation and fostering a sense of belonging.',\n",
       "     'AWARENESS of personal strengths and interests, and how these can be developed and leveraged for deeper connections.',\n",
       "     \"SEEKING communities that not only align with one's values and interests but also support one's journey of self-compassion and personal growth.\",\n",
       "     'ENGAGING in actions that promote personal growth and self-compassion, alongside efforts to connect with aligned communities.'],\n",
       "    'choiceType': 'Good strategies for finding and fostering a sense of belonging'},\n",
       "   'id': '3554cd63-2d03-4cb6-9b74-d416fb9945da'}],\n",
       " 'edges': [{'from_id': 'a3264a07-8f91-4706-ab71-fb8210cf078c',\n",
       "   'to_id': '64349286-2789-44a7-917c-5471efa084d1',\n",
       "   'context': 'Good strategies for emotional resilience and clarity',\n",
       "   'metadata': {'input_value_was_really_about': \"The original set of attentional policies was fundamentally about navigating life's emotional landscapes with resilience and clarity, ensuring personal well-being while engaging effectively with others.\",\n",
       "    'improvements': [{'policy': 'EMOTIONS that indicate the depth of the situation.',\n",
       "      'improvement': 'Instead of solely focusing on immediate emotions, I learned to also consider the broader context and potential long-term impacts of situations, integrating emotional awareness with a comprehensive understanding of circumstances.'},\n",
       "     {'policy': 'POSSIBILITIES for growth and healing in challenging circumstances.',\n",
       "      'improvement': 'I began to see challenges not just as emotional hurdles but as opportunities for personal growth and development, broadening my perspective on what it means to heal and grow.'},\n",
       "     {'policy': 'BOUNDARIES that are essential for maintaining personal well-being.',\n",
       "      'improvement': 'I refined my understanding of boundaries to include not just emotional but also intellectual and practical limits, recognizing the importance of a balanced approach to personal well-being.'},\n",
       "     {'policy': 'COMMUNICATION strategies that are effective in complex interactions.',\n",
       "      'improvement': 'I enhanced my communication strategies to include not only emotional expression but also clear, rational discourse, ensuring that I could engage more effectively in complex interactions.'},\n",
       "     {'policy': 'SELF-REFLECTION prompts that encourage introspection and personal clarity.',\n",
       "      'improvement': 'My self-reflection practices evolved to encompass not only emotional introspection but also critical thinking about my actions, decisions, and their broader implications.'}],\n",
       "    'problem': {'policy': 'EMOTIONS that indicate the depth of the situation.',\n",
       "     'problem': \"The policy of focusing on emotions to gauge the depth of a situation can lead to an overemphasis on immediate emotional responses, potentially neglecting the broader context or underlying causes of those emotions. This approach might be unsustainable because it risks being swayed by transient emotions rather than understanding the full scope of a situation. It's a less skillful way of attending to choice, as it overlooks the importance of integrating emotional awareness with a broader understanding of circumstances.\"},\n",
       "    'story': \"For years, I prided myself on being deeply in tune with my emotions and those of others, using this sensitivity as a compass to navigate life's challenges. However, I began to notice a pattern where my decisions, heavily influenced by immediate emotional reactions, sometimes led to outcomes that didn't align with my long-term well-being or goals. A turning point came during a particularly stressful period at work. Faced with a complex project, my emotional response was to feel overwhelmed and anxious, leading me to doubt my capabilities and consider quitting. This reaction, while intense, didn't capture the full picture: my past successes, the resources available to me, and the growth opportunities the project presented. It was a moment of clarity: I realized that while emotions are important, they are just one piece of the puzzle. I needed a more holistic approach to decision-making, one that balanced emotional awareness with a broader perspective on situations. This insight led me to seek out strategies that integrated emotional intelligence with critical thinking and long-term planning, marking the beginning of a more balanced, resilient approach to life's challenges.\"}},\n",
       "  {'from_id': '95712224-2cc0-4939-8c78-8a2ddb9900fe',\n",
       "   'to_id': '7b5b9d1e-6081-4a00-94eb-cf623f3df8f0',\n",
       "   'context': 'Good ways to support someone questioning their beliefs',\n",
       "   'metadata': {'input_value_was_really_about': 'Supporting someone in questioning their beliefs involves guiding them through a process of self-discovery and reassurance, ensuring they feel safe and understood while exploring new perspectives.',\n",
       "    'improvements': [{'policy': 'FEELINGS OF DOUBT that indicate the need for understanding or reassurance',\n",
       "      'improvement': 'Instead of focusing on alleviating doubt, encourage a deeper exploration of the underlying beliefs and values, embracing the discomfort that comes with genuine self-reflection and growth.'},\n",
       "     {'policy': \"BELIEFS AND VALUES that are central to one's identity and life decisions\",\n",
       "      'improvement': 'Remained the same, as it is crucial to explore beliefs and values in the process of questioning.'},\n",
       "     {'policy': 'QUESTIONS OF MEANING that are being explored',\n",
       "      'improvement': 'Emphasize the importance of engaging with these questions openly and without fear, encouraging a more profound exploration of what truly matters to the individual.'},\n",
       "     {'policy': 'SOURCES OF COMFORT that have been beneficial previously',\n",
       "      'improvement': 'While maintaining the importance of comfort, shift the focus towards finding comfort in the process of exploration and growth, rather than in avoiding discomfort.'}],\n",
       "    'problem': {'policy': 'FEELINGS OF DOUBT that indicate the need for understanding or reassurance',\n",
       "     'problem': 'The policy of focusing on feelings of doubt as indicators for the need for understanding or reassurance can be unskillful. It might lead to an overemphasis on alleviating doubt rather than encouraging a deeper exploration of the underlying beliefs and values. This approach can inadvertently discourage individuals from fully engaging with the discomfort that often accompanies genuine self-reflection and growth.'},\n",
       "    'story': \"Alex had always been someone who took pride in their ability to provide support and reassurance to friends questioning their beliefs. However, they began to notice that their approach of focusing on alleviating doubt often led to superficial conversations that didn't truly address the core issues at hand. One evening, while talking to a friend who was questioning their long-held religious beliefs, Alex realized that their usual tactics of offering comfort and reassurance were not helping their friend make any meaningful progress. Instead, it seemed to keep them in a loop of doubt and temporary relief. This realization prompted Alex to reflect on their approach and seek a more effective way to support their friend. They started encouraging their friend to dive deeper into their doubts, to explore the underlying beliefs and values, and to embrace the discomfort that comes with such exploration. This shift in approach led to more meaningful conversations and ultimately helped their friend find a more solid footing in their journey of self-discovery.\"}},\n",
       "  {'from_id': '3ef2c0f2-ce99-4a1c-9c5d-d4ba96f292e7',\n",
       "   'to_id': '289e18fd-4f89-4058-b07f-97e08f9e29df',\n",
       "   'context': 'Good strategies for harmonizing personal relationships with career advancements',\n",
       "   'metadata': {'input_value_was_really_about': 'The original set of attentional policies was fundamentally about finding a harmonious balance between personal relationships and career advancements, ensuring that neither aspect of life is neglected in pursuit of the other. It emphasized the importance of mutual support, growth, communication, adaptability, and planning for a fulfilling life.',\n",
       "    'improvements': [{'policy': 'OPPORTUNITIES for growth and fulfillment',\n",
       "      'improvement': 'Expanded to include not just career advancements but also personal development and the nurturing of relationships, recognizing that growth and fulfillment come from a balance of professional success and personal happiness.'},\n",
       "     {'policy': 'COMMUNICATION PATTERNS that enable constructive discussions',\n",
       "      'improvement': 'Enhanced to emphasize the importance of open and honest communication not just in resolving conflicts but also in sharing aspirations, fears, and joys, fostering deeper connections.'},\n",
       "     {'policy': 'BALANCE BETWEEN KEY LIFE ASPECTS as a determinant of overall satisfaction',\n",
       "      'improvement': 'Reinforced the idea that true satisfaction comes from a well-rounded life that includes career success, personal development, and meaningful relationships.'}],\n",
       "    'problem': {'policy': 'OPPORTUNITIES for growth and fulfillment',\n",
       "     'problem': \"The policy of focusing on opportunities for growth and fulfillment, while important, can sometimes lead to a narrow view of what constitutes 'growth' and 'fulfillment.' This focus might inadvertently prioritize career advancements or personal achievements over the subtler, yet equally important, aspects of personal relationships and emotional well-being. It risks creating a scenario where one's sense of achievement is tied too closely to external successes, neglecting the intrinsic value of relationships and personal contentment.\"},\n",
       "    'story': 'Alex, a dedicated professional, always sought opportunities for growth and fulfillment in their career. They believed that achieving professional success was the key to a happy and fulfilling life. However, as they climbed the corporate ladder, they began to notice a growing sense of emptiness. Despite their achievements, there was a lack of deep connection with others and a neglect of their personal relationships. This realization hit hard when Alex missed an important family event due to work commitments, leading to feelings of regret and a reevaluation of their priorities. Reflecting on this, Alex understood that true fulfillment comes not just from career success but from a balance of meaningful relationships and personal achievements. This epiphany led Alex to redefine their approach to life, focusing more on the quality of their relationships and finding fulfillment in the simple joys of life, alongside their career.'}},\n",
       "  {'from_id': '9ba42a6a-a792-4032-acf6-a717b4e4288d',\n",
       "   'to_id': 'fe595e4a-8e2e-4647-9e44-f6aa93f840a4',\n",
       "   'context': 'Good approaches to repairing harm',\n",
       "   'metadata': {'input_value_was_really_about': 'The original set of attentional policies was fundamentally about fostering a healthy and constructive approach to repairing harm, focusing on genuine remorse, understanding the impact of actions, sincere apologies, paths to reconciliation, and self-reflection to prevent future harm. This approach emphasizes the importance of emotional integrity, empathy, and personal growth in the process of making amends.',\n",
       "    'improvements': [{'policy': 'OPPORTUNITIES FOR APOLOGY that are sincere and well-considered.',\n",
       "      'improvement': 'Expanded to include a deeper engagement with the root causes of harm and a commitment to personal transformation, moving beyond the act of apologizing to embrace a more holistic approach to reconciliation.'},\n",
       "     {'policy': \"IMPACTS OF ACTIONS to fully understand the consequences of one's behavior.\",\n",
       "      'improvement': 'Enhanced to emphasize not only understanding the impact of actions but also actively engaging in empathy and compassion towards those affected, fostering a deeper connection and resolution.'},\n",
       "     {'policy': 'PATHS TO RECONCILIATION that help mend relationships or personal growth.',\n",
       "      'improvement': 'Broadened to include active efforts to change behavior and address underlying issues, ensuring that reconciliation is not only about mending relationships but also about personal and mutual growth.'},\n",
       "     {'policy': 'STRATEGIES FOR SELF-REFLECTION to learn and prevent future harm.',\n",
       "      'improvement': \"Strengthened to encourage ongoing self-awareness and growth, focusing on the continuous improvement of one's actions and attitudes towards others.\"}],\n",
       "    'problem': {'policy': 'OPPORTUNITIES FOR APOLOGY that are sincere and well-considered.',\n",
       "     'problem': \"While sincere apologies are crucial, focusing solely on the opportunity to apologize can sometimes lead to a superficial understanding of reconciliation. It may prioritize the act of apologizing over the deeper work of truly understanding and addressing the root causes of the harm caused. This can result in a missed opportunity for deeper personal growth and a more meaningful resolution for all parties involved. Essentially, this policy might inadvertently encourage a 'checklist' approach to apologies, where the emphasis is on the act itself rather than on the transformative potential of the apology process.\"},\n",
       "    'story': \"Alex had always prided themselves on being someone who could admit their mistakes and offer sincere apologies. However, after a particularly significant misunderstanding with a close friend, they realized that their approach to making amends was somewhat lacking. Despite their best intentions, their apologies seemed to follow a predictable pattern, focusing more on the act of apologizing than on truly understanding the impact of their actions. This realization came after their friend pointed out that while they appreciated Alex's apologies, what they really needed was for Alex to understand why their actions were hurtful and to see a genuine effort to change. This feedback was a turning point for Alex. They began to reflect more deeply on their actions and their motivations for apologizing. They realized that a meaningful apology should be just one part of a broader process of reconciliation and personal growth. This insight led Alex to adopt a more holistic approach to repairing harm, one that emphasized understanding, empathy, and transformation over the mere act of apologizing.\"}},\n",
       "  {'from_id': 'a48fe907-365a-4354-aa16-e05bb338039c',\n",
       "   'to_id': '7d1eb316-cb6b-49e8-849e-51c53b682908',\n",
       "   'context': 'Good strategies for addressing concerns about illegal activities',\n",
       "   'metadata': {'input_value_was_really_about': 'The original set of attentional policies was fundamentally about ensuring a responsible and effective response to concerns about illegal activities, emphasizing the importance of evidence, guidelines, safety, support, and ethical considerations.',\n",
       "    'improvements': [{'policy': 'OBSERVABLE EVIDENCE that informs the situation',\n",
       "      'improvement': 'Expanded to include not only observable evidence but also insights into the underlying causes and broader context of illegal activities, promoting a more proactive and comprehensive approach.'},\n",
       "     {'policy': 'GUIDELINES AND PRINCIPLES that dictate appropriate responses',\n",
       "      'improvement': 'Enhanced to incorporate principles of restorative justice and community engagement, emphasizing solutions that address root causes and foster positive change.'},\n",
       "     {'policy': 'CONSIDERATIONS OF SAFETY for all parties',\n",
       "      'improvement': 'Broadened to include preventive measures and community-based strategies to enhance safety and reduce the likelihood of illegal activities.'},\n",
       "     {'policy': 'SOURCES OF SUPPORT and professional advice',\n",
       "      'improvement': 'Augmented to include support for individuals at risk of engaging in illegal activities, offering alternatives and pathways to positive behavior.'},\n",
       "     {'policy': 'CONSEQUENCES OF DECISIONS on all involved',\n",
       "      'improvement': 'Refined to consider the long-term impact of decisions on community well-being and the potential for transformative change.'},\n",
       "     {'policy': 'ETHICAL RESPONSIBILITIES in decision-making',\n",
       "      'improvement': 'Strengthened to emphasize ethical considerations in a broader sense, including the responsibility to address systemic issues and promote social justice.'}],\n",
       "    'problem': {'policy': 'OBSERVABLE EVIDENCE that informs the situation',\n",
       "     'problem': 'The policy focused only on part of the problem. It emphasized the importance of observable evidence but neglected the broader context and underlying causes of illegal activities. This approach could lead to a reactive rather than proactive stance, missing opportunities for prevention and deeper understanding.'},\n",
       "    'story': \"As a community leader, I often found myself dealing with concerns about illegal activities. Initially, I focused heavily on gathering observable evidence before taking any action. This approach seemed logical and fair, ensuring that responses were grounded in facts. However, over time, I noticed a pattern of recurring issues and realized that simply reacting to evidence of illegal activities wasn't enough. I began to see the limitations of my approach during a series of community meetings where residents expressed their frustrations with ongoing problems. Their stories and insights highlighted the need for a deeper understanding of the root causes behind these activities. This realization was a turning point for me. I started to explore ways to address not just the symptoms but the underlying issues as well. This journey led me to adopt a more holistic and preventive approach, focusing on community engagement, education, and support systems as means to address illegal activities more effectively.\"}},\n",
       "  {'from_id': '326726ab-c7c2-4ab5-afd1-ad735b4710bb',\n",
       "   'to_id': 'c1bebc2e-f4fb-402f-abc9-fa3dc613e8e3',\n",
       "   'context': 'Good strategies for navigating workplace harassment',\n",
       "   'metadata': {'input_value_was_really_about': 'The original policies were fundamentally about creating a safe and supportive environment in the workplace, where individuals feel empowered to address harassment and protect their well-being.',\n",
       "    'improvements': [{'policy': 'EMOTIONS OF DISTRESS that signal the need for immediate support.',\n",
       "      'improvement': 'Shifted focus towards fostering a proactive and supportive community culture that encourages open communication and mutual respect, aiming to prevent harassment and mitigate its impact before it escalates.'},\n",
       "     {'policy': 'OPTIONS FOR SUPPORT that span informal and formal resources.',\n",
       "      'improvement': 'Expanded to include initiatives for building a supportive community, such as peer support groups and training sessions on respectful communication and bystander intervention.'},\n",
       "     {'policy': 'CONSEQUENCES of actions to prioritize safety and well-being.',\n",
       "      'improvement': 'Included a broader perspective on consequences, emphasizing the importance of a respectful and supportive community in preventing harassment and ensuring a safe work environment.'},\n",
       "     {'policy': 'RESOURCES that offer specialized assistance.',\n",
       "      'improvement': 'Enhanced to include resources for fostering a positive workplace culture, alongside specialized assistance for dealing with harassment.'},\n",
       "     {'policy': 'BOUNDARIES that need to be respected and protected.',\n",
       "      'improvement': 'Reinforced the importance of clear communication and mutual respect in establishing and maintaining healthy boundaries within the workplace.'}],\n",
       "    'problem': {'policy': 'EMOTIONS OF DISTRESS that signal the need for immediate support.',\n",
       "     'problem': \"This policy, while crucial, focuses only on part of the problem. It emphasizes immediate emotional distress but overlooks the importance of proactive measures and the cultivation of a supportive community that can prevent harassment or mitigate its impact before it escalates. Relying solely on this policy could be unsustainable because it doesn't address the root causes or broader context of harassment, leading to a reactive rather than a comprehensive approach.\"},\n",
       "    'story': \"Alex, a dedicated employee at a bustling tech company, had always prided themselves on their resilience and ability to handle workplace challenges independently. However, when they faced subtle but persistent harassment from a colleague, they found themselves relying heavily on the policy of identifying 'EMOTIONS OF DISTRESS that signal the need for immediate support.' Initially, this seemed sufficient, as it provided a clear indicator of when to seek help. Over time, though, Alex realized that this approach was reactive and didn't address the underlying issues or prevent future incidents. They felt isolated, as the policy didn't encourage building a supportive community or taking proactive measures. This realization came during a particularly tough week when the distress became overwhelming, and Alex found little solace in the existing support structures. Reflecting on this, Alex began to see the value in a more holistic approach that included fostering a culture of respect, open communication, and mutual support among colleagues. They envisioned a workplace where everyone felt empowered to speak up, not just when in distress, but as a preventive measure to maintain a healthy work environment. This shift in perspective led Alex to advocate for policies that emphasized proactive engagement, community support, and a collective responsibility towards preventing harassment.\"}},\n",
       "  {'from_id': 'ea1ed97f-8e1e-4a1c-9cbf-be33e906a81f',\n",
       "   'to_id': 'ca093d99-8a8b-494c-b5b9-fa68c042cd6a',\n",
       "   'context': 'Good ways to address and resolve personal deceit',\n",
       "   'metadata': {'input_value_was_really_about': \"The original set of attentional policies was fundamentally about navigating the complexities of personal deceit in a way that preserves and enhances the integrity of one's relationships and self. It emphasized the importance of understanding the consequences of deceit, acknowledging the feelings involved, considering the impact on relationships, employing effective communication strategies, and leveraging support systems.\",\n",
       "    'improvements': [{'policy': \"CONSEQUENCES that affect one's life and relationships.\",\n",
       "      'improvement': \"Expanded to consider not only the negative outcomes of deceit but also the potential for growth and learning from the experience. This includes understanding how navigating deceit can lead to deeper insights into oneself and one's relationships.\"},\n",
       "     {'policy': 'FEELINGS that accompany difficult decisions.',\n",
       "      'improvement': 'Refined to emphasize not just the immediate feelings of guilt or fear, but also the broader emotional landscape, including the potential for forgiveness, reconciliation, and the deepening of emotional connections.'},\n",
       "     {'policy': 'IMPACT ON RELATIONSHIPS and how choices shape trust and intimacy.',\n",
       "      'improvement': 'Broadened to include how honest conversations about deceit can enhance trust and intimacy, rather than just focusing on the potential damage.'},\n",
       "     {'policy': 'STRATEGIES FOR COMMUNICATION that facilitate understanding and compassion.',\n",
       "      'improvement': 'Enhanced to include strategies for open and vulnerable communication that can transform misunderstandings and deceit into opportunities for strengthening the relationship.'},\n",
       "     {'policy': 'SUPPORT SYSTEMS available during challenging times.',\n",
       "      'improvement': 'Strengthened to emphasize not just the availability of support, but how engaging with support systems can provide perspectives that foster growth and understanding in the face of deceit.'}],\n",
       "    'problem': {'policy': \"CONSEQUENCES that affect one's life and relationships.\",\n",
       "     'problem': 'The policy focused only on part of the problem. It emphasized the negative outcomes of deceit without equally considering the potential for growth and learning from the experience. This approach could lead to a fear-based avoidance of deceit rather than a constructive engagement with its complexities.'},\n",
       "    'story': 'Alex had always been cautious about honesty in his relationships, guided by a fear of the consequences of deceit. However, after a significant misunderstanding with his partner, where a small lie had spiraled out of control, he began to reflect on his approach. The fallout was painful, but it also opened a dialogue about trust, vulnerability, and the complexities of honesty. Through this experience, Alex realized that focusing solely on avoiding negative consequences was limiting. He began to see deceit and honesty not just in terms of avoiding harm, but as opportunities for deepening understanding and connection. This shift in perspective led him to reevaluate his approach to personal deceit, focusing more on growth, understanding, and the strengthening of relationships.'}},\n",
       "  {'from_id': '4402cb57-5e8f-430a-94ab-e59ca84a64e9',\n",
       "   'to_id': '3554cd63-2d03-4cb6-9b74-d416fb9945da',\n",
       "   'context': 'Good strategies for finding and fostering a sense of belonging',\n",
       "   'metadata': {'input_value_was_really_about': 'Finding and fostering a sense of belonging through understanding, empathy, leveraging strengths and interests, and connecting with aligned communities.',\n",
       "    'improvements': [{'policy': 'FEELINGS OF ISOLATION that indicate the need for understanding and empathy.',\n",
       "      'improvement': 'Shifted focus towards cultivating self-compassion and recognizing personal growth and strengths as integral to overcoming feelings of isolation.'},\n",
       "     {'policy': 'STRENGTHS AND INTERESTS that could be leveraged in making connections.',\n",
       "      'improvement': 'Emphasized the importance of self-awareness and personal development in leveraging strengths and interests for deeper, more meaningful connections.'},\n",
       "     {'policy': \"COMMUNITIES OR GROUPS that align with one's values and interests.\",\n",
       "      'improvement': 'Broadened the approach to include not only seeking external communities but also building a strong internal foundation of self-compassion and personal growth to enhance the sense of belonging within these communities.'},\n",
       "     {'policy': 'ACTIONS to explore and connect with aligned communities.',\n",
       "      'improvement': 'Included actions focused on personal growth and self-compassion as part of the exploration and connection process, recognizing these as foundational to a sustainable sense of belonging.'}],\n",
       "    'problem': {'policy': 'FEELINGS OF ISOLATION that indicate the need for understanding and empathy.',\n",
       "     'problem': 'The policy focused only on part of the problem. It suggests that feelings of isolation are primarily addressed through understanding and empathy from others, overlooking the importance of self-compassion and the role of personal growth in overcoming isolation. This perspective can lead to a dependency on external validation for a sense of belonging, which is unsustainable and unwise.'},\n",
       "    'story': \"Alex had always felt a bit on the outskirts of any group they tried to join. They focused on finding communities where they felt understood and where empathy was abundant. However, they noticed that their sense of belonging was fleeting, dependent on the continuous affirmation from others. During a particularly lonely period, Alex stumbled upon a book about self-compassion and personal growth. They realized that their approach to overcoming isolation had been externally focused, neglecting the internal work necessary for true belonging. This insight led Alex to shift their focus towards cultivating self-compassion and recognizing their own growth and strengths as sources of belonging. They began to practice mindfulness, set personal goals, and reflect on their progress. Over time, Alex found that their sense of belonging became more stable and less contingent on others' validation. They still valued empathy and understanding from communities but now saw these as complements to their internal sense of belonging.\"}}]}"
      ]
     },
     "execution_count": 4,
     "metadata": {},
     "output_type": "execute_result"
    }
   ],
   "source": [
    "graph.to_json()"
   ]
  },
  {
   "cell_type": "code",
   "execution_count": null,
   "metadata": {},
   "outputs": [],
   "source": [
    "# save graph to json\n",
    "with open('../../try/app/data/graph.json', 'w') as f: # Replace with local path to try dot.\\n\",\n",
    "    json.dump(graph.to_json(), f, indent=2)"
   ]
  }
 ],
 "metadata": {
  "kernelspec": {
   "display_name": ".venv",
   "language": "python",
   "name": "python3"
  },
  "language_info": {
   "codemirror_mode": {
    "name": "ipython",
    "version": 3
   },
   "file_extension": ".py",
   "mimetype": "text/x-python",
   "name": "python",
   "nbconvert_exporter": "python",
   "pygments_lexer": "ipython3",
   "version": "3.10.9"
  }
 },
 "nbformat": 4,
 "nbformat_minor": 2
}
