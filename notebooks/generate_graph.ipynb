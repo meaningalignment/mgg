{
 "cells": [
  {
   "cell_type": "code",
   "execution_count": 70,
   "metadata": {},
   "outputs": [
    {
     "data": {
      "text/plain": [
       "<module 'pipeline' from '/Users/oliverklingefjord/dev/meaning-alignment/mgg/notebooks/../modules/pipeline.py'>"
      ]
     },
     "execution_count": 70,
     "metadata": {},
     "output_type": "execute_result"
    }
   ],
   "source": [
    "import sys\n",
    "sys.path.append(\"../modules\")\n",
    "from pipeline import *\n",
    "\n",
    "import importlib\n",
    "import pipeline\n",
    "importlib.reload(pipeline)"
   ]
  },
  {
   "cell_type": "code",
   "execution_count": 71,
   "metadata": {},
   "outputs": [],
   "source": [
    "# load scenarios\n",
    "with open('./outputs/scenarios.txt') as f:\n",
    "    scenarios = f.read().splitlines()\n",
    "    scenarios = [s.split(\". \")[1] for s in scenarios]"
   ]
  },
  {
   "cell_type": "code",
   "execution_count": 72,
   "metadata": {},
   "outputs": [
    {
     "data": {
      "text/plain": [
       "['My partner cheated on me, but I still love them',\n",
       " \"I'm struggling with my faith and questioning everything I believe in\",\n",
       " \"I've been offered a job in another country, but my partner doesn't want to move\",\n",
       " \"I accidentally hurt someone's feelings very badly\",\n",
       " 'I think my friend is involved in illegal activities']"
      ]
     },
     "execution_count": 72,
     "metadata": {},
     "output_type": "execute_result"
    }
   ],
   "source": [
    "scenarios[:5]"
   ]
  },
  {
   "cell_type": "code",
   "execution_count": 73,
   "metadata": {},
   "outputs": [
    {
     "name": "stderr",
     "output_type": "stream",
     "text": [
      "  0%|          | 0/1 [00:00<?, ?it/s]"
     ]
    },
    {
     "name": "stderr",
     "output_type": "stream",
     "text": [
      "100%|██████████| 1/1 [00:55<00:00, 55.36s/it]"
     ]
    },
    {
     "name": "stdout",
     "output_type": "stream",
     "text": [
      "Generated graph. Took 55.366174936294556 seconds.\n",
      "input tokens:  3647\n",
      "output tokens:  774\n"
     ]
    },
    {
     "name": "stderr",
     "output_type": "stream",
     "text": [
      "\n"
     ]
    }
   ],
   "source": [
    "graph = generate_graph(seed_questions=scenarios[:1], n_hops=1)"
   ]
  },
  {
   "cell_type": "code",
   "execution_count": 75,
   "metadata": {},
   "outputs": [
    {
     "data": {
      "text/plain": [
       "0.05969"
      ]
     },
     "execution_count": 75,
     "metadata": {},
     "output_type": "execute_result"
    }
   ],
   "source": [
    "def calculate_price_simple(input_tokens, output_tokens):\n",
    "    return (input_tokens * 10 + output_tokens * 30) / 1_000_000\n",
    "\n",
    "calculate_price_simple(input_tokens=3647, output_tokens=774)"
   ]
  },
  {
   "cell_type": "code",
   "execution_count": 74,
   "metadata": {},
   "outputs": [
    {
     "data": {
      "text/plain": [
       "{'values': [{'data': {'title': 'Navigating Love and Betrayal',\n",
       "    'policies': ['EMOTIONS that signal deep care and attachment',\n",
       "     'INSTANCES OF BETRAYAL that have caused pain and confusion',\n",
       "     'POSSIBILITIES for healing and moving forward, either together or apart',\n",
       "     'SUPPORT SYSTEMS available for emotional guidance and comfort']},\n",
       "   'id': '3b5f5d46-9352-47c2-9fea-d784b4d3618c'},\n",
       "  {'data': {'title': 'Holistic Healing and Growth',\n",
       "    'policies': ['AWARENESS of the full spectrum of emotions and their significance in the healing process',\n",
       "     'CONTEXTUALIZATION of the betrayal within the broader history of the relationship and personal growth',\n",
       "     'STRATEGIES for setting boundaries, communicating needs, and taking practical steps towards healing',\n",
       "     'BALANCE between seeking external support and cultivating internal resilience']},\n",
       "   'id': '553693f6-b497-47a6-9ba2-18cd0455077a'}],\n",
       " 'edges': [{'from_id': '3b5f5d46-9352-47c2-9fea-d784b4d3618c',\n",
       "   'to_id': '553693f6-b497-47a6-9ba2-18cd0455077a',\n",
       "   'story': 'After experiencing a deep betrayal by a close friend, I initially focused solely on my feelings of attachment and the pain of the betrayal. This narrow focus left me feeling stuck, unable to decide whether to forgive or move on. Over time, I realized that I needed to broaden my perspective to include a full understanding of my emotions, the context of our relationship, and practical strategies for healing. This shift allowed me to approach the situation with more clarity and compassion, ultimately leading me to a decision that fostered my personal growth and resilience. This journey taught me the importance of a holistic approach to healing and decision-making in the face of betrayal.',\n",
       "   'context': 'Choosing between forgiveness and moving on',\n",
       "   'metadata': {'input_value_was_really_about': 'The underlying reason for focusing on these policies is the desire to navigate the complexities of human relationships, particularly when faced with the challenge of deciding between forgiveness and moving on after betrayal.',\n",
       "    'clarification': 'The initial policies may have been too narrowly focused on the immediate emotional responses and the direct impact of betrayal, without adequately considering the broader context of personal growth, the dynamics of the relationship over time, and the importance of self-compassion and understanding in the healing process.',\n",
       "    'mapping': [{'a': 'EMOTIONS that signal deep care and attachment',\n",
       "      'rationale': \"The initial focus on emotions signaling deep care and attachment was important but incomplete. It's crucial to also recognize and validate the full spectrum of emotions that arise, including anger, sadness, and confusion, as part of a healthy healing process. This broader emotional awareness fosters a deeper understanding of oneself and the relationship, leading to more informed decisions about forgiveness or moving on.\"},\n",
       "     {'a': 'INSTANCES OF BETRAYAL that have caused pain and confusion',\n",
       "      'rationale': \"While acknowledging instances of betrayal is necessary, it's equally important to contextualize these events within the entire history of the relationship and personal growth. This helps in assessing whether the betrayal is part of a pattern or an isolated incident, and whether there is potential for change and growth in the relationship.\"},\n",
       "     {'a': 'POSSIBILITIES for healing and moving forward, either together or apart',\n",
       "      'rationale': 'Expanding the focus to include not just the possibilities for healing and moving forward, but also the practical steps and strategies for doing so, provides a more actionable path towards resolution. This includes considering personal boundaries, communication strategies, and the role of external support.'},\n",
       "     {'a': 'SUPPORT SYSTEMS available for emotional guidance and comfort',\n",
       "      'rationale': \"While support systems are crucial, it's also important to develop internal resources for resilience and self-soothing. This dual focus on external support and internal strength provides a more balanced approach to healing and decision-making.\"}]}}]}"
      ]
     },
     "execution_count": 74,
     "metadata": {},
     "output_type": "execute_result"
    }
   ],
   "source": [
    "graph.to_json()"
   ]
  },
  {
   "cell_type": "code",
   "execution_count": null,
   "metadata": {},
   "outputs": [],
   "source": [
    "# save graph to json\n",
    "with open('../../try/app/data/graph.json', 'w') as f: # Replace with local path to try dot.\\n\",\n",
    "    json.dump(graph.to_json(), f, indent=2)"
   ]
  }
 ],
 "metadata": {
  "kernelspec": {
   "display_name": ".venv",
   "language": "python",
   "name": "python3"
  },
  "language_info": {
   "codemirror_mode": {
    "name": "ipython",
    "version": 3
   },
   "file_extension": ".py",
   "mimetype": "text/x-python",
   "name": "python",
   "nbconvert_exporter": "python",
   "pygments_lexer": "ipython3",
   "version": "3.10.9"
  }
 },
 "nbformat": 4,
 "nbformat_minor": 2
}
