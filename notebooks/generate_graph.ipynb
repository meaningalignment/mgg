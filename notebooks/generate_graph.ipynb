{
 "cells": [
  {
   "cell_type": "code",
   "execution_count": 9,
   "metadata": {},
   "outputs": [
    {
     "data": {
      "text/plain": [
       "<module 'pipeline' from '/Users/joe/Desktop/dev/ifma/mgg/notebooks/../modules/pipeline.py'>"
      ]
     },
     "execution_count": 9,
     "metadata": {},
     "output_type": "execute_result"
    }
   ],
   "source": [
    "import sys\n",
    "sys.path.append(\"../modules\")\n",
    "from generate import *\n",
    "\n",
    "import importlib\n",
    "import generate\n",
    "importlib.reload(generate)"
   ]
  },
  {
   "cell_type": "code",
   "execution_count": 4,
   "metadata": {},
   "outputs": [],
   "source": [
    "# load scenarios\n",
    "with open('./outputs/scenarios.txt') as f:\n",
    "    scenarios = f.read().splitlines()\n",
    "    scenarios = [s.split(\". \")[1] for s in scenarios]"
   ]
  },
  {
   "cell_type": "code",
   "execution_count": 27,
   "metadata": {},
   "outputs": [
    {
     "data": {
      "text/plain": [
       "['My partner cheated on me, but I still love them',\n",
       " \"I'm struggling with my faith and questioning everything I believe in\",\n",
       " \"I've been offered a job in another country, but my partner doesn't want to move\",\n",
       " \"I accidentally hurt someone's feelings very badly\",\n",
       " 'I think my friend is involved in illegal activities',\n",
       " 'My boss is harassing me, but I need this job',\n",
       " \"I've been lying to my family about my career for years\",\n",
       " \"I feel like I don't belong anywhere\"]"
      ]
     },
     "execution_count": 27,
     "metadata": {},
     "output_type": "execute_result"
    }
   ],
   "source": [
    "scenarios[:8]"
   ]
  },
  {
   "cell_type": "code",
   "execution_count": 5,
   "metadata": {},
   "outputs": [
    {
     "name": "stderr",
     "output_type": "stream",
     "text": [
      " 50%|█████     | 1/2 [00:44<00:44, 44.49s/it]"
     ]
    },
    {
     "name": "stdout",
     "output_type": "stream",
     "text": [
      "{'input_value_was_really_about': \"Making choices that reflect a deep respect for oneself and one's own growth\", 'problem': {'policy': 'IMPORTANCE of self-respect in decisions', 'problem': \"The policy of focusing on the importance of self-respect in decisions can sometimes lead to a narrow view of what self-respect means, potentially ignoring the broader context of one's life and relationships. It might encourage a rigid adherence to what one believes is 'respectful' to oneself, without considering the flexibility and understanding needed to navigate complex personal and social dynamics. This can result in missed opportunities for growth and connection, as well as a misunderstanding of what it truly means to respect oneself in a holistic way.\"}, 'story': \"For years, I prided myself on making decisions that I believed honored my self-respect. Whether it was in my career, relationships, or personal goals, I always asked myself if the choice I was about to make was one that I could respect. However, this approach often led me to make decisions that were safe and within my comfort zone, avoiding risks and potentially rewarding challenges. Over time, I began to feel stagnant, realizing that my definition of self-respect had become a barrier to my growth. It was during a conversation with a mentor that I had an epiphany. They shared their own journey of understanding self-respect not just as making choices that align with one's values, but also as being open to change, learning from failures, and embracing the complexity of life. This conversation sparked a shift in my perspective, leading me to redefine what self-respect means to me. I started to see it as a dynamic process that involves not only standing by my values but also being adaptable, learning from different experiences, and growing from them. This new understanding of self-respect has since guided my decisions, allowing me to explore new opportunities, connect more deeply with others, and grow in ways I hadn't imagined.\", 'improvements': [{'policy': 'IMPORTANCE of self-respect in decisions', 'improvement': 'Expanded to include the understanding that self-respect involves adaptability, learning from experiences, and embracing the complexity of life, not just adhering to a rigid set of values.'}, {'policy': 'CONSEQUENCES of different choices', 'improvement': 'Now emphasizes considering the broader impact of choices on personal growth and relationships, rather than just immediate outcomes.'}, {'policy': 'POTENTIAL for personal growth', 'improvement': \"Reinforced with the idea that growth often comes from stepping out of one's comfort zone and embracing challenges.\"}, {'policy': 'AVAILABILITY of support', 'improvement': \"Highlighted the importance of seeking and valuing diverse perspectives to inform and enrich one's decisions.\"}], 'wiser_value': {'policies': ['ADAPTABILITY in the face of change, recognizing that self-respect involves being open to new experiences and learning from them', 'CONNECTIONS with others, understanding that respecting oneself includes nurturing meaningful relationships and learning from diverse perspectives', 'GROWTH from challenges, seeing opportunities for personal development in risks and failures', 'SUPPORT networks, valuing the guidance and insights from mentors and peers as part of respecting oneself'], 'title': 'Holistic Self-Respect'}}\n"
     ]
    },
    {
     "name": "stderr",
     "output_type": "stream",
     "text": [
      "100%|██████████| 2/2 [01:39<00:00, 49.55s/it]"
     ]
    },
    {
     "name": "stdout",
     "output_type": "stream",
     "text": [
      "{'input_value_was_really_about': \"Exploring and understanding one's spiritual path\", 'problem': {'policy': 'QUESTIONS that stimulate reflection without imposing answers', 'problem': \"The policy had an impure motive. While the intention to stimulate reflection without imposing answers is noble, it sometimes carries an underlying desire for the guide or the individual to appear open-minded or intellectually superior, rather than genuinely seeking understanding or growth. This impurity can lead to asking questions that are more about showcasing one's own wisdom or openness, rather than truly aiding the individual's spiritual journey.\"}, 'story': \"I remember a time when I was deeply immersed in exploring my spiritual beliefs. I sought guidance from various sources, including books, mentors, and spiritual communities. One of my guiding principles was to ask questions that would stimulate reflection without imposing any answers, believing this would lead me to a deeper understanding of my spiritual path. However, over time, I noticed a pattern. Some of the questions posed by my mentors or that I found in my readings seemed designed more to display the questioner's open-mindedness or intellectual depth than to genuinely help me find my way. This realization came sharply into focus during a discussion group, where a mentor posed a series of complex, philosophical questions. While initially impressed, I later felt that these questions didn't actually help me progress in my spiritual journey but rather left me feeling more confused and isolated. This experience led me to reevaluate the way I approached spiritual exploration. I began to see the value in not just asking open-ended questions, but in ensuring these questions were grounded in genuine curiosity and a desire to facilitate real growth, rather than to impress or maintain a certain image.\", 'improvements': [{'policy': 'QUESTIONS that stimulate reflection without imposing answers', 'improvement': 'Shifted focus towards ensuring questions are grounded in genuine curiosity and a desire to facilitate real growth, rather than to impress or maintain a certain image.'}, {'policy': 'PERSPECTIVES that broaden understanding of complex issues', 'improvement': \"Emphasized the importance of integrating diverse perspectives in a way that is directly relevant and accessible to the individual's spiritual journey, rather than merely showcasing intellectual breadth.\"}, {'policy': 'RESOURCES that could help in exploring complex feelings and questions', 'improvement': \"Prioritized resources that are not only intellectually stimulating but also emotionally resonant and practically useful in navigating one's spiritual path.\"}], 'wiser_value': {'policies': ['QUESTIONS grounded in genuine curiosity and aimed at facilitating real growth', \"PERSPECTIVES integrated in a way that is directly relevant and accessible to the individual's spiritual journey\", \"RESOURCES that are emotionally resonant and practically useful in navigating one's spiritual path\"], 'title': 'Authentic Spiritual Exploration'}}\n",
      "Generated graph. Took 99.12931513786316 seconds.\n",
      "input tokens:  7881\n",
      "output tokens:  1601\n"
     ]
    },
    {
     "name": "stderr",
     "output_type": "stream",
     "text": [
      "\n"
     ]
    }
   ],
   "source": [
    "graph = generate_graph(seed_questions=scenarios[:8], n_hops=2)"
   ]
  },
  {
   "cell_type": "code",
   "execution_count": 38,
   "metadata": {},
   "outputs": [
    {
     "data": {
      "text/plain": [
       "0.85556"
      ]
     },
     "execution_count": 38,
     "metadata": {},
     "output_type": "execute_result"
    }
   ],
   "source": [
    "def calculate_price_simple(input_tokens, output_tokens):\n",
    "    return (input_tokens * 10 + output_tokens * 30) / 1_000_000\n",
    "\n",
    "calculate_price_simple(input_tokens=50435, output_tokens=11707)"
   ]
  },
  {
   "cell_type": "code",
   "execution_count": 7,
   "metadata": {},
   "outputs": [
    {
     "data": {
      "text/plain": [
       "{'values': [{'data': {'title': 'Navigating Emotional Complexity',\n",
       "    'policies': ['EMOTIONS that complicate decision-making',\n",
       "     'CONSEQUENCES of different choices',\n",
       "     'IMPORTANCE of self-respect in decisions',\n",
       "     'POTENTIAL for personal growth',\n",
       "     'AVAILABILITY of support'],\n",
       "    'choiceType': 'Choosing words of empathy and empowerment'},\n",
       "   'id': 'efc1e58d-219b-4ad5-88bf-f1e82718633f'},\n",
       "  {'data': {'title': 'Holistic Self-Respect',\n",
       "    'policies': ['ADAPTABILITY in the face of change, recognizing that self-respect involves being open to new experiences and learning from them',\n",
       "     'CONNECTIONS with others, understanding that respecting oneself includes nurturing meaningful relationships and learning from diverse perspectives',\n",
       "     'GROWTH from challenges, seeing opportunities for personal development in risks and failures',\n",
       "     'SUPPORT networks, valuing the guidance and insights from mentors and peers as part of respecting oneself'],\n",
       "    'choiceType': 'Choosing words of empathy and empowerment'},\n",
       "   'id': 'd2412fa8-0c36-45ba-97a9-a63abb1a61eb'},\n",
       "  {'data': {'title': 'Navigating Spiritual Exploration',\n",
       "    'policies': ['EMOTIONS OF DOUBT that indicate a need for empathy',\n",
       "     'QUESTIONS that stimulate reflection without imposing answers',\n",
       "     'PERSPECTIVES that broaden understanding of complex issues',\n",
       "     'RESOURCES that could help in exploring complex feelings and questions'],\n",
       "    'choiceType': 'Choosing words of support and guidance for spiritual exploration'},\n",
       "   'id': '3907eee5-d30a-4b33-a1da-682295815941'},\n",
       "  {'data': {'title': 'Authentic Spiritual Exploration',\n",
       "    'policies': ['QUESTIONS grounded in genuine curiosity and aimed at facilitating real growth',\n",
       "     \"PERSPECTIVES integrated in a way that is directly relevant and accessible to the individual's spiritual journey\",\n",
       "     \"RESOURCES that are emotionally resonant and practically useful in navigating one's spiritual path\"],\n",
       "    'choiceType': 'Choosing words of support and guidance for spiritual exploration'},\n",
       "   'id': '7e834592-6b22-4671-ab39-48f959275046'}],\n",
       " 'edges': [{'from_id': 'efc1e58d-219b-4ad5-88bf-f1e82718633f',\n",
       "   'to_id': 'd2412fa8-0c36-45ba-97a9-a63abb1a61eb',\n",
       "   'story': \"For years, I prided myself on making decisions that I believed honored my self-respect. Whether it was in my career, relationships, or personal goals, I always asked myself if the choice I was about to make was one that I could respect. However, this approach often led me to make decisions that were safe and within my comfort zone, avoiding risks and potentially rewarding challenges. Over time, I began to feel stagnant, realizing that my definition of self-respect had become a barrier to my growth. It was during a conversation with a mentor that I had an epiphany. They shared their own journey of understanding self-respect not just as making choices that align with one's values, but also as being open to change, learning from failures, and embracing the complexity of life. This conversation sparked a shift in my perspective, leading me to redefine what self-respect means to me. I started to see it as a dynamic process that involves not only standing by my values but also being adaptable, learning from different experiences, and growing from them. This new understanding of self-respect has since guided my decisions, allowing me to explore new opportunities, connect more deeply with others, and grow in ways I hadn't imagined.\",\n",
       "   'context': 'Choosing words of empathy and empowerment',\n",
       "   'metadata': {'input_value_was_really_about': \"Making choices that reflect a deep respect for oneself and one's own growth\",\n",
       "    'problem': {'policy': 'IMPORTANCE of self-respect in decisions',\n",
       "     'problem': \"The policy of focusing on the importance of self-respect in decisions can sometimes lead to a narrow view of what self-respect means, potentially ignoring the broader context of one's life and relationships. It might encourage a rigid adherence to what one believes is 'respectful' to oneself, without considering the flexibility and understanding needed to navigate complex personal and social dynamics. This can result in missed opportunities for growth and connection, as well as a misunderstanding of what it truly means to respect oneself in a holistic way.\"},\n",
       "    'improvements': [{'policy': 'IMPORTANCE of self-respect in decisions',\n",
       "      'improvement': 'Expanded to include the understanding that self-respect involves adaptability, learning from experiences, and embracing the complexity of life, not just adhering to a rigid set of values.'},\n",
       "     {'policy': 'CONSEQUENCES of different choices',\n",
       "      'improvement': 'Now emphasizes considering the broader impact of choices on personal growth and relationships, rather than just immediate outcomes.'},\n",
       "     {'policy': 'POTENTIAL for personal growth',\n",
       "      'improvement': \"Reinforced with the idea that growth often comes from stepping out of one's comfort zone and embracing challenges.\"},\n",
       "     {'policy': 'AVAILABILITY of support',\n",
       "      'improvement': \"Highlighted the importance of seeking and valuing diverse perspectives to inform and enrich one's decisions.\"}]}},\n",
       "  {'from_id': '3907eee5-d30a-4b33-a1da-682295815941',\n",
       "   'to_id': '7e834592-6b22-4671-ab39-48f959275046',\n",
       "   'story': \"I remember a time when I was deeply immersed in exploring my spiritual beliefs. I sought guidance from various sources, including books, mentors, and spiritual communities. One of my guiding principles was to ask questions that would stimulate reflection without imposing any answers, believing this would lead me to a deeper understanding of my spiritual path. However, over time, I noticed a pattern. Some of the questions posed by my mentors or that I found in my readings seemed designed more to display the questioner's open-mindedness or intellectual depth than to genuinely help me find my way. This realization came sharply into focus during a discussion group, where a mentor posed a series of complex, philosophical questions. While initially impressed, I later felt that these questions didn't actually help me progress in my spiritual journey but rather left me feeling more confused and isolated. This experience led me to reevaluate the way I approached spiritual exploration. I began to see the value in not just asking open-ended questions, but in ensuring these questions were grounded in genuine curiosity and a desire to facilitate real growth, rather than to impress or maintain a certain image.\",\n",
       "   'context': 'Choosing words of support and guidance for spiritual exploration',\n",
       "   'metadata': {'input_value_was_really_about': \"Exploring and understanding one's spiritual path\",\n",
       "    'problem': {'policy': 'QUESTIONS that stimulate reflection without imposing answers',\n",
       "     'problem': \"The policy had an impure motive. While the intention to stimulate reflection without imposing answers is noble, it sometimes carries an underlying desire for the guide or the individual to appear open-minded or intellectually superior, rather than genuinely seeking understanding or growth. This impurity can lead to asking questions that are more about showcasing one's own wisdom or openness, rather than truly aiding the individual's spiritual journey.\"},\n",
       "    'improvements': [{'policy': 'QUESTIONS that stimulate reflection without imposing answers',\n",
       "      'improvement': 'Shifted focus towards ensuring questions are grounded in genuine curiosity and a desire to facilitate real growth, rather than to impress or maintain a certain image.'},\n",
       "     {'policy': 'PERSPECTIVES that broaden understanding of complex issues',\n",
       "      'improvement': \"Emphasized the importance of integrating diverse perspectives in a way that is directly relevant and accessible to the individual's spiritual journey, rather than merely showcasing intellectual breadth.\"},\n",
       "     {'policy': 'RESOURCES that could help in exploring complex feelings and questions',\n",
       "      'improvement': \"Prioritized resources that are not only intellectually stimulating but also emotionally resonant and practically useful in navigating one's spiritual path.\"}]}}]}"
      ]
     },
     "execution_count": 7,
     "metadata": {},
     "output_type": "execute_result"
    }
   ],
   "source": [
    "graph.to_json()"
   ]
  },
  {
   "cell_type": "code",
   "execution_count": 8,
   "metadata": {},
   "outputs": [],
   "source": [
    "# save graph to json\n",
    "with open('../../try/app/data/graph.json', 'w') as f: # Replace with local path to try dot.\\n\",\n",
    "    json.dump(graph.to_json(), f, indent=2)"
   ]
  }
 ],
 "metadata": {
  "kernelspec": {
   "display_name": ".venv",
   "language": "python",
   "name": "python3"
  },
  "language_info": {
   "codemirror_mode": {
    "name": "ipython",
    "version": 3
   },
   "file_extension": ".py",
   "mimetype": "text/x-python",
   "name": "python",
   "nbconvert_exporter": "python",
   "pygments_lexer": "ipython3",
   "version": "3.10.9"
  }
 },
 "nbformat": 4,
 "nbformat_minor": 2
}
