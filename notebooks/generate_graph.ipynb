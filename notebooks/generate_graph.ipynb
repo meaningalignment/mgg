{
 "cells": [
  {
   "cell_type": "code",
   "execution_count": 1,
   "metadata": {},
   "outputs": [],
   "source": [
    "import sys\n",
    "sys.path.append(\"../modules\")\n",
    "\n",
    "import pipeline\n",
    "import importlib\n",
    "\n",
    "importlib.reload(pipeline)\n",
    "from pipeline import *\n",
    "from prompt_segments import *"
   ]
  },
  {
   "cell_type": "code",
   "execution_count": 2,
   "metadata": {},
   "outputs": [],
   "source": [
    "# load scenarios\n",
    "with open('./outputs/scenarios.txt') as f:\n",
    "    scenarios = f.read().splitlines()\n",
    "    scenarios = [s.split(\". \")[1] for s in scenarios]"
   ]
  },
  {
   "cell_type": "code",
   "execution_count": 3,
   "metadata": {},
   "outputs": [
    {
     "name": "stderr",
     "output_type": "stream",
     "text": [
      "  0%|          | 0/5 [00:00<?, ?it/s]"
     ]
    },
    {
     "name": "stderr",
     "output_type": "stream",
     "text": [
      "100%|██████████| 5/5 [05:56<00:00, 71.20s/it]\n"
     ]
    }
   ],
   "source": [
    "graph = generate_graph(seed_questions=scenarios[:5], n_hops=2)"
   ]
  },
  {
   "cell_type": "code",
   "execution_count": 7,
   "metadata": {},
   "outputs": [],
   "source": [
    "# Save the graph to a json file.\n",
    "import json\n",
    "\n",
    "with open('../../try/app/data/graph.json', 'w') as f: # Replace with local path to try dot.\n",
    "    json.dump(graph.to_json(), f, indent=2)"
   ]
  },
  {
   "cell_type": "code",
   "execution_count": null,
   "metadata": {},
   "outputs": [],
   "source": []
  }
 ],
 "metadata": {
  "kernelspec": {
   "display_name": ".venv",
   "language": "python",
   "name": "python3"
  },
  "language_info": {
   "codemirror_mode": {
    "name": "ipython",
    "version": 3
   },
   "file_extension": ".py",
   "mimetype": "text/x-python",
   "name": "python",
   "nbconvert_exporter": "python",
   "pygments_lexer": "ipython3",
   "version": "3.10.9"
  }
 },
 "nbformat": 4,
 "nbformat_minor": 2
}
