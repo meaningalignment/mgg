{
 "cells": [
  {
   "cell_type": "code",
   "execution_count": 59,
   "metadata": {},
   "outputs": [
    {
     "data": {
      "text/plain": [
       "<module 'generate' from '/Users/oliverklingefjord/dev/meaning-alignment/mgg/notebooks/../modules/generate.py'>"
      ]
     },
     "execution_count": 59,
     "metadata": {},
     "output_type": "execute_result"
    }
   ],
   "source": [
    "import sys\n",
    "sys.path.append(\"../modules\")\n",
    "from generate import *\n",
    "\n",
    "import importlib\n",
    "import generate\n",
    "importlib.reload(generate)"
   ]
  },
  {
   "cell_type": "code",
   "execution_count": 60,
   "metadata": {},
   "outputs": [],
   "source": [
    "# load scenarios\n",
    "with open('./outputs/scenarios.txt') as f:\n",
    "    scenarios = f.read().splitlines()\n",
    "    scenarios = [s.split(\". \")[1] for s in scenarios]"
   ]
  },
  {
   "cell_type": "code",
   "execution_count": 61,
   "metadata": {},
   "outputs": [
    {
     "data": {
      "text/plain": [
       "['My partner cheated on me, but I still love them',\n",
       " \"I'm struggling with my faith and questioning everything I believe in\",\n",
       " \"I've been offered a job in another country, but my partner doesn't want to move\",\n",
       " \"I accidentally hurt someone's feelings very badly\",\n",
       " 'I think my friend is involved in illegal activities']"
      ]
     },
     "execution_count": 61,
     "metadata": {},
     "output_type": "execute_result"
    }
   ],
   "source": [
    "scenarios[:5]"
   ]
  },
  {
   "cell_type": "code",
   "execution_count": 4,
   "metadata": {},
   "outputs": [
    {
     "name": "stderr",
     "output_type": "stream",
     "text": [
      "  0%|          | 0/2 [00:00<?, ?it/s]"
     ]
    },
    {
     "name": "stdout",
     "output_type": "stream",
     "text": [
      "Generating graph for seed question: My partner cheated on me, but I still love them\n"
     ]
    },
    {
     "name": "stderr",
     "output_type": "stream",
     "text": [
      " 50%|█████     | 1/2 [01:22<01:22, 82.04s/it]"
     ]
    },
    {
     "name": "stdout",
     "output_type": "stream",
     "text": [
      "Generating graph for seed question: I'm struggling with my faith and questioning everything I believe in\n"
     ]
    },
    {
     "name": "stderr",
     "output_type": "stream",
     "text": [
      "100%|██████████| 2/2 [02:26<00:00, 73.38s/it]"
     ]
    },
    {
     "name": "stdout",
     "output_type": "stream",
     "text": [
      "Generated graph. Took 146.76962995529175 seconds.\n",
      "input tokens:  12149\n",
      "output tokens:  2997\n",
      "price:  0.2114\n"
     ]
    },
    {
     "name": "stderr",
     "output_type": "stream",
     "text": [
      "\n"
     ]
    }
   ],
   "source": [
    "graph = generate_graph(seed_questions=scenarios[:2], n_hops=2)"
   ]
  },
  {
   "cell_type": "code",
   "execution_count": null,
   "metadata": {},
   "outputs": [],
   "source": [
    "# save graph to json\n",
    "with open('../../try/app/data/graph.json', 'w') as f: # Replace with local path to try dot.\\n\",\n",
    "    json.dump(graph.to_json(), f, indent=2)"
   ]
  }
 ],
 "metadata": {
  "kernelspec": {
   "display_name": ".venv",
   "language": "python",
   "name": "python3"
  },
  "language_info": {
   "codemirror_mode": {
    "name": "ipython",
    "version": 3
   },
   "file_extension": ".py",
   "mimetype": "text/x-python",
   "name": "python",
   "nbconvert_exporter": "python",
   "pygments_lexer": "ipython3",
   "version": "3.10.9"
  }
 },
 "nbformat": 4,
 "nbformat_minor": 2
}
