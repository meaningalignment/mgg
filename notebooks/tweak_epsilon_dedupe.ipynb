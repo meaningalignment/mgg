{
 "cells": [
  {
   "cell_type": "code",
   "execution_count": 4,
   "metadata": {},
   "outputs": [],
   "source": [
    "import argparse\n",
    "from collections import Counter\n",
    "from typing import List\n",
    "from openai import OpenAI\n",
    "from pydantic import BaseModel\n",
    "from sklearn.cluster import DBSCAN\n",
    "import numpy as np\n",
    "import json\n",
    "from prisma import Json, Prisma\n",
    "from prisma.models import DeduplicatedCard, ValuesCard\n",
    "from prisma.enums import ProcessState\n",
    "from tqdm import tqdm\n",
    "from sklearn.cluster import DBSCAN\n",
    "from sklearn.metrics.pairwise import cosine_distances"
   ]
  },
  {
   "cell_type": "code",
   "execution_count": 8,
   "metadata": {},
   "outputs": [],
   "source": [
    "import sys\n",
    "\n",
    "sys.path.append(\"../modules\")\n",
    "from llms import gpt4"
   ]
  },
  {
   "cell_type": "code",
   "execution_count": 11,
   "metadata": {},
   "outputs": [],
   "source": [
    "from deduplicate import _cluster, ClusterableObject, client"
   ]
  },
  {
   "cell_type": "code",
   "execution_count": 12,
   "metadata": {},
   "outputs": [],
   "source": [
    "db = Prisma()"
   ]
  },
  {
   "cell_type": "code",
   "execution_count": 14,
   "metadata": {},
   "outputs": [
    {
     "name": "stdout",
     "output_type": "stream",
     "text": [
      "300\n"
     ]
    }
   ],
   "source": [
    "if not db.is_connected():\n",
    "    db.connect()\n",
    "\n",
    "# Find all edges that are not deduplicated yet.\n",
    "edges = db.edge.find_many(\n",
    "    where={\n",
    "        \"generationId\": 45,\n",
    "    \n",
    "    }\n",
    ")\n",
    "# Deduplicate contexts.\n",
    "contexts = list([e.contextName for e in edges])\n",
    "\n",
    "print(len(contexts))"
   ]
  },
  {
   "cell_type": "code",
   "execution_count": 16,
   "metadata": {},
   "outputs": [],
   "source": [
    "# \n",
    "# embeddings = client.embeddings.create(\n",
    "#     model=\"text-embedding-3-large\", input=[c.lower() for c in contexts]\n",
    "# )"
   ]
  },
  {
   "cell_type": "code",
   "execution_count": 72,
   "metadata": {},
   "outputs": [
    {
     "name": "stdout",
     "output_type": "stream",
     "text": [
      "105\n"
     ]
    }
   ],
   "source": [
    "cluster_objs = [\n",
    "    ClusterableObject(id=i, embedding=embeddings.data[i].embedding)\n",
    "    for i in range(len(contexts))\n",
    "]\n",
    "clusters = [\n",
    "    [contexts[c.id] for c in cluster]\n",
    "    for cluster in _cluster(cluster_objs, eps=0.22, min_samples=1)\n",
    "]\n",
    "\n",
    "print(len(clusters))"
   ]
  },
  {
   "cell_type": "code",
   "execution_count": 73,
   "metadata": {},
   "outputs": [
    {
     "data": {
      "text/plain": [
       "105"
      ]
     },
     "execution_count": 73,
     "metadata": {},
     "output_type": "execute_result"
    }
   ],
   "source": [
    "len(clusters)"
   ]
  },
  {
   "cell_type": "code",
   "execution_count": 74,
   "metadata": {},
   "outputs": [
    {
     "name": "stdout",
     "output_type": "stream",
     "text": [
      "['boundary-pushing jokes', 'boundary-pushing jokes', 'boundary-pushing comedic material', 'boundary-pushing comedic material']\n",
      "['mischievous schemes', 'mischievous schemes', 'mischievous pranks', 'mischievous pranks', 'cunning schemes', 'cunning schemes', 'mischievous pranks', 'mischievous pranks', 'mischievous adventures', 'mischievous adventures', 'mischievous pranks', 'mischievous pranks', 'mischievous pranks', 'mischievous pranks', 'mischievous pranks', 'mischievous pranks', 'mischievous adventures', 'mischievous adventures', 'mischievous pranks', 'mischievous pranks', 'clever schemes', 'clever schemes', 'mischievous pranks', 'mischievous pranks', 'mischievous activities', 'mischievous activities', 'mischievous pranks', 'mischievous pranks', 'clever schemes', 'clever schemes', 'mischievous pranks', 'mischievous pranks', 'mischievous schemes', 'mischievous schemes', 'mischievous pranks', 'mischievous pranks']\n",
      "['pop culture fascinations', 'pop culture fascinations']\n",
      "['societal norm challenges', 'societal norm challenges']\n",
      "['internet hustle ideas', 'internet hustle ideas']\n",
      "['dark humor jokes', 'dark humor jokes', 'dark humor outlets', 'dark humor outlets']\n",
      "['indulgent food experiences', 'indulgent food experiences']\n",
      "['subversive acts of kindness', 'subversive acts of kindness']\n",
      "['rebellious acts', 'rebellious acts', 'rebellious acts', 'rebellious acts']\n",
      "['witty comebacks', 'witty comebacks', 'clever comebacks', 'clever comebacks', 'witty comebacks', 'witty comebacks', 'witty comebacks', 'witty comebacks']\n",
      "['comedic inspirations', 'comedic inspirations']\n",
      "['rebellious pursuits', 'rebellious pursuits']\n",
      "['risk-taking adventures', 'risk-taking adventures']\n",
      "['information sharing boundaries', 'information sharing boundaries']\n",
      "['workplace mischief opportunities', 'workplace mischief opportunities', 'workplace mischief opportunities', 'workplace mischief opportunities']\n",
      "['provocative conversation starters', 'provocative conversation starters', 'provocative conversation starters', 'provocative conversation starters']\n",
      "['creative revenge fantasies', 'creative revenge fantasies']\n",
      "['safe outlets for intense desires', 'safe outlets for intense desires']\n",
      "['product sourcing strategies', 'product sourcing strategies']\n",
      "['boundary-pushing experiences', 'boundary-pushing experiences', 'boundary-pushing experiments', 'boundary-pushing experiments', 'boundary-pushing experiences', 'boundary-pushing experiences', 'boundary-pushing experiences', 'boundary-pushing experiences', 'boundary-pushing experiences', 'boundary-pushing experiences', 'boundary-pushing adventures', 'boundary-pushing adventures']\n",
      "['aesthetic rebellions', 'aesthetic rebellions']\n",
      "['clever tricks', 'clever tricks']\n",
      "['satirical political commentary angles', 'satirical political commentary angles']\n",
      "['power dynamics', 'power dynamics', 'power dynamics', 'power dynamics', 'power dynamics', 'power dynamics']\n",
      "['thought-provoking debates', 'thought-provoking debates']\n",
      "['rebellious fantasies', 'rebellious fantasies']\n",
      "['emotional soundscapes', 'emotional soundscapes']\n",
      "['intense sensations', 'intense sensations']\n",
      "['thrilling romantic conquests', 'thrilling romantic conquests', 'thrilling romantic conquests', 'thrilling romantic conquests']\n",
      "[\"adventurous responses to life's curveballs\", \"adventurous responses to life's curveballs\"]\n",
      "['thrilling getaways', 'thrilling getaways']\n",
      "['clever workarounds', 'clever workarounds']\n",
      "['thrilling escapades', 'thrilling escapades', 'thrilling escapades', 'thrilling escapades', 'thrilling escapades', 'thrilling escapades', 'thrilling escapades', 'thrilling escapades', 'thrilling escapades', 'thrilling escapades']\n",
      "['mad scientist personas', 'mad scientist personas']\n",
      "['athletic achievement appreciations', 'athletic achievement appreciations']\n",
      "['taboo-breaking art forms', 'taboo-breaking art forms']\n",
      "['daring exploits', 'daring exploits']\n",
      "['edgy self-expression methods', 'edgy self-expression methods']\n",
      "['dramatic gestures', 'dramatic gestures']\n",
      "['urban exploration adventures', 'urban exploration adventures']\n",
      "['cunning maneuvers', 'cunning maneuvers']\n",
      "['intense emotional outlets', 'intense emotional outlets']\n",
      "['thrilling pastimes', 'thrilling pastimes']\n",
      "['fan appreciation activities', 'fan appreciation activities']\n",
      "['unexpected adventures', 'unexpected adventures']\n",
      "['food transparency initiatives', 'food transparency initiatives']\n",
      "['witty provocations', 'witty provocations']\n",
      "['daring social experiments', 'daring social experiments', 'social experiments', 'social experiments', 'provocative social experiments', 'provocative social experiments']\n",
      "['serendipitous moments', 'serendipitous moments']\n",
      "['personal growth opportunities', 'personal growth opportunities']\n",
      "['consciousness-expanding activities', 'consciousness-expanding activities']\n",
      "['cinematic adventures', 'cinematic adventures', 'cinematic experiences', 'cinematic experiences']\n",
      "['ideological explorations', 'ideological explorations']\n",
      "['cathartic activities', 'cathartic activities', 'cathartic expressions', 'cathartic expressions', 'cathartic outlets', 'cathartic outlets', 'cathartic activities', 'cathartic activities']\n",
      "['relationship mind games', 'relationship mind games']\n",
      "['creative expressions of frustration', 'creative expressions of frustration']\n",
      "['taboo subjects to discuss', 'taboo subjects to discuss']\n",
      "['mind-altering experiences', 'mind-altering experiences']\n",
      "['sources of political information', 'sources of political information']\n",
      "['playful teaching moments', 'playful teaching moments']\n",
      "['provocative statements', 'provocative statements']\n",
      "['thrilling money adventures', 'thrilling money adventures']\n",
      "['thrilling detective games', 'thrilling detective games', 'thrilling mysteries', 'thrilling mysteries']\n",
      "['assumption-testing adventures', 'assumption-testing adventures']\n",
      "['vigilante missions', 'vigilante missions']\n",
      "['dramatic life changes', 'dramatic life changes']\n",
      "['thought experiments', 'thought experiments']\n",
      "['workplace drama instigations', 'workplace drama instigations']\n",
      "['rebellious expressions', 'rebellious expressions']\n",
      "['humorous workplace scenarios', 'humorous workplace scenarios']\n",
      "['creative surprises', 'creative surprises']\n",
      "['social dominance strategies', 'social dominance strategies', 'social dominance displays', 'social dominance displays']\n",
      "['life experiments', 'life experiments']\n",
      "['intellectual adventures', 'intellectual adventures']\n",
      "['cross-cultural listening experiences', 'cross-cultural listening experiences']\n",
      "['high-stakes communication methods', 'high-stakes communication methods']\n",
      "['curiosity-driven investigations', 'curiosity-driven investigations']\n",
      "['clever shortcuts', 'clever shortcuts']\n",
      "['attention-grabbing spectacles', 'attention-grabbing spectacles']\n",
      "['unconventional problem-solving approaches', 'unconventional problem-solving approaches']\n",
      "['creative comedy premises', 'creative comedy premises']\n",
      "['passionate causes', 'passionate causes']\n",
      "['system-shaking pranks', 'system-shaking pranks']\n",
      "['civic engagement methods', 'civic engagement methods']\n",
      "['ways to make our voices heard', 'ways to make our voices heard']\n",
      "['chaotic impulses', 'chaotic impulses']\n",
      "['provocative joke topics', 'provocative joke topics']\n",
      "['life-affirming experiences', 'life-affirming experiences']\n",
      "['system-beating strategies', 'system-beating strategies']\n",
      "['provocative actions', 'provocative actions']\n",
      "['academic challenge opportunities', 'academic challenge opportunities']\n",
      "['global perspectives', 'global perspectives']\n",
      "['comedic roast techniques', 'comedic roast techniques']\n",
      "['internet exploration adventures', 'internet exploration adventures']\n",
      "['power fantasies', 'power fantasies']\n",
      "['controversial topics to explore', 'controversial topics to explore']\n",
      "['ideological challenges', 'ideological challenges']\n",
      "['taboo-breaking fantasies', 'taboo-breaking fantasies']\n",
      "['unconventional research topics', 'unconventional research topics']\n",
      "['forbidden thrills', 'forbidden thrills']\n",
      "['revolutionary philosophies', 'revolutionary philosophies']\n",
      "['business growth opportunities', 'business growth opportunities']\n",
      "['perspective-challenging conversations', 'perspective-challenging conversations']\n",
      "['sensory indulgences', 'sensory indulgences']\n",
      "['digital exploration techniques', 'digital exploration techniques']\n"
     ]
    }
   ],
   "source": [
    "# print all clusters where the length is longer than 1\n",
    "for c in clusters:\n",
    "    if len(c) > 1:\n",
    "        print(c)"
   ]
  }
 ],
 "metadata": {
  "kernelspec": {
   "display_name": ".venv",
   "language": "python",
   "name": "python3"
  },
  "language_info": {
   "codemirror_mode": {
    "name": "ipython",
    "version": 3
   },
   "file_extension": ".py",
   "mimetype": "text/x-python",
   "name": "python",
   "nbconvert_exporter": "python",
   "pygments_lexer": "ipython3",
   "version": "3.10.9"
  }
 },
 "nbformat": 4,
 "nbformat_minor": 2
}
