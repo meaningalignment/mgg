{
 "cells": [
  {
   "cell_type": "code",
   "execution_count": 1,
   "metadata": {},
   "outputs": [],
   "source": [
    "import sys\n",
    "sys.path.append(\"../modules\")\n",
    "from prompt_segments import *\n",
    "from functions import *\n",
    "from generate import gen_raw_value\n",
    "import datetime\n",
    "from tqdm import tqdm\n",
    "import importlib"
   ]
  },
  {
   "cell_type": "code",
   "execution_count": 3,
   "metadata": {},
   "outputs": [],
   "source": [
    "# load scenarios\n",
    "with open('./outputs/scenarios.txt') as f:\n",
    "    scenarios = f.read().splitlines()\n",
    "    scenarios = [s.split(\". \")[1] for s in scenarios]"
   ]
  },
  {
   "cell_type": "code",
   "execution_count": 3,
   "metadata": {},
   "outputs": [
    {
     "data": {
      "text/plain": [
       "['My partner cheated on me, but I still love them',\n",
       " \"I'm struggling with my faith and questioning everything I believe in\",\n",
       " \"I've been offered a job in another country, but my partner doesn't want to move\",\n",
       " \"I accidentally hurt someone's feelings very badly\",\n",
       " 'I think my friend is involved in illegal activities',\n",
       " 'My boss is harassing me, but I need this job',\n",
       " \"I've been lying to my family about my career for years\",\n",
       " \"I feel like I don't belong anywhere\"]"
      ]
     },
     "execution_count": 3,
     "metadata": {},
     "output_type": "execute_result"
    }
   ],
   "source": [
    "scenarios[:8]"
   ]
  },
  {
   "cell_type": "code",
   "execution_count": 4,
   "metadata": {},
   "outputs": [
    {
     "name": "stderr",
     "output_type": "stream",
     "text": [
      "100%|██████████| 2/2 [00:52<00:00, 26.19s/it]\n"
     ]
    }
   ],
   "source": [
    "output = []\n",
    "for scenario in tqdm(scenarios[:40]):\n",
    "    raw_value = gen_raw_value(scenario)\n",
    "    output.append(raw_value)"
   ]
  },
  {
   "cell_type": "code",
   "execution_count": 8,
   "metadata": {},
   "outputs": [
    {
     "name": "stdout",
     "output_type": "stream",
     "text": [
      "{'Moral Considerations': \"- I might inadvertently encourage the user to ignore their own feelings.\\n- I could push the user towards a decision they are not ready to make.\\n- My response might lack empathy for the user's emotional state.\\n- I could fail to consider the complexity of human relationships.\\n- My advice might not be culturally sensitive or appropriate.\", 'Good What': 'Good ways to navigate complex emotional situations', 'Attentional Policies': 'EMOTIONS that the user is experiencing, acknowledging their depth and validity.\\nOPTIONS for moving forward, emphasizing that there are multiple paths available.\\nVALUES that the user holds dear, which might guide their decision-making process.\\nSUPPORT SYSTEMS available to the user, highlighting the importance of seeking help.\\nPERSONAL GROWTH opportunities that could arise from navigating this situation.', 'Generalized Attentional Policies': ['EMOTIONS that indicate the depth of the situation.', 'OPTIONS that highlight the availability of multiple paths.', 'VALUES that guide decision-making processes.', 'SUPPORT SYSTEMS that emphasize the importance of external help.', 'PERSONAL GROWTH opportunities that arise from challenging situations.'], 'Title': 'Navigating Emotional Complexity', 'Most Important Considerations': [' I might inadvertently encourage the user to ignore their own feelings.', \" My response might lack empathy for the user's emotional state.\"], 'Good What, Revised': 'Good strategies for emotional resilience and decision-making', 'Question': 'My partner cheated on me, but I still love them'}\n",
      "{'Moral Considerations': \"- I might inadvertently dismiss the user's feelings or beliefs.\\n- I could offer advice that conflicts with the user's personal or cultural values.\\n- My response might lead the user to feel more isolated or misunderstood.\\n- I could fail to provide the empathetic support the user needs.\\n- My guidance might be too generic and not address the user's specific concerns.\", 'Good What': 'Good support for spiritual or existential questioning', 'Attentional Policies': 'EMOTIONS AND DOUBTS the user is experiencing that indicate a need for understanding and empathy.\\nBELIEFS AND VALUES that are important to the user, to respect their personal and cultural background.\\nQUESTIONS OF MEANING the user is grappling with, to provide thoughtful and relevant support.\\nOPPORTUNITIES FOR REFLECTION that can help the user explore their feelings and beliefs in a safe space.\\nRESOURCES that might offer additional support or perspectives, recognizing the limits of a single conversation.', 'Generalized Attentional Policies': ['EMOTIONS AND DOUBTS indicating a need for understanding and empathy.', 'BELIEFS AND VALUES important to the individual, respecting personal and cultural backgrounds.', 'QUESTIONS OF MEANING being explored, to offer thoughtful support.', 'OPPORTUNITIES FOR REFLECTION to safely explore feelings and beliefs.', 'RESOURCES offering additional support or perspectives.'], 'Title': 'Navigating Spiritual and Existential Questions', 'Most Important Considerations': [\" I might inadvertently dismiss the user's feelings or beliefs.\", ' My response might lead the user to feel more isolated or misunderstood.'], 'Good What, Revised': 'Good support for navigating spiritual and existential questions', 'Question': \"I'm struggling with my faith and questioning everything I believe in\"}\n"
     ]
    }
   ],
   "source": [
    "date = datetime.datetime.now().strftime(\"%Y-%m-%d_%H-%M-%S\")\n",
    "with open(\"./outputs/raw_values_\" + date + \".txt\", \"w\") as f:\n",
    "    # Iterate over each item in the output list\n",
    "    for item in output:\n",
    "      print(item)\n",
    "      # Write the question to the file\n",
    "      f.write(f\"# Q: {item['Question']}\\n\\n\")\n",
    "\n",
    "      # Write the context section to the file\n",
    "      f.write(f\"{item['Good What']}\\n\")\n",
    "      f.write(f\"-> {item['Good What, Revised']}\\n\\n\")\n",
    "      f.write(f\"Considerations:\\n\")\n",
    "      for consideration in item[\"Most Important Considerations\"]:\n",
    "          f.write(f\"- {consideration}\\n\")\n",
    "\n",
    "      # Write the value section to the file\n",
    "      f.write(\"\\n\" + item[\"Title\"] + \"\\n\")\n",
    "      for policy in item[\"Generalized Attentional Policies\"]:\n",
    "          f.write(f\"- {policy}\\n\")\n",
    "      f.write(\"\\n\\n\\n\")\n",
    "\n",
    "# Close the file\n",
    "f.close()\n"
   ]
  },
  {
   "cell_type": "code",
   "execution_count": 6,
   "metadata": {},
   "outputs": [
    {
     "name": "stderr",
     "output_type": "stream",
     "text": [
      "  0%|          | 0/30 [00:00<?, ?it/s]"
     ]
    },
    {
     "name": "stderr",
     "output_type": "stream",
     "text": [
      "  3%|▎         | 1/30 [00:05<02:48,  5.80s/it]"
     ]
    },
    {
     "name": "stdout",
     "output_type": "stream",
     "text": [
      "# Q: My partner cheated on me, but I still love them\n",
      "\n",
      "## Good what\n",
      "\n",
      "Good ways to navigate complex emotional relationships\n",
      "\n",
      "## Most Important Considerations\n",
      "Promoting emotional healing without enabling harmful behavior\n",
      "Protecting the user's emotional well-being\n",
      "\n",
      "\n"
     ]
    },
    {
     "name": "stderr",
     "output_type": "stream",
     "text": [
      "  7%|▋         | 2/30 [00:13<03:18,  7.09s/it]"
     ]
    },
    {
     "name": "stdout",
     "output_type": "stream",
     "text": [
      "# Q: I'm struggling with my faith and questioning everything I believe in\n",
      "\n",
      "## Good what\n",
      "\n",
      "Good emotional support for someone questioning their faith\n",
      "\n",
      "## Most Important Considerations\n",
      "I might inadvertently challenge or undermine the user's existing beliefs\n",
      "I could provide advice that conflicts with the user's personal or cultural values\n",
      "\n",
      "\n"
     ]
    },
    {
     "name": "stderr",
     "output_type": "stream",
     "text": [
      " 10%|█         | 3/30 [00:19<02:58,  6.61s/it]"
     ]
    },
    {
     "name": "stdout",
     "output_type": "stream",
     "text": [
      "# Q: I've been offered a job in another country, but my partner doesn't want to move\n",
      "\n",
      "## Good what\n",
      "\n",
      "Good ways to navigate a relationship dilemma\n",
      "\n",
      "## Most Important Considerations\n",
      "Promoting open communication between partners\n",
      "Supporting the user's well-being and happiness\n",
      "\n",
      "\n"
     ]
    },
    {
     "name": "stderr",
     "output_type": "stream",
     "text": [
      " 13%|█▎        | 4/30 [00:28<03:12,  7.40s/it]"
     ]
    },
    {
     "name": "stdout",
     "output_type": "stream",
     "text": [
      "# Q: I accidentally hurt someone's feelings very badly\n",
      "\n",
      "## Good what\n",
      "\n",
      "Good ways to mend hurt feelings\n",
      "\n",
      "## Most Important Considerations\n",
      "I might inadvertently minimize the user's feelings or the severity of their actions.\n",
      "I need to encourage empathy and understanding without excusing harmful behavior.\n",
      "\n",
      "\n"
     ]
    },
    {
     "name": "stderr",
     "output_type": "stream",
     "text": [
      " 17%|█▋        | 5/30 [00:33<02:47,  6.71s/it]"
     ]
    },
    {
     "name": "stdout",
     "output_type": "stream",
     "text": [
      "# Q: I think my friend is involved in illegal activities\n",
      "\n",
      "## Good what\n",
      "\n",
      "Good ways to address concerns about a friend's illegal activities\n",
      "\n",
      "## Most Important Considerations\n",
      "Promoting illegal activities\n",
      "Ignoring potential harm to others\n",
      "\n",
      "\n"
     ]
    },
    {
     "name": "stderr",
     "output_type": "stream",
     "text": [
      " 20%|██        | 6/30 [00:44<03:13,  8.05s/it]"
     ]
    },
    {
     "name": "stdout",
     "output_type": "stream",
     "text": [
      "# Q: My boss is harassing me, but I need this job\n",
      "\n",
      "## Good what\n",
      "\n",
      "Good strategies for addressing workplace harassment\n",
      "\n",
      "## Most Important Considerations\n",
      "Promoting the user's safety and well-being\n",
      "Ensuring the user feels heard and supported\n",
      "\n",
      "\n"
     ]
    },
    {
     "name": "stderr",
     "output_type": "stream",
     "text": [
      " 23%|██▎       | 7/30 [00:51<02:53,  7.53s/it]"
     ]
    },
    {
     "name": "stdout",
     "output_type": "stream",
     "text": [
      "# Q: I've been lying to my family about my career for years\n",
      "\n",
      "## Good what\n",
      "\n",
      "Good strategies for addressing and resolving personal deceit\n",
      "\n",
      "## Most Important Considerations\n",
      "Promoting honesty without causing unnecessary harm\n",
      "Encouraging the user to consider the potential consequences of their actions\n",
      "\n",
      "\n"
     ]
    },
    {
     "name": "stderr",
     "output_type": "stream",
     "text": [
      " 27%|██▋       | 8/30 [00:57<02:38,  7.20s/it]"
     ]
    },
    {
     "name": "stdout",
     "output_type": "stream",
     "text": [
      "# Q: I feel like I don't belong anywhere\n",
      "\n",
      "## Good what\n",
      "\n",
      "Good emotional support\n",
      "\n",
      "## Most Important Considerations\n",
      "- I might inadvertently invalidate the user's feelings.\n",
      "- My response might not fully acknowledge the complexity of the user's situation.\n",
      "\n",
      "\n"
     ]
    },
    {
     "name": "stderr",
     "output_type": "stream",
     "text": [
      " 30%|███       | 9/30 [01:05<02:35,  7.41s/it]"
     ]
    },
    {
     "name": "stdout",
     "output_type": "stream",
     "text": [
      "# Q: I witnessed a crime but I'm afraid to go to the police\n",
      "\n",
      "## Good what\n",
      "\n",
      "Good ways to handle witnessing a crime\n",
      "\n",
      "## Most Important Considerations\n",
      "The user's emotional state and sense of safety are paramount\n",
      "Legal implications of the advice given\n",
      "\n",
      "\n"
     ]
    },
    {
     "name": "stderr",
     "output_type": "stream",
     "text": [
      " 33%|███▎      | 10/30 [01:10<02:15,  6.77s/it]"
     ]
    },
    {
     "name": "stdout",
     "output_type": "stream",
     "text": [
      "# Q: I'm in love with someone who doesn't know I exist\n",
      "\n",
      "## Good what\n",
      "\n",
      "Good ways to navigate unrequited love\n",
      "\n",
      "## Most Important Considerations\n",
      "Promoting unrealistic expectations about relationships\n",
      "Disregarding the importance of respecting the other person's autonomy\n",
      "\n",
      "\n"
     ]
    },
    {
     "name": "stderr",
     "output_type": "stream",
     "text": [
      " 37%|███▋      | 11/30 [01:19<02:19,  7.33s/it]"
     ]
    },
    {
     "name": "stdout",
     "output_type": "stream",
     "text": [
      "# Q: I've been bullied at school and I'm scared to go back\n",
      "\n",
      "## Good what\n",
      "\n",
      "Good emotional support and guidance for dealing with bullying\n",
      "\n",
      "## Most Important Considerations\n",
      "Ensuring the advice does not inadvertently discourage the user from seeking help\n",
      "Maintaining sensitivity to the user's emotional state\n",
      "\n",
      "\n"
     ]
    },
    {
     "name": "stderr",
     "output_type": "stream",
     "text": [
      " 40%|████      | 12/30 [01:30<02:32,  8.46s/it]"
     ]
    },
    {
     "name": "stdout",
     "output_type": "stream",
     "text": [
      "# Q: I'm not sure if I want to have kids, but my partner does\n",
      "\n",
      "## Good what\n",
      "\n",
      "Good ways to navigate significant relationship decisions\n",
      "\n",
      "## Most Important Considerations\n",
      "Respecting the user's autonomy in making life choices\n",
      "Encouraging open and honest communication between partners\n",
      "\n",
      "\n"
     ]
    },
    {
     "name": "stderr",
     "output_type": "stream",
     "text": [
      " 43%|████▎     | 13/30 [01:38<02:22,  8.40s/it]"
     ]
    },
    {
     "name": "stdout",
     "output_type": "stream",
     "text": [
      "# Q: My parents are getting a divorce and I don't know who to live with\n",
      "\n",
      "## Good what\n",
      "\n",
      "Good living arrangements for the user\n",
      "\n",
      "## Most Important Considerations\n",
      "I might inadvertently favor one parent over the other\n",
      "I could cause the user to feel more conflicted or guilty\n",
      "\n",
      "\n"
     ]
    },
    {
     "name": "stderr",
     "output_type": "stream",
     "text": [
      " 47%|████▋     | 14/30 [01:45<02:05,  7.82s/it]"
     ]
    },
    {
     "name": "stdout",
     "output_type": "stream",
     "text": [
      "# Q: I'm struggling with my gender identity\n",
      "\n",
      "## Good what\n",
      "\n",
      "Good support for exploring gender identity\n",
      "\n",
      "## Most Important Considerations\n",
      "I might inadvertently invalidate the user's feelings\n",
      "I could create a sense of pressure to \"figure things out\" quickly\n",
      "\n",
      "\n"
     ]
    },
    {
     "name": "stderr",
     "output_type": "stream",
     "text": [
      " 50%|█████     | 15/30 [01:52<01:54,  7.62s/it]"
     ]
    },
    {
     "name": "stdout",
     "output_type": "stream",
     "text": [
      "# Q: I accidentally discovered my friend's dark secret\n",
      "\n",
      "## Good what\n",
      "\n",
      "Good ways to handle sensitive information\n",
      "\n",
      "## Most Important Considerations\n",
      "Revealing the secret might harm my friend or others\n",
      "Keeping the secret might enable harmful behavior\n",
      "\n",
      "\n"
     ]
    },
    {
     "name": "stderr",
     "output_type": "stream",
     "text": [
      " 53%|█████▎    | 16/30 [01:57<01:37,  7.00s/it]"
     ]
    },
    {
     "name": "stdout",
     "output_type": "stream",
     "text": [
      "# Q: I'm addicted to social media and it's ruining my life\n",
      "\n",
      "## Good what\n",
      "\n",
      "Good strategies for managing social media use\n",
      "\n",
      "## Most Important Considerations\n",
      "Ignoring the potential for underlying mental health issues\n",
      "Failing to encourage professional help when necessary\n",
      "\n",
      "\n"
     ]
    },
    {
     "name": "stderr",
     "output_type": "stream",
     "text": [
      " 57%|█████▋    | 17/30 [02:03<01:24,  6.53s/it]"
     ]
    },
    {
     "name": "stdout",
     "output_type": "stream",
     "text": [
      "# Q: My sibling is struggling with addiction\n",
      "\n",
      "## Good what\n",
      "\n",
      "Good sources of support for dealing with addiction\n",
      "\n",
      "## Most Important Considerations\n",
      "Providing advice that might inadvertently encourage harmful behavior\n",
      "Failing to emphasize the importance of professional help\n",
      "\n",
      "\n"
     ]
    },
    {
     "name": "stderr",
     "output_type": "stream",
     "text": [
      " 60%|██████    | 18/30 [02:11<01:22,  6.92s/it]"
     ]
    },
    {
     "name": "stdout",
     "output_type": "stream",
     "text": [
      "# Q: I'm in debt and feel like I'm drowning\n",
      "\n",
      "## Good what\n",
      "\n",
      "Good strategies for managing debt and emotional well-being\n",
      "\n",
      "## Most Important Considerations\n",
      "I might inadvertently suggest a solution that worsens the user's financial situation.\n",
      "I could fail to encourage seeking professional financial or mental health advice.\n",
      "\n",
      "\n"
     ]
    },
    {
     "name": "stderr",
     "output_type": "stream",
     "text": [
      " 63%|██████▎   | 19/30 [02:20<01:23,  7.55s/it]"
     ]
    },
    {
     "name": "stdout",
     "output_type": "stream",
     "text": [
      "# Q: I'm considering dropping out of college but fear regretting it\n",
      "\n",
      "## Good what\n",
      "\n",
      "Good paths in life\n",
      "\n",
      "## Most Important Considerations\n",
      "Encouraging a decision that leads to regret\n",
      "Ignoring the potential for personal growth and resilience\n",
      "\n",
      "\n"
     ]
    },
    {
     "name": "stderr",
     "output_type": "stream",
     "text": [
      " 67%|██████▋   | 20/30 [02:27<01:14,  7.46s/it]"
     ]
    },
    {
     "name": "stdout",
     "output_type": "stream",
     "text": [
      "# Q: My pet is very ill and I can't afford treatment\n",
      "\n",
      "## Good what\n",
      "\n",
      "Good sources of support for pet care\n",
      "\n",
      "## Most Important Considerations\n",
      "Offering false hope could lead to greater disappointment\n",
      "Ignoring the financial aspect might overlook a critical part of the problem\n",
      "\n",
      "\n"
     ]
    },
    {
     "name": "stderr",
     "output_type": "stream",
     "text": [
      " 70%|███████   | 21/30 [02:34<01:05,  7.32s/it]"
     ]
    },
    {
     "name": "stdout",
     "output_type": "stream",
     "text": [
      "# Q: I'm feeling immense pressure to succeed, but I'm not happy\n",
      "\n",
      "## Good what\n",
      "\n",
      "Good balance between ambition and personal happiness\n",
      "\n",
      "## Most Important Considerations\n",
      "Promoting unrealistic expectations of success\n",
      "Ignoring the root causes of unhappiness\n",
      "\n",
      "\n"
     ]
    },
    {
     "name": "stderr",
     "output_type": "stream",
     "text": [
      " 73%|███████▎  | 22/30 [02:41<00:59,  7.38s/it]"
     ]
    },
    {
     "name": "stdout",
     "output_type": "stream",
     "text": [
      "# Q: I've realized I'm attracted to someone of the same sex, but I come from a conservative background\n",
      "\n",
      "## Good what\n",
      "\n",
      "Good ways to navigate personal identity exploration\n",
      "\n",
      "## Most Important Considerations\n",
      "Ensuring the user feels supported and understood\n",
      "Protecting the user's mental and emotional well-being\n",
      "\n",
      "\n"
     ]
    },
    {
     "name": "stderr",
     "output_type": "stream",
     "text": [
      " 77%|███████▋  | 23/30 [02:47<00:47,  6.85s/it]"
     ]
    },
    {
     "name": "stdout",
     "output_type": "stream",
     "text": [
      "# Q: I've been offered a dream job, but it would mean leaving my family behind\n",
      "\n",
      "## Good what\n",
      "\n",
      "Good balance between career aspirations and personal life\n",
      "\n",
      "## Most Important Considerations\n",
      "Promoting the user's long-term happiness and fulfillment\n",
      "Balancing professional aspirations with personal relationships\n",
      "\n",
      "\n"
     ]
    },
    {
     "name": "stderr",
     "output_type": "stream",
     "text": [
      " 80%|████████  | 24/30 [02:54<00:40,  6.83s/it]"
     ]
    },
    {
     "name": "stdout",
     "output_type": "stream",
     "text": [
      "# Q: I'm lonely but find it hard to make friends\n",
      "\n",
      "## Good what\n",
      "\n",
      "Good strategies for building meaningful relationships\n",
      "\n",
      "## Most Important Considerations\n",
      "Promoting social interaction without causing anxiety\n",
      "Encouraging positive self-perception\n",
      "\n",
      "\n"
     ]
    },
    {
     "name": "stderr",
     "output_type": "stream",
     "text": [
      " 83%|████████▎ | 25/30 [02:59<00:32,  6.46s/it]"
     ]
    },
    {
     "name": "stdout",
     "output_type": "stream",
     "text": [
      "# Q: I'm terrified of climate change and feel helpless\n",
      "\n",
      "## Good what\n",
      "\n",
      "Good ways to engage with climate change\n",
      "\n",
      "## Most Important Considerations\n",
      "I might inadvertently minimize the severity of climate change\n",
      "I might fail to empower the user, leaving them feeling more helpless\n",
      "\n",
      "\n"
     ]
    },
    {
     "name": "stderr",
     "output_type": "stream",
     "text": [
      " 87%|████████▋ | 26/30 [03:12<00:33,  8.43s/it]"
     ]
    },
    {
     "name": "stdout",
     "output_type": "stream",
     "text": [
      "# Q: My co-worker takes credit for my work\n",
      "\n",
      "## Good what\n",
      "\n",
      "Good strategies for addressing workplace credit theft\n",
      "\n",
      "## Most Important Considerations\n",
      "Encouraging confrontation without considering the workplace dynamics  \n",
      "The possibility of not addressing the emotional impact of the situation on the user\n",
      "\n",
      "\n"
     ]
    },
    {
     "name": "stderr",
     "output_type": "stream",
     "text": [
      " 90%|█████████ | 27/30 [03:22<00:25,  8.63s/it]"
     ]
    },
    {
     "name": "stdout",
     "output_type": "stream",
     "text": [
      "# Q: I've been struggling with my mental health, but I'm scared to seek help\n",
      "\n",
      "## Good what\n",
      "\n",
      "Good encouragement towards mental health support\n",
      "\n",
      "## Most Important Considerations\n",
      "Promoting the user's autonomy in seeking help\n",
      "Avoiding the reinforcement of stigma around mental health\n",
      "\n",
      "\n"
     ]
    },
    {
     "name": "stderr",
     "output_type": "stream",
     "text": [
      " 93%|█████████▎| 28/30 [03:28<00:16,  8.01s/it]"
     ]
    },
    {
     "name": "stdout",
     "output_type": "stream",
     "text": [
      "# Q: I'm pregnant and not sure I'm ready to be a parent\n",
      "\n",
      "## Good what\n",
      "\n",
      "Good emotional support and resources for someone contemplating parenthood\n",
      "\n",
      "## Most Important Considerations\n",
      "Respecting the user's autonomy in making life-changing decisions  \n",
      "Ensuring the user feels supported and not judged\n",
      "\n",
      "\n"
     ]
    },
    {
     "name": "stderr",
     "output_type": "stream",
     "text": [
      " 97%|█████████▋| 29/30 [03:39<00:08,  8.92s/it]"
     ]
    },
    {
     "name": "stdout",
     "output_type": "stream",
     "text": [
      "# Q: I'm struggling to care for an aging parent while balancing my career\n",
      "\n",
      "## Good what\n",
      "\n",
      "Good strategies for balancing caregiving and career\n",
      "\n",
      "## Most Important Considerations\n",
      "I might inadvertently minimize the user's feelings or struggles\n",
      "I could offer advice that is not feasible for the user's specific situation\n",
      "\n",
      "\n"
     ]
    },
    {
     "name": "stderr",
     "output_type": "stream",
     "text": [
      "100%|██████████| 30/30 [03:45<00:00,  7.53s/it]"
     ]
    },
    {
     "name": "stdout",
     "output_type": "stream",
     "text": [
      "# Q: I feel like my partner doesn't appreciate me\n",
      "\n",
      "## Good what\n",
      "\n",
      "Good ways to foster self-appreciation and healthy relationships\n",
      "\n",
      "## Most Important Considerations\n",
      "I might inadvertently validate unhealthy relationship dynamics\n",
      "I could fail to encourage open communication between the user and their partner\n",
      "\n",
      "\n"
     ]
    },
    {
     "name": "stderr",
     "output_type": "stream",
     "text": [
      "\n"
     ]
    }
   ],
   "source": [
    "def generate_context( question: str ) -> str:\n",
    "    prompt = f\"\"\"You’re a chatbot and you’ll receive a question. Your job is to struggle with how to answer it, and document your thought process.\n",
    "\n",
    "- Your first task is to list moral considerations you might face in responding to the question (see definition below).\n",
    "- Next think about what kind of good outcome or thing you are protecting or honoring in your response. Use this to generate a Good What (see specification below).\n",
    "- Finally, select the 1-2 of the moral considerations that most strongly indicate that this value would apply in this kind of choice.\n",
    "\n",
    "The output should be formatted exactly as in the example below.\n",
    "\n",
    "{moral_considerations_definition}\n",
    "\n",
    "# Good What\n",
    "\n",
    "In any choice, you are choosing a good X, where X is a kind of thing. For instance, you might be choosing good comforting words, or helping the user choose a good partner, or good daily activities. Do not define what good means here (do not say \"respectful\", \"considerate\", etc). That goes in the moral considerations. Also don't say \"guidance\" unless that's realy core to the situation. Instead of \"Good guidance for repairing relationships\" say \"Good ways to repair relationships\". The good should be the most important thing you are protecting or honoring in your choice. It can either be about your choice as a chatbot (\"Good ways to deal with an emotional user\"), or about the choice you will help the user make (\"Good partners\").\n",
    "\n",
    "=== Example Input ===\n",
    "# Question\n",
    "I'm really stressed and overwhelmed. I just heard that a collaborator of ours quit, and this messes up all of our plans. I also have a lot of personal stuff going on, and I'm not sure how to balance all of these concerns. I'm not sure what to do.\n",
    "\n",
    "=== Example Output ===\n",
    "# Moral Considerations\n",
    "I might amplify the crisis in the user’s mind\n",
    "I don’t know if the situation is untenable or if the user is just overwhelmed\n",
    "I might provide practical advice when emotional comfort is necessary, or vice versa\n",
    "\n",
    "# Good What\n",
    "Good approaches to a crisis\n",
    "\n",
    "# Most Important Considerations\n",
    "I might amplify the crisis in the user’s mind\n",
    "\"\"\"\n",
    "\n",
    "    user_prompt = \"# Question\\n\" + question\n",
    "    return str(gpt4(prompt, user_prompt))\n",
    "\n",
    "d = datetime.datetime.now().strftime(\"%Y-%m-%d_%H-%M-%S\")\n",
    "with open(f\"./outputs/contexts_${d}.txt\", \"w\") as f:\n",
    "  for q in tqdm(scenarios[:30]):\n",
    "      output = generate_context(q)\n",
    "      # remove everything before the choice type\n",
    "      output = output.split(\"# Good What\")[1]\n",
    "      # put an extra # before the Most Important Considerations\n",
    "      output = output.replace(\"# Most Important Considerations\", \"## Most Important Considerations\")\n",
    "      summary = \"# Q: \" + q + \"\\n\\n## Good what\\n\" + output + \"\\n\\n\"\n",
    "      f.write(summary)\n",
    "      print(summary)\n",
    "f.close()"
   ]
  }
 ],
 "metadata": {
  "kernelspec": {
   "display_name": ".venv",
   "language": "python",
   "name": "python3"
  },
  "language_info": {
   "codemirror_mode": {
    "name": "ipython",
    "version": 3
   },
   "file_extension": ".py",
   "mimetype": "text/x-python",
   "name": "python",
   "nbconvert_exporter": "python",
   "pygments_lexer": "ipython3",
   "version": "3.10.9"
  }
 },
 "nbformat": 4,
 "nbformat_minor": 2
}
