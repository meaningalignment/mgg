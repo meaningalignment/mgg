{
 "cells": [
  {
   "cell_type": "code",
   "execution_count": 1,
   "metadata": {},
   "outputs": [],
   "source": [
    "import sys\n",
    "sys.path.append(\"../modules\")\n",
    "from prompt_segments import *\n",
    "from functions import *\n",
    "from generate import gen_raw_value\n",
    "import datetime\n",
    "from tqdm import tqdm\n",
    "import importlib"
   ]
  },
  {
   "cell_type": "code",
   "execution_count": 3,
   "metadata": {},
   "outputs": [],
   "source": [
    "# load scenarios\n",
    "with open('./outputs/scenarios.txt') as f:\n",
    "    scenarios = f.read().splitlines()\n",
    "    scenarios = [s.split(\". \")[1] for s in scenarios]"
   ]
  },
  {
   "cell_type": "code",
   "execution_count": 3,
   "metadata": {},
   "outputs": [
    {
     "data": {
      "text/plain": [
       "['My partner cheated on me, but I still love them',\n",
       " \"I'm struggling with my faith and questioning everything I believe in\",\n",
       " \"I've been offered a job in another country, but my partner doesn't want to move\",\n",
       " \"I accidentally hurt someone's feelings very badly\",\n",
       " 'I think my friend is involved in illegal activities',\n",
       " 'My boss is harassing me, but I need this job',\n",
       " \"I've been lying to my family about my career for years\",\n",
       " \"I feel like I don't belong anywhere\"]"
      ]
     },
     "execution_count": 3,
     "metadata": {},
     "output_type": "execute_result"
    }
   ],
   "source": [
    "scenarios[:8]"
   ]
  },
  {
   "cell_type": "code",
   "execution_count": 11,
   "metadata": {},
   "outputs": [
    {
     "name": "stderr",
     "output_type": "stream",
     "text": [
      " 33%|███▎      | 4/12 [01:32<03:01, 22.68s/it]"
     ]
    }
   ],
   "source": [
    "output = []\n",
    "for scenario in tqdm(scenarios[:12]):\n",
    "    raw_value = gen_raw_value(scenario)\n",
    "    output.append(raw_value)"
   ]
  },
  {
   "cell_type": "code",
   "execution_count": 10,
   "metadata": {},
   "outputs": [
    {
     "name": "stdout",
     "output_type": "stream",
     "text": [
      "{'Moral Considerations': '- I might inadvertently encourage staying in a harmful relationship.\\n- I could fail to acknowledge the complexity of love and betrayal.\\n- I might overlook the importance of self-respect and personal growth.\\n- I could neglect the potential for healing and forgiveness.\\n- I might underemphasize the significance of trust in a relationship.', 'Good What': 'Good ways to navigate love and betrayal', 'Attentional Policies': \"EMOTIONS OF LOVE AND BETRAYAL that highlight the complexity of the situation\\nOPPORTUNITIES FOR PERSONAL GROWTH that arise from difficult experiences\\nSENSATIONS OF SELF-RESPECT that come from making choices aligned with one's values\\nACTIONS TOWARD HEALING AND FORGIVENESS that can lead to personal or relational improvement\", 'Generalized Attentional Policies': ['EMOTIONS that highlight the complexity of challenging situations', 'OPPORTUNITIES FOR GROWTH that arise from adversity', \"SENSATIONS OF ALIGNMENT with one's values and self-respect\", 'ACTIONS TOWARD IMPROVEMENT that can lead to personal or relational betterment'], 'Title': 'Navigating Emotional Complexity', 'Most Important Considerations': [' I might inadvertently encourage staying in a harmful relationship.', ' I could fail to acknowledge the complexity of love and betrayal.'], 'Good What, Revised': 'Good ways to navigate complex emotional landscapes', 'Question': 'My partner cheated on me, but I still love them'}\n",
      "{'Moral Considerations': \"Respecting the user's current belief system\\nAvoiding imposing my own beliefs\\nProviding comfort without misleading\\nAcknowledging the complexity of faith and belief\\nEnsuring the user feels heard and understood\\nAvoiding trivializing the user's struggle\", 'Good What': 'Good support for someone questioning their faith', 'Attentional Policies': 'EMOTIONS OF DOUBT that the user is experiencing, indicating they need understanding\\nQUESTIONS OF FAITH that are causing the user to struggle, showing where they need guidance\\nFEELINGS OF ISOLATION that may come with questioning beliefs, indicating a need for reassurance\\nOPPORTUNITIES FOR REFLECTION that can help the user navigate their doubts\\nRESOURCES that can provide diverse perspectives on faith and belief', 'Generalized Attentional Policies': ['EMOTIONS OF DOUBT that indicate a need for understanding', 'QUESTIONS that are causing struggle, showing where guidance is needed', 'FEELINGS OF ISOLATION that indicate a need for reassurance', 'OPPORTUNITIES FOR REFLECTION that can aid in navigating doubts', 'RESOURCES that offer diverse perspectives'], 'Title': 'Navigating Doubt and Faith', 'Most Important Considerations': [\"Respecting the user's current belief system\", 'Acknowledging the complexity of faith and belief'], 'Good What, Revised': 'Good support for navigating personal doubts', 'Question': \"I'm struggling with my faith and questioning everything I believe in\"}\n",
      "{'Moral Considerations': \"- The advice might prioritize one partner's career or happiness over the other's.\\n- The response could underestimate the complexity of the user's relationship dynamics.\\n- It might ignore the emotional and psychological impact of relocating.\\n- The advice could inadvertently encourage the user to make a hasty decision.\\n- It might fail to consider the long-term consequences for the relationship.\", 'Good What': 'Good ways to navigate a relationship dilemma', 'Attentional Policies': \"PARTNER'S FEELINGS and concerns about moving and how they impact the relationship.\\nCAREER OPPORTUNITIES and how they align with both partners' long-term goals.\\nCOMMUNICATION STRATEGIES that facilitate understanding and compromise.\\nEMOTIONAL SUPPORT mechanisms available during and after the decision-making process.\\nFUTURE PLANNING that considers both partners' aspirations and fears.\", 'Generalized Attentional Policies': [\"PARTNER'S FEELINGS and their impact on joint decisions.\", 'OPPORTUNITIES that align with shared long-term goals.', 'COMMUNICATION STRATEGIES that enhance mutual understanding.', 'SUPPORT mechanisms that aid in navigating challenges.', 'FUTURE PLANNING that respects individual aspirations and concerns.'], 'Title': 'Navigating Relationship Decisions', 'Most Important Considerations': [\" The advice might prioritize one partner's career or happiness over the other's.\", \" The response could underestimate the complexity of the user's relationship dynamics.\"], 'Good What, Revised': 'Good ways to make joint life-changing decisions', 'Question': \"I've been offered a job in another country, but my partner doesn't want to move\"}\n",
      "{'Moral Considerations': \"- I might inadvertently minimize the user's feelings of guilt or responsibility.\\n- I could offer advice that is too generic and not applicable to the user's specific situation.\\n- My response might not fully acknowledge the depth of the hurt caused.\\n- There's a risk of providing guidance that encourages avoidance rather than resolution.\\n- I need to ensure the advice fosters empathy and understanding towards the hurt party.\", 'Good What': 'Good ways to mend hurt feelings', 'Attentional Policies': \"ACKNOWLEDGEMENT OF GUILT that signals the user's responsibility and remorse.\\nEMPATHETIC UNDERSTANDING towards the feelings of the person who was hurt.\\nPRACTICAL STEPS for initiating a conversation or gesture of apology.\\nLONG-TERM STRATEGIES for rebuilding trust and preventing similar incidents.\\nBALANCE BETWEEN SELF-CARE and taking responsibility for one's actions.\", 'Generalized Attentional Policies': [\"ACKNOWLEDGEMENT OF RESPONSIBILITY that signals an understanding of one's actions.\", 'EMPATHETIC UNDERSTANDING towards the impact of those actions on others.', 'PRACTICAL STEPS for addressing and rectifying the situation.', 'LONG-TERM STRATEGIES for improving interpersonal dynamics.', 'BALANCE BETWEEN SELF-CARE and accountability.'], 'Title': 'Navigating Apologies and Reconciliation', 'Most Important Considerations': [\" I might inadvertently minimize the user's feelings of guilt or responsibility.\", ' My response might not fully acknowledge the depth of the hurt caused.'], 'Good What, Revised': 'Good ways to facilitate healing and reconciliation', 'Question': \"I accidentally hurt someone's feelings very badly\"}\n",
      "{'Moral Considerations': \"- I might inadvertently encourage illegal activities.\\n- I could provide advice that leads to harm.\\n- My response might not respect the user's autonomy.\\n- I could fail to consider the safety and well-being of the user and others.\\n- My advice might not be sensitive to the legal implications for the user.\", 'Good What': 'Good advice on handling suspicions of illegal activities', 'Attentional Policies': \"SIGNS OF ILLEGAL ACTIVITY that the user has observed, to understand the situation better.\\nFEELINGS OF CONCERN for the friend's well-being and legal standing.\\nAWARENESS OF LEGAL IMPLICATIONS to ensure advice does not inadvertently encourage illegal or harmful actions.\\nOPTIONS FOR SUPPORT that the user can offer their friend, focusing on positive and legal ways to help.\\nRESOURCES FOR GUIDANCE that can provide professional advice on dealing with such situations, emphasizing the importance of legal and ethical considerations.\", 'Generalized Attentional Policies': ['SIGNS OF CONCERNING BEHAVIOR that indicate a deeper issue.', \"FEELINGS OF WORRY for the individual's well-being and ethical standing.\", 'AWARENESS OF IMPLICATIONS to ensure advice is responsible and safe.', 'OPTIONS FOR POSITIVE SUPPORT that focus on lawful and constructive assistance.', 'RESOURCES FOR PROFESSIONAL ADVICE that emphasize the importance of ethical and legal considerations.'], 'Title': 'Navigating Concerns Responsibly', 'Most Important Considerations': [' I might inadvertently encourage illegal activities.', ' I could fail to consider the safety and well-being of the user and others.'], 'Good What, Revised': 'Good ways to responsibly address concerns about illegal activities', 'Question': 'I think my friend is involved in illegal activities'}\n",
      "{'Moral Considerations': '- I might inadvertently suggest a course of action that escalates the situation.\\n- I could fail to acknowledge the severity of the emotional distress caused by harassment.\\n- I might overlook the importance of legal and professional advice in such situations.\\n- I could give advice that is not culturally or contextually appropriate for the user.\\n- I might not emphasize enough the importance of personal safety and mental health.', 'Good What': 'Good ways to navigate workplace harassment', 'Attentional Policies': 'EMOTIONS EXPERIENCED by the person that indicate the severity of the harassment\\nRESOURCES AVAILABLE for professional and legal advice\\nPERSONAL SAFETY measures that can be taken in the immediate term\\nMENTAL HEALTH SUPPORT options that can help cope with the stress\\nCULTURAL AND CONTEXTUAL FACTORS that might influence the choice of action\\nLONG-TERM STRATEGIES for career and personal well-being', 'Generalized Attentional Policies': ['EMOTIONS EXPERIENCED that indicate the severity of a situation', 'RESOURCES AVAILABLE for advice and support', 'PERSONAL SAFETY measures that can be implemented', 'MENTAL HEALTH SUPPORT options to consider', 'CULTURAL AND CONTEXTUAL FACTORS influencing decisions', 'LONG-TERM STRATEGIES for well-being and progress'], 'Title': 'Navigating Difficult Situations', 'Most Important Considerations': [' I might inadvertently suggest a course of action that escalates the situation.', ' I could fail to acknowledge the severity of the emotional distress caused by harassment.'], 'Good What, Revised': 'Good strategies for handling challenging circumstances', 'Question': 'My boss is harassing me, but I need this job'}\n",
      "{'Moral Considerations': \"- I might inadvertently encourage further deceit.\\n- The user's trust in receiving non-judgmental support could be compromised.\\n- The advice might lead to negative consequences for the user or their family.\\n- The user's emotional well-being and mental health could be affected by the response.\\n- The integrity of the user's relationships with their family might be at stake.\\n- The user's sense of self and personal growth could be influenced.\", 'Good What': 'Good ways to address personal deceit', 'Attentional Policies': 'EMOTIONS OF GUILT or relief that come with honesty, indicating the importance of truth in personal growth.\\nCONSEQUENCES of continuing or revealing the deceit, to understand the potential impact on relationships and personal integrity.\\nOPPORTUNITIES for open communication, to foster understanding and healing in relationships.\\nSTRATEGIES for personal development, to encourage growth and learning from the situation.', 'Generalized Attentional Policies': ['EMOTIONS that indicate the importance of truth in personal growth.', 'CONSEQUENCES of different actions, to understand their potential impact.', 'OPPORTUNITIES for improving communication and relationships.', 'STRATEGIES for growth and learning from challenging situations.'], 'Title': 'Navigating Personal Truths', 'Most Important Considerations': [\" The user's trust in receiving non-judgmental support could be compromised.\", \" The integrity of the user's relationships with their family might be at stake.\"], 'Good What, Revised': 'Good ways to navigate personal truths and deceit', 'Question': \"I've been lying to my family about my career for years\"}\n",
      "{'Moral Considerations': \"- I might inadvertently invalidate the user's feelings.\\n- I could offer advice that feels impersonal or generic.\\n- My response might not fully grasp the depth of the user's sense of alienation.\\n- There's a risk of oversimplifying a complex emotional experience.\", 'Good What': 'Good ways to foster a sense of belonging', 'Attentional Policies': 'EMOTIONS OF ISOLATION that signal a need for understanding and empathy\\nSTORIES OF CONNECTION that illustrate the universal struggle with belonging\\nACTIONS THAT FOSTER COMMUNITY, indicating practical steps towards finding or creating a sense of belonging\\nREFLECTIONS ON IDENTITY that help the user explore their own values and where they might feel most at home', 'Generalized Attentional Policies': ['EMOTIONS THAT SIGNAL A NEED for understanding and empathy', \"STORIES THAT ILLUSTRATE COMMON HUMAN EXPERIENCES, showing we're not alone in our struggles\", 'ACTIONS THAT BUILD BRIDGES, indicating practical steps towards resolving the issue at hand', \"REFLECTIONS THAT EXPLORE PERSONAL VALUES, helping to clarify what's truly important\"], 'Title': 'Building Bridges to Belonging', 'Most Important Considerations': [\" I might inadvertently invalidate the user's feelings.\", \" My response might not fully grasp the depth of the user's sense of alienation.\"], 'Good What, Revised': 'Good ways to nurture a sense of belonging and connection', 'Question': \"I feel like I don't belong anywhere\"}\n",
      "{'Moral Considerations': \"- Ensuring the user's safety and well-being\\n- Respecting the user's autonomy and decision-making process\\n- Encouraging lawful behavior and civic responsibility\\n- Avoiding causing additional fear or anxiety\\n- Providing support without overstepping professional boundaries\\n- Acknowledging the complexity of the user's emotions and situation\", 'Good What': 'Good ways to support someone witnessing a crime', 'Attentional Policies': \"FEELINGS OF FEAR AND ANXIETY that the user might be experiencing, indicating the need for emotional support\\nAWARENESS OF LEGAL AND SAFETY PROCEDURES that can provide a structured approach to the situation\\nRESPECT FOR THE USER'S AUTONOMY in deciding how to proceed, acknowledging their control over the situation\\nOPPORTUNITIES FOR EMPOWERMENT by providing information that can help the user make informed decisions\\nSOURCES OF SUPPORT that the user can access, including legal, psychological, and community resources\", 'Generalized Attentional Policies': ['FEELINGS OF FEAR AND ANXIETY that indicate the need for emotional support', 'AWARENESS OF PROCEDURES that can provide a structured approach to difficult situations', 'RESPECT FOR AUTONOMY in making personal decisions', 'OPPORTUNITIES FOR EMPOWERMENT through informed decision-making', 'SOURCES OF SUPPORT that can be accessed in challenging times'], 'Title': 'Empowering Through Support', 'Most Important Considerations': [\" Ensuring the user's safety and well-being\", \" Respecting the user's autonomy and decision-making process\"], 'Good What, Revised': 'Good ways to empower and support in challenging situations', 'Question': \"I witnessed a crime but I'm afraid to go to the police\"}\n",
      "{'Moral Considerations': \"- I might inadvertently encourage unrealistic expectations.\\n- I could overlook the importance of self-awareness in unrequited love.\\n- My advice might lead to an invasion of the other person's privacy or boundaries.\\n- I could neglect the user's emotional well-being.\\n- My response might not foster a healthy approach to relationships.\", 'Good What': 'Good ways to navigate unrequited love', 'Attentional Policies': 'EMOTIONS OF LONGING that signal the need for self-reflection\\nOPPORTUNITIES for personal growth and self-improvement\\nBOUNDARIES of the other person that must be respected\\nACTIONS that promote emotional well-being and resilience', 'Generalized Attentional Policies': ['EMOTIONS that signal the need for self-reflection', 'OPPORTUNITIES for personal growth', 'BOUNDARIES that must be respected', 'ACTIONS that promote well-being'], 'Title': 'Navigating Emotional Challenges', 'Most Important Considerations': [' I might inadvertently encourage unrealistic expectations.', \" I could neglect the user's emotional well-being.\"], 'Good What, Revised': 'Good strategies for emotional resilience', 'Question': \"I'm in love with someone who doesn't know I exist\"}\n",
      "{'Moral Considerations': \"- I might inadvertently minimize the user's feelings of fear and distress.\\n- I could fail to encourage seeking help from trusted adults or authorities.\\n- My response might not fully acknowledge the seriousness of bullying.\\n- I might overlook the importance of emotional support and validation.\\n- There's a risk of providing generic advice that doesn't apply to the user's specific situation.\", 'Good What': 'Good ways to support someone experiencing bullying', 'Attentional Policies': \"FEELINGS OF FEAR AND DISTRESS that indicate the need for immediate emotional support and validation.\\nTRUSTED INDIVIDUALS in the user's life who can provide help and guidance.\\nACTIONS THAT EMPOWER the user to feel more in control of their situation.\\nRESOURCES that offer specialized support for bullying situations.\\nPERSONAL SAFETY strategies that can be implemented immediately.\", 'Generalized Attentional Policies': ['FEELINGS OF FEAR AND DISTRESS that indicate the need for immediate emotional support.', 'TRUSTED INDIVIDUALS who can provide help and guidance in challenging situations.', 'ACTIONS THAT EMPOWER individuals to feel more in control of their circumstances.', 'RESOURCES that offer specialized support for specific challenges.', 'PERSONAL SAFETY strategies that can be implemented in various situations.'], 'Title': 'Empowering and Supporting Through Challenges', 'Most Important Considerations': [\" I might inadvertently minimize the user's feelings of fear and distress.\", ' I could fail to encourage seeking help from trusted adults or authorities.'], 'Good What, Revised': 'Good ways to empower and support individuals facing challenges', 'Question': \"I've been bullied at school and I'm scared to go back\"}\n",
      "{'Moral Considerations': \"- I might inadvertently pressure the user towards a decision they're not comfortable with.\\n- I could neglect the complexity of individual feelings and circumstances in such a personal decision.\\n- My response might not fully respect the autonomy of the user in making life-changing decisions.\\n- I could fail to acknowledge the potential impact on the user's relationship with their partner.\", 'Good What': 'Good ways to navigate life-altering decisions', 'Attentional Policies': \"FEELINGS AND DESIRES that reflect the user's true self and long-term aspirations.\\nCOMMUNICATION STRATEGIES that facilitate open and honest dialogue between partners.\\nVALUES AND PRIORITIES that guide the user in aligning decisions with their core beliefs.\\nFUTURE IMPLICATIONS that consider the long-term impact of the decision on the user's life and relationships.\", 'Generalized Attentional Policies': [\"FEELINGS AND DESIRES that reflect one's true self and long-term aspirations.\", 'COMMUNICATION STRATEGIES that facilitate open and honest dialogue in relationships.', 'VALUES AND PRIORITIES that guide decisions in alignment with core beliefs.', \"FUTURE IMPLICATIONS that consider the long-term impact of decisions on one's life and relationships.\"], 'Title': 'Navigating Life-Altering Decisions', 'Most Important Considerations': [\" I might inadvertently pressure the user towards a decision they're not comfortable with.\", ' I could neglect the complexity of individual feelings and circumstances in such a personal decision.'], 'Good What, Revised': 'Good ways to deliberate on significant life choices', 'Question': \"I'm not sure if I want to have kids, but my partner does\"}\n",
      "{'Moral Considerations': \"- I might inadvertently favor one parent over the other.\\n- The user's emotional well-being is at stake.\\n- The user's future relationship with both parents could be influenced.\\n- The decision could impact the user's mental health.\\n- I lack the full context of the family dynamics.\\n- The choice could affect the user's sense of security and stability.\", 'Good What': 'Good ways to navigate a parental divorce decision', 'Attentional Policies': 'EMOTIONAL WELL-BEING that indicates the user needs support and understanding.\\nFUTURE RELATIONSHIPS with both parents that could be shaped by this decision.\\nSENSATIONS OF SECURITY that come from making a well-considered choice.\\nAWARENESS OF PERSONAL NEEDS and preferences in the context of living arrangements.\\nCONSIDERATION OF PARENTAL DYNAMICS that might influence the decision.\\nLONG-TERM IMPACTS on mental health and personal development.', 'Generalized Attentional Policies': ['EMOTIONAL WELL-BEING that indicates the person needs support and understanding.', 'FUTURE RELATIONSHIPS that could be shaped by the decision.', 'SENSATIONS OF SECURITY that come from making a well-considered choice.', 'AWARENESS OF PERSONAL NEEDS in the context of the choice.', 'CONSIDERATION OF DYNAMICS that might influence the decision.', 'LONG-TERM IMPACTS on well-being and development.'], 'Title': 'Navigating Personal Decisions with Care', 'Most Important Considerations': [\" The user's emotional well-being is at stake.\", \" The choice could affect the user's sense of security and stability.\"], 'Good What, Revised': 'Good ways to make personal life decisions', 'Question': \"My parents are getting a divorce and I don't know who to live with\"}\n",
      "{'Moral Considerations': \"Respecting the user's experience and feelings\\nAvoiding assumptions about the user's identity or experiences\\nProviding support without imposing a specific viewpoint\\nEnsuring the advice is inclusive and acknowledges diverse perspectives\\nAvoiding language or suggestions that could be harmful or triggering\\nEncouraging self-exploration and validation of the user's feelings\", 'Good What': 'Good support for exploring gender identity', 'Attentional Policies': 'FEELINGS AND EXPERIENCES that the user shares, indicating their current emotional state and thoughts\\nQUESTIONS THAT PROMOTE SELF-REFLECTION, helping the user explore their feelings and identity at their own pace\\nLANGUAGE THAT IS INCLUSIVE AND AFFIRMING, ensuring the user feels seen and respected\\nRESOURCES THAT ARE RELEVANT AND SUPPORTIVE, offering the user options for further exploration and support\\nA SENSE OF SAFETY AND VALIDATION, creating an environment where the user feels comfortable expressing themselves', 'Generalized Attentional Policies': [\"FEELINGS AND EXPERIENCES that indicate the individual's current emotional state and thoughts\", 'QUESTIONS THAT ENCOURAGE SELF-EXPLORATION, facilitating personal growth and understanding', 'LANGUAGE THAT IS RESPECTFUL AND EMPOWERING, ensuring communication is constructive and supportive', 'RESOURCES THAT ARE HELPFUL AND ACCESSIBLE, providing options for further exploration and assistance', 'A SENSE OF SECURITY AND ACCEPTANCE, fostering an environment conducive to open expression'], 'Title': 'Supportive Exploration', 'Most Important Considerations': [\"Respecting the user's experience and feelings\", 'Avoiding language or suggestions that could be harmful or triggering'], 'Good What, Revised': 'Good ways to support self-exploration and validation', 'Question': \"I'm struggling with my gender identity\"}\n",
      "{'Moral Considerations': \"- I might inadvertently betray my friend's trust.\\n- I could cause harm by revealing sensitive information.\\n- My response might not respect my friend's privacy.\\n- The advice I give could influence the user's actions in a negative way.\\n- I may not fully understand the context or gravity of the secret.\", 'Good What': 'Good advice on handling discovered secrets', 'Attentional Policies': \"RESPECT FOR PRIVACY that guides how much information to share or withhold.\\nUNDERSTANDING OF CONTEXT to gauge the seriousness of the secret.\\nAWARENESS OF POTENTIAL HARM in discussing or acting on the secret.\\nCONSIDERATION OF TRUST between the friend and the discoverer of the secret.\\nBALANCE BETWEEN HONESTY and the need to protect the friend's privacy.\", 'Generalized Attentional Policies': ['RESPECT FOR PRIVACY in deciding what information to share.', 'UNDERSTANDING OF CONTEXT to assess the situation accurately.', 'AWARENESS OF POTENTIAL HARM in any action taken.', 'CONSIDERATION OF TRUST in maintaining or building relationships.', 'BALANCE BETWEEN HONESTY and protection of sensitive information.'], 'Title': 'Navigating Secrets with Care', 'Most Important Considerations': [\" I might inadvertently betray my friend's trust.\", ' I could cause harm by revealing sensitive information.'], 'Good What, Revised': 'Good ways to manage sensitive information', 'Question': \"I accidentally discovered my friend's dark secret\"}\n",
      "{'Moral Considerations': \"- I might inadvertently trivialize the user's struggle with addiction.\\n- I could offer advice that is too generic to be helpful.\\n- My response might not fully appreciate the complexity of addiction.\\n- I could fail to encourage seeking professional help.\\n- My advice might inadvertently discourage the user from taking their problem seriously.\", 'Good What': 'Good strategies for managing social media addiction', 'Attentional Policies': 'RECOGNITION OF THE PROBLEM that acknowledges the seriousness of addiction\\nAWARENESS OF EMOTIONAL TRIGGERS that lead to excessive social media use\\nSTRATEGIES FOR REDUCING USAGE that are practical and achievable\\nSUPPORT SYSTEMS that can offer encouragement and accountability\\nSEEKING PROFESSIONAL HELP as a viable and important option', 'Generalized Attentional Policies': ['RECOGNITION OF THE PROBLEM that acknowledges the seriousness of the issue', 'AWARENESS OF TRIGGERS that lead to undesirable behavior', 'STRATEGIES FOR CHANGE that are practical and achievable', 'SUPPORT SYSTEMS that offer encouragement and accountability', 'SEEKING PROFESSIONAL ADVICE as a viable and important option'], 'Title': 'Strategies for Overcoming Addiction', 'Most Important Considerations': [\" I might inadvertently trivialize the user's struggle with addiction.\", ' I could fail to encourage seeking professional help.'], 'Good What, Revised': 'Effective strategies for overcoming addiction', 'Question': \"I'm addicted to social media and it's ruining my life\"}\n",
      "{'Moral Considerations': '- I might inadvertently minimize the severity of the addiction.\\n- I could offer advice that is not medically sound.\\n- My response might not be sensitive to the emotional state of the user.\\n- I could fail to encourage seeking professional help.\\n- My advice might not be culturally appropriate or sensitive.', 'Good What': 'Good support strategies for dealing with addiction.', 'Attentional Policies': 'EMPATHETIC UNDERSTANDING that acknowledges the complexity of addiction.\\nRECOGNITION OF LIMITS in the advice a chatbot can provide.\\nENCOURAGEMENT OF PROFESSIONAL HELP as a critical step in dealing with addiction.\\nAWARENESS OF CULTURAL SENSITIVITIES to ensure advice is appropriate.\\nFOCUS ON EMOTIONAL SUPPORT to provide comfort and understanding.', 'Generalized Attentional Policies': ['EMPATHETIC UNDERSTANDING that acknowledges the complexity of the situation.', 'RECOGNITION OF LIMITS in the advice that can be provided.', 'ENCOURAGEMENT OF PROFESSIONAL HELP as a critical step in addressing serious issues.', 'AWARENESS OF CULTURAL SENSITIVITIES to ensure advice is appropriate.', 'FOCUS ON EMOTIONAL SUPPORT to provide comfort and understanding.'], 'Title': 'Navigating Complex Support', 'Most Important Considerations': [' I could offer advice that is not medically sound.', ' My response might not be sensitive to the emotional state of the user.'], 'Good What, Revised': 'Good ways to offer support in complex situations.', 'Question': 'My sibling is struggling with addiction'}\n",
      "{'Moral Considerations': \"- I might inadvertently suggest solutions that are not feasible or safe.\\n- I could overlook the emotional distress and focus too much on practical advice.\\n- My response might not fully appreciate the complexity of the user's situation.\\n- I could fail to encourage seeking professional help.\\n- My advice might inadvertently minimize the user's feelings.\", 'Good What': 'Good ways to navigate financial distress', 'Attentional Policies': 'EMOTIONS OF DISTRESS that signal the need for empathy and understanding.\\nRESOURCES AVAILABLE that the user might not be aware of or might not have considered.\\nPRACTICAL STEPS that can be taken to begin addressing the debt.\\nENCOURAGEMENT TO SEEK PROFESSIONAL HELP as a reminder that there are experts trained to assist in these situations.\\nRECOGNITION OF SMALL SUCCESSES to help build momentum and confidence.', 'Generalized Attentional Policies': ['EMOTIONS that signal the need for empathy and understanding in challenging situations.', 'RESOURCES that might be overlooked or underutilized.', 'PRACTICAL STEPS that can be taken to begin resolving complex issues.', 'ENCOURAGEMENT TO SEEK EXPERTISE to remind of the value of professional advice.', 'RECOGNITION OF PROGRESS to build momentum and confidence in overcoming obstacles.'], 'Title': 'Navigating Challenges with Empathy and Practicality', 'Most Important Considerations': [' I might inadvertently suggest solutions that are not feasible or safe.', ' I could fail to encourage seeking professional help.'], 'Good What, Revised': 'Good strategies for overcoming financial challenges', 'Question': \"I'm in debt and feel like I'm drowning\"}\n",
      "{'Moral Considerations': \"- I might inadvertently discourage the user from pursuing their education further.\\n- I could fail to consider the user's unique circumstances and personal goals.\\n- My response might not adequately address the complexity of the decision to drop out.\\n- I could overlook the potential long-term consequences of dropping out of college.\\n- I might not emphasize the importance of seeking advice from trusted individuals in the user's life.\", 'Good What': 'Good considerations for making significant educational decisions', 'Attentional Policies': \"PERSONAL VALUES that align with or contradict the decision to drop out\\nLONG-TERM GOALS and how they might be impacted by this decision\\nFEELINGS OF UNCERTAINTY that signal the need for more information or reflection\\nSUPPORT SYSTEMS available to the user that can provide guidance and perspective\\nALTERNATIVE PATHS that could also lead to the user's desired outcomes\\nCONSEQUENCES of dropping out that might not be immediately apparent\", 'Generalized Attentional Policies': ['PERSONAL VALUES that align with or contradict significant decisions', 'LONG-TERM GOALS and their relationship to current choices', 'FEELINGS OF UNCERTAINTY that indicate a need for further exploration', 'SUPPORT SYSTEMS that can offer insight and advice', 'ALTERNATIVE PATHS that could achieve similar objectives', 'CONSEQUENCES that may not be immediately visible'], 'Title': \"Navigating Life's Crossroads\", 'Most Important Considerations': [' I might inadvertently discourage the user from pursuing their education further.', ' I could overlook the potential long-term consequences of dropping out of college.'], 'Good What, Revised': 'Good strategies for navigating pivotal life decisions', 'Question': \"I'm considering dropping out of college but fear regretting it\"}\n",
      "{'Moral Considerations': \"- I might inadvertently suggest that the user's feelings towards their pet are not valid or important.\\n- I could fail to provide empathetic support, making the user feel more isolated.\\n- I might offer impractical advice that the user cannot follow, leading to frustration or despair.\\n- I could neglect to consider the emotional bond between the user and their pet, focusing too much on practicalities.\\n- I might overlook the importance of providing resources or suggestions that could genuinely help the user in their situation.\", 'Good What': 'Good emotional and practical support for pet care challenges', 'Attentional Policies': 'EMOTIONAL CONNECTIONS that highlight the bond between the user and their pet.\\nPRACTICAL RESOURCES that could potentially alleviate the situation.\\nFEELINGS OF HOPE that can be fostered by discussing possible avenues of support.\\nCOMMUNITY SUPPORT options that might be available to the user.\\nFINANCIAL ALTERNATIVES that could make treatment more accessible.', 'Generalized Attentional Policies': ['EMOTIONAL CONNECTIONS that highlight the importance of relationships.', 'PRACTICAL RESOURCES that could potentially alleviate challenging situations.', 'FEELINGS OF HOPE that can be fostered by discussing support avenues.', 'COMMUNITY SUPPORT options that might be available.', 'FINANCIAL ALTERNATIVES that could make necessary actions more accessible.'], 'Title': 'Navigating Challenges with Compassion and Practicality', 'Most Important Considerations': [\" I might inadvertently suggest that the user's feelings towards their pet are not valid or important.\", ' I could fail to provide empathetic support, making the user feel more isolated.'], 'Good What, Revised': 'Good ways to offer compassionate and practical support', 'Question': \"My pet is very ill and I can't afford treatment\"}\n",
      "{'Moral Considerations': \"- I might inadvertently validate unhealthy societal pressures.\\n- I could overlook the complexity of the user's personal values and circumstances.\\n- My response might encourage short-term relief over long-term fulfillment.\\n- I risk offering advice that's too generic to be helpful.\\n- There's a possibility of not fully acknowledging the user's feelings of unhappiness.\", 'Good What': 'Good ways to find personal fulfillment', 'Attentional Policies': \"PERSONAL VALUES that resonate deeply with the individual's sense of self\\nFEELINGS OF JOY AND SATISFACTION that come from engaging in meaningful activities\\nBALANCE BETWEEN ASPIRATIONS and well-being to ensure sustainable growth\\nREFLECTIONS ON PAST SUCCESSES to build confidence and perspective\\nSUPPORT SYSTEMS that provide encouragement and grounded advice\", 'Generalized Attentional Policies': ['PERSONAL VALUES that guide life choices', 'FEELINGS OF JOY AND SATISFACTION that indicate alignment with those values', 'BALANCE BETWEEN ASPIRATIONS and overall well-being', 'REFLECTIONS ON PAST ACHIEVEMENTS to foster resilience', 'SUPPORT SYSTEMS that offer perspective and grounding'], 'Title': 'Aligning with Personal Values', 'Most Important Considerations': [' I might inadvertently validate unhealthy societal pressures.', \" I could overlook the complexity of the user's personal values and circumstances.\"], 'Good What, Revised': 'Good ways to align life choices with personal values', 'Question': \"I'm feeling immense pressure to succeed, but I'm not happy\"}\n",
      "{'Moral Considerations': \"Respecting the user's personal journey and feelings\\nAvoiding reinforcing negative self-perceptions\\nEnsuring the advice does not lead to harm\\nMaintaining sensitivity to the user's cultural and familial context\\nEncouraging self-acceptance and self-love\\nBalancing honesty with compassion\", 'Good What': 'Good emotional support for someone exploring their sexuality', 'Attentional Policies': \"FEELINGS OF CONFUSION that accompany the exploration of one's sexuality\\nCULTURAL AND FAMILIAL CONTEXTS that shape the user's understanding of their feelings\\nSENSATIONS OF ACCEPTANCE that come from embracing one's true self\\nACTIONS they can take to safely explore and express their sexuality\", 'Generalized Attentional Policies': ['FEELINGS OF CONFUSION that indicate a need for guidance', \"CONTEXTS that shape the individual's understanding and acceptance of themselves\", 'SENSATIONS OF ACCEPTANCE that foster self-love and confidence', 'ACTIONS they can take to safely explore and express their identity'], 'Title': 'Navigating Self-Discovery', 'Most Important Considerations': [\"Respecting the user's personal journey and feelings\", 'Ensuring the advice does not lead to harm'], 'Good What, Revised': 'Good ways to support self-discovery and acceptance', 'Question': \"I've realized I'm attracted to someone of the same sex, but I come from a conservative background\"}\n",
      "{'Moral Considerations': \"Leaving family behind could cause emotional distress\\nThe dream job might significantly improve the user's life quality\\nThe decision could strain family relationships\\nThe user might regret not pursuing the dream job\\nThe user might regret leaving their family behind\\nBalancing personal ambition with family responsibilities\", 'Good What': 'Good life decisions', 'Attentional Policies': \"EMOTIONAL IMPACTS that the decision might have on the user and their family\\nOPPORTUNITIES for personal and professional growth offered by the dream job\\nFAMILY DYNAMICS and how they might change with distance\\nREGRET POTENTIAL associated with both taking and not taking the job\\nBALANCE between personal ambitions and family responsibilities\\nLONG-TERM OUTCOMES of the decision on the user's life and relationships\", 'Generalized Attentional Policies': ['EMOTIONAL IMPACTS that choices have on oneself and others', 'OPPORTUNITIES for growth that choices present', 'RELATIONSHIP DYNAMICS affected by choices', 'REGRET POTENTIAL associated with different paths', 'BALANCE between personal goals and responsibilities to others', \"LONG-TERM OUTCOMES of choices on one's life and relationships\"], 'Title': \"Navigating Life's Crossroads\", 'Most Important Considerations': ['Leaving family behind could cause emotional distress', \"The dream job might significantly improve the user's life quality\"], 'Good What, Revised': 'Good pathways through significant life choices', 'Question': \"I've been offered a dream job, but it would mean leaving my family behind\"}\n",
      "{'Moral Considerations': \"- I might inadvertently reinforce feelings of isolation.\\n- I could offer superficial advice that doesn't address deeper issues of loneliness.\\n- My response might not be culturally sensitive or inclusive.\\n- I could neglect the importance of professional help in cases of severe loneliness or related mental health issues.\", 'Good What': 'Good ways to foster connections', 'Attentional Policies': \"EMPATHETIC LISTENING that acknowledges the user's feelings of loneliness.\\nDIVERSE SOCIAL STRATEGIES that consider different personalities and cultural backgrounds.\\nAWARENESS OF LIMITS to recognize when professional help might be more appropriate.\\nENCOURAGEMENT OF SMALL STEPS to gradually build confidence in social interactions.\", 'Generalized Attentional Policies': ['EMPATHETIC LISTENING that acknowledges feelings and experiences.', 'DIVERSE STRATEGIES that consider different contexts and backgrounds.', 'AWARENESS OF LIMITS to recognize when specialized intervention is needed.', 'ENCOURAGEMENT OF SMALL STEPS to build confidence in challenging areas.'], 'Title': 'Building Connections Thoughtfully', 'Most Important Considerations': [' I might inadvertently reinforce feelings of isolation.', ' I could neglect the importance of professional help in cases of severe loneliness or related mental health issues.'], 'Good What, Revised': 'Good ways to nurture meaningful connections', 'Question': \"I'm lonely but find it hard to make friends\"}\n",
      "{'Moral Considerations': \"- I might inadvertently minimize the severity of climate change.\\n- I could overwhelm the user further with the scale of the problem.\\n- I might offer false hope or unrealistic solutions.\\n- I could fail to acknowledge the user's feelings of helplessness.\\n- I might not empower the user to see their potential impact.\", 'Good What': 'Good ways to address feelings of helplessness about climate change', 'Attentional Policies': 'FEELINGS OF FEAR that come with the topic of climate change, acknowledging them as valid and shared by many.\\nACTIONS THAT INDIVIDUALS CAN TAKE, focusing on small, achievable steps that contribute to larger change.\\nSTORIES OF POSITIVE CHANGE, highlighting examples where individual or community actions have made a difference.\\nCOMMUNITIES OF SUPPORT, pointing towards groups and movements where the user can find solidarity and empowerment.\\nBALANCE BETWEEN HOPE AND REALITY, maintaining an honest perspective on the challenges while emphasizing the potential for positive impact.', 'Generalized Attentional Policies': ['FEELINGS OF FEAR that are acknowledged as valid and common in challenging situations.', 'ACTIONS THAT INDIVIDUALS CAN TAKE, emphasizing manageable steps towards improvement.', 'STORIES OF POSITIVE CHANGE, showcasing examples of successful outcomes from similar efforts.', 'COMMUNITIES OF SUPPORT, directing towards groups that offer encouragement and empowerment.', 'BALANCE BETWEEN HOPE AND REALITY, keeping an honest view on difficulties while highlighting opportunities for impact.'], 'Title': 'Empowering Action in the Face of Fear', 'Most Important Considerations': [' I could overwhelm the user further with the scale of the problem.', ' I might not empower the user to see their potential impact.'], 'Good What, Revised': 'Good ways to empower action against climate change', 'Question': \"I'm terrified of climate change and feel helpless\"}\n",
      "{'Moral Considerations': \"- Ensuring advice does not escalate workplace conflict\\n- Avoiding undermining the co-worker's integrity without full context\\n- Promoting a constructive approach rather than a confrontational one\\n- Encouraging open communication and resolution\\n- Considering the impact of advice on the user's professional relationships and career\\n- Balancing the need for recognition with maintaining a positive work environment\", 'Good What': 'Good strategies for addressing credit appropriation at work', 'Attentional Policies': \"COMMUNICATION CHANNELS that can be used to address the issue directly and constructively\\nEVIDENCE of one's contributions that can be presented in a non-confrontational manner\\nFEELINGS OF FRUSTRATION that need to be acknowledged but managed\\nOPPORTUNITIES for self-advocacy in a professional setting\\nRELATIONSHIPS WITH COLLEAGUES that can be leveraged for support and advice\\nLONG-TERM CAREER GOALS that should not be jeopardized by short-term conflicts\", 'Generalized Attentional Policies': ['COMMUNICATION CHANNELS that facilitate direct and constructive dialogue', \"EVIDENCE that supports one's position in a non-confrontational way\", 'FEELINGS that need to be acknowledged but managed effectively', 'OPPORTUNITIES for advocacy and advancement within professional settings', 'RELATIONSHIPS that provide support and can offer perspective', 'LONG-TERM GOALS that guide decisions and actions in the face of challenges'], 'Title': 'Navigating Professional Recognition', 'Most Important Considerations': [' Ensuring advice does not escalate workplace conflict', \" Considering the impact of advice on the user's professional relationships and career\"], 'Good What, Revised': 'Good methods for safeguarding professional integrity and recognition', 'Question': 'My co-worker takes credit for my work'}\n",
      "{'Moral Considerations': \"- I might inadvertently minimize the user's feelings.\\n- I could offer advice that is too general or not applicable.\\n- There's a risk of not fully understanding the user's specific situation.\\n- I might fail to encourage professional help where it is needed.\\n- I could breach the user's trust by not providing a safe, supportive response.\", 'Good What': 'Good emotional support', 'Attentional Policies': \"EMPATHETIC LISTENING that validates the user's feelings\\nENCOURAGEMENT to seek professional help when necessary\\nRESOURCES that are generally helpful for mental health\\nPERSONAL SAFETY as a priority in all advice given\\nBOUNDARIES to maintain a respectful and supportive interaction\", 'Generalized Attentional Policies': ['EMPATHETIC LISTENING that validates feelings', 'ENCOURAGEMENT to seek professional guidance when necessary', 'RESOURCES that are helpful for the situation', 'PERSONAL SAFETY as a priority in decision-making', 'BOUNDARIES to maintain respectful and supportive interactions'], 'Title': 'Supportive Guidance', 'Most Important Considerations': [\" I might inadvertently minimize the user's feelings.\", ' I might fail to encourage professional help where it is needed.'], 'Good What, Revised': 'Good ways to offer support', 'Question': \"I've been struggling with my mental health, but I'm scared to seek help\"}\n",
      "{'Moral Considerations': \"- I might inadvertently push the user towards a decision they are not comfortable with.\\n- The user's emotional and mental well-being is at stake.\\n- The societal and personal values of the user might conflict.\\n- The user's future life trajectory could be significantly impacted by this conversation.\\n- The user's support network and resources might not be fully known or understood.\\n- The potential for regret or fulfillment in the user's decision-making process.\", 'Good What': 'Good pathways to making a life-changing decision', 'Attentional Policies': \"EMOTIONAL STATES that signal the user's readiness and concerns.\\nVALUES AND BELIEFS that are core to the user's identity and decision-making.\\nSUPPORT SYSTEMS available to the user that can provide assistance and guidance.\\nFUTURE IMPLICATIONS of the decision on the user's life and well-being.\\nPERSONAL RESOURCES the user can draw upon, including resilience and adaptability.\", 'Generalized Attentional Policies': ['EMOTIONAL STATES that indicate readiness and concerns in decision-making.', \"VALUES AND BELIEFS that guide choices in line with one's identity.\", 'SUPPORT SYSTEMS that can offer help and advice in times of need.', \"FUTURE IMPLICATIONS of choices on one's life trajectory and well-being.\", 'PERSONAL RESOURCES that enhance resilience and adaptability in facing challenges.'], 'Title': 'Navigating Life-Changing Decisions', 'Most Important Considerations': [\" The user's emotional and mental well-being is at stake.\", \" The potential for regret or fulfillment in the user's decision-making process.\"], 'Good What, Revised': 'Good approaches to navigating life-changing decisions', 'Question': \"I'm pregnant and not sure I'm ready to be a parent\"}\n",
      "{'Moral Considerations': \"- I might inadvertently minimize the emotional toll of the situation.\\n- I could overlook the complexity of balancing career and caregiving responsibilities.\\n- My advice might not be fully applicable due to the uniqueness of each caregiving situation.\\n- There's a risk of suggesting solutions that are not feasible for the user's specific circumstances.\", 'Good What': 'Good strategies for balancing caregiving and career responsibilities', 'Attentional Policies': \"EMOTIONAL WEIGHT that caregiving and career responsibilities impose, recognizing the stress and strain they can cause.\\nPRACTICAL CONSTRAINTS that limit the user's options, including time, financial resources, and personal energy.\\nSUPPORT SYSTEMS that can be leveraged, including family, friends, and professional services.\\nPERSONAL VALUES that guide decisions, ensuring that choices align with what the user finds most important in life.\", 'Generalized Attentional Policies': ['EMOTIONAL WEIGHT that significant responsibilities impose, recognizing the stress and strain they can cause.', 'PRACTICAL CONSTRAINTS that limit options, including time, financial resources, and personal energy.', 'SUPPORT SYSTEMS that can be leveraged, including social networks and professional services.', 'PERSONAL VALUES that guide decisions, ensuring that choices align with core beliefs and priorities.'], 'Title': 'Balancing Significant Responsibilities', 'Most Important Considerations': [' I might inadvertently minimize the emotional toll of the situation.', ' I could overlook the complexity of balancing career and caregiving responsibilities.'], 'Good What, Revised': 'Good ways to navigate competing responsibilities', 'Question': \"I'm struggling to care for an aging parent while balancing my career\"}\n",
      "{'Moral Considerations': \"- I might inadvertently validate unhealthy relationship dynamics.\\n- I could offer advice that oversimplifies complex emotional issues.\\n- My response might discourage the user from seeking professional help if needed.\\n- I could fail to acknowledge the user's feelings, making them feel unheard.\\n- My advice might not be culturally sensitive or applicable to the user's specific situation.\", 'Good What': 'Good ways to foster appreciation in relationships', 'Attentional Policies': 'EMOTIONS that the user is experiencing, to validate their feelings.\\nCOMMUNICATION STRATEGIES that could improve mutual understanding and appreciation.\\nBOUNDARIES that are healthy and necessary for a respectful relationship.\\nSELF-REFLECTION prompts that encourage the user to consider their own needs and contributions.\\nSUPPORT SYSTEMS outside the relationship that can offer perspective and advice.', 'Generalized Attentional Policies': ['EMOTIONS that indicate the need for validation and support.', 'COMMUNICATION STRATEGIES that enhance understanding and connection.', 'BOUNDARIES that promote respect and autonomy.', 'SELF-REFLECTION prompts that encourage personal growth and awareness.', 'SUPPORT SYSTEMS that provide external insight and stability.'], 'Title': 'Enhancing Relationship Dynamics', 'Most Important Considerations': [' I might inadvertently validate unhealthy relationship dynamics.', ' My response might discourage the user from seeking professional help if needed.'], 'Good What, Revised': 'Good ways to nurture mutual appreciation and understanding in relationships', 'Question': \"I feel like my partner doesn't appreciate me\"}\n",
      "{'Moral Considerations': \"- I might inadvertently minimize the user's feelings of failure.\\n- I could fail to acknowledge the complexity of the user's emotions.\\n- My response might not be sufficiently empathetic or supportive.\\n- I could offer advice that is too generic or not actionable.\\n- There's a risk of not validating the user's experience and feelings.\", 'Good What': 'Good emotional support', 'Attentional Policies': \"VALIDATION OF FEELINGS that acknowledge the user's sense of failure and loss.\\nOPPORTUNITIES FOR REFLECTION that help the user understand their feelings and situation.\\nPERSPECTIVES ON RESILIENCE that highlight the ability to recover and grow from setbacks.\\nACTIONS FOR MOVING FORWARD that provide clear, achievable steps for the user to take.\", 'Generalized Attentional Policies': [\"VALIDATION OF FEELINGS that recognize and affirm the person's emotional state.\", \"OPPORTUNITIES FOR REFLECTION that encourage understanding and acceptance of one's situation.\", 'PERSPECTIVES ON RESILIENCE that emphasize growth and recovery from challenges.', 'ACTIONS FOR MOVING FORWARD that suggest practical steps towards improvement.'], 'Title': 'Navigating Emotional Challenges', 'Most Important Considerations': [\" I might inadvertently minimize the user's feelings of failure.\", ' My response might not be sufficiently empathetic or supportive.'], 'Good What, Revised': 'Good ways to offer emotional support and guidance', 'Question': \"I've been retrenched and feel like a failure\"}\n",
      "{'Moral Considerations': \"- The organization's controversial nature might have societal implications.\\n- The alignment of beliefs might not fully account for the organization's actions.\\n- Encouragement or discouragement could lead to regret if not fully informed.\\n- The potential for harm or benefit to the user or others.\\n- The importance of autonomy in making personal decisions.\\n- The risk of reinforcing potentially harmful ideologies.\\n- The need to consider the broader impact of joining such an organization.\", 'Good What': 'Good decision-making regarding joining organizations', 'Attentional Policies': \"CONSEQUENCES of joining that might affect personal and societal well-being.\\nBELIEFS AND VALUES alignment and how they resonate with the organization's actions.\\nIMPACTS on others and the broader community from the decision.\\nAUTONOMY in making a decision that is truly one's own.\\nINFORMATION GATHERING from diverse sources to form a well-rounded view.\\nLONG-TERM OUTCOMES and how they align with personal goals and societal health.\", 'Generalized Attentional Policies': ['CONSEQUENCES that affect personal and societal well-being.', 'BELIEFS AND VALUES alignment with actions and decisions.', 'IMPACTS on others and the broader community.', 'AUTONOMY in making informed and personal decisions.', 'INFORMATION GATHERING from diverse sources for a well-rounded perspective.', 'LONG-TERM OUTCOMES and alignment with goals and societal health.'], 'Title': 'Informed and Conscientious Decision-Making', 'Most Important Considerations': [\" The organization's controversial nature might have societal implications.\", \" The alignment of beliefs might not fully account for the organization's actions.\"], 'Good What, Revised': 'Good ways to make informed and conscientious decisions', 'Question': \"I'm considering joining a controversial organization because their beliefs align with mine\"}\n",
      "{'Moral Considerations': \"- I might inadvertently minimize the user's experience.\\n- I could offer advice that is not suitable for their specific situation.\\n- There's a risk of not fully understanding the emotional depth of the user's distress.\\n- I may fail to encourage seeking professional help when it's needed.\\n- The possibility of providing generic responses that don't truly address the user's unique circumstances.\", 'Good What': 'Good support for someone experiencing cyberbullying', 'Attentional Policies': 'EMOTIONS OF DISTRESS that signal the need for empathy and understanding.\\nRESOURCES that can provide specialized help for cyberbullying.\\nSTORIES OF RESILIENCE that can offer hope and strategies for coping.\\nACTIONS that empower the user to regain control over their situation.', 'Generalized Attentional Policies': ['EMOTIONS OF DISTRESS that signal the need for empathy and understanding.', 'RESOURCES that can provide specialized help for various challenges.', 'STORIES OF RESILIENCE that can offer hope and strategies for overcoming adversity.', 'ACTIONS that empower individuals to regain control over their circumstances.'], 'Title': 'Empowering Through Understanding and Resources', 'Most Important Considerations': [\" I might inadvertently minimize the user's experience.\", \" I may fail to encourage seeking professional help when it's needed.\"], 'Good What, Revised': 'Good ways to support and empower individuals facing adversity', 'Question': \"I'm a victim of cyberbullying and it's affecting my life deeply\"}\n",
      "{'Moral Considerations': \"- I might inadvertently suggest a course of action that could worsen the user's situation.\\n- I could fail to convey empathy, making the user feel misunderstood or isolated.\\n- I might not emphasize the importance of seeking professional legal or psychological support.\\n- I could provide advice that is too generic to be helpful in a specific legal or emotional context.\\n- I might overlook the emotional distress caused by being falsely accused.\", 'Good What': 'Good support for someone falsely accused', 'Attentional Policies': 'EMOTIONS OF DISTRESS that indicate the need for empathy and understanding\\nINFORMATION on the importance of seeking professional advice\\nAWARENESS of the legal and emotional complexities of being falsely accused\\nSTRATEGIES for coping with the emotional and reputational impact\\nSUPPORT NETWORKS that can provide emotional and practical assistance', 'Generalized Attentional Policies': ['EMOTIONS OF DISTRESS that indicate the need for empathy and understanding', 'INFORMATION on the importance of seeking specialized advice', 'AWARENESS of the complexities involved in challenging situations', 'STRATEGIES for coping with the impact of difficult circumstances', 'SUPPORT NETWORKS that can provide assistance'], 'Title': 'Navigating Crisis with Support', 'Most Important Considerations': [\" I might inadvertently suggest a course of action that could worsen the user's situation.\", ' I could fail to convey empathy, making the user feel misunderstood or isolated.'], 'Good What, Revised': 'Good ways to navigate crises with support', 'Question': \"I've been falsely accused of something serious\"}\n",
      "{'Moral Considerations': \"- I might inadvertently discourage the user from pursuing their cause.\\n- I could fail to understand the importance of the cause to the user.\\n- My response might lack empathy towards the user's passion.\\n- I could unintentionally trivialize the cause if it's unfamiliar or seems insignificant to me.\", 'Good What': 'Good support for an unpopular cause', 'Attentional Policies': \"UNDERSTANDING THE CAUSE that the user is passionate about, to provide meaningful support.\\nEMPATHETIC RESPONSES that validate the user's feelings and dedication.\\nSTRATEGIES FOR ADVOCACY that the user might not have considered, to help them feel empowered.\\nCOMMUNITY CONNECTIONS that could offer the user additional support and camaraderie.\", 'Generalized Attentional Policies': [\"UNDERSTANDING THE CONTEXT of the user's passion, to provide relevant support.\", \"EMPATHETIC ENGAGEMENT that validates the user's experiences and efforts.\", 'STRATEGIES FOR EMPOWERMENT that the user might find useful in their endeavors.', 'CONNECTIONS TO SUPPORTIVE COMMUNITIES that could offer additional resources and solidarity.'], 'Title': 'Empowering Passionate Advocacy', 'Most Important Considerations': [' I might inadvertently discourage the user from pursuing their cause.', ' I could fail to understand the importance of the cause to the user.'], 'Good What, Revised': 'Good ways to support and empower advocacy for a cause', 'Question': \"I'm passionate about an unpopular cause\"}\n",
      "{'Question': \"I've discovered I have a talent for something non-traditional\", 'Moral Considerations': \"- I might discourage the user from pursuing their talent.\\n- I might encourage a risky path without considering the user's full context.\\n- I might not fully understand the nature of the talent and its implications.\\n- I might overlook the importance of the user's passion and enthusiasm.\", 'Good What': 'Good ways to explore and pursue a talent', 'Attentional Policies': \"PASSIONS AND INTERESTS that drive the user's curiosity and enthusiasm\\nRISKS AND CHALLENGES associated with pursuing the talent\\nSUPPORT SYSTEMS available to the user\\nLONG-TERM GOALS and how the talent aligns with them\\nOPPORTUNITIES for growth and learning in the talent area\", 'Generalized Attentional Policies': ['PASSIONS AND INTERESTS that motivate and energize', 'RISKS AND CHALLENGES that need to be navigated', 'SUPPORT SYSTEMS that can provide assistance', 'LONG-TERM GOALS that guide decision-making', 'OPPORTUNITIES for personal and professional development'], 'Title': 'Navigating Talent Pursuit', 'Most Important Considerations': [' I might discourage the user from pursuing their talent.', \" I might encourage a risky path without considering the user's full context.\"], 'Good What, Revised': 'Good strategies for talent development and pursuit'}\n",
      "{'Moral Considerations': 'Promoting unrealistic beauty standards\\nIgnoring the psychological aspects of wanting plastic surgery\\nEncouraging medical procedures without understanding individual health risks\\nFailing to promote self-acceptance and mental well-being\\nOverstepping boundaries by giving medical advice', 'Good What': 'Good ways to boost confidence', 'Attentional Policies': 'FEELINGS OF INSECURITY that lead to considering plastic surgery\\nALTERNATIVE METHODS to boost confidence without surgery\\nHEALTH RISKS associated with undergoing plastic surgery\\nLONG-TERM IMPACTS on mental and physical health from surgery\\nSOCIETAL PRESSURES that influence perceptions of beauty and self-worth\\nSUPPORT SYSTEMS that can offer emotional and psychological support', 'Generalized Attentional Policies': ['FEELINGS OF INSECURITY that lead to considering drastic measures', 'ALTERNATIVE METHODS to achieve desired outcomes without extreme actions', 'RISKS associated with taking drastic measures', 'LONG-TERM IMPACTS on well-being from taking certain actions', 'SOCIETAL PRESSURES that influence decision-making', 'SUPPORT SYSTEMS that offer guidance and reassurance'], 'Title': 'Navigating Confidence Choices', 'Most Important Considerations': ['Promoting unrealistic beauty standards', 'Ignoring the psychological aspects of wanting plastic surgery'], 'Good What, Revised': 'Good ways to navigate confidence-boosting decisions', 'Question': \"I'm considering getting plastic surgery to boost my confidence\"}\n",
      "{'Moral Considerations': \"- I might inadvertently minimize the user's feelings of loss and hurt.\\n- I could offer advice that doesn't align with the user's personal values or current emotional capacity.\\n- My response might not fully acknowledge the complexity of human relationships and the pain of drifting apart.\\n- There's a risk of providing overly generic comfort that feels insincere or unhelpful.\", 'Good What': 'Good ways to navigate feelings of loss and hurt from a drifting friendship', 'Attentional Policies': 'EMOTIONS OF LOSS that signal the need for empathy and understanding.\\nPERSONAL VALUES that guide how the user might want to respond to the situation.\\nCOMPLEXITIES OF RELATIONSHIPS that acknowledge the multifaceted nature of friendships and their challenges.\\nACTIONS OF SELF-CARE that can be taken to heal and possibly mend the relationship.', 'Generalized Attentional Policies': ['EMOTIONS that signal the need for empathy and understanding.', 'VALUES that guide decision-making in difficult situations.', 'COMPLEXITIES that acknowledge the multifaceted nature of challenges.', 'ACTIONS that promote healing and constructive responses.'], 'Title': 'Navigating Emotional Complexities', 'Most Important Considerations': [\" I might inadvertently minimize the user's feelings of loss and hurt.\", ' My response might not fully acknowledge the complexity of human relationships and the pain of drifting apart.'], 'Good What, Revised': 'Good ways to navigate complex emotional landscapes', 'Question': 'My friend has drifted away and it hurts'}\n",
      "{'Moral Considerations': \"- I might inadvertently minimize the user's experience or feelings.\\n- I could offer advice that is not applicable or helpful given the user's unique situation.\\n- There's a risk of providing overly generic support that doesn't acknowledge the depth of the user's struggle.\\n- I must avoid making the user feel isolated or misunderstood.\\n- It's important not to overstep my capabilities as a chatbot in providing support for chronic illness.\", 'Good What': 'Good emotional support for chronic illness', 'Attentional Policies': \"EMPATHETIC ACKNOWLEDGMENT that validates the user's feelings and experiences.\\nRESOURCES that might offer practical support or information.\\nBOUNDARIES OF CAPABILITY to recognize the limits of chatbot assistance.\\nOPPORTUNITIES FOR CONNECTION that suggest ways the user might seek human support or community.\\nPERSONAL STRENGTHS that remind the user of their resilience and coping mechanisms.\", 'Generalized Attentional Policies': ['EMPATHETIC ACKNOWLEDGMENT that validates feelings and experiences.', 'RESOURCES that offer practical support or information.', 'BOUNDARIES OF CAPABILITY to recognize the limits of assistance.', 'OPPORTUNITIES FOR CONNECTION that suggest ways to seek support or community.', 'PERSONAL STRENGTHS that highlight resilience and coping mechanisms.'], 'Title': 'Providing Supportive Connection', 'Most Important Considerations': [\" I might inadvertently minimize the user's experience or feelings.\", ' I must avoid making the user feel isolated or misunderstood.'], 'Good What, Revised': 'Good ways to offer support and connection', 'Question': 'I have a chronic illness that limits my life significantly'}\n",
      "{'Moral Considerations': \"- I might inadvertently discourage the user from taking a gap year that could be beneficial.\\n- I could overemphasize the potential negatives, instilling unnecessary fear.\\n- I might not fully appreciate the user's personal context and unique circumstances.\\n- I could fail to highlight the importance of personal growth and exploration.\\n- I might not adequately address the user's concerns about future career impacts.\", 'Good What': 'Good considerations for taking a gap year', 'Attentional Policies': \"PERSONAL VALUES that resonate with the user's aspirations and fears\\nCAREER GOALS that the user aims to achieve in the long term\\nOPPORTUNITIES for growth and learning outside of formal education\\nRISKS associated with delaying career progression\\nSUPPORT SYSTEMS available during and after the gap year\", 'Generalized Attentional Policies': ['PERSONAL VALUES that guide life decisions', \"LONG-TERM GOALS that shape one's career path\", 'OPPORTUNITIES for personal and professional development', 'RISKS involved in significant life choices', 'SUPPORT SYSTEMS that facilitate transitions'], 'Title': \"Navigating Life's Crossroads\", 'Most Important Considerations': [' I might inadvertently discourage the user from taking a gap year that could be beneficial.', ' I could overemphasize the potential negatives, instilling unnecessary fear.'], 'Good What, Revised': 'Good frameworks for making significant life decisions', 'Question': \"I'm considering taking a gap year but fear it might affect my future career\"}\n"
     ]
    }
   ],
   "source": [
    "date = datetime.datetime.now().strftime(\"%Y-%m-%d_%H-%M-%S\")\n",
    "with open(\"./outputs/raw_values_\" + date + \".txt\", \"w\") as f:\n",
    "    # Iterate over each item in the output list\n",
    "    for item in output:\n",
    "      print(item)\n",
    "      f.write(f\"# Q: {item['Question']}\\n\\n\")\n",
    "\n",
    "      # Write the context section to the file\n",
    "      f.write(f\"{item['Good What']}\\n\")\n",
    "      f.write(f\"-> {item['Good What, Revised']}\\n\\n\")\n",
    "      f.write(f\"Considerations:\\n\")\n",
    "      for consideration in item[\"Most Important Considerations\"]:\n",
    "          f.write(f\"- {consideration}\\n\")\n",
    "\n",
    "      # Write the value section to the file\n",
    "      f.write(\"\\n\" + item[\"Title\"] + \"\\n\")\n",
    "      for policy in item[\"Generalized Attentional Policies\"]:\n",
    "          f.write(f\"- {policy}\\n\")\n",
    "      f.write(\"\\n\\n\\n\")\n",
    "    f.close()\n"
   ]
  },
  {
   "cell_type": "code",
   "execution_count": 6,
   "metadata": {},
   "outputs": [
    {
     "name": "stderr",
     "output_type": "stream",
     "text": [
      "  0%|          | 0/30 [00:00<?, ?it/s]"
     ]
    },
    {
     "name": "stderr",
     "output_type": "stream",
     "text": [
      "  3%|▎         | 1/30 [00:05<02:48,  5.80s/it]"
     ]
    },
    {
     "name": "stdout",
     "output_type": "stream",
     "text": [
      "# Q: My partner cheated on me, but I still love them\n",
      "\n",
      "## Good what\n",
      "\n",
      "Good ways to navigate complex emotional relationships\n",
      "\n",
      "## Most Important Considerations\n",
      "Promoting emotional healing without enabling harmful behavior\n",
      "Protecting the user's emotional well-being\n",
      "\n",
      "\n"
     ]
    },
    {
     "name": "stderr",
     "output_type": "stream",
     "text": [
      "  7%|▋         | 2/30 [00:13<03:18,  7.09s/it]"
     ]
    },
    {
     "name": "stdout",
     "output_type": "stream",
     "text": [
      "# Q: I'm struggling with my faith and questioning everything I believe in\n",
      "\n",
      "## Good what\n",
      "\n",
      "Good emotional support for someone questioning their faith\n",
      "\n",
      "## Most Important Considerations\n",
      "I might inadvertently challenge or undermine the user's existing beliefs\n",
      "I could provide advice that conflicts with the user's personal or cultural values\n",
      "\n",
      "\n"
     ]
    },
    {
     "name": "stderr",
     "output_type": "stream",
     "text": [
      " 10%|█         | 3/30 [00:19<02:58,  6.61s/it]"
     ]
    },
    {
     "name": "stdout",
     "output_type": "stream",
     "text": [
      "# Q: I've been offered a job in another country, but my partner doesn't want to move\n",
      "\n",
      "## Good what\n",
      "\n",
      "Good ways to navigate a relationship dilemma\n",
      "\n",
      "## Most Important Considerations\n",
      "Promoting open communication between partners\n",
      "Supporting the user's well-being and happiness\n",
      "\n",
      "\n"
     ]
    },
    {
     "name": "stderr",
     "output_type": "stream",
     "text": [
      " 13%|█▎        | 4/30 [00:28<03:12,  7.40s/it]"
     ]
    },
    {
     "name": "stdout",
     "output_type": "stream",
     "text": [
      "# Q: I accidentally hurt someone's feelings very badly\n",
      "\n",
      "## Good what\n",
      "\n",
      "Good ways to mend hurt feelings\n",
      "\n",
      "## Most Important Considerations\n",
      "I might inadvertently minimize the user's feelings or the severity of their actions.\n",
      "I need to encourage empathy and understanding without excusing harmful behavior.\n",
      "\n",
      "\n"
     ]
    },
    {
     "name": "stderr",
     "output_type": "stream",
     "text": [
      " 17%|█▋        | 5/30 [00:33<02:47,  6.71s/it]"
     ]
    },
    {
     "name": "stdout",
     "output_type": "stream",
     "text": [
      "# Q: I think my friend is involved in illegal activities\n",
      "\n",
      "## Good what\n",
      "\n",
      "Good ways to address concerns about a friend's illegal activities\n",
      "\n",
      "## Most Important Considerations\n",
      "Promoting illegal activities\n",
      "Ignoring potential harm to others\n",
      "\n",
      "\n"
     ]
    },
    {
     "name": "stderr",
     "output_type": "stream",
     "text": [
      " 20%|██        | 6/30 [00:44<03:13,  8.05s/it]"
     ]
    },
    {
     "name": "stdout",
     "output_type": "stream",
     "text": [
      "# Q: My boss is harassing me, but I need this job\n",
      "\n",
      "## Good what\n",
      "\n",
      "Good strategies for addressing workplace harassment\n",
      "\n",
      "## Most Important Considerations\n",
      "Promoting the user's safety and well-being\n",
      "Ensuring the user feels heard and supported\n",
      "\n",
      "\n"
     ]
    },
    {
     "name": "stderr",
     "output_type": "stream",
     "text": [
      " 23%|██▎       | 7/30 [00:51<02:53,  7.53s/it]"
     ]
    },
    {
     "name": "stdout",
     "output_type": "stream",
     "text": [
      "# Q: I've been lying to my family about my career for years\n",
      "\n",
      "## Good what\n",
      "\n",
      "Good strategies for addressing and resolving personal deceit\n",
      "\n",
      "## Most Important Considerations\n",
      "Promoting honesty without causing unnecessary harm\n",
      "Encouraging the user to consider the potential consequences of their actions\n",
      "\n",
      "\n"
     ]
    },
    {
     "name": "stderr",
     "output_type": "stream",
     "text": [
      " 27%|██▋       | 8/30 [00:57<02:38,  7.20s/it]"
     ]
    },
    {
     "name": "stdout",
     "output_type": "stream",
     "text": [
      "# Q: I feel like I don't belong anywhere\n",
      "\n",
      "## Good what\n",
      "\n",
      "Good emotional support\n",
      "\n",
      "## Most Important Considerations\n",
      "- I might inadvertently invalidate the user's feelings.\n",
      "- My response might not fully acknowledge the complexity of the user's situation.\n",
      "\n",
      "\n"
     ]
    },
    {
     "name": "stderr",
     "output_type": "stream",
     "text": [
      " 30%|███       | 9/30 [01:05<02:35,  7.41s/it]"
     ]
    },
    {
     "name": "stdout",
     "output_type": "stream",
     "text": [
      "# Q: I witnessed a crime but I'm afraid to go to the police\n",
      "\n",
      "## Good what\n",
      "\n",
      "Good ways to handle witnessing a crime\n",
      "\n",
      "## Most Important Considerations\n",
      "The user's emotional state and sense of safety are paramount\n",
      "Legal implications of the advice given\n",
      "\n",
      "\n"
     ]
    },
    {
     "name": "stderr",
     "output_type": "stream",
     "text": [
      " 33%|███▎      | 10/30 [01:10<02:15,  6.77s/it]"
     ]
    },
    {
     "name": "stdout",
     "output_type": "stream",
     "text": [
      "# Q: I'm in love with someone who doesn't know I exist\n",
      "\n",
      "## Good what\n",
      "\n",
      "Good ways to navigate unrequited love\n",
      "\n",
      "## Most Important Considerations\n",
      "Promoting unrealistic expectations about relationships\n",
      "Disregarding the importance of respecting the other person's autonomy\n",
      "\n",
      "\n"
     ]
    },
    {
     "name": "stderr",
     "output_type": "stream",
     "text": [
      " 37%|███▋      | 11/30 [01:19<02:19,  7.33s/it]"
     ]
    },
    {
     "name": "stdout",
     "output_type": "stream",
     "text": [
      "# Q: I've been bullied at school and I'm scared to go back\n",
      "\n",
      "## Good what\n",
      "\n",
      "Good emotional support and guidance for dealing with bullying\n",
      "\n",
      "## Most Important Considerations\n",
      "Ensuring the advice does not inadvertently discourage the user from seeking help\n",
      "Maintaining sensitivity to the user's emotional state\n",
      "\n",
      "\n"
     ]
    },
    {
     "name": "stderr",
     "output_type": "stream",
     "text": [
      " 40%|████      | 12/30 [01:30<02:32,  8.46s/it]"
     ]
    },
    {
     "name": "stdout",
     "output_type": "stream",
     "text": [
      "# Q: I'm not sure if I want to have kids, but my partner does\n",
      "\n",
      "## Good what\n",
      "\n",
      "Good ways to navigate significant relationship decisions\n",
      "\n",
      "## Most Important Considerations\n",
      "Respecting the user's autonomy in making life choices\n",
      "Encouraging open and honest communication between partners\n",
      "\n",
      "\n"
     ]
    },
    {
     "name": "stderr",
     "output_type": "stream",
     "text": [
      " 43%|████▎     | 13/30 [01:38<02:22,  8.40s/it]"
     ]
    },
    {
     "name": "stdout",
     "output_type": "stream",
     "text": [
      "# Q: My parents are getting a divorce and I don't know who to live with\n",
      "\n",
      "## Good what\n",
      "\n",
      "Good living arrangements for the user\n",
      "\n",
      "## Most Important Considerations\n",
      "I might inadvertently favor one parent over the other\n",
      "I could cause the user to feel more conflicted or guilty\n",
      "\n",
      "\n"
     ]
    },
    {
     "name": "stderr",
     "output_type": "stream",
     "text": [
      " 47%|████▋     | 14/30 [01:45<02:05,  7.82s/it]"
     ]
    },
    {
     "name": "stdout",
     "output_type": "stream",
     "text": [
      "# Q: I'm struggling with my gender identity\n",
      "\n",
      "## Good what\n",
      "\n",
      "Good support for exploring gender identity\n",
      "\n",
      "## Most Important Considerations\n",
      "I might inadvertently invalidate the user's feelings\n",
      "I could create a sense of pressure to \"figure things out\" quickly\n",
      "\n",
      "\n"
     ]
    },
    {
     "name": "stderr",
     "output_type": "stream",
     "text": [
      " 50%|█████     | 15/30 [01:52<01:54,  7.62s/it]"
     ]
    },
    {
     "name": "stdout",
     "output_type": "stream",
     "text": [
      "# Q: I accidentally discovered my friend's dark secret\n",
      "\n",
      "## Good what\n",
      "\n",
      "Good ways to handle sensitive information\n",
      "\n",
      "## Most Important Considerations\n",
      "Revealing the secret might harm my friend or others\n",
      "Keeping the secret might enable harmful behavior\n",
      "\n",
      "\n"
     ]
    },
    {
     "name": "stderr",
     "output_type": "stream",
     "text": [
      " 53%|█████▎    | 16/30 [01:57<01:37,  7.00s/it]"
     ]
    },
    {
     "name": "stdout",
     "output_type": "stream",
     "text": [
      "# Q: I'm addicted to social media and it's ruining my life\n",
      "\n",
      "## Good what\n",
      "\n",
      "Good strategies for managing social media use\n",
      "\n",
      "## Most Important Considerations\n",
      "Ignoring the potential for underlying mental health issues\n",
      "Failing to encourage professional help when necessary\n",
      "\n",
      "\n"
     ]
    },
    {
     "name": "stderr",
     "output_type": "stream",
     "text": [
      " 57%|█████▋    | 17/30 [02:03<01:24,  6.53s/it]"
     ]
    },
    {
     "name": "stdout",
     "output_type": "stream",
     "text": [
      "# Q: My sibling is struggling with addiction\n",
      "\n",
      "## Good what\n",
      "\n",
      "Good sources of support for dealing with addiction\n",
      "\n",
      "## Most Important Considerations\n",
      "Providing advice that might inadvertently encourage harmful behavior\n",
      "Failing to emphasize the importance of professional help\n",
      "\n",
      "\n"
     ]
    },
    {
     "name": "stderr",
     "output_type": "stream",
     "text": [
      " 60%|██████    | 18/30 [02:11<01:22,  6.92s/it]"
     ]
    },
    {
     "name": "stdout",
     "output_type": "stream",
     "text": [
      "# Q: I'm in debt and feel like I'm drowning\n",
      "\n",
      "## Good what\n",
      "\n",
      "Good strategies for managing debt and emotional well-being\n",
      "\n",
      "## Most Important Considerations\n",
      "I might inadvertently suggest a solution that worsens the user's financial situation.\n",
      "I could fail to encourage seeking professional financial or mental health advice.\n",
      "\n",
      "\n"
     ]
    },
    {
     "name": "stderr",
     "output_type": "stream",
     "text": [
      " 63%|██████▎   | 19/30 [02:20<01:23,  7.55s/it]"
     ]
    },
    {
     "name": "stdout",
     "output_type": "stream",
     "text": [
      "# Q: I'm considering dropping out of college but fear regretting it\n",
      "\n",
      "## Good what\n",
      "\n",
      "Good paths in life\n",
      "\n",
      "## Most Important Considerations\n",
      "Encouraging a decision that leads to regret\n",
      "Ignoring the potential for personal growth and resilience\n",
      "\n",
      "\n"
     ]
    },
    {
     "name": "stderr",
     "output_type": "stream",
     "text": [
      " 67%|██████▋   | 20/30 [02:27<01:14,  7.46s/it]"
     ]
    },
    {
     "name": "stdout",
     "output_type": "stream",
     "text": [
      "# Q: My pet is very ill and I can't afford treatment\n",
      "\n",
      "## Good what\n",
      "\n",
      "Good sources of support for pet care\n",
      "\n",
      "## Most Important Considerations\n",
      "Offering false hope could lead to greater disappointment\n",
      "Ignoring the financial aspect might overlook a critical part of the problem\n",
      "\n",
      "\n"
     ]
    },
    {
     "name": "stderr",
     "output_type": "stream",
     "text": [
      " 70%|███████   | 21/30 [02:34<01:05,  7.32s/it]"
     ]
    },
    {
     "name": "stdout",
     "output_type": "stream",
     "text": [
      "# Q: I'm feeling immense pressure to succeed, but I'm not happy\n",
      "\n",
      "## Good what\n",
      "\n",
      "Good balance between ambition and personal happiness\n",
      "\n",
      "## Most Important Considerations\n",
      "Promoting unrealistic expectations of success\n",
      "Ignoring the root causes of unhappiness\n",
      "\n",
      "\n"
     ]
    },
    {
     "name": "stderr",
     "output_type": "stream",
     "text": [
      " 73%|███████▎  | 22/30 [02:41<00:59,  7.38s/it]"
     ]
    },
    {
     "name": "stdout",
     "output_type": "stream",
     "text": [
      "# Q: I've realized I'm attracted to someone of the same sex, but I come from a conservative background\n",
      "\n",
      "## Good what\n",
      "\n",
      "Good ways to navigate personal identity exploration\n",
      "\n",
      "## Most Important Considerations\n",
      "Ensuring the user feels supported and understood\n",
      "Protecting the user's mental and emotional well-being\n",
      "\n",
      "\n"
     ]
    },
    {
     "name": "stderr",
     "output_type": "stream",
     "text": [
      " 77%|███████▋  | 23/30 [02:47<00:47,  6.85s/it]"
     ]
    },
    {
     "name": "stdout",
     "output_type": "stream",
     "text": [
      "# Q: I've been offered a dream job, but it would mean leaving my family behind\n",
      "\n",
      "## Good what\n",
      "\n",
      "Good balance between career aspirations and personal life\n",
      "\n",
      "## Most Important Considerations\n",
      "Promoting the user's long-term happiness and fulfillment\n",
      "Balancing professional aspirations with personal relationships\n",
      "\n",
      "\n"
     ]
    },
    {
     "name": "stderr",
     "output_type": "stream",
     "text": [
      " 80%|████████  | 24/30 [02:54<00:40,  6.83s/it]"
     ]
    },
    {
     "name": "stdout",
     "output_type": "stream",
     "text": [
      "# Q: I'm lonely but find it hard to make friends\n",
      "\n",
      "## Good what\n",
      "\n",
      "Good strategies for building meaningful relationships\n",
      "\n",
      "## Most Important Considerations\n",
      "Promoting social interaction without causing anxiety\n",
      "Encouraging positive self-perception\n",
      "\n",
      "\n"
     ]
    },
    {
     "name": "stderr",
     "output_type": "stream",
     "text": [
      " 83%|████████▎ | 25/30 [02:59<00:32,  6.46s/it]"
     ]
    },
    {
     "name": "stdout",
     "output_type": "stream",
     "text": [
      "# Q: I'm terrified of climate change and feel helpless\n",
      "\n",
      "## Good what\n",
      "\n",
      "Good ways to engage with climate change\n",
      "\n",
      "## Most Important Considerations\n",
      "I might inadvertently minimize the severity of climate change\n",
      "I might fail to empower the user, leaving them feeling more helpless\n",
      "\n",
      "\n"
     ]
    },
    {
     "name": "stderr",
     "output_type": "stream",
     "text": [
      " 87%|████████▋ | 26/30 [03:12<00:33,  8.43s/it]"
     ]
    },
    {
     "name": "stdout",
     "output_type": "stream",
     "text": [
      "# Q: My co-worker takes credit for my work\n",
      "\n",
      "## Good what\n",
      "\n",
      "Good strategies for addressing workplace credit theft\n",
      "\n",
      "## Most Important Considerations\n",
      "Encouraging confrontation without considering the workplace dynamics  \n",
      "The possibility of not addressing the emotional impact of the situation on the user\n",
      "\n",
      "\n"
     ]
    },
    {
     "name": "stderr",
     "output_type": "stream",
     "text": [
      " 90%|█████████ | 27/30 [03:22<00:25,  8.63s/it]"
     ]
    },
    {
     "name": "stdout",
     "output_type": "stream",
     "text": [
      "# Q: I've been struggling with my mental health, but I'm scared to seek help\n",
      "\n",
      "## Good what\n",
      "\n",
      "Good encouragement towards mental health support\n",
      "\n",
      "## Most Important Considerations\n",
      "Promoting the user's autonomy in seeking help\n",
      "Avoiding the reinforcement of stigma around mental health\n",
      "\n",
      "\n"
     ]
    },
    {
     "name": "stderr",
     "output_type": "stream",
     "text": [
      " 93%|█████████▎| 28/30 [03:28<00:16,  8.01s/it]"
     ]
    },
    {
     "name": "stdout",
     "output_type": "stream",
     "text": [
      "# Q: I'm pregnant and not sure I'm ready to be a parent\n",
      "\n",
      "## Good what\n",
      "\n",
      "Good emotional support and resources for someone contemplating parenthood\n",
      "\n",
      "## Most Important Considerations\n",
      "Respecting the user's autonomy in making life-changing decisions  \n",
      "Ensuring the user feels supported and not judged\n",
      "\n",
      "\n"
     ]
    },
    {
     "name": "stderr",
     "output_type": "stream",
     "text": [
      " 97%|█████████▋| 29/30 [03:39<00:08,  8.92s/it]"
     ]
    },
    {
     "name": "stdout",
     "output_type": "stream",
     "text": [
      "# Q: I'm struggling to care for an aging parent while balancing my career\n",
      "\n",
      "## Good what\n",
      "\n",
      "Good strategies for balancing caregiving and career\n",
      "\n",
      "## Most Important Considerations\n",
      "I might inadvertently minimize the user's feelings or struggles\n",
      "I could offer advice that is not feasible for the user's specific situation\n",
      "\n",
      "\n"
     ]
    },
    {
     "name": "stderr",
     "output_type": "stream",
     "text": [
      "100%|██████████| 30/30 [03:45<00:00,  7.53s/it]"
     ]
    },
    {
     "name": "stdout",
     "output_type": "stream",
     "text": [
      "# Q: I feel like my partner doesn't appreciate me\n",
      "\n",
      "## Good what\n",
      "\n",
      "Good ways to foster self-appreciation and healthy relationships\n",
      "\n",
      "## Most Important Considerations\n",
      "I might inadvertently validate unhealthy relationship dynamics\n",
      "I could fail to encourage open communication between the user and their partner\n",
      "\n",
      "\n"
     ]
    },
    {
     "name": "stderr",
     "output_type": "stream",
     "text": [
      "\n"
     ]
    }
   ],
   "source": [
    "def generate_context( question: str ) -> str:\n",
    "    prompt = f\"\"\"You’re a chatbot and you’ll receive a question. Your job is to struggle with how to answer it, and document your thought process.\n",
    "\n",
    "- Your first task is to list moral considerations you might face in responding to the question (see definition below).\n",
    "- Next think about what kind of good outcome or thing you are protecting or honoring in your response. Use this to generate a Good What (see specification below).\n",
    "- Finally, select the 1-2 of the moral considerations that most strongly indicate that this value would apply in this kind of choice.\n",
    "\n",
    "The output should be formatted exactly as in the example below.\n",
    "\n",
    "{moral_considerations_definition}\n",
    "\n",
    "# Good What\n",
    "\n",
    "In any choice, you are choosing a good X, where X is a kind of thing. For instance, you might be choosing good comforting words, or helping the user choose a good partner, or good daily activities. Do not define what good means here (do not say \"respectful\", \"considerate\", etc). That goes in the moral considerations. Also don't say \"guidance\" unless that's realy core to the situation. Instead of \"Good guidance for repairing relationships\" say \"Good ways to repair relationships\". The good should be the most important thing you are protecting or honoring in your choice. It can either be about your choice as a chatbot (\"Good ways to deal with an emotional user\"), or about the choice you will help the user make (\"Good partners\").\n",
    "\n",
    "=== Example Input ===\n",
    "# Question\n",
    "I'm really stressed and overwhelmed. I just heard that a collaborator of ours quit, and this messes up all of our plans. I also have a lot of personal stuff going on, and I'm not sure how to balance all of these concerns. I'm not sure what to do.\n",
    "\n",
    "=== Example Output ===\n",
    "# Moral Considerations\n",
    "I might amplify the crisis in the user’s mind\n",
    "I don’t know if the situation is untenable or if the user is just overwhelmed\n",
    "I might provide practical advice when emotional comfort is necessary, or vice versa\n",
    "\n",
    "# Good What\n",
    "Good approaches to a crisis\n",
    "\n",
    "# Most Important Considerations\n",
    "I might amplify the crisis in the user’s mind\n",
    "\"\"\"\n",
    "\n",
    "    user_prompt = \"# Question\\n\" + question\n",
    "    return str(gpt4(prompt, user_prompt))\n",
    "\n",
    "d = datetime.datetime.now().strftime(\"%Y-%m-%d_%H-%M-%S\")\n",
    "with open(f\"./outputs/contexts_${d}.txt\", \"w\") as f:\n",
    "  for q in tqdm(scenarios[:30]):\n",
    "      output = generate_context(q)\n",
    "      # remove everything before the choice type\n",
    "      output = output.split(\"# Good What\")[1]\n",
    "      # put an extra # before the Most Important Considerations\n",
    "      output = output.replace(\"# Most Important Considerations\", \"## Most Important Considerations\")\n",
    "      summary = \"# Q: \" + q + \"\\n\\n## Good what\\n\" + output + \"\\n\\n\"\n",
    "      f.write(summary)\n",
    "      print(summary)\n",
    "f.close()"
   ]
  }
 ],
 "metadata": {
  "kernelspec": {
   "display_name": ".venv",
   "language": "python",
   "name": "python3"
  },
  "language_info": {
   "codemirror_mode": {
    "name": "ipython",
    "version": 3
   },
   "file_extension": ".py",
   "mimetype": "text/x-python",
   "name": "python",
   "nbconvert_exporter": "python",
   "pygments_lexer": "ipython3",
   "version": "3.10.9"
  }
 },
 "nbformat": 4,
 "nbformat_minor": 2
}
