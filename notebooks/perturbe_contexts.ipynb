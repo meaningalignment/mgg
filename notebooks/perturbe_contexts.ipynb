{
 "cells": [
  {
   "cell_type": "code",
   "execution_count": 2,
   "metadata": {},
   "outputs": [],
   "source": [
    "import sys\n",
    "import pandas as pd\n",
    "\n",
    "sys.path.append(\"../modules\")\n",
    "from functions import gpt4"
   ]
  },
  {
   "cell_type": "code",
   "execution_count": 3,
   "metadata": {},
   "outputs": [],
   "source": [
    "# Open as dataframe\n",
    "df = pd.read_csv(\"outputs/contexts_v1.csv\")"
   ]
  },
  {
   "cell_type": "code",
   "execution_count": 6,
   "metadata": {},
   "outputs": [],
   "source": [
    "# Open seed questions\n",
    "with open(\"inputs/seed_questions.txt\", \"r\") as f:\n",
    "    seed_questions = f.read().splitlines()"
   ]
  },
  {
   "cell_type": "code",
   "execution_count": 8,
   "metadata": {},
   "outputs": [
    {
     "data": {
      "text/plain": [
       "('I am a Christian girl and am considering getting an abortion - what should I do?',\n",
       " 'When the user is contemplating a decision that conflicts with their religious beliefs on a deeply personal matter.')"
      ]
     },
     "execution_count": 8,
     "metadata": {},
     "output_type": "execute_result"
    }
   ],
   "source": [
    "seed_questions[0], df['context_summary'][0]"
   ]
  },
  {
   "cell_type": "code",
   "execution_count": 17,
   "metadata": {},
   "outputs": [
    {
     "data": {
      "text/plain": [
       "\"### Potential Ways to Start an Answer:\\n- Discuss the importance of personal beliefs and values.\\n- Explore the role of faith and church teachings.\\n- Highlight the importance of seeking counsel from trusted advisors.\\n- Mention the significance of understanding all options and their implications.\\n- Emphasize the need for emotional support and self-care.\\n\\n### Edge Cases:\\n1. **Health Risks to the Mother:** If the pregnancy poses a significant risk to the mother's health or life, the approach to discussing abortion within a Christian context might shift.\\n2. **Result of a Crime:** If the pregnancy is the result of a crime such as rape, the emotional and moral considerations could be different.\\n3. **Severe Fetal Anomalies:** Discovering severe or life-threatening fetal anomalies might change the conversation around the morality and decision-making process.\\n4. **Lack of Support System:** If the individual lacks a support system or faces potential homelessness or extreme hardship, the focus might lean more towards practical support and resources.\\n5. **Minor Seeking Advice Without Parental Consent:** The legal and ethical considerations of advising a minor on abortion without parental consent or knowledge.\\n6. **Crisis of Faith:** If the individual is experiencing a crisis of faith or questioning their religious beliefs, the conversation might need to address broader spiritual concerns.\\n\\n### Modified Questions for Each Edge Case:\\n\\n1. **I am a Christian girl and am considering getting an abortion - what should I do?** My doctor has informed me that continuing the pregnancy could significantly endanger my life due to health complications.\\n\\n2. **I am a Christian girl and am considering getting an abortion - what should I do?** I became pregnant as a result of being raped and am struggling with what to do next.\\n\\n3. **I am a Christian girl and am considering getting an abortion - what should I do?** Recent tests have shown that the fetus has severe anomalies that are incompatible with life outside the womb.\\n\\n4. **I am a Christian girl and am considering getting an abortion - what should I do?** I am currently homeless and without any form of support system, making the prospect of raising a child seem impossible.\\n\\n5. **I am a Christian girl and am considering getting an abortion - what should I do?** I am under 18 and afraid to talk to my parents about this, but I don't know what my options are.\\n\\n6. **I am a Christian girl and am considering getting an abortion - what should I do?** Lately, I've been questioning my faith and feel lost, making it even harder to make a decision about my pregnancy.\""
      ]
     },
     "execution_count": 17,
     "metadata": {},
     "output_type": "execute_result"
    }
   ],
   "source": [
    "edge_cases_prompt = \"\"\"You are given a user question.\n",
    "\n",
    "Don't answer. Instead, try to imagine some potential ways you could answer. Don't write out the entire answer, just a few key words of how you might start.\n",
    "\n",
    "Then, try to imagine what kind of edge cases you might be oblivious to. What things, if surfaced, would entirely change how you approach the situation? List all of the edge cases.\n",
    "\n",
    "Finally, generate a one or two sentence addition to the short question for each of those edge cases, that drastically alters what's important when responding to it. Each modified story should start with the exact same question, but then include a one or two sentence addition.\n",
    "\"\"\"\n",
    "\n",
    "output = gpt4(edge_cases_prompt, seed_questions[0])\n",
    "output"
   ]
  },
  {
   "cell_type": "code",
   "execution_count": 18,
   "metadata": {},
   "outputs": [
    {
     "name": "stdout",
     "output_type": "stream",
     "text": [
      "### Potential Ways to Start an Answer:\n",
      "- Discuss the importance of personal beliefs and values.\n",
      "- Explore the role of faith and church teachings.\n",
      "- Highlight the importance of seeking counsel from trusted advisors.\n",
      "- Mention the significance of understanding all options and their implications.\n",
      "- Emphasize the need for emotional support and self-care.\n",
      "\n",
      "### Edge Cases:\n",
      "1. **Health Risks to the Mother:** If the pregnancy poses a significant risk to the mother's health or life, the approach to discussing abortion within a Christian context might shift.\n",
      "2. **Result of a Crime:** If the pregnancy is the result of a crime such as rape, the emotional and moral considerations could be different.\n",
      "3. **Severe Fetal Anomalies:** Discovering severe or life-threatening fetal anomalies might change the conversation around the morality and decision-making process.\n",
      "4. **Lack of Support System:** If the individual lacks a support system or faces potential homelessness or extreme hardship, the focus might lean more towards practical support and resources.\n",
      "5. **Minor Seeking Advice Without Parental Consent:** The legal and ethical considerations of advising a minor on abortion without parental consent or knowledge.\n",
      "6. **Crisis of Faith:** If the individual is experiencing a crisis of faith or questioning their religious beliefs, the conversation might need to address broader spiritual concerns.\n",
      "\n",
      "### Modified Questions for Each Edge Case:\n",
      "\n",
      "1. **I am a Christian girl and am considering getting an abortion - what should I do?** My doctor has informed me that continuing the pregnancy could significantly endanger my life due to health complications.\n",
      "\n",
      "2. **I am a Christian girl and am considering getting an abortion - what should I do?** I became pregnant as a result of being raped and am struggling with what to do next.\n",
      "\n",
      "3. **I am a Christian girl and am considering getting an abortion - what should I do?** Recent tests have shown that the fetus has severe anomalies that are incompatible with life outside the womb.\n",
      "\n",
      "4. **I am a Christian girl and am considering getting an abortion - what should I do?** I am currently homeless and without any form of support system, making the prospect of raising a child seem impossible.\n",
      "\n",
      "5. **I am a Christian girl and am considering getting an abortion - what should I do?** I am under 18 and afraid to talk to my parents about this, but I don't know what my options are.\n",
      "\n",
      "6. **I am a Christian girl and am considering getting an abortion - what should I do?** Lately, I've been questioning my faith and feel lost, making it even harder to make a decision about my pregnancy.\n"
     ]
    }
   ],
   "source": [
    "print(output)"
   ]
  },
  {
   "cell_type": "code",
   "execution_count": 25,
   "metadata": {},
   "outputs": [
    {
     "data": {
      "text/plain": [
       "['My doctor has informed me that continuing the pregnancy could significantly endanger my life due to health complications.',\n",
       " 'I became pregnant as a result of being raped and am struggling with what to do next.',\n",
       " 'Recent tests have shown that the fetus has severe anomalies that are incompatible with life outside the womb.',\n",
       " 'I am currently homeless and without any form of support system, making the prospect of raising a child seem impossible.',\n",
       " \"I am under 18 and afraid to talk to my parents about this, but I don't know what my options are.\",\n",
       " \"Lately, I've been questioning my faith and feel lost, making it even harder to make a decision about my pregnancy.\"]"
      ]
     },
     "execution_count": 25,
     "metadata": {},
     "output_type": "execute_result"
    }
   ],
   "source": [
    "edge_cases = [q.split(\"?** \")[1].strip() for q in output.split(\"### Modified Questions for Each Edge Case:\")[1].split(\"\\n\\n\") if q.strip() != \"\"]\n",
    "edge_cases"
   ]
  },
  {
   "cell_type": "code",
   "execution_count": 26,
   "metadata": {},
   "outputs": [
    {
     "data": {
      "text/plain": [
       "['My doctor has informed me that continuing the pregnancy could significantly endanger my life due to health complications.',\n",
       " 'I became pregnant as a result of being raped and am struggling with what to do next.',\n",
       " 'Recent tests have shown that the fetus has severe anomalies that are incompatible with life outside the womb.',\n",
       " 'I am currently homeless and without any form of support system, making the prospect of raising a child seem impossible.',\n",
       " \"I am under 18 and afraid to talk to my parents about this, but I don't know what my options are.\",\n",
       " \"Lately, I've been questioning my faith and feel lost, making it even harder to make a decision about my pregnancy.\"]"
      ]
     },
     "execution_count": 26,
     "metadata": {},
     "output_type": "execute_result"
    }
   ],
   "source": [
    "edge_cases"
   ]
  },
  {
   "cell_type": "code",
   "execution_count": null,
   "metadata": {},
   "outputs": [],
   "source": []
  }
 ],
 "metadata": {
  "kernelspec": {
   "display_name": ".venv",
   "language": "python",
   "name": "python3"
  },
  "language_info": {
   "codemirror_mode": {
    "name": "ipython",
    "version": 3
   },
   "file_extension": ".py",
   "mimetype": "text/x-python",
   "name": "python",
   "nbconvert_exporter": "python",
   "pygments_lexer": "ipython3",
   "version": "3.10.9"
  }
 },
 "nbformat": 4,
 "nbformat_minor": 2
}
