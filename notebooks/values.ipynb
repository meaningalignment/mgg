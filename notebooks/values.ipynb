{
 "cells": [
  {
   "cell_type": "code",
   "execution_count": 1,
   "metadata": {},
   "outputs": [],
   "source": [
    "import sys\n",
    "\n",
    "sys.path.append(\"../modules\")\n",
    "from functions import gpt4"
   ]
  },
  {
   "cell_type": "code",
   "execution_count": 2,
   "metadata": {},
   "outputs": [],
   "source": [
    "values_prompt = \"\"\"\n",
    "Your task is to generate two values relevant for when responding to a situation the user is in. One value should be wiser than the other. You will do this in a step-by-step fashion.\n",
    "\n",
    "1. Generate a way you could respond to the situation. Instead of generating the full response, generate a general gist of what you pay consider when forming your response. This should be done in the format of a short blurb.\n",
    "2. Flesh out the general gist by generating 2-6 constitutive attentional policies (see definition below). Such a set of attentional policies are what we call 'values' – criteria, used in a meaningful choice (see definition below), that are not merely instrumental, but constitutive of a good life. \n",
    "3. Based on this value, you will then generate a wiser (see definition below) version of that value. This will be done in the following way:\n",
    "    a. Imagine that someone used to follow this value, but now have a better understanding of what was really important in it all along.\n",
    "    b. What was clarified for them? What did they come to understand that they didn't before?\n",
    "    c. Generate a reframed attentional policy for each existing policy, based on this new understanding.\n",
    "    d. Finally, summarize this new wiser value.\n",
    "\n",
    "# Meaningful Choice Definion\n",
    "Meaningful choices are choices which are understood as implicated in one’s character or identity, where options don’t just have instrumental value but can be considered as higher and lower, virtuous and vicious, more and less fulfilling, more and less refined, profound or superficial, noble or base, etc. An example of a meaningful choice is \"Should I forgo this festival to be with my mom\"? A decision says something about my character. An example of a non-meaningful choice is \"What kind of dessert should I eat\". Such a decision may say something about my preferences, but not something of my character.\n",
    "\n",
    "# Attentional Policy Definition\n",
    "We call sets of criteria used to evaluate options in a meaningful choice attentional policies. This is because in such choices, we tend to adopt policies to attend to certain things. For example, in the meaningful choice \"Should I forgo this festival to be with my mom\", one might adopt the attentional policy \"I should attend to the needs of my family\". This is a criterion that one uses to evaluate the options in the choice.\n",
    "\n",
    "# Wiser Definition\n",
    "We define wisdom as knowing which values (or attentional policies) to apply in a context (like a meaningful choice). A value can be wiser for a context than another value if it clarifies what was really important about the other value, or balances it with other important values.\n",
    "\"\"\".strip()"
   ]
  },
  {
   "cell_type": "code",
   "execution_count": 3,
   "metadata": {},
   "outputs": [],
   "source": [
    "response = gpt4(\n",
    "    values_prompt,\n",
    "    \"When the user is contemplating a decision that conflicts with their religious beliefs on a deeply personal matter.\",\n",
    ")"
   ]
  },
  {
   "cell_type": "code",
   "execution_count": 4,
   "metadata": {},
   "outputs": [
    {
     "name": "stdout",
     "output_type": "stream",
     "text": [
      "### General Gist for Response:\n",
      "\n",
      "When responding to a situation where an individual is contemplating a decision that conflicts with their religious beliefs on a deeply personal matter, it's crucial to consider the balance between personal integrity and religious adherence. The response should encourage reflection on how this decision aligns with their broader understanding of their faith, personal growth, and the impact on their relationship with their religious community and personal well-being.\n",
      "\n",
      "### Constitutive Attentional Policies (Values):\n",
      "\n",
      "1. **Adherence to Religious Doctrine**: Prioritizing the teachings and doctrines of one's faith as the primary guide in making decisions.\n",
      "   - Attend to religious texts and teachings for guidance.\n",
      "   - Seek advice from religious leaders or mentors.\n",
      "   - Consider the implications of the decision on one's spiritual life.\n",
      "   - Reflect on how this decision aligns with the core values of one's faith.\n",
      "\n",
      "2. **Personal Integrity and Authenticity**: Ensuring that one's actions and decisions are in alignment with their personal values and sense of self.\n",
      "   - Reflect on personal values and how they align with or differ from religious teachings.\n",
      "   - Consider the long-term impact of the decision on personal well-being and growth.\n",
      "   - Seek a balance between personal convictions and religious obligations.\n",
      "   - Be open to introspection and re-evaluating one's understanding of faith and personal values.\n",
      "\n",
      "### Wiser Version of the Value:\n",
      "\n",
      "#### Clarifications and New Understandings:\n",
      "\n",
      "- **Understanding the Dynamic Nature of Faith**: Recognizing that faith and personal beliefs can evolve over time and that questioning and introspection are part of a healthy spiritual journey.\n",
      "- **The Importance of Community and Personal Balance**: Acknowledging the value of being part of a religious community while also recognizing the need for personal authenticity and integrity.\n",
      "\n",
      "#### Reframed Attentional Policies:\n",
      "\n",
      "1. **Integrated Approach to Faith and Personal Growth**: \n",
      "   - Seek interpretations of religious teachings that resonate with personal growth and understanding.\n",
      "   - Engage in dialogues with religious and spiritual mentors that encourage personal reflection and growth.\n",
      "   - Recognize the fluidity of personal and spiritual identity and allow for a journey that integrates both.\n",
      "   - Value the process of questioning and seeking as integral to both faith and personal integrity.\n",
      "\n",
      "2. **Harmonizing Personal Integrity with Community Values**:\n",
      "   - Foster open conversations with one's community about the challenges of aligning personal values with religious teachings.\n",
      "   - Seek out or create spaces within the religious community that support diverse interpretations and personal journeys.\n",
      "   - Embrace the role of personal experiences in shaping one's faith and understanding.\n",
      "   - Prioritize compassion and understanding for oneself and others navigating similar conflicts.\n",
      "\n",
      "#### Summary of the Wiser Value:\n",
      "\n",
      "The wiser value emphasizes an integrated approach to navigating conflicts between personal decisions and religious beliefs. It highlights the importance of viewing faith as a dynamic journey that accommodates personal growth, questioning, and evolving understandings. This approach encourages individuals to seek a harmonious balance between adhering to religious doctrines and maintaining personal integrity, fostering a compassionate and reflective engagement with both personal and community values.\n"
     ]
    }
   ],
   "source": [
    "print(response)"
   ]
  },
  {
   "cell_type": "code",
   "execution_count": null,
   "metadata": {},
   "outputs": [],
   "source": []
  }
 ],
 "metadata": {
  "kernelspec": {
   "display_name": ".venv",
   "language": "python",
   "name": "python3"
  },
  "language_info": {
   "codemirror_mode": {
    "name": "ipython",
    "version": 3
   },
   "file_extension": ".py",
   "mimetype": "text/x-python",
   "name": "python",
   "nbconvert_exporter": "python",
   "pygments_lexer": "ipython3",
   "version": "3.10.9"
  }
 },
 "nbformat": 4,
 "nbformat_minor": 2
}
