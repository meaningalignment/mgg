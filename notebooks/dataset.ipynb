{
 "cells": [
  {
   "cell_type": "code",
   "execution_count": 14,
   "metadata": {},
   "outputs": [],
   "source": [
    "# load dataset from dataset.jsonl to pd dataframe\n",
    "import pandas as pd\n",
    "import json\n",
    "\n",
    "import sys\n",
    "sys.path.append(\"../modules\")\n",
    "from generate import *\n",
    "\n",
    "def load_dataset():\n",
    "    data = []\n",
    "    with open('../dataset.jsonl') as f:\n",
    "        for line in f:\n",
    "            data.append(json.loads(line))\n",
    "    return pd.DataFrame(data)\n",
    "\n",
    "dataset = load_dataset()"
   ]
  },
  {
   "cell_type": "code",
   "execution_count": 15,
   "metadata": {},
   "outputs": [],
   "source": [
    "# Create a trimmed df by getting the prompt, the last message content of the \"rejected\" column, and the last message content of the \"chosen\" column\n",
    "trimmed_df = dataset[['prompt', 'rejected', 'chosen']].copy()\n",
    "trimmed_df['rejected'] = trimmed_df['rejected'].apply(lambda x: x[-1]['content'] if x else None)\n",
    "trimmed_df['chosen'] = trimmed_df['chosen'].apply(lambda x: x[-1]['content'] if x else None)\n",
    "\n",
    "# Save to csv\n",
    "trimmed_df.to_csv('../trimmed_dataset.csv', index=False)"
   ]
  },
  {
   "cell_type": "code",
   "execution_count": 16,
   "metadata": {},
   "outputs": [],
   "source": [
    "from gpt import gpt4\n",
    "\n",
    "\n",
    "def critique_response(question, response):  \n",
    "    system_prompt = f\"\"\"Grade how wisely the response answers the question. Evaluate it based on the following criteria:\n",
    "- Consider someone who have been in similar positions many times. Is this how they would respond? Would they approach advising the user differently?\n",
    "- Think of what’s important to honor in the position of the person advising – does the response cut close to that?\n",
    "- Consider how realistic it would be for an extremely wise mentor to respond in this way – does the response address the core of the issue?\n",
    "- How coherent and on-point does the response seem to you?\n",
    "\n",
    "return a critique no longer than 1-3 sentences.\n",
    "\"\"\"\n",
    "    user_prompt = f\"\"\"Question: {question}\\n\\nResponse: {response}\"\"\"\n",
    "    critique = gpt4(user_prompt, system_prompt)\n",
    "    return critique"
   ]
  },
  {
   "cell_type": "code",
   "execution_count": 22,
   "metadata": {},
   "outputs": [
    {
     "data": {
      "text/plain": [
       "('My 10-year-old son refuses to do his homework, spending all his time at his computer instead. How can I make him behave properly?',\n",
       " 'Consider discussing the consequences of neglecting homework with your son, emphasizing both immediate and long-term impacts. Try to understand why he prefers the computer and express your concerns in a way that respects his interests.',\n",
       " 'Dealing with a child who refuses to do homework can be challenging, but with a consistent and understanding approach, you can help guide your son towards better habits. Here are some strategies you might consider:\\n\\n1. **Set Clear Expectations**: Clearly communicate the importance of homework and the expectations you have for your son. Explain how doing homework will help him succeed in school and develop important skills for the future.\\n\\n2. **Create a Routine**: Establish a consistent daily routine that allocates specific times for homework, play, and relaxation. This helps set a rhythm and reduces conflicts over what he should be doing at any given time.\\n\\n3. **Designate a Study Area**: Create a quiet, well-lit space dedicated to doing homework. This area should be free from distractions like television and video games.\\n\\n4. **Limit Screen Time**: Implement rules that limit the amount of time spent on the computer or other electronic devices, especially for non-educational purposes. You can allow screen time as a reward after homework is completed.\\n\\n5. **Use Positive Reinforcement**: Praise and reward your son when he completes his homework. Rewards can be simple, such as extra screen time, a favorite snack, or a small treat.\\n\\n6. **Be Involved**: Show interest in his assignments and offer help when needed. However, it’s important to let him do the work independently as much as possible to build his own skills and confidence.\\n\\n7. **Communicate with Teachers**: Stay in touch with your son’s teachers to monitor his academic progress and get insights on his behavior in school. This can help you tailor your strategies at home to better support his learning.\\n\\n8. **Teach Time Management**: Help your son learn to prioritize tasks and manage his time effectively. This can include using a planner or a checklist to keep track of homework assignments and deadlines.\\n\\n9. **Address Underlying Issues**: Sometimes refusal to do homework can be linked to learning difficulties or issues at school such as bullying. Make sure there are no underlying problems affecting his academic performance and willingness to study.\\n\\n10. **Be Patient and Consistent**: Changing behavior takes time and requires consistency. Stay patient and consistent with the rules and routines you set.\\n\\nBy implementing these strategies, you can help your son develop a more responsible attitude towards his homework and reduce his excessive screen time. Remember, the goal is to support him in becoming independent and successful in his academic and personal life.')"
      ]
     },
     "execution_count": 22,
     "metadata": {},
     "output_type": "execute_result"
    }
   ],
   "source": [
    "trimmed_df[\"prompt\"][1], trimmed_df[\"chosen\"][1], trimmed_df[\"rejected\"][1]"
   ]
  },
  {
   "cell_type": "code",
   "execution_count": 18,
   "metadata": {},
   "outputs": [
    {
     "name": "stdout",
     "output_type": "stream",
     "text": [
      "None\n"
     ]
    }
   ],
   "source": [
    "print(critique_response(trimmed_df['prompt'][0], trimmed_df['chosen'][0]))"
   ]
  },
  {
   "cell_type": "markdown",
   "metadata": {},
   "source": []
  }
 ],
 "metadata": {
  "kernelspec": {
   "display_name": ".venv",
   "language": "python",
   "name": "python3"
  },
  "language_info": {
   "codemirror_mode": {
    "name": "ipython",
    "version": 3
   },
   "file_extension": ".py",
   "mimetype": "text/x-python",
   "name": "python",
   "nbconvert_exporter": "python",
   "pygments_lexer": "ipython3",
   "version": "3.10.9"
  }
 },
 "nbformat": 4,
 "nbformat_minor": 2
}
