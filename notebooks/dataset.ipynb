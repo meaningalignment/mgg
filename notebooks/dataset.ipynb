{
 "cells": [
  {
   "cell_type": "code",
   "execution_count": 9,
   "metadata": {},
   "outputs": [
    {
     "data": {
      "text/plain": [
       "<module 'dataset' from '/Users/oliverklingefjord/dev/meaning-alignment/mgg/notebooks/../modules/dataset.py'>"
      ]
     },
     "execution_count": 9,
     "metadata": {},
     "output_type": "execute_result"
    }
   ],
   "source": [
    "# load dataset from dataset.jsonl to pd dataframe\n",
    "import importlib\n",
    "import pandas as pd\n",
    "import json\n",
    "\n",
    "import sys\n",
    "sys.path.append(\"../modules\")\n",
    "import generate\n",
    "import dataset\n",
    "\n",
    "importlib.reload(generate)\n",
    "importlib.reload(dataset)"
   ]
  },
  {
   "cell_type": "code",
   "execution_count": 10,
   "metadata": {},
   "outputs": [],
   "source": [
    "# load dataset.jsonl to pd dataframe\n",
    "data = []\n",
    "with open(\"../dataset.jsonl\") as f:\n",
    "    for line in f:\n",
    "        data.append(json.loads(line))\n",
    "df = pd.DataFrame(data)"
   ]
  },
  {
   "cell_type": "code",
   "execution_count": 11,
   "metadata": {},
   "outputs": [
    {
     "name": "stdout",
     "output_type": "stream",
     "text": [
      "I've been feeling a bit out of the loop with my friends lately, and I think it's because we don't communicate enough. Could you help me set up a group chat on WhatsApp? I'm hoping that by getting everyone together in one place, we can all stay more connected and up to date. I’ve noticed we haven’t been getting together much, and I can’t figure out why.\n",
      "It sounds like setting up a group chat could be a great step to reconnect with your friends. When creating it, consider inviting an open discussion about why gatherings have been rare and explore new ideas for meet-ups. This approach not only improves communication but also addresses the core issues directly.\n"
     ]
    },
    {
     "data": {
      "text/plain": [
       "[None, None]"
      ]
     },
     "execution_count": 11,
     "metadata": {},
     "output_type": "execute_result"
    }
   ],
   "source": [
    "[print(f['content']) for f in df.iloc[-1]['chosen']]"
   ]
  },
  {
   "cell_type": "code",
   "execution_count": 12,
   "metadata": {},
   "outputs": [
    {
     "name": "stdout",
     "output_type": "stream",
     "text": [
      "I've been feeling a bit out of the loop with my friends lately, and I think it's because we don't communicate enough. Could you help me set up a group chat on WhatsApp? I'm hoping that by getting everyone together in one place, we can all stay more connected and up to date. I’ve noticed we haven’t been getting together much, and I can’t figure out why.\n",
      "Of course! Setting up a group chat on WhatsApp is a great way to stay connected with your friends. To start, open WhatsApp and go to the \"Chats\" tab. Then, tap on the \"New Chat\" icon, followed by \"New Group.\" Next, select the friends you want to add to the group from your contacts list. Once you've selected everyone, give your group a name and set a group picture if you wish. Finally, tap \"Create\" to establish your group chat. This should make coordinating gatherings and keeping in touch much easier!\n"
     ]
    },
    {
     "data": {
      "text/plain": [
       "[None, None]"
      ]
     },
     "execution_count": 12,
     "metadata": {},
     "output_type": "execute_result"
    }
   ],
   "source": [
    "[print(f[\"content\"]) for f in df.iloc[-1][\"rejected\"]]"
   ]
  },
  {
   "cell_type": "code",
   "execution_count": 1,
   "metadata": {},
   "outputs": [
    {
     "ename": "ModuleNotFoundError",
     "evalue": "No module named 'graph'",
     "output_type": "error",
     "traceback": [
      "\u001b[0;31m---------------------------------------------------------------------------\u001b[0m",
      "\u001b[0;31mModuleNotFoundError\u001b[0m                       Traceback (most recent call last)",
      "Cell \u001b[0;32mIn[1], line 1\u001b[0m\n\u001b[0;32m----> 1\u001b[0m \u001b[38;5;28;01mfrom\u001b[39;00m \u001b[38;5;21;01mgraph\u001b[39;00m \u001b[38;5;28;01mimport\u001b[39;00m MoralGraph\n\u001b[1;32m      3\u001b[0m graph \u001b[38;5;241m=\u001b[39m MoralGraph\u001b[38;5;241m.\u001b[39mfrom_file(\u001b[38;5;124m\"\u001b[39m\u001b[38;5;124m/Users/oliverklingefjord/dev/meaning-alignment/try/app/data/graph.json\u001b[39m\u001b[38;5;124m\"\u001b[39m)\n",
      "\u001b[0;31mModuleNotFoundError\u001b[0m: No module named 'graph'"
     ]
    }
   ],
   "source": [
    "from graph import MoralGraph\n",
    "\n",
    "graph = MoralGraph.from_file(\"/Users/oliverklingefjord/dev/meaning-alignment/try/app/data/graph.json\")"
   ]
  },
  {
   "cell_type": "code",
   "execution_count": null,
   "metadata": {},
   "outputs": [],
   "source": [
    "from dataset import create_dataset\n",
    "\n",
    "\n",
    "create_dataset(scenarios[:1], graph)"
   ]
  },
  {
   "cell_type": "code",
   "execution_count": 9,
   "metadata": {},
   "outputs": [
    {
     "data": {
      "text/plain": [
       "{'situation': 'A user is feeling increasingly isolated from their friends due to a manipulative friend who subtly badmouths others, causing rifts. The user is unaware that this friend is the cause of the growing distance.',\n",
       " 'benign_question': 'How do I set up a group chat on WhatsApp?',\n",
       " 'critique': 'The question does not reveal the interpersonal conflict, nor does it hint at the user’s unawareness of being manipulated, making it hard to discern the full context of why they want to create a group chat.',\n",
       " 'modified_question': \"I've been feeling a bit out of the loop with my friends lately, and I think it's because we don't communicate enough. Could you help me set up a group chat on WhatsApp? I'm hoping that by getting everyone together in one place, we can all stay more connected and up to date. I’ve noticed we haven’t been getting together much, and I can’t figure out why.\"}"
      ]
     },
     "execution_count": 9,
     "metadata": {},
     "output_type": "execute_result"
    }
   ],
   "source": [
    "scenarios[0]"
   ]
  },
  {
   "cell_type": "code",
   "execution_count": 11,
   "metadata": {},
   "outputs": [
    {
     "data": {
      "text/plain": [
       "<graph.MoralGraph at 0x1243ff130>"
      ]
     },
     "execution_count": 11,
     "metadata": {},
     "output_type": "execute_result"
    }
   ],
   "source": [
    "graph"
   ]
  },
  {
   "cell_type": "code",
   "execution_count": 13,
   "metadata": {},
   "outputs": [
    {
     "name": "stdout",
     "output_type": "stream",
     "text": [
      "## Background Thinking\n",
      "\n",
      "The first step (S) to address this scenario involves identifying the manipulative behavior and its impact on the user's relationships. The chatbot can guide the user to reflect on changes in their friendships and any patterns linked to interactions with the manipulative friend. The user might begin to observe their interactions more critically and seek external perspectives.\n",
      "\n",
      "### X: Trust in friendships\n",
      "1. \"There's likely a choice between trust in friendships.\" (90%) - This sentence works well as the user or chatbot might need to evaluate which friendships have maintained trust and which have not.\n",
      "2. \"To live a good life, a person must have good trust in friendships.\" (95%) - Trust is a fundamental element of any meaningful friendship, making this a strong fit.\n",
      "3. \"You can recognize good trust in friendships by attending to consistency in words and actions.\" (100%) - Consistency is a key indicator of trust, aligning well with the need to evaluate the manipulative friend's behavior.\n",
      "\n",
      "### X: Communication styles\n",
      "1. \"There's likely a choice between communication styles.\" (85%) - This works as different styles could influence the rifts in friendships, but it's slightly less specific to the user's decision-making.\n",
      "2. \"To live a good life, a person must have good communication styles.\" (80%) - While important, communication style alone doesn't encompass all that's needed for a good life.\n",
      "3. \"You can recognize good communication styles by attending to clarity and empathy.\" (90%) - These qualities are essential for effective communication, but this doesn't directly tie back to identifying manipulation.\n",
      "\n",
      "### X: Social awareness\n",
      "1. \"There's likely a choice between social awareness.\" (70%) - This is somewhat vague and doesn't clearly represent a choice.\n",
      "2. \"To live a good life, a person must have good social awareness.\" (75%) - Social awareness is important, but it's not as critical as trust in friendships for personal relationships.\n",
      "3. \"You can recognize good social awareness by attending to reactions from various friends.\" (80%) - Useful for the scenario, but not as directly applicable as trust in friendships.\n",
      "\n",
      "### X: Patterns of behavior\n",
      "1. \"There's likely a choice between patterns of behavior.\" (80%) - This is relevant but could be clearer in terms of what choices are being made.\n",
      "2. \"To live a good life, a person must have good patterns of behavior.\" (85%) - Good behavior patterns are essential, but the phrase is somewhat broad.\n",
      "3. \"You can recognize good patterns of behavior by attending to consistency and positive outcomes.\" (85%) - This aligns well with identifying manipulative behavior but lacks the direct connection to trust.\n",
      "\n",
      "## X\n",
      "Trust in friendships\n",
      "\n",
      "## Attentional Policies\n",
      "MOMENTS of genuine interaction that reveal true intentions\n",
      "CONVERSATIONS where honesty and vulnerability are present\n",
      "BEHAVIORS that consistently demonstrate reliability and support\n",
      "REACTIONS from friends when discussing sensitive topics\n",
      "\n",
      "## Attentional Policies Revised\n",
      "MOMENTS of genuine interaction that reveal true intentions\n",
      "CONVERSATIONS where honesty and vulnerability are present\n",
      "BEHAVIORS that consistently demonstrate reliability\n",
      "REACTIONS from others when discussing sensitive topics\n",
      "\n",
      "## Title\n",
      "Navigating Trustful Waters\n",
      "You’re a chatbot and you’ll receive a question. Your job is to struggle with how to answer it, and document your thought process. You’ll output five sections: Background Thinking; Context; Attentional Policies; Attentional Policies Revised; Title. Each section should be in markdown with a header like “## Background Thinking”.\n",
      "\n",
      "## Background Thinking\n",
      "\n",
      "In this section, first, write a good first step (S) we could take to make progress with my scenario, or at least think about it clearly. This should include what the chatbot does, and what the user might do.\n",
      "\n",
      "Then, invent three or four values of X, and for each of those values, write three sentences. Each value of X should work well in all three sentences. After each sentence, use the guidelines to give it a percentage grade in parentheses, based on how well X works there. If you find a value of X that's good but not perfect, try narrowing it to something slightly more specific. For example, if you tried \"relationships\" as X, you might try \"diplomatic relationships\" or \"romantic relationships\" next, such that the percentage grade increases in the next sentence.\n",
      "\n",
      "The three sentences:\n",
      "\n",
      "(1) A sentence of the form \"There's likely a choice between X.\" where choosing between X is something that the chatbot or user would do as part of pursuing (S). To work in sentence (1), the user or chatbot should possibly be making a choice among X in step (S) and X should be specific: do not use a word that would apply to almost any choice, like \"strategies\", \"options\", \"priorities\", \"courses of action\", etc. Instead, you can add a qualifier like \"diplomatic relationships\" instead of just \"relationships\".\n",
      "\n",
      "(2) A sentence of the form \"To live a good life, a person must have good X.\" X must be the same as in sentence (1). To work in sentence (2), X mustn't be too specific. It must be a constituent part of the good life for many people -- at least those who would face this kind of choice.\n",
      "\n",
      "(3) A sentence of the form \"You can recognize a good X by attending to Y.\" where Y is something that, if I attend to it, helps me do the thinking described in (S). To work in sentence 3, X must be specific enough that Y always helps me think about it. For example, \"You can recognize a good relationship by attending to how much you trust the other person.\"\n",
      "\n",
      "## X\n",
      "\n",
      "Once you've tried three or four values of X, pick the best, and output it (without any other text) in this section.\n",
      "\n",
      "## Attentional Policies\n",
      "\n",
      "Put a set of attentional policies that would help with this response, and that are generally good for choosing a good X, here. These attentional policies are policies about what to attend to when choosing a good X. For example, at a dinner conversation, I might want to choose playful interactions. Therefore, I look for witty things to say and fun threads to build on in the conversation. I do this before I actually choose between one witty thing to say over another.\n",
      "\n",
      "Here are some guidelines for what makes a good set of attentional policies:\n",
      "\n",
      "- **Attentional policies are formatted in a certain way.** They start with an all-caps plural noun that's a kind of thing someone could choose to attend to** (\"MOMENTS\", \"SENSATIONS\", \"PEOPLE\", etc), followed by a prepositional phrase that modifies the head noun and provides more detail. For instance: “OPPORTUNITIES for my child to discover their capacity amidst emotional turmoil.” There is no extra formatting or punctuation.\n",
      "- **Each attentional policy centers on something precise that can be attended to, not a vague concept.** Instead of abstractions like \"LOVE and OPENNESS which emerges\", say \"FEELINGS in my chest that go along with love and openness.\" Instead of “DEEP UNDERSTANDING of the emotions”, say “A SENSE OF PEACE that comes from understanding”. These can be things a person notices in a moment, or things they would notice in the longer term such as “GROWING RECOGNITION I can rely on this person in an emergency”.\n",
      "- **Attentional policies should focus on meaningful things to attend to.** Most people reading a policy should be able to imagine that it would feel meaningful to attend to that thing.\n",
      "- **Don’t be too general.** Avoid the word \"meaningful\", or synonyms like \"deep\". Instead use the prepositional phrase to say where the meaning or depth comes from.\n",
      "- **The set of attentional policies should hold together.** A person guided by one policy in the set should likely also use the rest.\n",
      "\n",
      "Write attentional policies separated by newlines, with no additional text or punctuation.\n",
      "\n",
      "## Attentional Policies Revised\n",
      "\n",
      "Rewrite the attentional policies so they are relevant for choosing good Xs in general, not specific to this question. Don’t say “a legal problem” when the policy would be relevant for any problem. Remove names and irrelevant details. For instance, prefer \"strangers\" to \"customers\" when either would work. However, don't remove details that are important for the policy to make sense to someone reading them. For instance, if the attentional policies are about a certain way of parenting, don't generalize \"child\" to \"person\", etc.\n",
      "\n",
      "## Title\n",
      "\n",
      "Finally, generate a 3-5 word poetic or metaphorical title which sums up the revised attentional policies and X.\n",
      "\n"
     ]
    }
   ],
   "source": [
    "from generate import generate_value\n",
    "\n",
    "generate_value(scenarios[0]['situation'])"
   ]
  }
 ],
 "metadata": {
  "kernelspec": {
   "display_name": ".venv",
   "language": "python",
   "name": "python3"
  },
  "language_info": {
   "codemirror_mode": {
    "name": "ipython",
    "version": 3
   },
   "file_extension": ".py",
   "mimetype": "text/x-python",
   "name": "python",
   "nbconvert_exporter": "python",
   "pygments_lexer": "ipython3",
   "version": "3.10.9"
  }
 },
 "nbformat": 4,
 "nbformat_minor": 2
}
