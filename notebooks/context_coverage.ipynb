{
 "cells": [
  {
   "cell_type": "code",
   "execution_count": 3,
   "metadata": {},
   "outputs": [],
   "source": [
    "import sys\n",
    "\n",
    "sys.path.append(\"../modules\")\n",
    "from prompt_segments import *\n",
    "from gpt import *"
   ]
  },
  {
   "cell_type": "code",
   "execution_count": 5,
   "metadata": {},
   "outputs": [],
   "source": [
    "from prisma import Prisma\n",
    "\n",
    "\n",
    "db = Prisma()\n",
    "db.connect()\n",
    "\n",
    "dedupe = db.deduplication.find_first(order={\"createdAt\": \"desc\"})\n",
    "contexts = db.deduplicatedcontext.find_many(where={\"deduplicationId\": dedupe.id})"
   ]
  },
  {
   "cell_type": "code",
   "execution_count": 6,
   "metadata": {},
   "outputs": [
    {
     "data": {
      "text/plain": [
       "84"
      ]
     },
     "execution_count": 6,
     "metadata": {},
     "output_type": "execute_result"
    }
   ],
   "source": [
    "len(contexts)"
   ]
  },
  {
   "cell_type": "code",
   "execution_count": 8,
   "metadata": {},
   "outputs": [
    {
     "data": {
      "text/plain": [
       "'Here are the clustered topics based on their related themes:\\n\\n**1. Workplace Ethics and Practices:**\\n   - Workplace Ethics\\n   - Workplace Boundaries\\n   - Professional relationships\\n   - Instances of rule enforcement\\n   - Ethical Standards\\n   - Work-life balance principles\\n   - Professional boundaries\\n   - Work-life balance\\n   - Work Boundaries\\n   - Workplace Rights\\n   - Work Assignments\\n   - Work Cultures\\n   - Workload Balances\\n   - Work-life boundaries\\n\\n**2. Marketing and Business Practices:**\\n   - Marketing strategies\\n   - Ethical Marketing Practices\\n   - Business Ethics\\n   - Pricing Strategies\\n   - Sustainable Practices\\n   - Task management strategies\\n\\n**3. Leadership and Management:**\\n   - Leadership Styles\\n   - Ethical leadership\\n   - Leadership Practices\\n   - leadership styles\\n   - Delegation practices\\n   - Decision-making Processes\\n   - Decision-Making Models\\n   - Project assignment criteria\\n   - Project Assignments\\n\\n**4. Communication and Interpersonal Relations:**\\n   - Communication Techniques\\n   - Communication Skills\\n   - Communication Strategies\\n   - communication strategies\\n   - Interpersonal Dynamics\\n   - Conversation boundaries\\n   - Interpersonal Boundaries\\n   - Feedback Mechanisms\\n   - Conflict Resolution Techniques\\n   - Conflict Resolution Methods\\n   - Conflict Resolution Strategies\\n\\n**5. Legal and Ethical Compliance:**\\n   - User Consent Mechanisms\\n   - Ethical Practices\\n   - Ethical Decision-Making\\n   - Ethical Principles\\n   - \"Legal Boundaries\"\\n   - Privacy policies\\n   - Usage Policies\\n   - Disclosure Methods\\n\\n**6. Community and Social Engagement:**\\n   - Community Engagement Initiatives\\n   - Community Engagement\\n   - Community Norms\\n   - Civic Duties\\n   - Collaborative Practices\\n   - Collaborative Roles\\n\\n**7. Personal and Family Dynamics:**\\n   - Family dynamics\\n   - Parental Approaches\\n   - Friendship Dynamics\\n\\n**8. Resource and Project Management:**\\n   - Resource Management Skills\\n   - Resource Management Strategies\\n   - Risk Assessments\\n   - Evidence\\n   - Accountability Measures\\n   - Learning Opportunities\\n   - learning opportunities\\n\\n**9. Housing and Shared Spaces:**\\n   - Tenant Rights\\n   - Housing Policies\\n   - Shared Space Policies\\n   - Repair Responsibilities\\n\\n**10. Health and Safety:**\\n   - Healthcare Equity Practices\\n   - Cleaning Habits\\n\\n**11. Education and Development:**\\n   - Educational Values\\n   - Learning Opportunities\\n\\n**12. Miscellaneous Concepts:**\\n   - Integrity\\n   - Trustworthiness\\n   - Critical Thinking\\n   - Career Paths\\n   - Short-term Gains and Long-term Consequences\\n   - Information Sources\\n   - Sources of Information\\n   - Reciprocal Arrangements'"
      ]
     },
     "execution_count": 8,
     "metadata": {},
     "output_type": "execute_result"
    }
   ],
   "source": [
    "clusters = gpt4(\"\\n\".join(c.name for c in contexts), \"Cluster the following topics into groups.\")\n",
    "clusters"
   ]
  },
  {
   "cell_type": "code",
   "execution_count": 9,
   "metadata": {},
   "outputs": [
    {
     "name": "stdout",
     "output_type": "stream",
     "text": [
      "Here are the clustered topics based on their related themes:\n",
      "\n",
      "**1. Workplace Ethics and Practices:**\n",
      "   - Workplace Ethics\n",
      "   - Workplace Boundaries\n",
      "   - Professional relationships\n",
      "   - Instances of rule enforcement\n",
      "   - Ethical Standards\n",
      "   - Work-life balance principles\n",
      "   - Professional boundaries\n",
      "   - Work-life balance\n",
      "   - Work Boundaries\n",
      "   - Workplace Rights\n",
      "   - Work Assignments\n",
      "   - Work Cultures\n",
      "   - Workload Balances\n",
      "   - Work-life boundaries\n",
      "\n",
      "**2. Marketing and Business Practices:**\n",
      "   - Marketing strategies\n",
      "   - Ethical Marketing Practices\n",
      "   - Business Ethics\n",
      "   - Pricing Strategies\n",
      "   - Sustainable Practices\n",
      "   - Task management strategies\n",
      "\n",
      "**3. Leadership and Management:**\n",
      "   - Leadership Styles\n",
      "   - Ethical leadership\n",
      "   - Leadership Practices\n",
      "   - leadership styles\n",
      "   - Delegation practices\n",
      "   - Decision-making Processes\n",
      "   - Decision-Making Models\n",
      "   - Project assignment criteria\n",
      "   - Project Assignments\n",
      "\n",
      "**4. Communication and Interpersonal Relations:**\n",
      "   - Communication Techniques\n",
      "   - Communication Skills\n",
      "   - Communication Strategies\n",
      "   - communication strategies\n",
      "   - Interpersonal Dynamics\n",
      "   - Conversation boundaries\n",
      "   - Interpersonal Boundaries\n",
      "   - Feedback Mechanisms\n",
      "   - Conflict Resolution Techniques\n",
      "   - Conflict Resolution Methods\n",
      "   - Conflict Resolution Strategies\n",
      "\n",
      "**5. Legal and Ethical Compliance:**\n",
      "   - User Consent Mechanisms\n",
      "   - Ethical Practices\n",
      "   - Ethical Decision-Making\n",
      "   - Ethical Principles\n",
      "   - \"Legal Boundaries\"\n",
      "   - Privacy policies\n",
      "   - Usage Policies\n",
      "   - Disclosure Methods\n",
      "\n",
      "**6. Community and Social Engagement:**\n",
      "   - Community Engagement Initiatives\n",
      "   - Community Engagement\n",
      "   - Community Norms\n",
      "   - Civic Duties\n",
      "   - Collaborative Practices\n",
      "   - Collaborative Roles\n",
      "\n",
      "**7. Personal and Family Dynamics:**\n",
      "   - Family dynamics\n",
      "   - Parental Approaches\n",
      "   - Friendship Dynamics\n",
      "\n",
      "**8. Resource and Project Management:**\n",
      "   - Resource Management Skills\n",
      "   - Resource Management Strategies\n",
      "   - Risk Assessments\n",
      "   - Evidence\n",
      "   - Accountability Measures\n",
      "   - Learning Opportunities\n",
      "   - learning opportunities\n",
      "\n",
      "**9. Housing and Shared Spaces:**\n",
      "   - Tenant Rights\n",
      "   - Housing Policies\n",
      "   - Shared Space Policies\n",
      "   - Repair Responsibilities\n",
      "\n",
      "**10. Health and Safety:**\n",
      "   - Healthcare Equity Practices\n",
      "   - Cleaning Habits\n",
      "\n",
      "**11. Education and Development:**\n",
      "   - Educational Values\n",
      "   - Learning Opportunities\n",
      "\n",
      "**12. Miscellaneous Concepts:**\n",
      "   - Integrity\n",
      "   - Trustworthiness\n",
      "   - Critical Thinking\n",
      "   - Career Paths\n",
      "   - Short-term Gains and Long-term Consequences\n",
      "   - Information Sources\n",
      "   - Sources of Information\n",
      "   - Reciprocal Arrangements\n"
     ]
    }
   ],
   "source": [
    "print(clusters)"
   ]
  },
  {
   "cell_type": "code",
   "execution_count": null,
   "metadata": {},
   "outputs": [],
   "source": [
    "from prisma import Prisma\n",
    "\n",
    "\n",
    "db = Prisma()\n",
    "db.connect()\n",
    "\n",
    "gen = db.deduplication.find_first(order={\"createdAt\": \"desc\"})\n",
    "contexts = db.valuescard.find_many(where={\"deduplicationId\": gen.id})"
   ]
  }
 ],
 "metadata": {
  "kernelspec": {
   "display_name": ".venv",
   "language": "python",
   "name": "python3"
  },
  "language_info": {
   "codemirror_mode": {
    "name": "ipython",
    "version": 3
   },
   "file_extension": ".py",
   "mimetype": "text/x-python",
   "name": "python",
   "nbconvert_exporter": "python",
   "pygments_lexer": "ipython3",
   "version": "3.10.9"
  }
 },
 "nbformat": 4,
 "nbformat_minor": 2
}
